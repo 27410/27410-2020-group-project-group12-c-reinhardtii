{
 "cells": [
  {
   "cell_type": "markdown",
   "metadata": {},
   "source": [
    "# 1.2 Literature review of the cell factory"
   ]
  },
  {
   "cell_type": "markdown",
   "metadata": {},
   "source": [
    "## Chlamydomonas reinhardtii - Choice of organism justification"
   ]
  },
  {
   "cell_type": "markdown",
   "metadata": {},
   "source": [
    "Microalgae are a diverse group of phototrophic eukaryotic unicellular microorganisms which have been widely studied for pure and applied research due to their natural synthesis of value-added natural products, so they are emerging as a source of sustainable chemical compounds, proteins and metabolites (Scaife et al., 2015). Within this group, we looked at many models and most of them were still quite rudimentary with not much detail, important aspect for microalgae study since they present many comparments. We examined that the best characterized model was Chlamydomonas reinhardtii, which has served as a model organism for the study of many cellular processes, such as photosynthesis, motility, circadian rhythm and the cell cycle control (Imam et al., 2015). Moreover, it is the only microalga that can actually produce hydrogen.\n",
    "\n",
    "The main reason why we chose C. reinhardtii was the long list of compounds that are produced and which are involved in many fields of application, like production of alcohols (used for biofuel production), production of pharmaceutic chemicals (like 6-mercaptopurine and lidocaine, used for chemotherapy treatment), production of many fatty acids (like palmitic acid, used for biodiesel production), and most importantly in our case, production of hydrogen as biofuel. Other alternatives for hydrogen production could be recombinant E. coli or cyanobacteria, but not really efficient results have been obtained from these.\n",
    "\n",
    "The main disadvantage of this model organism is that its biomass growth is very slow (approximately umax = 0.03), so when going into the wet lab work in order to test all the results obtained in the dry lab it will take a longer time to assess the experimental results and also analyze the outcomes in the following offspring.\n",
    "\n",
    "++?"
   ]
  },
  {
   "cell_type": "code",
   "execution_count": null,
   "metadata": {},
   "outputs": [],
   "source": []
  }
 ],
 "metadata": {
  "kernelspec": {
   "display_name": "python3.6",
   "language": "python",
   "name": "python3.6"
  },
  "language_info": {
   "codemirror_mode": {
    "name": "ipython",
    "version": 3
   },
   "file_extension": ".py",
   "mimetype": "text/x-python",
   "name": "python",
   "nbconvert_exporter": "python",
   "pygments_lexer": "ipython3",
   "version": "3.6.12"
  }
 },
 "nbformat": 4,
 "nbformat_minor": 4
}
