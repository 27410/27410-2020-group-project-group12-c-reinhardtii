{
 "cells": [
  {
   "cell_type": "markdown",
   "metadata": {},
   "source": [
    "# 2. Problem definition"
   ]
  },
  {
   "cell_type": "markdown",
   "metadata": {},
   "source": [
    "Since not very efficient and conclusive results have been obtained when it comes to the production of hydrogen through microorganisms, our objective is to improve the production rates and yield of this process by modifying different parameters, pathways and reactions within our C. reinhardtii GSM model.\n",
    "\n",
    "Different types of hydrogenase enzyme catalyze the H2 production reaction. We will focus on the reaction catalyzed by the [FeFe] hydrogenase, since it is considered a strong candidate for an integral part of the solar H2 production system. This is due to the fact that it offers an additional advantage of high turnover frequency, which means that this enzyme is generally more active than the others (Smith et al., 2012).\n",
    "\n",
    "+\n",
    "\n",
    "(cannot repeat what will already be said in the 1.1 section)"
   ]
  },
  {
   "cell_type": "markdown",
   "metadata": {},
   "source": [
    "## References\n",
    "\n",
    "Smith, P. R., Bingham, A. S., & Swartz, J. R. (2012). Generation of hydrogen from NADPH using an [FeFe] hydrogenase. International journal of hydrogen energy, 37(3), 2977-2983. DOI: https://doi.org/10.1016/j.ijhydene.2011.03.172"
   ]
  }
 ],
 "metadata": {
  "kernelspec": {
   "display_name": "python3.6",
   "language": "python",
   "name": "python3.6"
  },
  "language_info": {
   "codemirror_mode": {
    "name": "ipython",
    "version": 3
   },
   "file_extension": ".py",
   "mimetype": "text/x-python",
   "name": "python",
   "nbconvert_exporter": "python",
   "pygments_lexer": "ipython3",
   "version": "3.6.12"
  }
 },
 "nbformat": 4,
 "nbformat_minor": 4
}
