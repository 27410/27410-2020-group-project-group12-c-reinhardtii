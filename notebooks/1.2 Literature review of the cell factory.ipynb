{
 "cells": [
  {
   "cell_type": "markdown",
   "metadata": {},
   "source": [
    "# 1.2 Literature review of the cell factory"
   ]
  },
  {
   "cell_type": "markdown",
   "metadata": {},
   "source": [
    "## Chlamydomonas reinhardtii - Choice of organism justification"
   ]
  },
  {
   "cell_type": "markdown",
   "metadata": {},
   "source": [
    "Microalgae are a diverse group of phototrophic eukaryotic unicellular microorganisms which have been widely studied for pure and applied research due to their natural synthesis of value-added natural products, so they are emerging as a source of sustainable chemical compounds, proteins and metabolites (Scaife et al., 2015). Within this group, we looked at many models and most of them were still quite rudimentary with not much detail, important aspect for microalgae study since they present many compartments. We examined that the best characterized model was Chlamydomonas reinhardtii, which has served as a model organism for the study of many cellular processes, such as photosynthesis, motility, circadian rhythm and the cell cycle control (Imam et al., 2015). Moreover, it is the only microalga that can actually produce hydrogen.\n",
    "\n",
    "The main reason why we chose C. reinhardtii is the long list of compounds that it produces and which are involved in many fields of application, like production of alcohols (for biofuel production), production of pharmaceutic chemicals (like 6-mercaptopurine and lidocaine, used for chemotherapy treatment), production of fatty acids (like palmitic acid, used for biodiesel production), and most importantly in our case, production of hydrogen. \n",
    "\n",
    "Other alternatives employed for hydrogen production are bacteria, since they present faster production, lower inputs and don’t require big ponds for cultivation. However, there's still many challenges to be addressed, like improvement of rates and yields of H2 production, reactor system optimization, identifying feedstock sources and processing methods with the highest yields, and minimizing the costs of the reactor components.\n",
    "\n",
    "Nowadays, hydrogen production is expensive and the energy output hardly exceeds the input. After discovering the presence of hydrogen metabolism in the green algae Scenedesmus obliquus (Gaffron, 1939), hydrogen biosynthesis from algae became a subject of great interest amongst researchers. Many advantages exist when using algae for this purpose, such as higher growth rate with superior CO2 fixation capacity, no need for arable land to grow, accumulation of large quantities of carbohydrate biomass, and the fact that they do not contain lignin (Wang & Yin, 2018). We focused specifically on C. reinhardtii because it has been chosen as a model species for studying biohydrogen production, due to its sequenced genome, the ease of cultivation and low cost, and especially, the high hydrogenase activity, which catalyzes the reaction of hydrogen formation (Xu et al., 2019).\n",
    "\n",
    "However, the main disadvantage of this model organism is that its biomass growth is very slow (approximately umax = 0.03), so testing and analyzing in the wet lab all the experimental results obtained in the dry lab will take longer time since we also have to assess the outcomes in the following offspring.\n",
    "\n",
    "(439 words)"
   ]
  },
  {
   "cell_type": "markdown",
   "metadata": {},
   "source": [
    "## References\n",
    "\n",
    "Gaffron, H. (1939). Reduction of carbon dioxide with molecular hydrogen in green algae. Nature, 143(3614), 204-205.\n",
    "\n",
    "Imam, S., Schäuble, S., Valenzuela, J., López García de Lomana, A., Carter, W., Price, N. D., & Baliga, N. S. (2015). A refined genome‐scale reconstruction of Chlamydomonas metabolism provides a platform for systems‐level analyses. The Plant Journal, 84(6), 1239-1256.\n",
    "\n",
    "Scaife, M. A., Nguyen, G. T., Rico, J., Lambert, D., Helliwell, K. E., & Smith, A. G. (2015). Establishing Chlamydomonas reinhardtii as an industrial biotechnology host. The Plant Journal, 82(3), 532-546.\n",
    "\n",
    "Wang, J., & Yin, Y. (2018). Fermentative hydrogen production using pretreated microalgal biomass as feedstock. Microbial cell factories, 17(1), 22.\n",
    "\n",
    "Xu, L., Fan, J., & Wang, Q. (2019). Omics application of bio-hydrogen production through green alga Chlamydomonas reinhardtii. Frontiers in Bioengineering and Biotechnology, 7, 201."
   ]
  },
  {
   "cell_type": "code",
   "execution_count": null,
   "metadata": {},
   "outputs": [],
   "source": []
  }
 ],
 "metadata": {
  "kernelspec": {
   "display_name": "python3.6",
   "language": "python",
   "name": "python3.6"
  },
  "language_info": {
   "codemirror_mode": {
    "name": "ipython",
    "version": 3
   },
   "file_extension": ".py",
   "mimetype": "text/x-python",
   "name": "python",
   "nbconvert_exporter": "python",
   "pygments_lexer": "ipython3",
   "version": "3.6.12"
  }
 },
 "nbformat": 4,
 "nbformat_minor": 4
}
