{
 "cells": [
  {
   "cell_type": "markdown",
   "metadata": {},
   "source": [
    "# OPTIMIZATION ALGORITHMS that we can apply to e.g. obtain more of compound X\n",
    "\n",
    "- OptKnock: determines which are the reactions we have to knock out in order to optimize production of X\n",
    "- OptStrain: determines which genes we have to insert to our model so that it produces more of X (but it was already being produced) OR start producing X from scratch \n",
    "- OptGene: determines, within a whole population (so taking into account evolutionary driving forces), which deletions should be made to improve production of X \n",
    "- OptReg: tells us which knock-outs, upregulatins or downregulations we have to make to improve production of X\n",
    "- OptForce: tells us which (more than 1 modification) knock-outs, upregulatins or downregulations we have to make to improve production of X to a specific flux"
   ]
  },
  {
   "cell_type": "code",
   "execution_count": 2,
   "metadata": {
    "collapsed": true,
    "jupyter": {
     "outputs_hidden": true
    }
   },
   "outputs": [
    {
     "data": {
      "text/html": [
       "\n",
       "        <table>\n",
       "            <tr>\n",
       "                <td><strong>Metabolite identifier</strong></td><td>6mpur_c</td>\n",
       "            </tr><tr>\n",
       "                <td><strong>Name</strong></td><td>6-Mercaptopurine</td>\n",
       "            </tr><tr>\n",
       "                <td><strong>Memory address</strong></td>\n",
       "                <td>0x07f792c8873c8</td>\n",
       "            </tr><tr>\n",
       "                <td><strong>Formula</strong></td><td>C5H4N4S</td>\n",
       "            </tr><tr>\n",
       "                <td><strong>Compartment</strong></td><td>c</td>\n",
       "            </tr><tr>\n",
       "                <td><strong>In 2 reaction(s)</strong></td><td>\n",
       "                    6MPURPRT, 6MPURt</td>\n",
       "            </tr>\n",
       "        </table>"
      ],
      "text/plain": [
       "<Metabolite 6mpur_c at 0x7f792c8873c8>"
      ]
     },
     "execution_count": 2,
     "metadata": {},
     "output_type": "execute_result"
    }
   ],
   "source": [
    "from cobra.io import read_sbml_model\n",
    "model = read_sbml_model('iCre1355_hetero_V2.xml')\n",
    "model.metabolites.get_by_id('6mpur_c')"
   ]
  },
  {
   "cell_type": "code",
   "execution_count": null,
   "metadata": {},
   "outputs": [],
   "source": [
    "hetero = read_sbml_model('iCre1355_hetero.xml')\n",
    "auto = read_sbml_model('iCre1355_auto.xml')\n",
    "mixo = read_sbml_model('iCre1355_mixo.xml')\n",
    "\n",
    "write_sbml_model(hetero, 'iCre1355_hetero_V2.xml')\n",
    "write_sbml_model(auto, 'iCre1355_auto_V2.xml')\n",
    "write_sbml_model(mixo, 'iCre1355_mixo_V2.xml')\n",
    "\n",
    "hetero.name = 'iCre1355_Hetero'\n",
    "auto.name = 'iCre1355_Auto'\n",
    "mixo.name = 'iCre1355_Mixo'"
   ]
  },
  {
   "cell_type": "code",
   "execution_count": 3,
   "metadata": {
    "collapsed": true,
    "jupyter": {
     "outputs_hidden": true
    }
   },
   "outputs": [
    {
     "data": {
      "text/html": [
       "\n",
       "        <table>\n",
       "            <tr>\n",
       "                <td><strong>Reaction identifier</strong></td><td>6MPURPRT</td>\n",
       "            </tr><tr>\n",
       "                <td><strong>Name</strong></td><td>6-mercaptopurine phosphoribosyltransferase</td>\n",
       "            </tr><tr>\n",
       "                <td><strong>Memory address</strong></td>\n",
       "                <td>0x07f792c126a20</td>\n",
       "            </tr><tr>\n",
       "                <td><strong>Stoichiometry</strong></td>\n",
       "                <td>\n",
       "                    <p style='text-align:right'>6mpur_c + prpp_c --> 6tins5mp_c + ppi_c</p>\n",
       "                    <p style='text-align:right'>6-Mercaptopurine + 5-Phospho-alpha-D-ribose 1-diphosphate --> 6-Thioinosine-5'-monophosphate + Diphosphate</p>\n",
       "                </td>\n",
       "            </tr><tr>\n",
       "                <td><strong>GPR</strong></td><td>Cre17.g708100.t1.2 or Cre04.g217934.t1.1 or Cre08.g358900.t1.2</td>\n",
       "            </tr><tr>\n",
       "                <td><strong>Lower bound</strong></td><td>0.0</td>\n",
       "            </tr><tr>\n",
       "                <td><strong>Upper bound</strong></td><td>1000.0</td>\n",
       "            </tr>\n",
       "        </table>\n",
       "        "
      ],
      "text/plain": [
       "<Reaction 6MPURPRT at 0x7f792c126a20>"
      ]
     },
     "execution_count": 3,
     "metadata": {},
     "output_type": "execute_result"
    }
   ],
   "source": [
    "model.reactions.get_by_id('6MPURPRT')"
   ]
  },
  {
   "cell_type": "code",
   "execution_count": 4,
   "metadata": {
    "collapsed": true,
    "jupyter": {
     "outputs_hidden": true
    }
   },
   "outputs": [
    {
     "data": {
      "text/html": [
       "\n",
       "        <table>\n",
       "            <tr>\n",
       "                <td><strong>Reaction identifier</strong></td><td>6MPURt</td>\n",
       "            </tr><tr>\n",
       "                <td><strong>Name</strong></td><td>nucleobase transport, 6-mercaptopurine (extracellular)</td>\n",
       "            </tr><tr>\n",
       "                <td><strong>Memory address</strong></td>\n",
       "                <td>0x07f792b580550</td>\n",
       "            </tr><tr>\n",
       "                <td><strong>Stoichiometry</strong></td>\n",
       "                <td>\n",
       "                    <p style='text-align:right'>6mpur_e <=> 6mpur_c</p>\n",
       "                    <p style='text-align:right'>6-Mercaptopurine <=> 6-Mercaptopurine</p>\n",
       "                </td>\n",
       "            </tr><tr>\n",
       "                <td><strong>GPR</strong></td><td>Cre10.g433200.t1.2 or Cre10.g442600.t1.2 or Cre10.g442600.t2.1 or Cre10.g442800.t1.1 or Cre06.g30...</td>\n",
       "            </tr><tr>\n",
       "                <td><strong>Lower bound</strong></td><td>-1000.0</td>\n",
       "            </tr><tr>\n",
       "                <td><strong>Upper bound</strong></td><td>1000.0</td>\n",
       "            </tr>\n",
       "        </table>\n",
       "        "
      ],
      "text/plain": [
       "<Reaction 6MPURt at 0x7f792b580550>"
      ]
     },
     "execution_count": 4,
     "metadata": {},
     "output_type": "execute_result"
    }
   ],
   "source": [
    "model.reactions.get_by_id('6MPURt')"
   ]
  },
  {
   "cell_type": "code",
   "execution_count": 6,
   "metadata": {
    "collapsed": true,
    "jupyter": {
     "outputs_hidden": true
    }
   },
   "outputs": [
    {
     "data": {
      "text/plain": [
       "[<Metabolite 3hpalmACP_h at 0x7f792c8dac18>,\n",
       " <Metabolite retpalm_s at 0x7f792c70ac18>,\n",
       " <Metabolite retpalm_11_cis_s at 0x7f792c70acf8>]"
      ]
     },
     "execution_count": 6,
     "metadata": {},
     "output_type": "execute_result"
    }
   ],
   "source": [
    "model.metabolites.query('palmit', 'name')"
   ]
  },
  {
   "cell_type": "code",
   "execution_count": 8,
   "metadata": {},
   "outputs": [],
   "source": [
    "from cobra import Reaction, Metabolite\n",
    "from cameo import models"
   ]
  },
  {
   "cell_type": "code",
   "execution_count": 15,
   "metadata": {},
   "outputs": [
    {
     "name": "stdout",
     "output_type": "stream",
     "text": [
      "h2_c \t H2\n",
      "h2_e \t H2\n",
      "h2_h \t H2\n",
      "h2_m \t H2\n",
      "h2o_c \t H2O\n",
      "h2o_e \t H2O\n",
      "h2o_f \t H2O\n",
      "h2o_h \t H2O\n",
      "h2o_m \t H2O\n",
      "h2o_n \t H2O\n",
      "h2o_s \t H2O\n",
      "h2o_u \t H2O\n",
      "h2o_x \t H2O\n",
      "['H2', 'H2', 'H2', 'H2'] ['h2_c', 'h2_e', 'h2_h', 'h2_m']\n"
     ]
    }
   ],
   "source": [
    "name = []\n",
    "ID = []\n",
    "\n",
    "for metabolite in model.metabolites.query('H2', 'name'):\n",
    "    \n",
    "    print(metabolite, '\\t', metabolite.name)    \n",
    "    if metabolite.name == 'H2':\n",
    "        name.append(metabolite.name)\n",
    "        ID.append(metabolite.id)\n",
    "        \n",
    "print(name, ID)"
   ]
  },
  {
   "cell_type": "code",
   "execution_count": 17,
   "metadata": {},
   "outputs": [
    {
     "name": "stdout",
     "output_type": "stream",
     "text": [
      "H2th: h2_c <=> h2_h\n",
      "H2ti: h2_c --> h2_e\n",
      "HYDA: 2.0 fdxrd_c <=> 2.0 fdxox_c + h2_c + 2.0 h_c\n",
      "H2tm: h2_c <=> h2_m\n",
      "EX_h2_e: h2_e --> \n",
      "H2ti: h2_c --> h2_e\n",
      "H2th: h2_c <=> h2_h\n",
      "HYDAh: 2.0 fdxrd_h <=> 2.0 fdxox_h + h2_h + 2.0 h_h\n",
      "HYDAm: 2.0 fdxrd_m <=> 2.0 fdxox_m + h2_m + 2.0 h_m\n",
      "H2tm: h2_c <=> h2_m\n"
     ]
    }
   ],
   "source": [
    "reactions = []\n",
    "\n",
    "for element in ID:\n",
    "    compound = model.metabolites.get_by_id(element)\n",
    "    for react in compound.reactions:\n",
    "        reactions.append(react.id)\n",
    "\n",
    "for element in reactions:\n",
    "    print(model.reactions.get_by_id(element))"
   ]
  },
  {
   "cell_type": "markdown",
   "metadata": {},
   "source": [
    "The reactions that actually produce hydrogen are HYDA (in cytosol), HYDAh (in chloroplast) and HYDAm (in mitochondria); the other ones just represent transport of hydrogen between different compartments. The 3 of them are the same reaction, just in different compartments. From the cytoplasm is also extruded to outside of the organism."
   ]
  },
  {
   "cell_type": "code",
   "execution_count": 10,
   "metadata": {},
   "outputs": [
    {
     "data": {
      "text/plain": [
       "{'c': 'Cytosol',\n",
       " 'h': 'Chloroplast',\n",
       " 'm': 'Mitochondria',\n",
       " 'x': 'Glyoxysome',\n",
       " 'f': 'Flagellum',\n",
       " 'e': 'Extra-organism',\n",
       " 'n': 'Nucleus',\n",
       " 'g': 'Golgi Apparatus',\n",
       " 's': 'Eyespot',\n",
       " 'u': 'Thylakoid Lumen',\n",
       " 'i': 'Inner Mitochondrial membrane space'}"
      ]
     },
     "execution_count": 10,
     "metadata": {},
     "output_type": "execute_result"
    }
   ],
   "source": [
    "model.compartments"
   ]
  },
  {
   "cell_type": "code",
   "execution_count": 23,
   "metadata": {},
   "outputs": [
    {
     "data": {
      "text/html": [
       "\n",
       "        <table>\n",
       "            <tr>\n",
       "                <td><strong>Reaction identifier</strong></td><td>HYDA</td>\n",
       "            </tr><tr>\n",
       "                <td><strong>Name</strong></td><td>(FeFe)-hydrogenase, cytoplasm</td>\n",
       "            </tr><tr>\n",
       "                <td><strong>Memory address</strong></td>\n",
       "                <td>0x07f792b77e748</td>\n",
       "            </tr><tr>\n",
       "                <td><strong>Stoichiometry</strong></td>\n",
       "                <td>\n",
       "                    <p style='text-align:right'>2.0 fdxrd_c <=> 2.0 fdxox_c + h2_c + 2.0 h_c</p>\n",
       "                    <p style='text-align:right'>2.0 Reduced ferredoxin <=> 2.0 Oxidized ferredoxin + H2 + 2.0 H+</p>\n",
       "                </td>\n",
       "            </tr><tr>\n",
       "                <td><strong>GPR</strong></td><td>( Cre03.g199800.t1.1 or Cre09.g396600.t1.1 ) and ( Cre01.g006100.t1.2 or Cre12.g487900.t1.2 or Cr...</td>\n",
       "            </tr><tr>\n",
       "                <td><strong>Lower bound</strong></td><td>-1000.0</td>\n",
       "            </tr><tr>\n",
       "                <td><strong>Upper bound</strong></td><td>1000.0</td>\n",
       "            </tr>\n",
       "        </table>\n",
       "        "
      ],
      "text/plain": [
       "<Reaction HYDA at 0x7f792b77e748>"
      ]
     },
     "execution_count": 23,
     "metadata": {},
     "output_type": "execute_result"
    }
   ],
   "source": [
    "model.reactions.HYDA #the enzyme is (FeFe)-hydrogenase acting in the cytoplasm"
   ]
  },
  {
   "cell_type": "code",
   "execution_count": 21,
   "metadata": {},
   "outputs": [
    {
     "data": {
      "text/html": [
       "\n",
       "        <table>\n",
       "            <tr>\n",
       "                <td><strong>Reaction identifier</strong></td><td>HYDAh</td>\n",
       "            </tr><tr>\n",
       "                <td><strong>Name</strong></td><td>(FeFe)-hydrogenase, chloroplast</td>\n",
       "            </tr><tr>\n",
       "                <td><strong>Memory address</strong></td>\n",
       "                <td>0x07f792b77efd0</td>\n",
       "            </tr><tr>\n",
       "                <td><strong>Stoichiometry</strong></td>\n",
       "                <td>\n",
       "                    <p style='text-align:right'>2.0 fdxrd_h <=> 2.0 fdxox_h + h2_h + 2.0 h_h</p>\n",
       "                    <p style='text-align:right'>2.0 Reduced ferredoxin <=> 2.0 Oxidized ferredoxin + H2 + 2.0 H+</p>\n",
       "                </td>\n",
       "            </tr><tr>\n",
       "                <td><strong>GPR</strong></td><td>( Cre03.g199800.t1.1 or Cre09.g396600.t1.1 ) and ( Cre16.g658400.t1.2 or Cre17.g700950.t1.2 or Cr...</td>\n",
       "            </tr><tr>\n",
       "                <td><strong>Lower bound</strong></td><td>-1000.0</td>\n",
       "            </tr><tr>\n",
       "                <td><strong>Upper bound</strong></td><td>1000.0</td>\n",
       "            </tr>\n",
       "        </table>\n",
       "        "
      ],
      "text/plain": [
       "<Reaction HYDAh at 0x7f792b77efd0>"
      ]
     },
     "execution_count": 21,
     "metadata": {},
     "output_type": "execute_result"
    }
   ],
   "source": [
    "model.reactions.HYDAh #the enzyme is (FeFe)-hydrogenase acting in the chloroplast"
   ]
  },
  {
   "cell_type": "code",
   "execution_count": 22,
   "metadata": {},
   "outputs": [
    {
     "data": {
      "text/html": [
       "\n",
       "        <table>\n",
       "            <tr>\n",
       "                <td><strong>Reaction identifier</strong></td><td>HYDAm</td>\n",
       "            </tr><tr>\n",
       "                <td><strong>Name</strong></td><td>(FeFe)-hydrogenase, mitochondria</td>\n",
       "            </tr><tr>\n",
       "                <td><strong>Memory address</strong></td>\n",
       "                <td>0x07f792b794b00</td>\n",
       "            </tr><tr>\n",
       "                <td><strong>Stoichiometry</strong></td>\n",
       "                <td>\n",
       "                    <p style='text-align:right'>2.0 fdxrd_m <=> 2.0 fdxox_m + h2_m + 2.0 h_m</p>\n",
       "                    <p style='text-align:right'>2.0 Reduced ferredoxin <=> 2.0 Oxidized ferredoxin + H2 + 2.0 H+</p>\n",
       "                </td>\n",
       "            </tr><tr>\n",
       "                <td><strong>GPR</strong></td><td>( Cre03.g199800.t1.1 or Cre09.g396600.t1.1 ) and Cre12.g559950.t1.2</td>\n",
       "            </tr><tr>\n",
       "                <td><strong>Lower bound</strong></td><td>-1000.0</td>\n",
       "            </tr><tr>\n",
       "                <td><strong>Upper bound</strong></td><td>1000.0</td>\n",
       "            </tr>\n",
       "        </table>\n",
       "        "
      ],
      "text/plain": [
       "<Reaction HYDAm at 0x7f792b794b00>"
      ]
     },
     "execution_count": 22,
     "metadata": {},
     "output_type": "execute_result"
    }
   ],
   "source": [
    "model.reactions.HYDAm #the enzyme is (FeFe)-hydrogenase acting in the mitochondria"
   ]
  },
  {
   "cell_type": "code",
   "execution_count": 37,
   "metadata": {},
   "outputs": [
    {
     "data": {
      "text/html": [
       "\n",
       "        <table>\n",
       "            <tr>\n",
       "                <td><strong>Reaction identifier</strong></td><td>Biomass_Chlamy_mixo</td>\n",
       "            </tr><tr>\n",
       "                <td><strong>Name</strong></td><td>Biomass (mixotrophic) updated</td>\n",
       "            </tr><tr>\n",
       "                <td><strong>Memory address</strong></td>\n",
       "                <td>0x07f7925e4d908</td>\n",
       "            </tr><tr>\n",
       "                <td><strong>Stoichiometry</strong></td>\n",
       "                <td>\n",
       "                    <p style='text-align:right'>0.0370621525868795 ac_c + 3.95421018705422e-06 acaro_h + 0.279255294881266 alatrna_c + 7.90842037410844e-07 anxan_u + 0.524141412987151 arab_L_c + 0.093656422877759 argtrna_c + 0.0695383636530289 a...</p>\n",
       "                    <p style='text-align:right'>0.0370621525868795 Acetate + 3.95421018705422e-06 alpha-Carotene + 0.279255294881266 L-Alanyl-tRNA(Ala) + 7.90842037410844e-07 Antheraxanthin + 0.524141412987151 L-Arabinose + 0.093656422877759 L-A...</p>\n",
       "                </td>\n",
       "            </tr><tr>\n",
       "                <td><strong>GPR</strong></td><td></td>\n",
       "            </tr><tr>\n",
       "                <td><strong>Lower bound</strong></td><td>0.0</td>\n",
       "            </tr><tr>\n",
       "                <td><strong>Upper bound</strong></td><td>0.0</td>\n",
       "            </tr>\n",
       "        </table>\n",
       "        "
      ],
      "text/plain": [
       "<Reaction Biomass_Chlamy_mixo at 0x7f7925e4d908>"
      ]
     },
     "execution_count": 37,
     "metadata": {},
     "output_type": "execute_result"
    }
   ],
   "source": [
    "hetero.reactions.Biomass_Chlamy_mixo"
   ]
  },
  {
   "cell_type": "code",
   "execution_count": 41,
   "metadata": {},
   "outputs": [
    {
     "name": "stdout",
     "output_type": "stream",
     "text": [
      "0.0\n"
     ]
    }
   ],
   "source": [
    "mixo.objective = model.reactions.Biomass_Chlamy_mixo\n",
    "print(model.optimize().objective_value)"
   ]
  },
  {
   "cell_type": "code",
   "execution_count": 46,
   "metadata": {},
   "outputs": [
    {
     "name": "stdout",
     "output_type": "stream",
     "text": [
      "0.15158877721813943\n"
     ]
    }
   ],
   "source": [
    "with mixo:\n",
    "    mixo.reactions.Biomass_Chlamy_mixo.upper_bound = 1000\n",
    "    mixo.objective = mixo.reactions.Biomass_Chlamy_mixo\n",
    "    print(mixo.optimize().objective_value)"
   ]
  },
  {
   "cell_type": "code",
   "execution_count": 44,
   "metadata": {},
   "outputs": [
    {
     "data": {
      "text/plain": [
       "{'EX_h_e': 10.0,\n",
       " 'EX_h2o_e': 10.0,\n",
       " 'EX_pi_e': 10.0,\n",
       " 'EX_nh4_e': 1.0,\n",
       " 'EX_so4_e': 10.0,\n",
       " 'EX_fe2_e': 10.0,\n",
       " 'EX_mg2_e': 10.0,\n",
       " 'EX_na1_e': 10.0,\n",
       " 'EX_photonVis_e': 80.0,\n",
       " 'EX_o2_e': 10.0,\n",
       " 'EX_co2_e': 2.0,\n",
       " 'EX_ac_e': 2.0}"
      ]
     },
     "execution_count": 44,
     "metadata": {},
     "output_type": "execute_result"
    }
   ],
   "source": [
    "mixo.medium"
   ]
  },
  {
   "cell_type": "code",
   "execution_count": 47,
   "metadata": {},
   "outputs": [
    {
     "name": "stdout",
     "output_type": "stream",
     "text": [
      "0.15158877721813943\n",
      "0.15158877721813943\n",
      "{'EX_h_e': 10.0, 'EX_h2o_e': 10.0, 'EX_pi_e': 10.0, 'EX_nh4_e': 1.0, 'EX_so4_e': 0, 'EX_fe2_e': 10.0, 'EX_mg2_e': 10.0, 'EX_na1_e': 10.0, 'EX_photonVis_e': 80.0, 'EX_o2_e': 10.0, 'EX_co2_e': 2.0, 'EX_ac_e': 2.0}\n"
     ]
    }
   ],
   "source": [
    "medium = mixo.medium\n",
    "with mixo:\n",
    "    mixo.reactions.Biomass_Chlamy_mixo.upper_bound = 1000\n",
    "    mixo.objective = mixo.reactions.Biomass_Chlamy_mixo\n",
    "    medium['EX_so4_e'] = 0\n",
    "    model.medium = medium\n",
    "    print(mixo.optimize().objective_value)\n",
    "    print(mixo.optimize().fluxes['Biomass_Chlamy_mixo']) #this gives us the growth rate/biomass production...\n",
    "    print(medium)"
   ]
  },
  {
   "cell_type": "code",
   "execution_count": null,
   "metadata": {},
   "outputs": [],
   "source": []
  }
 ],
 "metadata": {
  "kernelspec": {
   "display_name": "python3.6",
   "language": "python",
   "name": "python3.6"
  },
  "language_info": {
   "codemirror_mode": {
    "name": "ipython",
    "version": 3
   },
   "file_extension": ".py",
   "mimetype": "text/x-python",
   "name": "python",
   "nbconvert_exporter": "python",
   "pygments_lexer": "ipython3",
   "version": "3.6.12"
  }
 },
 "nbformat": 4,
 "nbformat_minor": 4
}
