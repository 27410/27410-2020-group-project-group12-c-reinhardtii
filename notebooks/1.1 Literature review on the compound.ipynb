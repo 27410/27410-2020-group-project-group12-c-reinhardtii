{
 "cells": [
  {
   "cell_type": "markdown",
   "metadata": {},
   "source": [
    "# 1.1 Literature review on the compound"
   ]
  },
  {
   "cell_type": "markdown",
   "metadata": {},
   "source": [
    "One of the greatest challenges of this century is finding alternative, sustainable, enviromentally friendly energy sources. Looking at the possible current solutions, hydrogen is considered an optimal energy source due to its high output energy per unit of mass and its only combustion product H2O (Xu et al., 2019). Currently, the production of hydrogen is neither economically efficient nor sustainable, as a huge part of the produced hydrogen comes from fossil fuels. Further sources of hydrogen production are: steam-methane reforming, methanol steam forming, and electrolysis of water. Solar energy, Solar photovolatic and Photon-eletcrolysis are examples of renewable methods with the ability to produce hydrogen. However, these methods have shown a lack in efficiency (Knzouz et al., 2020).\n",
    "\n",
    "Owing to the efficent solar energy conversion and easy cultivation, algae represents an assuring organism for hydrogen production (Xu et al., 2019). The hydrogen formation is catalzyed by the [FeFe] hydrogenase, which uses electrons from the photsynthetic light reactions and is localized in the chloroplast stroma (Murthy & Ghirardi, 2013). Hydrogen production is light-dependent, since the [FeFe] hydrogenases are coupled to the photosynthetic electron transport chain via ferredoxin (Stripp & Happe, 2009).\n",
    "\n",
    "\n",
    "--> Add picture \n",
    "\n",
    "2H+ + 2Fd- -> H2 + 2Fd"
   ]
  },
  {
   "cell_type": "markdown",
   "metadata": {},
   "source": [
    "## References\n",
    "\n",
    "Khzouz, M., & Gkanas, E. I. (2020). Hydrogen Technologies for Mobility and Stationary Applications: Hydrogen Production, Storage and Infrastructure Development. In Renewable Energy-Resources, Challenges and Applications. IntechOpen.\n",
    "\n",
    "Xu, L., Fan, J., & Wang, Q. (2019). Omics application of bio-hydrogen production through green alga Chlamydomonas reinhardtii. Frontiers in Bioengineering and Biotechnology, 7, 201.\n",
    "\n",
    "Stripp, S. T., & Happe, T. (2009). How algae produce hydrogen—news from the photosynthetic hydrogenase. Dalton transactions, (45), 9960-9969.\n",
    "\n",
    "Murthy, U. M. N., & Ghirardi, M. L. (2013). Algal Hydrogen Production. Encyclopedia of Biological Chemistry (Second Edition). Academic Press. Pages 66-70.\n",
    "\n",
    "\n"
   ]
  },
  {
   "cell_type": "code",
   "execution_count": null,
   "metadata": {},
   "outputs": [],
   "source": []
  }
 ],
 "metadata": {
  "kernelspec": {
   "display_name": "python3.6",
   "language": "python",
   "name": "python3.6"
  },
  "language_info": {
   "codemirror_mode": {
    "name": "ipython",
    "version": 3
   },
   "file_extension": ".py",
   "mimetype": "text/x-python",
   "name": "python",
   "nbconvert_exporter": "python",
   "pygments_lexer": "ipython3",
   "version": "3.6.12"
  }
 },
 "nbformat": 4,
 "nbformat_minor": 4
}
