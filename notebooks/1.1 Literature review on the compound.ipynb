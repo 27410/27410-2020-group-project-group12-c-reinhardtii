{
 "cells": [
  {
   "cell_type": "markdown",
   "metadata": {},
   "source": [
    "# 1.1 Literature review on the compound"
   ]
  },
  {
   "cell_type": "markdown",
   "metadata": {},
   "source": [
    "One of the greatest challenges this century, is finding alternative, sustainable, enviromental friendly energy sources. By means of that hydrogen is considered an optimal energy source due to its high output energy per unit of mass and its only combustion product H2O (Xu et al., 2019). Rightnow the production of hydrogen is  neither economically efficient nor sustainable, as a huge part of the produced hydrogen comes from fossil fuels. Further sources of hydrogen production are: steam-methane reforming, methanol steam forming or electrolysis of water. Solar energy, Solar photovolatic and Photon-eletcrolysis are examples for renewable methdos with the ability to produce hydrogen. However these methods lack in efficiency (Knzouz et al., 2020).\n",
    "\n",
    "Owing to the efficent solar energy conversion and easy cultivation, algae represents an assuring organism for Hydrogen production (Xu et al., 2019). The hydrogen formation is catalzyed by the [FeFe] Hydrogenase, which uses electrons from the photsynthetic light reactions and is localized in the chloroplast stroma (Murthy et Ghirardi, 2013).\n",
    "\n",
    "--> Add picture \n",
    "\n",
    "2H+ + 2Fd- -> H2 + 2Fd"
   ]
  },
  {
   "cell_type": "markdown",
   "metadata": {},
   "source": [
    "## References\n",
    "\n",
    "Xu L., Fan J., et Wang Q. Omics Application of Bio-Hydrogen Production THrough Green Alga Chlamydomonas reinhardtii. Front Bioeng. Biotechnol. 21 August 2019\n",
    "\n",
    "Hydrogen production is light-dependent, since the [FeFe] hydrogenases are coupled to the photosynthetic electron transport chain via ferredoxin. Stripp ST, Happe T. How algae produce hydrogen--news from the photosynthetic hydrogenase. Dalton Trans. 2009 Dec 7;(45):9960-9. doi: 10.1039/b916246a. Epub 2009 Oct 22. PMID: 19904421.\n",
    "\n",
    "Martin Khzouz and Evangelos I. Gkanas (September 9th 2020). Hydrogen Technologies for Mobility and Stationary Applications: Hydrogen Production, Storage and Infrastructure Development, Renewable Energy - Resources, Challenges and Applications, Mansour Al Qubeissi, Ahmad El-kharouf and Hakan Serhad Soyhan, IntechOpen, DOI: 10.5772/intechopen.91676. Available from: https://www.intechopen.com/books/renewable-energy-resources-challenges-and-applications/hydrogen-technologies-for-mobility-and-stationary-applications-hydrogen-production-storage-and-infra\n",
    "\n",
    "U.M.N. Murthy, M.L. Ghirardi,Algal Hydrogen Production,Encyclopedia of Biological Chemistry (Second Edition),Academic Press,2013,Pages 66-70,ISBN 9780123786319,https://doi.org/10.1016/B978-0-12-378630-2.00446-1.\n",
    "\n"
   ]
  },
  {
   "cell_type": "code",
   "execution_count": null,
   "metadata": {},
   "outputs": [],
   "source": []
  }
 ],
 "metadata": {
  "kernelspec": {
   "display_name": "python3.6",
   "language": "python",
   "name": "python3.6"
  },
  "language_info": {
   "codemirror_mode": {
    "name": "ipython",
    "version": 3
   },
   "file_extension": ".py",
   "mimetype": "text/x-python",
   "name": "python",
   "nbconvert_exporter": "python",
   "pygments_lexer": "ipython3",
   "version": "3.6.12"
  }
 },
 "nbformat": 4,
 "nbformat_minor": 4
}
