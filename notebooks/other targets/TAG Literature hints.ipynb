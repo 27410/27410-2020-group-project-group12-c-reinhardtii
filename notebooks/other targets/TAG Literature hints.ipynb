{
 "cells": [
  {
   "cell_type": "markdown",
   "metadata": {},
   "source": [
    "## Richmond (2013) - Handbook of Microalgal Culture -Applied Phycology and Biotechnology\n",
    "\n",
    "\"A number of mutants with increased lipid accumulation under certain conditions have been created using mutagenesis in the green alga Chlamydomonas reinhardtii. Some of these mutants are defective in starch synthesis, a competing pathway for carbon, and accumulate more lipids under stressful conditions (Li et al., 2010; Work et al., 2010)\"\n",
    "\n",
    "\"Recently, through the knockout of AGPase in C. reinhardtii, it was demonstrated that blocking starch synthesis redirects carbon flux to lipid synthesis, resulting in up to a tenfold increase in TAG content (Wang et al., 2009; Li et al., 2010a). Blocking the competing pathway thus seems to be an effective strategy for overproduction of TAG in microalgae.\"\n",
    "\n",
    "\"The Chlamydomonas nrr1 mutant (the NRR1 gene knockout mutant) accumulated 50% less TAG compared with the control, indicating the NRR1 gene (likely encoding a transcription factor) controls TAG synthesis in C. reinhardtii (Boyle et al., 2012). It would be interesting to see if overexpression of this regulator could enhance TAG production in the cells.\"\n",
    "\n",
    "\"Microalgae contain naturally about 10% of lipids. These\n",
    "lipids are mostly present in the photosynthetic membranes.\n",
    "Microalgae accumulate lipids in high concentration under\n",
    "“stress” conditions, caused, for example, by depletion of\n",
    "nutrients such as nitrogen. In the absence of these nutrients,\n",
    "growth is hampered, while energy is continuously received\n",
    "in the form of light. Microalgae channel the excess of\n",
    "energy into large macromolecules, such as lipids or starch.\n",
    "In those cases, the lipid content can be as high as 60%.\n",
    "Under stress conditions, these lipids accumulate in lipid\n",
    "bodies as triacylglycerides or neutral lipids. The neutral\n",
    "lipids can be used as a feedstock for the production of\n",
    "biofuels (Rodolfi et al., 2009).\n",
    "More important than lipid concentration is the lipid productivity under stress conditions (Griffiths & Harrison,\n",
    "2009). Under stress conditions, algae accumulate lipids but\n",
    "productivity is lowered (Wilhelm & Jakob, 2011). Currently, production of lipids from microalgae is a two-step\n",
    "process. First, the microalgae are grown in batch cultures\n",
    "and when a certain biomass concentration is obtained, stress\n",
    "in the form of nitrogen limitation is applied to induce lipid accumulation. As a consequence, the growth rate decreases\n",
    "resulting in overall low lipid productivity. Further research\n",
    "on strain selection, strain improvement, and process strategy is needed to maximize the lipid productivity of the\n",
    "overall process.\n",
    "Under stress conditions, it is not only lipids that are\n",
    "accumulated. Usually, simultaneously with lipids, starch is\n",
    "accumulated. Processes need to be improved in that respect\n",
    "as well. Li et al. (2010) showed that for Chlamydomonas\n",
    "reinhardtii, by blocking the starch biosynthesis pathway,\n",
    "lipid accumulation could be enhanced\"\n",
    "\n",
    "\"sophisticated metabolic engineering – where several genes are\n",
    "overexpressed or downregulated in a single organism – is\n",
    "currently only really possible with C. reinhardtii.\"\n",
    "\n",
    "\n",
    "\"Recently, we observed that downregulation of a selected\n",
    "gene (GPAT or DGAT) involved in the extraplastidic\n",
    "Kennedy pathway for TAG synthesis in C. reinhardtii had\n",
    "led to the increase of thylakoid membrane lipids, especially galactolipids, resulting in greatly enhanced photosynthetic efficiency and 60–100% increase in cell number. The new paradigm is based on a hypothesis that the\n",
    "enhancement of chloroplast membrane lipid synthesis can\n",
    "expand chloroplast thylakoid membranes and augment photosynthetic capacity, particularly under stress, resulting in\n",
    "greatly enhanced biomass/lipid production. This led us to\n",
    "hypothesize that metabolically downregulating a selected\n",
    "glycerolipid synthesis pathway for TAG synthesis and redirecting the photosynthetic fixed carbon precursors to produce membrane lipids, particularly galactolipids, may lead\n",
    "to the formation of a mutant with a super-sized chloroplast.\n",
    "Since multiple pathways exist in algae contributing to TAG\n",
    "synthesis, downregulation of one gene/pathway may result\n",
    "in only minor decrease in TAG content, but largely increase\n",
    "overall lipid productivity per unit culture volume or surface\n",
    "area due to enhanced photosynthesis and thus biomass production.\"\n"
   ]
  },
  {
   "cell_type": "markdown",
   "metadata": {},
   "source": [
    "\n",
    "Li, Y., Han, D., Hu, G., Sommerfeld, M. & Hu, Q. (2010)\n",
    "Inhibition of starch synthesis results in overproduction of\n",
    "lipids in Chlamydomonas reinhardtii. Biotechnol. Bioeng.\n",
    "107: 258–268.\n",
    "\n",
    "Work, V.H., Radakovits, R., Jinkerson, R.E., Meuser, J.E.,\n",
    "Elliott, L.G., Vinyard, D.J., Laurens, L.M., Dismukes,\n",
    "G.C. & Posewitz, M.C. (2010) Increased lipid accumulation in the Chlamydomonas reinhardtii sta7-10 starchless\n",
    "isoamylase mutant and increased carbohydrate synthesis in\n",
    "complemented strains. Eukaryot. Cell 9: 1251–1261."
   ]
  }
 ],
 "metadata": {
  "kernelspec": {
   "display_name": "python3.6",
   "language": "python",
   "name": "python3.6"
  },
  "language_info": {
   "codemirror_mode": {
    "name": "ipython",
    "version": 3
   },
   "file_extension": ".py",
   "mimetype": "text/x-python",
   "name": "python",
   "nbconvert_exporter": "python",
   "pygments_lexer": "ipython3",
   "version": "3.6.12"
  }
 },
 "nbformat": 4,
 "nbformat_minor": 4
}
