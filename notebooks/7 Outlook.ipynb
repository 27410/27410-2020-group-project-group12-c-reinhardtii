{
 "cells": [
  {
   "cell_type": "markdown",
   "metadata": {},
   "source": [
    "# 7 Outlook"
   ]
  },
  {
   "cell_type": "markdown",
   "metadata": {},
   "source": [
    "Besides Hydrogenproduction in Algae, we also examined the production of lipids. Due to the high lipid content in some species, algae is a promising organism for biofuel production (Peng et al., 2019). We approached to optimize the lipid production in C. reinhardtii by changing the medium and reactions in the pathway. However, the complexitiy of the lipid pathways and the wide range of fatty acids make it difficult to add changes and measure a final product. Nonetheless, examining the lipid pathway in a GSM should be considered in further approaches. \n",
    "\n",
    "When investigating our GSM from C. reinhardtii, we found several exchange reaction which included pharmaceutical chemicals. For instance, 6-Mercaptopurine and Tegafur, which are used in Chemotherapy (Bertholee et al., 2017); Citalopram, which is used as an antidepressant (Bezchlibnyk-Butlerm et al., 2000); and Lidocain, a widely used local anesthetic (Golzari et al., 2014). Unfortunately, there are barely papers which describe interactions of C. reinhardtii and these compounds. Considering that these drugs have tremendous effects on a cell, further research would provide a great insight in the drug metabolism of C. reinhardtii."
   ]
  },
  {
   "cell_type": "markdown",
   "metadata": {},
   "source": [
    "## References\n",
    "\n",
    "Bertholee D, Maring JG, van Kuilenburg AB. Genotypes Affecting the Pharmacokinetics of Anticancer Drugs. Clin Pharmacokinet. 2017;56(4):317-337. doi:10.1007/s40262-016-0450-z\n",
    "        \n",
    "Bezchlibnyk-Butler K, Aleksic I, Kennedy SH. Citalopram--a review of pharmacological and clinical effects. J Psychiatry Neurosci. 2000;25(3):241-254.\n",
    "\n",
    "Golzari SE, Soleimanpour H, Mahmoodpoor A, Safari S, Ala A. Lidocaine and pain management in the emergency department: a review article. Anesth Pain Med. 2014;4(1):e15444. Published 2014 Feb 15. doi:10.5812/aapm.15444\n",
    "        \n",
    " Peng, L., Fu, D., Chu, H. et al. Biofuel production from microalgae: a review. Environ Chem Lett 18, 285–297 (2020). https://doi.org/10.1007/s10311-019-00939-0"
   ]
  },
  {
   "cell_type": "markdown",
   "metadata": {},
   "source": []
  }
 ],
 "metadata": {
  "kernelspec": {
   "display_name": "python3.6",
   "language": "python",
   "name": "python3.6"
  },
  "language_info": {
   "codemirror_mode": {
    "name": "ipython",
    "version": 3
   },
   "file_extension": ".py",
   "mimetype": "text/x-python",
   "name": "python",
   "nbconvert_exporter": "python",
   "pygments_lexer": "ipython3",
   "version": "3.6.12"
  }
 },
 "nbformat": 4,
 "nbformat_minor": 4
}
