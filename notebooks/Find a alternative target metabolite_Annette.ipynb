{
 "cells": [
  {
   "cell_type": "markdown",
   "metadata": {},
   "source": [
    "# Find a target metabolite based on an existing exchange reaction"
   ]
  },
  {
   "cell_type": "markdown",
   "metadata": {},
   "source": [
    "Update: This is a dead end :("
   ]
  },
  {
   "cell_type": "code",
   "execution_count": null,
   "metadata": {},
   "outputs": [],
   "source": [
    "from cobra.io import read_sbml_model\n",
    "model = read_sbml_model('../iCre1355_auto.xml')"
   ]
  },
  {
   "cell_type": "code",
   "execution_count": 3,
   "metadata": {
    "jupyter": {
     "source_hidden": true
    }
   },
   "outputs": [
    {
     "data": {
      "text/html": [
       "\n",
       "        <table>\n",
       "            <tr>\n",
       "                <td><strong>Name</strong></td>\n",
       "                <td>iCre1355</td>\n",
       "            </tr><tr>\n",
       "                <td><strong>Memory address</strong></td>\n",
       "                <td>0x07fbaa8645358</td>\n",
       "            </tr><tr>\n",
       "                <td><strong>Number of metabolites</strong></td>\n",
       "                <td>1845</td>\n",
       "            </tr><tr>\n",
       "                <td><strong>Number of reactions</strong></td>\n",
       "                <td>2394</td>\n",
       "            </tr><tr>\n",
       "                <td><strong>Number of groups</strong></td>\n",
       "                <td>117</td>\n",
       "            </tr><tr>\n",
       "                <td><strong>Objective expression</strong></td>\n",
       "                <td>0</td>\n",
       "            </tr><tr>\n",
       "                <td><strong>Compartments</strong></td>\n",
       "                <td>Cytosol, Chloroplast, Mitochondria, Glyoxysome, Flagellum, Extra-organism, Nucleus, Golgi Apparatus, Eyespot, Thylakoid Lumen, Inner Mitochondrial membrane space</td>\n",
       "            </tr>\n",
       "          </table>"
      ],
      "text/plain": [
       "<Model iCre1355 at 0x7fbaa8645358>"
      ]
     },
     "execution_count": 3,
     "metadata": {},
     "output_type": "execute_result"
    }
   ],
   "source": [
    "model"
   ]
  },
  {
   "cell_type": "code",
   "execution_count": 4,
   "metadata": {
    "jupyter": {
     "source_hidden": true
    }
   },
   "outputs": [
    {
     "name": "stdout",
     "output_type": "stream",
     "text": [
      "Number of reactions:\t 2394\n",
      "Number of metabolites:\t 1845\n",
      "Number of genes:\t 1963\n",
      "Compartments:\n",
      "c Cytosol\n",
      "h Chloroplast\n",
      "m Mitochondria\n",
      "x Glyoxysome\n",
      "f Flagellum\n",
      "e Extra-organism\n",
      "n Nucleus\n",
      "g Golgi Apparatus\n",
      "s Eyespot\n",
      "u Thylakoid Lumen\n",
      "i Inner Mitochondrial membrane space\n"
     ]
    }
   ],
   "source": [
    "print(\"Number of reactions:\\t\", len(model.reactions))\n",
    "print(\"Number of metabolites:\\t\", len(model.metabolites))\n",
    "print(\"Number of genes:\\t\", len(model.genes))\n",
    "print(\"Compartments:\")\n",
    "for compartment in model.compartments:\n",
    "    print(compartment, model.compartments[compartment])"
   ]
  },
  {
   "cell_type": "code",
   "execution_count": 5,
   "metadata": {},
   "outputs": [
    {
     "name": "stdout",
     "output_type": "stream",
     "text": [
      "Maximize\n",
      "0\n"
     ]
    }
   ],
   "source": [
    "print(model.objective)"
   ]
  },
  {
   "cell_type": "markdown",
   "metadata": {},
   "source": [
    "## All exchange reactions"
   ]
  },
  {
   "cell_type": "code",
   "execution_count": 6,
   "metadata": {
    "collapsed": true,
    "jupyter": {
     "outputs_hidden": true
    }
   },
   "outputs": [
    {
     "data": {
      "text/plain": [
       "[<Reaction EX_h_e at 0x7fbaa7fa9b70>,\n",
       " <Reaction EX_h2o_e at 0x7fbaa7fa9da0>,\n",
       " <Reaction EX_pi_e at 0x7fbaa7fa9eb8>,\n",
       " <Reaction EX_nh4_e at 0x7fbaa7fa9d68>,\n",
       " <Reaction EX_no3_e at 0x7fbaa7fa9ef0>,\n",
       " <Reaction EX_so4_e at 0x7fbaa7fa9f60>,\n",
       " <Reaction EX_fe2_e at 0x7fbaa7fa9780>,\n",
       " <Reaction EX_fe3_e at 0x7fbaa7fa9710>,\n",
       " <Reaction EX_mg2_e at 0x7fbaa7fbc1d0>,\n",
       " <Reaction EX_na1_e at 0x7fbaa7fbc240>,\n",
       " <Reaction EX_photonVis_e at 0x7fbaa7fbc2b0>,\n",
       " <Reaction EX_o2_e at 0x7fbaa7fbc2e8>,\n",
       " <Reaction EX_co2_e at 0x7fbaa7fbc390>,\n",
       " <Reaction EX_hco3_e at 0x7fbaa7fbc400>,\n",
       " <Reaction EX_ac_e at 0x7fbaa7fbc518>,\n",
       " <Reaction EX_rib_D_e at 0x7fbaa7fbc4e0>,\n",
       " <Reaction EX_no2_e at 0x7fbaa7fbc588>,\n",
       " <Reaction EX_his_L_e at 0x7fbaa7fbc550>,\n",
       " <Reaction EX_urea_e at 0x7fbaa7fbc6a0>,\n",
       " <Reaction EX_ad_e at 0x7fbaa7fbc6d8>,\n",
       " <Reaction EX_gua_e at 0x7fbaa7fbc780>,\n",
       " <Reaction EX_ade_e at 0x7fbaa7fbc748>,\n",
       " <Reaction EX_alltt_e at 0x7fbaa7fbc7b8>,\n",
       " <Reaction EX_alltn_e at 0x7fbaa7fbc908>,\n",
       " <Reaction EX_hxan_e at 0x7fbaa7fbc978>,\n",
       " <Reaction EX_orn_e at 0x7fbaa7fbc9e8>,\n",
       " <Reaction EX_gln_L_e at 0x7fbaa7fbc9b0>,\n",
       " <Reaction EX_urate_e at 0x7fbaa7fbca20>,\n",
       " <Reaction EX_leu_L_e at 0x7fbaa7fbcb38>,\n",
       " <Reaction EX_arg_L_e at 0x7fbaa7ffbd68>,\n",
       " <Reaction EX_so3_e at 0x7fbaa8063828>,\n",
       " <Reaction EX_s_e at 0x7fbaa7fbccf8>,\n",
       " <Reaction EX_selt_e at 0x7fbaa7fbcc50>,\n",
       " <Reaction EX_etoh_e at 0x7fbaa7fbccc0>,\n",
       " <Reaction EX_for_e at 0x7fbaa7fbcd30>,\n",
       " <Reaction EX_h2_e at 0x7fbaa7fbcef0>,\n",
       " <Reaction EX_glyclt_e at 0x7fbaa7fbce48>,\n",
       " <Reaction EX_succ_e at 0x7fbaa7fbceb8>,\n",
       " <Reaction EX_lac_D_e at 0x7fbaa7fbcfd0>,\n",
       " <Reaction EX_6mpur_e at 0x7fbaa7fbcf60>,\n",
       " <Reaction EX_tgua_e at 0x7fbaa7fbcf28>,\n",
       " <Reaction EX_tega_e at 0x7fbaa7fd20f0>,\n",
       " <Reaction EX_5flura_e at 0x7fbaa7fd2128>,\n",
       " <Reaction EX_cital_e at 0x7fbaa7fd21d0>,\n",
       " <Reaction EX_lido_e at 0x7fbaa7fd2240>,\n",
       " <Reaction EX_ascb_e at 0x7fbaa7fd22b0>,\n",
       " <Reaction EX_xan_e at 0x7fbaa7fd22e8>,\n",
       " <Reaction EX_ura_e at 0x7fbaa7fd2390>,\n",
       " <Reaction EX_meoh_e at 0x7fbaa7fd23c8>,\n",
       " <Reaction EX_ncam_e at 0x7fbaa7fd2438>,\n",
       " <Reaction EX_nmn_e at 0x7fbaa7fd2550>,\n",
       " <Reaction EX_thm_e at 0x7fbaa7fd25f8>,\n",
       " <Reaction EX_pheme_e at 0x7fbaa7fd25c0>,\n",
       " <Reaction EX_biliverd_e at 0x7fbaa7ffbcc0>,\n",
       " <Reaction EX_co_e at 0x7fbaa7fd2748>]"
      ]
     },
     "execution_count": 6,
     "metadata": {},
     "output_type": "execute_result"
    }
   ],
   "source": [
    "exchange_reactions = model.exchanges\n",
    "exchange_reactions"
   ]
  },
  {
   "cell_type": "markdown",
   "metadata": {},
   "source": [
    "## Possible target metabolites\n",
    "The metabolites from following exchange reactions have pharmaceutical value\n",
    "\n",
    "    EX_6mpur_e\n",
    "    EX_tega_e\n",
    "    EX_lido_e\n",
    "    EX_5flura_e"
   ]
  },
  {
   "cell_type": "code",
   "execution_count": 7,
   "metadata": {
    "collapsed": true,
    "jupyter": {
     "outputs_hidden": true
    }
   },
   "outputs": [
    {
     "data": {
      "text/html": [
       "\n",
       "        <table>\n",
       "            <tr>\n",
       "                <td><strong>Reaction identifier</strong></td><td>EX_6mpur_e</td>\n",
       "            </tr><tr>\n",
       "                <td><strong>Name</strong></td><td>6-mercaptopurine exchange</td>\n",
       "            </tr><tr>\n",
       "                <td><strong>Memory address</strong></td>\n",
       "                <td>0x07fbaa7fbcf60</td>\n",
       "            </tr><tr>\n",
       "                <td><strong>Stoichiometry</strong></td>\n",
       "                <td>\n",
       "                    <p style='text-align:right'>6mpur_e --> </p>\n",
       "                    <p style='text-align:right'>6-Mercaptopurine --> </p>\n",
       "                </td>\n",
       "            </tr><tr>\n",
       "                <td><strong>GPR</strong></td><td></td>\n",
       "            </tr><tr>\n",
       "                <td><strong>Lower bound</strong></td><td>0.0</td>\n",
       "            </tr><tr>\n",
       "                <td><strong>Upper bound</strong></td><td>1000.0</td>\n",
       "            </tr>\n",
       "        </table>\n",
       "        "
      ],
      "text/plain": [
       "<Reaction EX_6mpur_e at 0x7fbaa7fbcf60>"
      ]
     },
     "execution_count": 7,
     "metadata": {},
     "output_type": "execute_result"
    }
   ],
   "source": [
    "model.reactions.get_by_id('EX_6mpur_e')"
   ]
  },
  {
   "cell_type": "code",
   "execution_count": 36,
   "metadata": {
    "collapsed": true,
    "jupyter": {
     "outputs_hidden": true
    }
   },
   "outputs": [
    {
     "data": {
      "text/html": [
       "\n",
       "        <table>\n",
       "            <tr>\n",
       "                <td><strong>Reaction identifier</strong></td><td>EX_tega_e</td>\n",
       "            </tr><tr>\n",
       "                <td><strong>Name</strong></td><td>tegafur exchange</td>\n",
       "            </tr><tr>\n",
       "                <td><strong>Memory address</strong></td>\n",
       "                <td>0x07fbaa7fd20f0</td>\n",
       "            </tr><tr>\n",
       "                <td><strong>Stoichiometry</strong></td>\n",
       "                <td>\n",
       "                    <p style='text-align:right'>tega_e --> </p>\n",
       "                    <p style='text-align:right'>Tegafur --> </p>\n",
       "                </td>\n",
       "            </tr><tr>\n",
       "                <td><strong>GPR</strong></td><td></td>\n",
       "            </tr><tr>\n",
       "                <td><strong>Lower bound</strong></td><td>0.0</td>\n",
       "            </tr><tr>\n",
       "                <td><strong>Upper bound</strong></td><td>1000.0</td>\n",
       "            </tr>\n",
       "        </table>\n",
       "        "
      ],
      "text/plain": [
       "<Reaction EX_tega_e at 0x7fbaa7fd20f0>"
      ]
     },
     "execution_count": 36,
     "metadata": {},
     "output_type": "execute_result"
    }
   ],
   "source": [
    "model.reactions.get_by_id('EX_tega_e')"
   ]
  },
  {
   "cell_type": "code",
   "execution_count": 9,
   "metadata": {
    "collapsed": true,
    "jupyter": {
     "outputs_hidden": true
    }
   },
   "outputs": [
    {
     "data": {
      "text/html": [
       "\n",
       "        <table>\n",
       "            <tr>\n",
       "                <td><strong>Reaction identifier</strong></td><td>EX_lido_e</td>\n",
       "            </tr><tr>\n",
       "                <td><strong>Name</strong></td><td>lidocaine exchange</td>\n",
       "            </tr><tr>\n",
       "                <td><strong>Memory address</strong></td>\n",
       "                <td>0x07fbaa7fd2240</td>\n",
       "            </tr><tr>\n",
       "                <td><strong>Stoichiometry</strong></td>\n",
       "                <td>\n",
       "                    <p style='text-align:right'>lido_e --> </p>\n",
       "                    <p style='text-align:right'>Lidocaine --> </p>\n",
       "                </td>\n",
       "            </tr><tr>\n",
       "                <td><strong>GPR</strong></td><td></td>\n",
       "            </tr><tr>\n",
       "                <td><strong>Lower bound</strong></td><td>0.0</td>\n",
       "            </tr><tr>\n",
       "                <td><strong>Upper bound</strong></td><td>1000.0</td>\n",
       "            </tr>\n",
       "        </table>\n",
       "        "
      ],
      "text/plain": [
       "<Reaction EX_lido_e at 0x7fbaa7fd2240>"
      ]
     },
     "execution_count": 9,
     "metadata": {},
     "output_type": "execute_result"
    }
   ],
   "source": [
    "model.reactions.get_by_id('EX_lido_e')"
   ]
  },
  {
   "cell_type": "code",
   "execution_count": 37,
   "metadata": {
    "collapsed": true,
    "jupyter": {
     "outputs_hidden": true
    }
   },
   "outputs": [
    {
     "data": {
      "text/html": [
       "\n",
       "        <table>\n",
       "            <tr>\n",
       "                <td><strong>Reaction identifier</strong></td><td>EX_5flura_e</td>\n",
       "            </tr><tr>\n",
       "                <td><strong>Name</strong></td><td>fluorouracil exchange</td>\n",
       "            </tr><tr>\n",
       "                <td><strong>Memory address</strong></td>\n",
       "                <td>0x07fbaa7fd2128</td>\n",
       "            </tr><tr>\n",
       "                <td><strong>Stoichiometry</strong></td>\n",
       "                <td>\n",
       "                    <p style='text-align:right'>5flura_e --> </p>\n",
       "                    <p style='text-align:right'>5-Fluorouracil --> </p>\n",
       "                </td>\n",
       "            </tr><tr>\n",
       "                <td><strong>GPR</strong></td><td></td>\n",
       "            </tr><tr>\n",
       "                <td><strong>Lower bound</strong></td><td>0.0</td>\n",
       "            </tr><tr>\n",
       "                <td><strong>Upper bound</strong></td><td>1000.0</td>\n",
       "            </tr>\n",
       "        </table>\n",
       "        "
      ],
      "text/plain": [
       "<Reaction EX_5flura_e at 0x7fbaa7fd2128>"
      ]
     },
     "execution_count": 37,
     "metadata": {},
     "output_type": "execute_result"
    }
   ],
   "source": [
    "model.reactions.get_by_id('EX_5flura_e')"
   ]
  },
  {
   "cell_type": "markdown",
   "metadata": {},
   "source": [
    "## 6-Mercaptopurine"
   ]
  },
  {
   "cell_type": "code",
   "execution_count": 27,
   "metadata": {
    "collapsed": true,
    "jupyter": {
     "outputs_hidden": true,
     "source_hidden": true
    }
   },
   "outputs": [
    {
     "data": {
      "text/plain": [
       "frozenset({<Reaction 6MPURt at 0x7fbaa70e0898>,\n",
       "           <Reaction EX_6mpur_e at 0x7fbaa7fbcf60>})"
      ]
     },
     "execution_count": 27,
     "metadata": {},
     "output_type": "execute_result"
    }
   ],
   "source": [
    "model.metabolites.get_by_id('6mpur_e').reactions"
   ]
  },
  {
   "cell_type": "code",
   "execution_count": 28,
   "metadata": {
    "collapsed": true,
    "jupyter": {
     "outputs_hidden": true,
     "source_hidden": true
    }
   },
   "outputs": [
    {
     "data": {
      "text/html": [
       "\n",
       "        <table>\n",
       "            <tr>\n",
       "                <td><strong>Reaction identifier</strong></td><td>6MPURt</td>\n",
       "            </tr><tr>\n",
       "                <td><strong>Name</strong></td><td>nucleobase transport, 6-mercaptopurine (extracellular)</td>\n",
       "            </tr><tr>\n",
       "                <td><strong>Memory address</strong></td>\n",
       "                <td>0x07fbaa70e0898</td>\n",
       "            </tr><tr>\n",
       "                <td><strong>Stoichiometry</strong></td>\n",
       "                <td>\n",
       "                    <p style='text-align:right'>6mpur_e <=> 6mpur_c</p>\n",
       "                    <p style='text-align:right'>6-Mercaptopurine <=> 6-Mercaptopurine</p>\n",
       "                </td>\n",
       "            </tr><tr>\n",
       "                <td><strong>GPR</strong></td><td>( Cre10.g433200.t1.2 or ( Cre10.g442600.t1.2 or Cre10.g442600.t2.1 ) or Cre10.g442800.t1.1 or Cre...</td>\n",
       "            </tr><tr>\n",
       "                <td><strong>Lower bound</strong></td><td>-1000.0</td>\n",
       "            </tr><tr>\n",
       "                <td><strong>Upper bound</strong></td><td>1000.0</td>\n",
       "            </tr>\n",
       "        </table>\n",
       "        "
      ],
      "text/plain": [
       "<Reaction 6MPURt at 0x7fbaa70e0898>"
      ]
     },
     "execution_count": 28,
     "metadata": {},
     "output_type": "execute_result"
    }
   ],
   "source": [
    "model.reactions.get_by_id('6MPURt')"
   ]
  },
  {
   "cell_type": "code",
   "execution_count": 29,
   "metadata": {},
   "outputs": [
    {
     "data": {
      "text/plain": [
       "frozenset({<Reaction 6MPURPRT at 0x7fbaa8016eb8>,\n",
       "           <Reaction 6MPURt at 0x7fbaa70e0898>})"
      ]
     },
     "execution_count": 29,
     "metadata": {},
     "output_type": "execute_result"
    }
   ],
   "source": [
    "model.metabolites.get_by_id('6mpur_c').reactions"
   ]
  },
  {
   "cell_type": "code",
   "execution_count": 32,
   "metadata": {},
   "outputs": [
    {
     "data": {
      "text/html": [
       "\n",
       "        <table>\n",
       "            <tr>\n",
       "                <td><strong>Reaction identifier</strong></td><td>6MPURPRT</td>\n",
       "            </tr><tr>\n",
       "                <td><strong>Name</strong></td><td>6-mercaptopurine phosphoribosyltransferase</td>\n",
       "            </tr><tr>\n",
       "                <td><strong>Memory address</strong></td>\n",
       "                <td>0x07fbaa8016eb8</td>\n",
       "            </tr><tr>\n",
       "                <td><strong>Stoichiometry</strong></td>\n",
       "                <td>\n",
       "                    <p style='text-align:right'>6mpur_c + prpp_c --> 6tins5mp_c + ppi_c</p>\n",
       "                    <p style='text-align:right'>6-Mercaptopurine + 5-Phospho-alpha-D-ribose 1-diphosphate --> 6-Thioinosine-5'-monophosphate + Diphosphate</p>\n",
       "                </td>\n",
       "            </tr><tr>\n",
       "                <td><strong>GPR</strong></td><td>( Cre17.g708100.t1.2 or Cre04.g217934.t1.1 or Cre08.g358900.t1.2 )</td>\n",
       "            </tr><tr>\n",
       "                <td><strong>Lower bound</strong></td><td>0.0</td>\n",
       "            </tr><tr>\n",
       "                <td><strong>Upper bound</strong></td><td>1000.0</td>\n",
       "            </tr>\n",
       "        </table>\n",
       "        "
      ],
      "text/plain": [
       "<Reaction 6MPURPRT at 0x7fbaa8016eb8>"
      ]
     },
     "execution_count": 32,
     "metadata": {},
     "output_type": "execute_result"
    }
   ],
   "source": [
    "model.reactions.get_by_id('6MPURPRT')"
   ]
  },
  {
   "cell_type": "markdown",
   "metadata": {},
   "source": [
    "It looks like there are no reactions, that produce 6-Mercaptopurine"
   ]
  },
  {
   "cell_type": "code",
   "execution_count": 46,
   "metadata": {},
   "outputs": [
    {
     "name": "stdout",
     "output_type": "stream",
     "text": [
      "0.0\n"
     ]
    }
   ],
   "source": [
    "with model:\n",
    "    model.objective = model.reactions.EX_6mpur_e\n",
    "    model.optimize()\n",
    "    print(model.optimize().objective_value)"
   ]
  },
  {
   "cell_type": "markdown",
   "metadata": {},
   "source": [
    "## Tegafur"
   ]
  },
  {
   "cell_type": "code",
   "execution_count": 33,
   "metadata": {},
   "outputs": [
    {
     "data": {
      "text/plain": [
       "frozenset({<Reaction TEGAMO at 0x7fbaa7fa97b8>,\n",
       "           <Reaction TEGAt at 0x7fbaa7103be0>})"
      ]
     },
     "execution_count": 33,
     "metadata": {},
     "output_type": "execute_result"
    }
   ],
   "source": [
    "model.metabolites.get_by_id('tega_c').reactions"
   ]
  },
  {
   "cell_type": "code",
   "execution_count": 34,
   "metadata": {},
   "outputs": [
    {
     "data": {
      "text/html": [
       "\n",
       "        <table>\n",
       "            <tr>\n",
       "                <td><strong>Reaction identifier</strong></td><td>TEGAMO</td>\n",
       "            </tr><tr>\n",
       "                <td><strong>Name</strong></td><td>tegafur monooxygenase</td>\n",
       "            </tr><tr>\n",
       "                <td><strong>Memory address</strong></td>\n",
       "                <td>0x07fbaa7fa97b8</td>\n",
       "            </tr><tr>\n",
       "                <td><strong>Stoichiometry</strong></td>\n",
       "                <td>\n",
       "                    <p style='text-align:right'>cytP450r_c + h_c + o2_c + tega_c --> 5flura_c + cytP450o_c + h2o_c + sucald_c</p>\n",
       "                    <p style='text-align:right'>Reduced flavoprotein (cytochrome P-450) + H+ + O2 + Tegafur --> 5-Fluorouracil + Oxidized flavoprotein (cytochrome P-450) + H2O + Succinic aldehyde</p>\n",
       "                </td>\n",
       "            </tr><tr>\n",
       "                <td><strong>GPR</strong></td><td>( Cre07.g340850.t1.2 or Cre07.g354400.t1.1 or Cre07.g354450.t1.2 )</td>\n",
       "            </tr><tr>\n",
       "                <td><strong>Lower bound</strong></td><td>0.0</td>\n",
       "            </tr><tr>\n",
       "                <td><strong>Upper bound</strong></td><td>1000.0</td>\n",
       "            </tr>\n",
       "        </table>\n",
       "        "
      ],
      "text/plain": [
       "<Reaction TEGAMO at 0x7fbaa7fa97b8>"
      ]
     },
     "execution_count": 34,
     "metadata": {},
     "output_type": "execute_result"
    }
   ],
   "source": [
    "model.reactions.get_by_id('TEGAMO')"
   ]
  },
  {
   "cell_type": "markdown",
   "metadata": {},
   "source": [
    "It looks like there are no reactions, that produce tegafur"
   ]
  },
  {
   "cell_type": "code",
   "execution_count": 47,
   "metadata": {},
   "outputs": [
    {
     "name": "stdout",
     "output_type": "stream",
     "text": [
      "0.0\n"
     ]
    }
   ],
   "source": [
    "with model:\n",
    "    model.objective = model.reactions.EX_tega_e\n",
    "    model.optimize()\n",
    "    print(model.optimize().objective_value)"
   ]
  },
  {
   "cell_type": "markdown",
   "metadata": {},
   "source": [
    "## Lidocaine "
   ]
  },
  {
   "cell_type": "code",
   "execution_count": 12,
   "metadata": {
    "collapsed": true,
    "jupyter": {
     "outputs_hidden": true,
     "source_hidden": true
    }
   },
   "outputs": [
    {
     "data": {
      "text/plain": [
       "frozenset({<Reaction EX_lido_e at 0x7fbaa7fd2240>,\n",
       "           <Reaction LIDOAMH at 0x7fbaa80164e0>,\n",
       "           <Reaction LIDOt at 0x7fbaa70f2908>})"
      ]
     },
     "execution_count": 12,
     "metadata": {},
     "output_type": "execute_result"
    }
   ],
   "source": [
    "model.metabolites.get_by_id('lido_e').reactions"
   ]
  },
  {
   "cell_type": "code",
   "execution_count": 25,
   "metadata": {
    "collapsed": true,
    "jupyter": {
     "outputs_hidden": true,
     "source_hidden": true
    }
   },
   "outputs": [
    {
     "data": {
      "text/html": [
       "<div>\n",
       "<style scoped>\n",
       "    .dataframe tbody tr th:only-of-type {\n",
       "        vertical-align: middle;\n",
       "    }\n",
       "\n",
       "    .dataframe tbody tr th {\n",
       "        vertical-align: top;\n",
       "    }\n",
       "\n",
       "    .dataframe thead th {\n",
       "        text-align: right;\n",
       "    }\n",
       "</style>\n",
       "<table border=\"1\" class=\"dataframe\">\n",
       "  <thead>\n",
       "    <tr style=\"text-align: right;\">\n",
       "      <th></th>\n",
       "      <th></th>\n",
       "      <th>PERCENT</th>\n",
       "      <th>FLUX</th>\n",
       "      <th>REACTION_STRING</th>\n",
       "    </tr>\n",
       "    <tr>\n",
       "      <th>RXN_STAT</th>\n",
       "      <th>ID</th>\n",
       "      <th></th>\n",
       "      <th></th>\n",
       "      <th></th>\n",
       "    </tr>\n",
       "  </thead>\n",
       "  <tbody>\n",
       "    <tr>\n",
       "      <th rowspan=\"3\" valign=\"top\">PRODUCING</th>\n",
       "      <th>EX_lido_e</th>\n",
       "      <td>NaN</td>\n",
       "      <td>0.0</td>\n",
       "      <td>lido_e --&gt;</td>\n",
       "    </tr>\n",
       "    <tr>\n",
       "      <th>LIDOAMH</th>\n",
       "      <td>NaN</td>\n",
       "      <td>0.0</td>\n",
       "      <td>h2o_e + lido_e --&gt; 26dmani_e + degly_e + h_e</td>\n",
       "    </tr>\n",
       "    <tr>\n",
       "      <th>LIDOt</th>\n",
       "      <td>NaN</td>\n",
       "      <td>0.0</td>\n",
       "      <td>lido_e &lt;=&gt; lido_c</td>\n",
       "    </tr>\n",
       "  </tbody>\n",
       "</table>\n",
       "</div>"
      ],
      "text/plain": [
       "<cobra.core.summary.metabolite_summary.MetaboliteSummary at 0x7fbaa765e1d0>"
      ]
     },
     "execution_count": 25,
     "metadata": {},
     "output_type": "execute_result"
    }
   ],
   "source": [
    "model.metabolites.get_by_id('lido_e').summary()"
   ]
  },
  {
   "cell_type": "code",
   "execution_count": 13,
   "metadata": {
    "collapsed": true,
    "jupyter": {
     "outputs_hidden": true
    }
   },
   "outputs": [
    {
     "data": {
      "text/html": [
       "\n",
       "        <table>\n",
       "            <tr>\n",
       "                <td><strong>Reaction identifier</strong></td><td>LIDOAMH</td>\n",
       "            </tr><tr>\n",
       "                <td><strong>Name</strong></td><td>lidocaine amidohydrolase</td>\n",
       "            </tr><tr>\n",
       "                <td><strong>Memory address</strong></td>\n",
       "                <td>0x07fbaa80164e0</td>\n",
       "            </tr><tr>\n",
       "                <td><strong>Stoichiometry</strong></td>\n",
       "                <td>\n",
       "                    <p style='text-align:right'>h2o_e + lido_e --> 26dmani_e + degly_e + h_e</p>\n",
       "                    <p style='text-align:right'>H2O + Lidocaine --> 2,6-Dimethylaniline + N,N-Diethylglycine + H+</p>\n",
       "                </td>\n",
       "            </tr><tr>\n",
       "                <td><strong>GPR</strong></td><td></td>\n",
       "            </tr><tr>\n",
       "                <td><strong>Lower bound</strong></td><td>0.0</td>\n",
       "            </tr><tr>\n",
       "                <td><strong>Upper bound</strong></td><td>1000.0</td>\n",
       "            </tr>\n",
       "        </table>\n",
       "        "
      ],
      "text/plain": [
       "<Reaction LIDOAMH at 0x7fbaa80164e0>"
      ]
     },
     "execution_count": 13,
     "metadata": {},
     "output_type": "execute_result"
    }
   ],
   "source": [
    "# Why is there a reaction outside of the cell?\n",
    "model.reactions.get_by_id('LIDOAMH')"
   ]
  },
  {
   "cell_type": "code",
   "execution_count": 18,
   "metadata": {
    "collapsed": true,
    "jupyter": {
     "outputs_hidden": true,
     "source_hidden": true
    }
   },
   "outputs": [
    {
     "data": {
      "text/plain": [
       "frozenset({<Reaction LIDOAMH at 0x7fbaa80164e0>,\n",
       "           <Reaction MEGLYXYLAMH at 0x7fbaa8016128>})"
      ]
     },
     "execution_count": 18,
     "metadata": {},
     "output_type": "execute_result"
    }
   ],
   "source": [
    "model.metabolites.get_by_id('26dmani_e').reactions"
   ]
  },
  {
   "cell_type": "code",
   "execution_count": 20,
   "metadata": {},
   "outputs": [
    {
     "data": {
      "text/plain": [
       "frozenset({<Reaction LIDODM at 0x7fbaa80166a0>,\n",
       "           <Reaction LIDOMO at 0x7fbaa8016828>,\n",
       "           <Reaction LIDOt at 0x7fbaa70f2908>})"
      ]
     },
     "execution_count": 20,
     "metadata": {},
     "output_type": "execute_result"
    }
   ],
   "source": [
    "model.metabolites.get_by_id('lido_c').reactions"
   ]
  },
  {
   "cell_type": "code",
   "execution_count": 23,
   "metadata": {},
   "outputs": [
    {
     "data": {
      "text/html": [
       "<div>\n",
       "<style scoped>\n",
       "    .dataframe tbody tr th:only-of-type {\n",
       "        vertical-align: middle;\n",
       "    }\n",
       "\n",
       "    .dataframe tbody tr th {\n",
       "        vertical-align: top;\n",
       "    }\n",
       "\n",
       "    .dataframe thead th {\n",
       "        text-align: right;\n",
       "    }\n",
       "</style>\n",
       "<table border=\"1\" class=\"dataframe\">\n",
       "  <thead>\n",
       "    <tr style=\"text-align: right;\">\n",
       "      <th></th>\n",
       "      <th></th>\n",
       "      <th>PERCENT</th>\n",
       "      <th>FLUX</th>\n",
       "      <th>REACTION_STRING</th>\n",
       "    </tr>\n",
       "    <tr>\n",
       "      <th>RXN_STAT</th>\n",
       "      <th>ID</th>\n",
       "      <th></th>\n",
       "      <th></th>\n",
       "      <th></th>\n",
       "    </tr>\n",
       "  </thead>\n",
       "  <tbody>\n",
       "    <tr>\n",
       "      <th rowspan=\"3\" valign=\"top\">PRODUCING</th>\n",
       "      <th>LIDODM</th>\n",
       "      <td>NaN</td>\n",
       "      <td>0.0</td>\n",
       "      <td>lido_c + 2.0 o2_c --&gt; 2.0 for_c + 2.0 h_c + me...</td>\n",
       "    </tr>\n",
       "    <tr>\n",
       "      <th>LIDOMO</th>\n",
       "      <td>NaN</td>\n",
       "      <td>0.0</td>\n",
       "      <td>h_c + lido_c + nadph_c + o2_c --&gt; 3hlido_c + h...</td>\n",
       "    </tr>\n",
       "    <tr>\n",
       "      <th>LIDOt</th>\n",
       "      <td>NaN</td>\n",
       "      <td>0.0</td>\n",
       "      <td>lido_e &lt;=&gt; lido_c</td>\n",
       "    </tr>\n",
       "  </tbody>\n",
       "</table>\n",
       "</div>"
      ],
      "text/plain": [
       "<cobra.core.summary.metabolite_summary.MetaboliteSummary at 0x7fbaa765e780>"
      ]
     },
     "execution_count": 23,
     "metadata": {},
     "output_type": "execute_result"
    }
   ],
   "source": [
    "model.metabolites.get_by_id('lido_c').summary()"
   ]
  },
  {
   "cell_type": "markdown",
   "metadata": {},
   "source": [
    "It looks like there are no reactions, that produce lidocaine"
   ]
  },
  {
   "cell_type": "code",
   "execution_count": 48,
   "metadata": {},
   "outputs": [
    {
     "name": "stdout",
     "output_type": "stream",
     "text": [
      "0.0\n"
     ]
    }
   ],
   "source": [
    "with model:\n",
    "    model.objective = model.reactions.EX_lido_e\n",
    "    model.optimize()\n",
    "    print(model.optimize().objective_value)"
   ]
  },
  {
   "cell_type": "markdown",
   "metadata": {},
   "source": [
    "## 5-Fluorouracil"
   ]
  },
  {
   "cell_type": "code",
   "execution_count": 42,
   "metadata": {},
   "outputs": [
    {
     "data": {
      "text/plain": [
       "frozenset({<Reaction 5FLURAOR at 0x7fbaa8016dd8>,\n",
       "           <Reaction 5FLURAPRT at 0x7fbaa8016748>,\n",
       "           <Reaction 5FLURAt at 0x7fbaa70e0668>,\n",
       "           <Reaction TEGAMO at 0x7fbaa7fa97b8>})"
      ]
     },
     "execution_count": 42,
     "metadata": {},
     "output_type": "execute_result"
    }
   ],
   "source": [
    "model.metabolites.get_by_id('5flura_c').reactions"
   ]
  },
  {
   "cell_type": "code",
   "execution_count": 45,
   "metadata": {},
   "outputs": [
    {
     "data": {
      "text/html": [
       "\n",
       "        <table>\n",
       "            <tr>\n",
       "                <td><strong>Reaction identifier</strong></td><td>TEGAMO</td>\n",
       "            </tr><tr>\n",
       "                <td><strong>Name</strong></td><td>tegafur monooxygenase</td>\n",
       "            </tr><tr>\n",
       "                <td><strong>Memory address</strong></td>\n",
       "                <td>0x07fbaa7fa97b8</td>\n",
       "            </tr><tr>\n",
       "                <td><strong>Stoichiometry</strong></td>\n",
       "                <td>\n",
       "                    <p style='text-align:right'>cytP450r_c + h_c + o2_c + tega_c --> 5flura_c + cytP450o_c + h2o_c + sucald_c</p>\n",
       "                    <p style='text-align:right'>Reduced flavoprotein (cytochrome P-450) + H+ + O2 + Tegafur --> 5-Fluorouracil + Oxidized flavoprotein (cytochrome P-450) + H2O + Succinic aldehyde</p>\n",
       "                </td>\n",
       "            </tr><tr>\n",
       "                <td><strong>GPR</strong></td><td>( Cre07.g340850.t1.2 or Cre07.g354400.t1.1 or Cre07.g354450.t1.2 )</td>\n",
       "            </tr><tr>\n",
       "                <td><strong>Lower bound</strong></td><td>0.0</td>\n",
       "            </tr><tr>\n",
       "                <td><strong>Upper bound</strong></td><td>1000.0</td>\n",
       "            </tr>\n",
       "        </table>\n",
       "        "
      ],
      "text/plain": [
       "<Reaction TEGAMO at 0x7fbaa7fa97b8>"
      ]
     },
     "execution_count": 45,
     "metadata": {},
     "output_type": "execute_result"
    }
   ],
   "source": [
    "# The only reaction that produces 5-fluorouracil is the one that consumes tegafur\n",
    "model.reactions.get_by_id('TEGAMO')"
   ]
  },
  {
   "cell_type": "code",
   "execution_count": 49,
   "metadata": {},
   "outputs": [
    {
     "name": "stdout",
     "output_type": "stream",
     "text": [
      "0.0\n"
     ]
    }
   ],
   "source": [
    "with model:\n",
    "    model.objective = model.reactions.EX_5flura_e\n",
    "    model.optimize()\n",
    "    print(model.optimize().objective_value)"
   ]
  }
 ],
 "metadata": {
  "kernelspec": {
   "display_name": "python3.6",
   "language": "python",
   "name": "python3.6"
  },
  "language_info": {
   "codemirror_mode": {
    "name": "ipython",
    "version": 3
   },
   "file_extension": ".py",
   "mimetype": "text/x-python",
   "name": "python",
   "nbconvert_exporter": "python",
   "pygments_lexer": "ipython3",
   "version": "3.6.12"
  }
 },
 "nbformat": 4,
 "nbformat_minor": 4
}
