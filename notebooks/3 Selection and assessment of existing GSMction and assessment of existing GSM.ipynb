{
 "cells": [
  {
   "cell_type": "markdown",
   "metadata": {},
   "source": [
    "# 3. Selection and assessment of existing GSM (<500 words)\n",
    "\n",
    "Describe the existing GSM that you've selected for your project and how you assessed it. \n",
    "\n",
    "   1. In case there were multiple different GSMs available for your host, how did you choose?\n",
    "   2. Do you expect it to facilitate reliable predictions based on its publication and experimental validation?\n",
    "   3. Do you expect it to facilitate reliable predictions based on your assessment (memote, other considerations)?\n"
   ]
  },
  {
   "cell_type": "markdown",
   "metadata": {},
   "source": [
    "Models:\n",
    "\n",
    "1. Mora Salguero DA, Fernández-Niño M, Serrano-Bermúdez LM, et al. Development of a Chlamydomonas reinhardtii metabolic network dynamic model to describe distinct phenotypes occurring at different CO2 levels. PeerJ. 2018;6:e5528. Published 2018 Sep 3. doi:10.7717/peerj.5528 https://www.embopress.org/action/downloadSupplement?doi=10.1038%2Fmsb.2011.52&file=msb201152-sup-0015.zip\n",
    "\n",
    "2. Imam S, Schäuble S, Valenzuela J, López García de Lomana A, Carter W, Price ND, Baliga NS. \n",
    "   A refined genome-scale reconstruction of Chlamydomonas metabolism provides a platform for systems-level analyses. \n",
    "   Plant J. 2015 Dec;84(6):1239-56. doi: 10.1111/tpj.13059. Epub 2015 Nov 30. PMID: 26485611; PMCID: PMC4715634. https://github.com/baliga-lab/Chlamy_model_iCre1355\n",
    " \n",
    "3.  Chang, Roger L, Ghamsari, Lila, Manichaikul, Ani, Hom, Erik F Y, Balaji, Santhanam, Fu, Weiqi, Shen, Yun, Hao, Tong, Palsson, Bernhard Ø, Salehi‐Ashtiani, Kourosh, Papin, Jason A, (2011) Metabolic network reconstruction of Chlamydomonas offers insight into light‐driven algal metabolism. Molecular Systems Biology, 7. 518. doi: accession:10.1038/msb.2011.52 "
   ]
  },
  {
   "cell_type": "markdown",
   "metadata": {},
   "source": [
    "We model we chose is iCre1355 (Imam et al., 2015), which is the newest genome scale model available as a SBML file. It includes 1963 genes, 2394 reactions, 1845 metabolites and 11 cellular compartements. iCre1355 is a improvement of a previously published genome‐scale reconstruction for C. reinhardtii (iRC1080) (Chang et al., 2011),  which includes 1080 genes, 2190 reactions, 1068 metabolites and 10 cellular compartments. C. reinhardtii‐specific metabolic and genomic information from the databases Plant metabolic network (ChlamyCyc 4.0), KEGG (Kanehisa et al., 2002, 2014), NCBI and Phytozome 10.1 were integrated into this model.\n",
    "By integrating data from high‐throughput transcriptomics experiments\n",
    "\n",
    "\n",
    "\n",
    "\"\"\"\n",
    "The newest one was reconstructed in 2018, but unfortunately only Exel files were available. Therefore we were not able to read it using the COBRA Toolbox. The newest model that is available as a SBML file is iCre1355. \n",
    "\n",
    "We found improved performance over the previous metabolic model based on comparisons of predictive accuracy across 306 phenotypes (from 81 mutants), lipid yield analysis and growth rates derived from chemostat-grown cells (under three conditions).\n",
    "\n",
    "The model iRC1080 (2011) includes 1080 genes, 2190 reactions, 1068 metabolites and 10 cellular compartments. \n",
    "The model has a >32% coverage of estimated metabolic genes and can therefore offer only basic insights into the metabolism.\n",
    "\n",
    "By integrating data from high‐throughput transcriptomics experiments, we used iCre1355 to gain insights into key processes including the metabolic response to nitrogen starvation and the metabolic adjustments associated with growth under different light regimes.\n",
    "\"\"\"\n",
    "\n"
   ]
  },
  {
   "cell_type": "code",
   "execution_count": null,
   "metadata": {},
   "outputs": [],
   "source": []
  },
  {
   "cell_type": "code",
   "execution_count": null,
   "metadata": {},
   "outputs": [],
   "source": []
  }
 ],
 "metadata": {
  "kernelspec": {
   "display_name": "python3.6",
   "language": "python",
   "name": "python3.6"
  },
  "language_info": {
   "codemirror_mode": {
    "name": "ipython",
    "version": 3
   },
   "file_extension": ".py",
   "mimetype": "text/x-python",
   "name": "python",
   "nbconvert_exporter": "python",
   "pygments_lexer": "ipython3",
   "version": "3.6.12"
  }
 },
 "nbformat": 4,
 "nbformat_minor": 4
}
