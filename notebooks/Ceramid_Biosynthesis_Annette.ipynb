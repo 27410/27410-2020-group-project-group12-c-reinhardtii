{
 "cells": [
  {
   "cell_type": "markdown",
   "metadata": {},
   "source": [
    "## Ceramid Biosynthesis\n",
    "Absence of Ceramids in discovered when reconstructing GSM. gene function loss in the pathway? potential target for genetical engineering\n",
    "\n",
    "-> **Metabolic network reconstruction of Chlamydomonas offers insight into light-driven algal metabolism (Chang et al. 2011)**"
   ]
  },
  {
   "cell_type": "markdown",
   "metadata": {
    "jupyter": {
     "source_hidden": true
    }
   },
   "source": [
    "**Approach**: Used the Hetero model.  I added to the our start product Palmitoyl-Coa Reactions to produce our Final product N-Acylsphingosine(Ceramide)\n",
    "- for metabolites and reactions the KEGG ID was used \n",
    "\n",
    "**How to continue**: \n",
    "- add an exchange reaction?\n",
    "- what changes in the metabolism of c.reinhardtii? - can we find the growth rate?\n",
    "- find a way to increase palmitoyl-coa production/ or decrease palmitoy-coa degradation(beta-oxidation reaction transport in to the glykosom: FA160COAabcp), chagnes in medium, find genes?\n",
    "- compare with the mixo and auto model \n"
   ]
  },
  {
   "cell_type": "code",
   "execution_count": 1,
   "metadata": {
    "jupyter": {
     "source_hidden": true
    }
   },
   "outputs": [],
   "source": [
    "from cobra.io import read_sbml_model\n",
    "from cobra import Reaction, Metabolite\n",
    "import cobra.util.solver as sutil\n",
    "from cobra.flux_analysis import flux_variability_analysis as fva\n",
    "from cobra.exceptions import OptimizationError\n",
    "import cobra.test\n",
    "from cobra.flux_analysis import production_envelope\n",
    "from cobra.flux_analysis.phenotype_phase_plane import production_envelope, add_envelope\n",
    "from os.path import dirname, join, pardir\n",
    "from cobra.io import read_sbml_model"
   ]
  },
  {
   "cell_type": "code",
   "execution_count": 7,
   "metadata": {
    "collapsed": true,
    "jupyter": {
     "outputs_hidden": true
    }
   },
   "outputs": [
    {
     "name": "stderr",
     "output_type": "stream",
     "text": [
      "cobra/core/reaction.py:440 \u001b[1;31mUserWarning\u001b[0m: uppercase AND/OR found in rule '( Cre10.g451950.t1.2 OR Cre06.g284700.t1.2 )' for '<Reaction AAT at 0x7f955346ff98>'\n",
      "cobra/core/reaction.py:440 \u001b[1;31mUserWarning\u001b[0m: uppercase AND/OR found in rule '( Cre02.g143200.t1.1 OR ( Cre08.g368900.t1.2 OR Cre08.g368900.t2.1 ) )' for '<Reaction ALATLm at 0x7f955346f7f0>'\n",
      "cobra/core/reaction.py:440 \u001b[1;31mUserWarning\u001b[0m: uppercase AND/OR found in rule '( Cre09.g390986.t1.1 OR Cre06.g279150.t1.2 )' for '<Reaction ASPTLm at 0x7f95534c1518>'\n",
      "cobra/core/reaction.py:440 \u001b[1;31mUserWarning\u001b[0m: uppercase AND/OR found in rule '( Cre17.g747297.t1.1 OR Cre02.g076600.t1.2 )' for '<Reaction ALATAH at 0x7f95534a1a58>'\n",
      "cobra/core/reaction.py:440 \u001b[1;31mUserWarning\u001b[0m: uppercase AND/OR found in rule '( Cre17.g747297.t1.1 OR Cre02.g076600.t1.2 )' for '<Reaction ASNTAH at 0x7f95534a1710>'\n",
      "cobra/core/reaction.py:440 \u001b[1;31mUserWarning\u001b[0m: uppercase AND/OR found in rule '( Cre17.g747297.t1.1 OR Cre02.g076600.t1.2 )' for '<Reaction ASPTAH at 0x7f95534a12e8>'\n",
      "cobra/core/reaction.py:440 \u001b[1;31mUserWarning\u001b[0m: uppercase AND/OR found in rule '( Cre02.g097900.t1.2 OR Cre09.g387726.t1.1 OR Cre02.g147302.t1.1 )' for '<Reaction ASPATh at 0x7f9553496d68>'\n",
      "cobra/core/reaction.py:440 \u001b[1;31mUserWarning\u001b[0m: uppercase AND/OR found in rule '( Cre03.g182800.t1.1 OR Cre16.g650650.t1.1 OR Cre06.g294650.t1.2 )' for '<Reaction AGAT at 0x7f9553496be0>'\n",
      "cobra/core/reaction.py:440 \u001b[1;31mUserWarning\u001b[0m: uppercase AND/OR found in rule '( Cre03.g182800.t1.1 OR Cre16.g650650.t1.1 OR Cre06.g294650.t1.2 )' for '<Reaction AGATx at 0x7f9553496048>'\n",
      "cobra/core/reaction.py:440 \u001b[1;31mUserWarning\u001b[0m: uppercase AND/OR found in rule '( Cre01.g004300.t1.2 OR Cre07.g321050.t1.1 )' for '<Reaction ASPS at 0x7f9553485588>'\n",
      "cobra/core/reaction.py:440 \u001b[1;31mUserWarning\u001b[0m: uppercase AND/OR found in rule '( Cre13.g576150.t1.1 OR ( Cre08.g385400.t1.2 OR Cre08.g385400.t2.1 ) )' for '<Reaction ASPSE at 0x7f95534f3e80>'\n",
      "cobra/core/reaction.py:440 \u001b[1;31mUserWarning\u001b[0m: uppercase AND/OR found in rule '( Cre01.g034400.t1.1 OR Cre08.g370650.t1.2 )' for '<Reaction G6PDA at 0x7f95534e2f60>'\n",
      "cobra/core/reaction.py:440 \u001b[1;31mUserWarning\u001b[0m: uppercase AND/OR found in rule '( Cre07.g345300.t1.1 OR Cre16.g696000.t1.2 OR Cre14.g621751.t1.1 )' for '<Reaction UDPACGLP at 0x7f95534e2780>'\n",
      "cobra/core/reaction.py:440 \u001b[1;31mUserWarning\u001b[0m: uppercase AND/OR found in rule '( Cre07.g345300.t1.1 OR Cre16.g696000.t1.2 OR Cre14.g621751.t1.1 )' for '<Reaction UMPU at 0x7f955353bc50>'\n",
      "cobra/core/reaction.py:440 \u001b[1;31mUserWarning\u001b[0m: uppercase AND/OR found in rule '( Cre01.g036850.t1.2 OR Cre16.g648350.t1.1 )' for '<Reaction PROOR at 0x7f9553517cc0>'\n",
      "cobra/core/reaction.py:440 \u001b[1;31mUserWarning\u001b[0m: uppercase AND/OR found in rule '( Cre01.g015000.t1.2 OR Cre17.g705700.t1.2 )' for '<Reaction AGK at 0x7f95535054e0>'\n",
      "cobra/core/reaction.py:440 \u001b[1;31mUserWarning\u001b[0m: uppercase AND/OR found in rule '( Cre08.g360350.t1.1 OR Cre08.g360350.t2.1 )' for '<Reaction ARGDI at 0x7f9553574940>'\n",
      "cobra/core/reaction.py:440 \u001b[1;31mUserWarning\u001b[0m: uppercase AND/OR found in rule '( Cre09.g406200.t1.2 OR Cre10.g429100.t1.2 )' for '<Reaction PROTL at 0x7f9553547c18>'\n",
      "cobra/core/reaction.py:440 \u001b[1;31mUserWarning\u001b[0m: uppercase AND/OR found in rule '( Cre17.g747297.t1.1 OR Cre02.g076600.t1.2 )' for '<Reaction ARGTAH at 0x7f9553550940>'\n",
      "cobra/core/reaction.py:440 \u001b[1;31mUserWarning\u001b[0m: uppercase AND/OR found in rule '( Cre17.g747297.t1.1 OR Cre02.g076600.t1.2 )' for '<Reaction PROTAH at 0x7f9553550cf8>'\n",
      "cobra/core/reaction.py:440 \u001b[1;31mUserWarning\u001b[0m: uppercase AND/OR found in rule '( Cre07.g322884.t1.2 OR Cre07.g322884.t2.1 )' for '<Reaction UDPGLCURH at 0x7f95535a4fd0>'\n",
      "cobra/core/reaction.py:440 \u001b[1;31mUserWarning\u001b[0m: uppercase AND/OR found in rule '( Cre02.g087700.t1.2 OR Cre06.g285150.t1.2 )' for '<Reaction ASCBOR3 at 0x7f9553590f98>'\n",
      "cobra/core/reaction.py:440 \u001b[1;31mUserWarning\u001b[0m: uppercase AND/OR found in rule '( Cre11.g467350.t1.2 OR Cre16.g675850.t1.2 )' for '<Reaction PPCOAOm at 0x7f9553585be0>'\n",
      "cobra/core/reaction.py:440 \u001b[1;31mUserWarning\u001b[0m: uppercase AND/OR found in rule '( Cre01.g000650.t1.1 OR Cre09.g402515.t1.1 )' for '<Reaction PAO at 0x7f95535fd940>'\n",
      "cobra/core/reaction.py:440 \u001b[1;31mUserWarning\u001b[0m: uppercase AND/OR found in rule '( Cre01.g006100.t1.2 OR Cre12.g487900.t1.2 OR Cre06.g291650.t1.2 )' for '<Reaction CADS at 0x7f95535db2b0>'\n",
      "cobra/core/reaction.py:440 \u001b[1;31mUserWarning\u001b[0m: uppercase AND/OR found in rule '( Cre01.g011100.t1.2 OR Cre01.g011100.t2.1 )' for '<Reaction CAS at 0x7f95535db320>'\n",
      "cobra/core/reaction.py:440 \u001b[1;31mUserWarning\u001b[0m: uppercase AND/OR found in rule '( Cre14.g625450.t1.2 OR Cre14.g625450.t2.1 )' for '<Reaction MPQMT at 0x7f9553639cc0>'\n",
      "cobra/core/reaction.py:440 \u001b[1;31mUserWarning\u001b[0m: uppercase AND/OR found in rule '( Cre12.g518650.t1.2 OR Cre10.g442200.t1.2 )' for '<Reaction 4MZYMCODH at 0x7f9553639a58>'\n",
      "cobra/core/reaction.py:440 \u001b[1;31mUserWarning\u001b[0m: uppercase AND/OR found in rule '( Cre12.g557900.t1.2 OR Cre12.g557950.t1.2 )' for '<Reaction CHLSTD78I at 0x7f955362efd0>'\n",
      "cobra/core/reaction.py:440 \u001b[1;31mUserWarning\u001b[0m: uppercase AND/OR found in rule '( Cre12.g557900.t1.2 OR Cre12.g557950.t1.2 )' for '<Reaction CHLSTI at 0x7f955362e208>'\n",
      "cobra/core/reaction.py:440 \u001b[1;31mUserWarning\u001b[0m: uppercase AND/OR found in rule '( Cre12.g484200.t1.2 OR Cre12.g511700.t1.2 )' for '<Reaction GGPS at 0x7f955361ed68>'\n",
      "cobra/core/reaction.py:440 \u001b[1;31mUserWarning\u001b[0m: uppercase AND/OR found in rule '( Cre12.g484200.t1.2 OR Cre12.g511700.t1.2 )' for '<Reaction GPPS at 0x7f955361ea90>'\n",
      "cobra/core/reaction.py:440 \u001b[1;31mUserWarning\u001b[0m: uppercase AND/OR found in rule '( Cre12.g484200.t1.2 OR Cre12.g511700.t1.2 )' for '<Reaction GPPSh at 0x7f9553617390>'\n",
      "cobra/core/reaction.py:440 \u001b[1;31mUserWarning\u001b[0m: uppercase AND/OR found in rule '( Cre06.g283750.t1.2 OR Cre09.g414000.t1.2 )' for '<Reaction HPT at 0x7f9553617da0>'\n",
      "cobra/core/reaction.py:440 \u001b[1;31mUserWarning\u001b[0m: uppercase AND/OR found in rule '( Cre08.g381800.t1.1 OR Cre11.g467544.t1.1 )' for '<Reaction IDI at 0x7f9553617240>'\n",
      "cobra/core/reaction.py:440 \u001b[1;31mUserWarning\u001b[0m: uppercase AND/OR found in rule '( Cre03.g175250.t1.2 OR Cre03.g175250.t2.1 )' for '<Reaction PSPPS at 0x7f9553606ac8>'\n",
      "cobra/core/reaction.py:440 \u001b[1;31mUserWarning\u001b[0m: uppercase AND/OR found in rule '( Cre03.g175250.t1.2 OR Cre03.g175250.t2.1 )' for '<Reaction SS at 0x7f9553606e48>'\n",
      "cobra/core/reaction.py:440 \u001b[1;31mUserWarning\u001b[0m: uppercase AND/OR found in rule '( Cre06.g283750.t1.2 OR Cre09.g414000.t1.2 )' for '<Reaction HST at 0x7f95536767f0>'\n",
      "cobra/core/reaction.py:440 \u001b[1;31mUserWarning\u001b[0m: uppercase AND/OR found in rule '( Cre14.g625450.t1.2 OR Cre14.g625450.t2.1 )' for '<Reaction MSBQMT at 0x7f955366d0f0>'\n",
      "cobra/core/reaction.py:440 \u001b[1;31mUserWarning\u001b[0m: uppercase AND/OR found in rule '( Cre03.g172000.t1.2 OR Cre03.g213313.t1.1 OR Cre01.g047600.t1.2 )' for '<Reaction 3OACOAR at 0x7f955366dc50>'\n",
      "cobra/core/reaction.py:440 \u001b[1;31mUserWarning\u001b[0m: uppercase AND/OR found in rule '( Cre17.g722150.t1.2 OR Cre07.g318500.t1.1 OR Cre04.g228150.t1.2 OR Cre07.g320550.t1.2 OR Cre07.g319600.t1.2 )' for '<Reaction 3OACOAS at 0x7f955366de80>'\n",
      "cobra/core/reaction.py:440 \u001b[1;31mUserWarning\u001b[0m: uppercase AND/OR found in rule '( ( Cre13.g574800.t1.2 OR Cre13.g574800.t2.1 ) OR Cre13.g586550.t1.2 OR Cre16.g659250.t1.2 OR Cre16.g659300.t1.1 OR Cre16.g659350.t1.2 )' for '<Reaction COA1819ZD9DS at 0x7f955366ddd8>'\n",
      "cobra/core/reaction.py:440 \u001b[1;31mUserWarning\u001b[0m: uppercase AND/OR found in rule '( Cre01.g037350.t1.1 OR Cre16.g683350.t1.2 )' for '<Reaction FACOAE160 at 0x7f95536649e8>'\n",
      "cobra/core/reaction.py:440 \u001b[1;31mUserWarning\u001b[0m: uppercase AND/OR found in rule '( Cre01.g037350.t1.1 OR Cre16.g683350.t1.2 )' for '<Reaction FACOAE180 at 0x7f9553641128>'\n",
      "cobra/core/reaction.py:440 \u001b[1;31mUserWarning\u001b[0m: uppercase AND/OR found in rule '( Cre01.g037350.t1.1 OR Cre16.g683350.t1.2 )' for '<Reaction FACOAE1819Z at 0x7f955365eb70>'\n",
      "cobra/core/reaction.py:440 \u001b[1;31mUserWarning\u001b[0m: uppercase AND/OR found in rule '( Cre01.g037350.t1.1 OR Cre16.g683350.t1.2 )' for '<Reaction FACOAE1829Z12Z at 0x7f955365ee80>'\n",
      "cobra/core/reaction.py:440 \u001b[1;31mUserWarning\u001b[0m: uppercase AND/OR found in rule '( Cre01.g037350.t1.1 OR Cre16.g683350.t1.2 )' for '<Reaction FACOAE1836Z9Z12Z at 0x7f955365e390>'\n",
      "cobra/core/reaction.py:440 \u001b[1;31mUserWarning\u001b[0m: uppercase AND/OR found in rule '( Cre01.g037350.t1.1 OR Cre16.g683350.t1.2 )' for '<Reaction FACOAE1839Z12Z15Z at 0x7f95536557b8>'\n",
      "cobra/core/reaction.py:440 \u001b[1;31mUserWarning\u001b[0m: uppercase AND/OR found in rule '( Cre01.g037350.t1.1 OR Cre16.g683350.t1.2 )' for '<Reaction LNLCCOAOR at 0x7f9553655630>'\n",
      "cobra/core/reaction.py:440 \u001b[1;31mUserWarning\u001b[0m: uppercase AND/OR found in rule '( Cre10.g438050.t1.1 OR Cre17.g722150.t1.2 OR Cre04.g216950.t1.2 OR Cre07.g335300.t1.2 OR ( Cre11.g467723.t1.1 OR Cre11.g467723.t2.1 ) )' for '<Reaction OGMEACPS at 0x7f955364d240>'\n",
      "cobra/core/reaction.py:440 \u001b[1;31mUserWarning\u001b[0m: uppercase AND/OR found in rule '( Cre03.g172000.t1.2 OR Cre03.g213313.t1.1 OR Cre01.g047600.t1.2 )' for '<Reaction OGMEACPR at 0x7f955364dd68>'\n",
      "cobra/core/reaction.py:440 \u001b[1;31mUserWarning\u001b[0m: uppercase AND/OR found in rule '( Cre10.g438050.t1.1 OR Cre17.g722150.t1.2 OR Cre04.g216950.t1.2 OR Cre07.g335300.t1.2 OR ( Cre11.g467723.t1.1 OR Cre11.g467723.t2.1 ) )' for '<Reaction OPMEACPS at 0x7f9553645c88>'\n",
      "cobra/core/reaction.py:440 \u001b[1;31mUserWarning\u001b[0m: uppercase AND/OR found in rule '( Cre03.g172000.t1.2 OR Cre03.g213313.t1.1 OR Cre01.g047600.t1.2 )' for '<Reaction OPMEACPR at 0x7f9553645400>'\n",
      "cobra/core/reaction.py:440 \u001b[1;31mUserWarning\u001b[0m: uppercase AND/OR found in rule '( Cre12.g508852.t1.1 OR Cre09.g406000.t1.1 )' for '<Reaction BTNL at 0x7f95536ad630>'\n",
      "cobra/core/reaction.py:440 \u001b[1;31mUserWarning\u001b[0m: uppercase AND/OR found in rule '( Cre12.g508852.t1.1 OR Cre09.g406000.t1.1 )' for '<Reaction BTNL2 at 0x7f95536adf28>'\n",
      "cobra/core/reaction.py:440 \u001b[1;31mUserWarning\u001b[0m: uppercase AND/OR found in rule '( Cre12.g508852.t1.1 OR Cre09.g406000.t1.1 )' for '<Reaction BTNLm at 0x7f95536ad320>'\n",
      "cobra/core/reaction.py:440 \u001b[1;31mUserWarning\u001b[0m: uppercase AND/OR found in rule '( Cre12.g508852.t1.1 OR Cre09.g406000.t1.1 )' for '<Reaction BTNLm2 at 0x7f95536a6d30>'\n",
      "cobra/core/reaction.py:440 \u001b[1;31mUserWarning\u001b[0m: uppercase AND/OR found in rule '( Cre16.g695050.t1.2 OR Cre02.g091850.t1.2 )' for '<Reaction HBCHL at 0x7f95536a6978>'\n",
      "cobra/core/reaction.py:440 \u001b[1;31mUserWarning\u001b[0m: uppercase AND/OR found in rule '( Cre10.g463150.t1.1 OR Cre16.g695050.t1.2 OR Cre03.g190850.t1.2 )' for '<Reaction HBCHLm at 0x7f955369cd68>'\n",
      "cobra/core/reaction.py:440 \u001b[1;31mUserWarning\u001b[0m: uppercase AND/OR found in rule '( Cre01.g055453.t1.1 AND Cre09.g386758.t1.1 )' for '<Reaction APLh at 0x7f9553694470>'\n",
      "cobra/core/reaction.py:440 \u001b[1;31mUserWarning\u001b[0m: uppercase AND/OR found in rule '( Cre01.g055453.t1.1 AND Cre09.g386758.t1.1 )' for '<Reaction APLm at 0x7f9553694748>'\n",
      "cobra/core/reaction.py:440 \u001b[1;31mUserWarning\u001b[0m: uppercase AND/OR found in rule '( Cre16.g695050.t1.2 OR Cre03.g190850.t1.2 )' for '<Reaction HBCOm at 0x7f9553684668>'\n",
      "cobra/core/reaction.py:440 \u001b[1;31mUserWarning\u001b[0m: uppercase AND/OR found in rule '( Cre03.g185350.t1.1 OR Cre03.g185000.t1.1 OR Cre04.g214650.t1.1 OR Cre03.g183700.t1.1 OR Cre06.g302050.t1.2 OR Cre13.g574900.t1.2 OR Cre03.g198200.t1.1 )' for '<Reaction CALLOSES at 0x7f95536fa668>'\n",
      "cobra/core/reaction.py:440 \u001b[1;31mUserWarning\u001b[0m: uppercase AND/OR found in rule '( Cre10.g451950.t1.2 OR Cre06.g284700.t1.2 )' for '<Reaction ALAAT at 0x7f95536f2400>'\n",
      "cobra/core/reaction.py:440 \u001b[1;31mUserWarning\u001b[0m: uppercase AND/OR found in rule '( Cre13.g607350.t1.2 OR Cre04.g223050.t1.2 OR Cre04.g223100.t1.2 OR Cre09.g405750.t1.1 )' for '<Reaction HCO3E at 0x7f95536f2668>'\n",
      "cobra/core/reaction.py:440 \u001b[1;31mUserWarning\u001b[0m: uppercase AND/OR found in rule '( Cre09.g415850.t1.2 OR Cre12.g516450.t1.2 OR Cre05.g248400.t1.2 OR Cre05.g248450.t1.2 )' for '<Reaction HCO3Em at 0x7f95536e94a8>'\n",
      "cobra/core/reaction.py:440 \u001b[1;31mUserWarning\u001b[0m: uppercase AND/OR found in rule '( ( Cre01.g006950.t1.1 OR Cre01.g006950.t2.1 ) OR Cre02.g093450.t1.2 )' for '<Reaction FBA3hi at 0x7f95536e9ef0>'\n",
      "cobra/core/reaction.py:440 \u001b[1;31mUserWarning\u001b[0m: uppercase AND/OR found in rule '( Cre09.g415700.t1.2 OR Cre12.g485050.t1.2 )' for '<Reaction HCO3Ehi at 0x7f95536e37b8>'\n",
      "cobra/core/reaction.py:440 \u001b[1;31mUserWarning\u001b[0m: uppercase AND/OR found in rule '( Cre11.g476325.t1.1 OR Cre03.g171950.t1.1 OR Cre16.g673852.t1.1 )' for '<Reaction PPC at 0x7f95536e33c8>'\n",
      "cobra/core/reaction.py:440 \u001b[1;31mUserWarning\u001b[0m: uppercase AND/OR found in rule '( Cre10.g424750.t1.2 OR Cre17.g734548.t1.1 )' for '<Reaction PPDKh at 0x7f95536dc860>'\n",
      "cobra/core/reaction.py:440 \u001b[1;31mUserWarning\u001b[0m: uppercase AND/OR found in rule '( ChreCp049 AND ( Cre02.g120100.t1.2 OR Cre02.g120150.t1.2 ) )' for '<Reaction RBPCh at 0x7f95536dc6d8>'\n",
      "cobra/core/reaction.py:440 \u001b[1;31mUserWarning\u001b[0m: uppercase AND/OR found in rule '( Cre02.g097900.t1.2 OR Cre09.g387726.t1.1 OR Cre06.g257950.t1.2 OR Cre02.g147302.t1.1 )' for '<Reaction ASPATm at 0x7f95536ce5c0>'\n",
      "cobra/core/reaction.py:440 \u001b[1;31mUserWarning\u001b[0m: uppercase AND/OR found in rule '( Cre14.g629700.t1.1 OR ( Cre14.g629750.t1.1 OR Cre14.g629750.t2.1 ) OR Cre06.g251400.t1.2 OR Cre14.g628650.t1.2 OR Cre01.g022500.t1.2 )' for '<Reaction MDHC_nadp_hr at 0x7f95536ce390>'\n",
      "cobra/core/reaction.py:440 \u001b[1;31mUserWarning\u001b[0m: uppercase AND/OR found in rule '( Cre17.g731700.t1.1 OR Cre02.g112850.t1.1 OR Cre04.g215050.t1.2 )' for '<Reaction BCAROH at 0x7f95536ce198>'\n",
      "cobra/core/reaction.py:440 \u001b[1;31mUserWarning\u001b[0m: uppercase AND/OR found in rule '( Cre14.g626700.t1.2 AND Cre04.g215000.t1.2 )' for '<Reaction BCAROKT at 0x7f95525502e8>'\n",
      "cobra/core/reaction.py:440 \u001b[1;31mUserWarning\u001b[0m: uppercase AND/OR found in rule '( Cre17.g731700.t1.1 OR Cre02.g112850.t1.1 OR Cre04.g215050.t1.2 )' for '<Reaction BCRPTXANH at 0x7f95536cec88>'\n",
      "cobra/core/reaction.py:440 \u001b[1;31mUserWarning\u001b[0m: uppercase AND/OR found in rule '( Cre06.g267600.t1.2 OR Cre06.g267600.t2.1 )' for '<Reaction LCYD at 0x7f95525508d0>'\n",
      "cobra/core/reaction.py:440 \u001b[1;31mUserWarning\u001b[0m: uppercase AND/OR found in rule '( Cre06.g267600.t1.2 OR Cre06.g267600.t2.1 )' for '<Reaction LCYE at 0x7f95536cebe0>'\n",
      "cobra/core/reaction.py:440 \u001b[1;31mUserWarning\u001b[0m: uppercase AND/OR found in rule '( Cre16.g651923.t1.2 OR Cre09.g407200.t1.2 OR Cre16.g651900.t1.1 )' for '<Reaction TCLYCI at 0x7f95522269b0>'\n",
      "cobra/core/reaction.py:440 \u001b[1;31mUserWarning\u001b[0m: uppercase AND/OR found in rule '( Cre17.g731700.t1.1 OR Cre02.g112850.t1.1 OR Cre04.g215050.t1.2 )' for '<Reaction CHYA1 at 0x7f9552226588>'\n",
      "cobra/core/reaction.py:440 \u001b[1;31mUserWarning\u001b[0m: uppercase AND/OR found in rule '( Cre01.g027550.t1.1 OR Cre16.g678437.t1.1 OR Cre02.g142266.t1.1 OR Cre08.g373100.t1.1 )' for '<Reaction CHYA2 at 0x7f9552226f28>'\n",
      "cobra/core/reaction.py:440 \u001b[1;31mUserWarning\u001b[0m: uppercase AND/OR found in rule '( Cre01.g027550.t1.1 OR Cre16.g678437.t1.1 OR Cre02.g142266.t1.1 OR Cre08.g373100.t1.1 )' for '<Reaction ZHY at 0x7f9552226da0>'\n",
      "cobra/core/reaction.py:440 \u001b[1;31mUserWarning\u001b[0m: uppercase AND/OR found in rule '( Cre16.g670950.t1.2 OR Cre16.g651050.t1.2 )' for '<Reaction CY_focytc_h at 0x7f9552227ba8>'\n",
      "cobra/core/reaction.py:440 \u001b[1;31mUserWarning\u001b[0m: uppercase AND/OR found in rule '( Cre16.g659350.t1.2 OR Cre16.g659300.t1.1 OR ( Cre13.g574800.t1.2 OR Cre13.g574800.t2.1 ) OR Cre13.g586550.t1.2 OR Cre16.g659250.t1.2 )' for '<Reaction CY_focytb5_c at 0x7f95522274e0>'\n",
      "cobra/core/reaction.py:440 \u001b[1;31mUserWarning\u001b[0m: uppercase AND/OR found in rule '( Cre16.g687950.t1.2 AND Cre12.g554953.t1.1 )' for '<Reaction ETF at 0x7f9552227f60>'\n",
      "cobra/core/reaction.py:440 \u001b[1;31mUserWarning\u001b[0m: uppercase AND/OR found in rule '( Cre02.g097900.t1.2 OR Cre09.g387726.t1.1 OR Cre06.g257950.t1.2 OR Cre02.g147302.t1.1 )' for '<Reaction CYSTAm at 0x7f955222b7b8>'\n",
      "cobra/core/reaction.py:440 \u001b[1;31mUserWarning\u001b[0m: uppercase AND/OR found in rule '( Cre16.g664250.t1.2 OR Cre16.g685550.t1.2 OR Cre03.g172850.t1.2 OR Cre08.g367600.t1.2 OR Cre03.g144627.t1.1 )' for '<Reaction ACSERSULL at 0x7f955222bc50>'\n",
      "cobra/core/reaction.py:440 \u001b[1;31mUserWarning\u001b[0m: uppercase AND/OR found in rule '( Cre16.g685550.t1.2 OR Cre03.g172850.t1.2 OR Cre03.g144627.t1.1 )' for '<Reaction ACSERSULLh at 0x7f955222bd68>'\n",
      "cobra/core/reaction.py:440 \u001b[1;31mUserWarning\u001b[0m: uppercase AND/OR found in rule '( Cre16.g685550.t1.2 OR Cre03.g172850.t1.2 OR Cre08.g367600.t1.2 )' for '<Reaction ACSERSULLm at 0x7f95522279e8>'\n",
      "cobra/core/reaction.py:440 \u001b[1;31mUserWarning\u001b[0m: uppercase AND/OR found in rule '( Cre07.g319320.t1.1 OR Cre07.g319400.t1.2 )' for '<Reaction CSLm at 0x7f955222bef0>'\n",
      "cobra/core/reaction.py:440 \u001b[1;31mUserWarning\u001b[0m: uppercase AND/OR found in rule '( Cre07.g319320.t1.1 OR Cre07.g319400.t1.2 )' for '<Reaction CSLh at 0x7f955222e978>'\n",
      "cobra/core/reaction.py:440 \u001b[1;31mUserWarning\u001b[0m: uppercase AND/OR found in rule '( Cre02.g097900.t1.2 OR Cre09.g387726.t1.1 OR Cre02.g147302.t1.1 )' for '<Reaction AATC at 0x7f955222e8d0>'\n",
      "cobra/core/reaction.py:440 \u001b[1;31mUserWarning\u001b[0m: uppercase AND/OR found in rule '( Cre02.g097900.t1.2 OR Cre09.g387726.t1.1 OR Cre06.g257950.t1.2 OR Cre02.g147302.t1.1 )' for '<Reaction AATCm at 0x7f955222eb00>'\n",
      "cobra/core/reaction.py:440 \u001b[1;31mUserWarning\u001b[0m: uppercase AND/OR found in rule '( Cre02.g097900.t1.2 OR Cre09.g387726.t1.1 OR Cre02.g147302.t1.1 )' for '<Reaction AATG at 0x7f955222eeb8>'\n",
      "cobra/core/reaction.py:440 \u001b[1;31mUserWarning\u001b[0m: uppercase AND/OR found in rule '( Cre02.g097900.t1.2 OR Cre09.g387726.t1.1 OR Cre06.g257950.t1.2 OR Cre02.g147302.t1.1 )' for '<Reaction AATGm at 0x7f955222ec50>'\n",
      "cobra/core/reaction.py:440 \u001b[1;31mUserWarning\u001b[0m: uppercase AND/OR found in rule '( Cre02.g097900.t1.2 OR Cre09.g387726.t1.1 )' for '<Reaction CYSATm at 0x7f95522337f0>'\n",
      "cobra/core/reaction.py:440 \u001b[1;31mUserWarning\u001b[0m: uppercase AND/OR found in rule '( Cre02.g097900.t1.2 OR Cre09.g387726.t1.1 OR Cre06.g257950.t1.2 )' for '<Reaction CYSAT at 0x7f955222b9e8>'\n",
      "cobra/core/reaction.py:440 \u001b[1;31mUserWarning\u001b[0m: uppercase AND/OR found in rule '( Cre03.g163950.t1.1 OR Cre03.g174400.t1.2 )' for '<Reaction CYSDO at 0x7f9552233940>'\n",
      "cobra/core/reaction.py:440 \u001b[1;31mUserWarning\u001b[0m: uppercase AND/OR found in rule '( Cre16.g664250.t1.2 OR Cre16.g685550.t1.2 OR Cre03.g172850.t1.2 OR Cre08.g367600.t1.2 )' for '<Reaction CYSS at 0x7f9552233b00>'\n",
      "cobra/core/reaction.py:440 \u001b[1;31mUserWarning\u001b[0m: uppercase AND/OR found in rule '( ( Cre01.g066552.t1.1 OR Cre05.g243050.t1.2 OR Cre10.g446100.t1.2 ) AND ( Cre08.g367600.t1.2 OR Cre16.g664250.t1.2 OR Cre03.g172850.t1.2 OR Cre16.g685550.t1.2 ) )' for '<Reaction CYSS_trdrd at 0x7f9552233d30>'\n",
      "cobra/core/reaction.py:440 \u001b[1;31mUserWarning\u001b[0m: uppercase AND/OR found in rule '( Cre03.g169850.t1.2 OR Cre01.g069472.t1.1 )' for '<Reaction CYSTL at 0x7f9552233eb8>'\n",
      "cobra/core/reaction.py:440 \u001b[1;31mUserWarning\u001b[0m: uppercase AND/OR found in rule '( Cre17.g747297.t1.1 OR Cre02.g076600.t1.2 )' for '<Reaction CYSTAH at 0x7f95522367b8>'\n",
      "cobra/core/reaction.py:440 \u001b[1;31mUserWarning\u001b[0m: uppercase AND/OR found in rule '( Cre17.g713850.t1.1 OR Cre10.g466750.t1.1 OR Cre10.g466750.t2.1 )' for '<Reaction SAT at 0x7f9552233208>'\n",
      "cobra/core/reaction.py:440 \u001b[1;31mUserWarning\u001b[0m: uppercase AND/OR found in rule '( Cre17.g713850.t1.1 OR Cre10.g466750.t1.1 OR Cre10.g466750.t2.1 )' for '<Reaction SATm at 0x7f9552233e10>'\n",
      "cobra/core/reaction.py:440 \u001b[1;31mUserWarning\u001b[0m: uppercase AND/OR found in rule '( Cre11.g467688.t1.1 OR Cre11.g467688.t2.1 )' for '<Reaction CITALALDOR at 0x7f9552224470>'\n",
      "cobra/core/reaction.py:440 \u001b[1;31mUserWarning\u001b[0m: uppercase AND/OR found in rule '( Cre07.g340850.t1.2 OR Cre07.g354400.t1.1 OR Cre07.g354450.t1.2 )' for '<Reaction CITALDM at 0x7f9552224860>'\n",
      "cobra/core/reaction.py:440 \u001b[1;31mUserWarning\u001b[0m: uppercase AND/OR found in rule '( Cre07.g340850.t1.2 OR Cre07.g354400.t1.1 OR Cre07.g354450.t1.2 )' for '<Reaction CITALMO at 0x7f9552224a58>'\n",
      "cobra/core/reaction.py:440 \u001b[1;31mUserWarning\u001b[0m: uppercase AND/OR found in rule '( Cre07.g340850.t1.2 OR Cre07.g354400.t1.1 OR Cre07.g354450.t1.2 )' for '<Reaction DMCITALDM at 0x7f9552224f28>'\n",
      "cobra/core/reaction.py:440 \u001b[1;31mUserWarning\u001b[0m: uppercase AND/OR found in rule '( Cre07.g340850.t1.2 OR Cre07.g354400.t1.1 OR Cre07.g354450.t1.2 )' for '<Reaction LIDODM at 0x7f9552238668>'\n",
      "cobra/core/reaction.py:440 \u001b[1;31mUserWarning\u001b[0m: uppercase AND/OR found in rule '( Cre07.g340850.t1.2 OR Cre07.g354400.t1.1 OR Cre07.g354450.t1.2 )' for '<Reaction LIDOMO at 0x7f95522387f0>'\n",
      "cobra/core/reaction.py:440 \u001b[1;31mUserWarning\u001b[0m: uppercase AND/OR found in rule '( Cre17.g708100.t1.2 OR Cre04.g217934.t1.1 OR Cre08.g358900.t1.2 )' for '<Reaction 6MPURPRT at 0x7f9552238e80>'\n",
      "cobra/core/reaction.py:440 \u001b[1;31mUserWarning\u001b[0m: uppercase AND/OR found in rule '( Cre07.g340850.t1.2 OR Cre07.g354400.t1.1 OR Cre07.g354450.t1.2 )' for '<Reaction TEGAMO at 0x7f955223d780>'\n",
      "cobra/core/reaction.py:440 \u001b[1;31mUserWarning\u001b[0m: uppercase AND/OR found in rule '( Cre17.g708100.t1.2 OR Cre04.g217934.t1.1 OR Cre08.g358900.t1.2 )' for '<Reaction TGUAPRT at 0x7f955223dc50>'\n",
      "cobra/core/reaction.py:440 \u001b[1;31mUserWarning\u001b[0m: uppercase AND/OR found in rule '( Cre13.g577100.t1.2 AND ( Cre17.g722150.t1.2 OR Cre03.g208050.t1.2 ) )' for '<Reaction 3HAD100 at 0x7f9552241898>'\n",
      "cobra/core/reaction.py:440 \u001b[1;31mUserWarning\u001b[0m: uppercase AND/OR found in rule '( Cre13.g577100.t1.2 AND ( Cre17.g722150.t1.2 OR Cre03.g208050.t1.2 ) )' for '<Reaction 3HAD120 at 0x7f95534f3390>'\n",
      "cobra/core/reaction.py:440 \u001b[1;31mUserWarning\u001b[0m: uppercase AND/OR found in rule '( Cre13.g577100.t1.2 AND Cre17.g722150.t1.2 )' for '<Reaction 3HAD140 at 0x7f9552241a20>'\n",
      "cobra/core/reaction.py:440 \u001b[1;31mUserWarning\u001b[0m: uppercase AND/OR found in rule '( Cre13.g577100.t1.2 AND Cre17.g722150.t1.2 )' for '<Reaction 3HAD160 at 0x7f9552241ac8>'\n",
      "cobra/core/reaction.py:440 \u001b[1;31mUserWarning\u001b[0m: uppercase AND/OR found in rule '( Cre13.g577100.t1.2 AND Cre17.g722150.t1.2 )' for '<Reaction 3HAD40 at 0x7f9552241be0>'\n",
      "cobra/core/reaction.py:440 \u001b[1;31mUserWarning\u001b[0m: uppercase AND/OR found in rule '( Cre13.g577100.t1.2 AND Cre17.g722150.t1.2 )' for '<Reaction 3HAD60 at 0x7f9552241da0>'\n",
      "cobra/core/reaction.py:440 \u001b[1;31mUserWarning\u001b[0m: uppercase AND/OR found in rule '( Cre13.g577100.t1.2 AND ( Cre17.g722150.t1.2 OR Cre03.g208050.t1.2 ) )' for '<Reaction 3HAD80 at 0x7f95522440b8>'\n",
      "cobra/core/reaction.py:440 \u001b[1;31mUserWarning\u001b[0m: uppercase AND/OR found in rule '( Cre13.g577100.t1.2 AND ( Cre17.g722150.t1.2 OR Cre03.g172000.t1.2 OR Cre03.g213313.t1.1 OR Cre01.g047600.t1.2 ) )' for '<Reaction 3OAR100 at 0x7f95522440f0>'\n",
      "cobra/core/reaction.py:440 \u001b[1;31mUserWarning\u001b[0m: uppercase AND/OR found in rule '( Cre13.g577100.t1.2 AND ( Cre17.g722150.t1.2 OR Cre03.g172000.t1.2 OR Cre03.g213313.t1.1 OR Cre01.g047600.t1.2 ) )' for '<Reaction 3OAR120 at 0x7f95522445c0>'\n",
      "cobra/core/reaction.py:440 \u001b[1;31mUserWarning\u001b[0m: uppercase AND/OR found in rule '( Cre13.g577100.t1.2 AND ( Cre17.g722150.t1.2 OR Cre03.g172000.t1.2 OR Cre03.g213313.t1.1 OR Cre01.g047600.t1.2 ) )' for '<Reaction 3OAR140 at 0x7f9552244748>'\n",
      "cobra/core/reaction.py:440 \u001b[1;31mUserWarning\u001b[0m: uppercase AND/OR found in rule '( Cre13.g577100.t1.2 AND ( Cre17.g722150.t1.2 OR Cre03.g172000.t1.2 OR Cre03.g213313.t1.1 OR Cre01.g047600.t1.2 ) )' for '<Reaction 3OAR160 at 0x7f95522449e8>'\n",
      "cobra/core/reaction.py:440 \u001b[1;31mUserWarning\u001b[0m: uppercase AND/OR found in rule '( Cre13.g577100.t1.2 AND ( Cre17.g722150.t1.2 OR Cre03.g172000.t1.2 OR Cre03.g213313.t1.1 OR Cre01.g047600.t1.2 ) )' for '<Reaction 3OAR40 at 0x7f9552244c88>'\n",
      "cobra/core/reaction.py:440 \u001b[1;31mUserWarning\u001b[0m: uppercase AND/OR found in rule '( Cre13.g577100.t1.2 AND ( Cre17.g722150.t1.2 OR Cre03.g172000.t1.2 OR Cre03.g213313.t1.1 OR Cre01.g047600.t1.2 ) )' for '<Reaction 3OAR60 at 0x7f9552244f28>'\n",
      "cobra/core/reaction.py:440 \u001b[1;31mUserWarning\u001b[0m: uppercase AND/OR found in rule '( Cre13.g577100.t1.2 AND ( Cre17.g722150.t1.2 OR Cre03.g172000.t1.2 OR Cre03.g213313.t1.1 OR Cre01.g047600.t1.2 ) )' for '<Reaction 3OAR80 at 0x7f9552247208>'\n",
      "cobra/core/reaction.py:440 \u001b[1;31mUserWarning\u001b[0m: uppercase AND/OR found in rule '( ( Cre17.g715250.t1.2 OR Cre08.g373050.t1.1 ) AND ( Cre12.g484000.t1.2 OR Cre12.g519100.t1.2 OR Cre08.g359350.t1.2 ) )' for '<Reaction ACCOAC at 0x7f95522474a8>'\n",
      "cobra/core/reaction.py:440 \u001b[1;31mUserWarning\u001b[0m: uppercase AND/OR found in rule '( Cre13.g577100.t1.2 AND ( Cre14.g621650.t1.1 OR Cre17.g722150.t1.2 OR Cre02.g088250.t1.2 ) )' for '<Reaction MCOATA at 0x7f9552247710>'\n",
      "cobra/core/reaction.py:440 \u001b[1;31mUserWarning\u001b[0m: uppercase AND/OR found in rule '( Cre17.g715250.t1.2 AND ( Cre12.g484000.t1.2 OR Cre12.g519100.t1.2 OR Cre08.g359350.t1.2 ) )' for '<Reaction ACCOACm at 0x7f95522476a0>'\n",
      "cobra/core/reaction.py:440 \u001b[1;31mUserWarning\u001b[0m: uppercase AND/OR found in rule '( Cre13.g577100.t1.2 AND ( Cre14.g621650.t1.1 OR Cre17.g722150.t1.2 OR Cre02.g088250.t1.2 ) )' for '<Reaction MCOATAm at 0x7f9552247c18>'\n",
      "cobra/core/reaction.py:440 \u001b[1;31mUserWarning\u001b[0m: uppercase AND/OR found in rule '( Cre13.g577100.t1.2 AND Cre17.g722150.t1.2 )' for '<Reaction 3HAD180 at 0x7f9552247b70>'\n",
      "cobra/core/reaction.py:440 \u001b[1;31mUserWarning\u001b[0m: uppercase AND/OR found in rule '( Cre13.g577100.t1.2 AND Cre17.g722150.t1.2 )' for '<Reaction 3HAD181 at 0x7f9552249048>'\n",
      "cobra/core/reaction.py:440 \u001b[1;31mUserWarning\u001b[0m: uppercase AND/OR found in rule '( Cre13.g577100.t1.2 AND ( Cre17.g722150.t1.2 OR Cre03.g172000.t1.2 OR Cre03.g213313.t1.1 OR Cre01.g047600.t1.2 ) )' for '<Reaction 3OAR180 at 0x7f95522490f0>'\n",
      "cobra/core/reaction.py:440 \u001b[1;31mUserWarning\u001b[0m: uppercase AND/OR found in rule '( Cre13.g577100.t1.2 AND ( Cre17.g722150.t1.2 OR Cre03.g172000.t1.2 OR Cre03.g213313.t1.1 OR Cre01.g047600.t1.2 ) )' for '<Reaction 3OAR181 at 0x7f9552249518>'\n",
      "cobra/core/reaction.py:440 \u001b[1;31mUserWarning\u001b[0m: uppercase AND/OR found in rule '( Cre13.g577100.t1.2 AND ( Cre10.g438050.t1.1 OR Cre17.g722150.t1.2 OR Cre04.g216950.t1.2 OR Cre07.g335300.t1.2 OR ( Cre11.g467723.t1.1 OR Cre11.g467723.t2.1 ) ) )' for '<Reaction 3OAS100 at 0x7f9552249208>'\n",
      "cobra/core/reaction.py:440 \u001b[1;31mUserWarning\u001b[0m: uppercase AND/OR found in rule '( Cre13.g577100.t1.2 AND ( Cre10.g438050.t1.1 OR Cre17.g722150.t1.2 OR Cre04.g216950.t1.2 OR Cre07.g335300.t1.2 OR ( Cre11.g467723.t1.1 OR Cre11.g467723.t2.1 ) ) )' for '<Reaction 3OAS120 at 0x7f9552249908>'\n",
      "cobra/core/reaction.py:440 \u001b[1;31mUserWarning\u001b[0m: uppercase AND/OR found in rule '( Cre13.g577100.t1.2 AND ( Cre10.g438050.t1.1 OR Cre17.g722150.t1.2 OR Cre04.g216950.t1.2 OR Cre07.g335300.t1.2 OR ( Cre11.g467723.t1.1 OR Cre11.g467723.t2.1 ) ) )' for '<Reaction 3OAS140 at 0x7f95522492b0>'\n",
      "cobra/core/reaction.py:440 \u001b[1;31mUserWarning\u001b[0m: uppercase AND/OR found in rule '( Cre13.g577100.t1.2 AND ( Cre10.g438050.t1.1 OR Cre17.g722150.t1.2 OR Cre04.g216950.t1.2 OR Cre07.g335300.t1.2 OR ( Cre11.g467723.t1.1 OR Cre11.g467723.t2.1 ) ) )' for '<Reaction 3OAS160 at 0x7f9552249e48>'\n",
      "cobra/core/reaction.py:440 \u001b[1;31mUserWarning\u001b[0m: uppercase AND/OR found in rule '( Cre13.g577100.t1.2 AND ( Cre10.g438050.t1.1 OR Cre17.g722150.t1.2 OR Cre04.g216950.t1.2 OR Cre07.g335300.t1.2 OR ( Cre11.g467723.t1.1 OR Cre11.g467723.t2.1 ) ) )' for '<Reaction 3OAS180 at 0x7f9552251198>'\n",
      "cobra/core/reaction.py:440 \u001b[1;31mUserWarning\u001b[0m: uppercase AND/OR found in rule '( Cre13.g577100.t1.2 AND ( Cre10.g438050.t1.1 OR Cre17.g722150.t1.2 OR Cre04.g216950.t1.2 OR Cre07.g335300.t1.2 OR ( Cre11.g467723.t1.1 OR Cre11.g467723.t2.1 ) ) )' for '<Reaction 3OAS181 at 0x7f95522514a8>'\n",
      "cobra/core/reaction.py:440 \u001b[1;31mUserWarning\u001b[0m: uppercase AND/OR found in rule '( Cre13.g577100.t1.2 AND ( Cre10.g438050.t1.1 OR Cre17.g722150.t1.2 OR Cre04.g216950.t1.2 OR Cre07.g335300.t1.2 OR ( Cre11.g467723.t1.1 OR Cre11.g467723.t2.1 ) ) )' for '<Reaction 3OAS60 at 0x7f9552251828>'\n",
      "cobra/core/reaction.py:440 \u001b[1;31mUserWarning\u001b[0m: uppercase AND/OR found in rule '( Cre13.g577100.t1.2 AND ( Cre10.g438050.t1.1 OR Cre17.g722150.t1.2 OR Cre04.g216950.t1.2 OR Cre07.g335300.t1.2 OR ( Cre11.g467723.t1.1 OR Cre11.g467723.t2.1 ) ) )' for '<Reaction 3OAS80 at 0x7f9552251b00>'\n",
      "cobra/core/reaction.py:440 \u001b[1;31mUserWarning\u001b[0m: uppercase AND/OR found in rule '( Cre13.g577100.t1.2 AND ( Cre17.g722150.t1.2 OR Cre04.g216950.t1.2 ) )' for '<Reaction ACOATA at 0x7f9552251e10>'\n",
      "cobra/core/reaction.py:440 \u001b[1;31mUserWarning\u001b[0m: uppercase AND/OR found in rule '( Cre13.g577100.t1.2 AND ( ( Cre17.g701700.t1.2 OR Cre17.g701700.t2.1 ) OR Cre14.g630883.t1.1 ) AND ( Cre16.g658400.t1.2 OR Cre17.g700950.t1.2 OR Cre03.g183850.t1.2 OR Cre06.g306350.t1.2 OR Cre07.g334800.t2.1 ) )' for '<Reaction ACP1619ZD9DS at 0x7f9552251780>'\n",
      "cobra/core/reaction.py:440 \u001b[1;31mUserWarning\u001b[0m: uppercase AND/OR found in rule '( Cre13.g577100.t1.2 AND ( ( Cre17.g701700.t1.2 OR Cre17.g701700.t2.1 ) OR Cre14.g630883.t1.1 ) AND ( Cre16.g658400.t1.2 OR Cre17.g700950.t1.2 OR Cre03.g183850.t1.2 OR Cre06.g306350.t1.2 OR Cre07.g334800.t2.1 ) )' for '<Reaction ACP1819ZD9DS at 0x7f9552251c18>'\n",
      "cobra/core/reaction.py:440 \u001b[1;31mUserWarning\u001b[0m: uppercase AND/OR found in rule '( Cre08.g359350.t1.2 AND ( Cre08.g373050.t1.1 OR Cre17.g715250.t1.2 ) )' for '<Reaction BTNC at 0x7f9552251eb8>'\n",
      "cobra/core/reaction.py:440 \u001b[1;31mUserWarning\u001b[0m: uppercase AND/OR found in rule '( Cre13.g577100.t1.2 AND ( Cre17.g722150.t1.2 OR Cre06.g294950.t1.1 ) )' for '<Reaction EAR100x at 0x7f9552253be0>'\n",
      "cobra/core/reaction.py:440 \u001b[1;31mUserWarning\u001b[0m: uppercase AND/OR found in rule '( Cre13.g577100.t1.2 AND ( Cre01.g035350.t1.2 OR Cre17.g722150.t1.2 ) )' for '<Reaction EAR100y at 0x7f9552253cf8>'\n",
      "cobra/core/reaction.py:440 \u001b[1;31mUserWarning\u001b[0m: uppercase AND/OR found in rule '( Cre13.g577100.t1.2 AND ( Cre17.g722150.t1.2 OR Cre06.g294950.t1.1 ) )' for '<Reaction EAR120x at 0x7f9552255208>'\n",
      "cobra/core/reaction.py:440 \u001b[1;31mUserWarning\u001b[0m: uppercase AND/OR found in rule '( Cre13.g577100.t1.2 AND ( Cre01.g035350.t1.2 OR Cre17.g722150.t1.2 ) )' for '<Reaction EAR120y at 0x7f9552255438>'\n",
      "cobra/core/reaction.py:440 \u001b[1;31mUserWarning\u001b[0m: uppercase AND/OR found in rule '( Cre13.g577100.t1.2 AND ( Cre17.g722150.t1.2 OR Cre06.g294950.t1.1 ) )' for '<Reaction EAR140x at 0x7f9552255668>'\n",
      "cobra/core/reaction.py:440 \u001b[1;31mUserWarning\u001b[0m: uppercase AND/OR found in rule '( Cre13.g577100.t1.2 AND ( Cre01.g035350.t1.2 OR Cre17.g722150.t1.2 ) )' for '<Reaction EAR140y at 0x7f9552255898>'\n",
      "cobra/core/reaction.py:440 \u001b[1;31mUserWarning\u001b[0m: uppercase AND/OR found in rule '( Cre13.g577100.t1.2 AND ( Cre17.g722150.t1.2 OR Cre06.g294950.t1.1 ) )' for '<Reaction EAR160x at 0x7f9552255ac8>'\n",
      "cobra/core/reaction.py:440 \u001b[1;31mUserWarning\u001b[0m: uppercase AND/OR found in rule '( Cre13.g577100.t1.2 AND ( Cre01.g035350.t1.2 OR Cre17.g722150.t1.2 ) )' for '<Reaction EAR160y at 0x7f9552255cf8>'\n",
      "cobra/core/reaction.py:440 \u001b[1;31mUserWarning\u001b[0m: uppercase AND/OR found in rule '( Cre13.g577100.t1.2 AND ( Cre17.g722150.t1.2 OR Cre06.g294950.t1.1 ) )' for '<Reaction EAR180x at 0x7f9552255f28>'\n",
      "cobra/core/reaction.py:440 \u001b[1;31mUserWarning\u001b[0m: uppercase AND/OR found in rule '( Cre13.g577100.t1.2 AND ( Cre17.g722150.t1.2 OR Cre06.g294950.t1.1 ) )' for '<Reaction EAR181x at 0x7f9552258198>'\n",
      "cobra/core/reaction.py:440 \u001b[1;31mUserWarning\u001b[0m: uppercase AND/OR found in rule '( Cre13.g577100.t1.2 AND ( Cre01.g035350.t1.2 OR Cre17.g722150.t1.2 ) )' for '<Reaction EAR181y at 0x7f95522583c8>'\n",
      "cobra/core/reaction.py:440 \u001b[1;31mUserWarning\u001b[0m: uppercase AND/OR found in rule '( Cre13.g577100.t1.2 AND ( Cre17.g722150.t1.2 OR Cre06.g294950.t1.1 ) )' for '<Reaction EAR40x at 0x7f95522585f8>'\n",
      "cobra/core/reaction.py:440 \u001b[1;31mUserWarning\u001b[0m: uppercase AND/OR found in rule '( Cre01.g035350.t1.2 AND Cre13.g577100.t1.2 )' for '<Reaction EAR40y at 0x7f9552258828>'\n",
      "cobra/core/reaction.py:440 \u001b[1;31mUserWarning\u001b[0m: uppercase AND/OR found in rule '( Cre13.g577100.t1.2 AND ( Cre17.g722150.t1.2 OR Cre06.g294950.t1.1 ) )' for '<Reaction EAR60x at 0x7f9552258a58>'\n",
      "cobra/core/reaction.py:440 \u001b[1;31mUserWarning\u001b[0m: uppercase AND/OR found in rule '( Cre13.g577100.t1.2 AND ( Cre01.g035350.t1.2 OR Cre17.g722150.t1.2 ) )' for '<Reaction EAR60y at 0x7f9552258c50>'\n",
      "cobra/core/reaction.py:440 \u001b[1;31mUserWarning\u001b[0m: uppercase AND/OR found in rule '( Cre13.g577100.t1.2 AND ( Cre17.g722150.t1.2 OR Cre06.g294950.t1.1 ) )' for '<Reaction EAR80x at 0x7f9552258e80>'\n",
      "cobra/core/reaction.py:440 \u001b[1;31mUserWarning\u001b[0m: uppercase AND/OR found in rule '( Cre13.g577100.t1.2 AND ( Cre01.g035350.t1.2 OR Cre17.g722150.t1.2 ) )' for '<Reaction EAR80y at 0x7f955225d128>'\n",
      "cobra/core/reaction.py:440 \u001b[1;31mUserWarning\u001b[0m: uppercase AND/OR found in rule '( Cre13.g577100.t1.2 AND ( Cre06.g256750.t1.2 OR Cre09.g388900.t1.2 ) )' for '<Reaction FA100ACPHi at 0x7f9552258be0>'\n",
      "cobra/core/reaction.py:440 \u001b[1;31mUserWarning\u001b[0m: uppercase AND/OR found in rule '( Cre13.g577100.t1.2 AND ( Cre06.g256750.t1.2 OR Cre09.g388900.t1.2 ) )' for '<Reaction FA120ACPHi at 0x7f9552258b00>'\n",
      "cobra/core/reaction.py:440 \u001b[1;31mUserWarning\u001b[0m: uppercase AND/OR found in rule '( Cre13.g577100.t1.2 AND ( Cre06.g256750.t1.2 OR Cre09.g388900.t1.2 ) )' for '<Reaction FA140ACPHi at 0x7f9552258fd0>'\n",
      "cobra/core/reaction.py:440 \u001b[1;31mUserWarning\u001b[0m: uppercase AND/OR found in rule '( Cre13.g577100.t1.2 AND ( Cre17.g722150.t1.2 OR Cre06.g256750.t1.2 OR Cre09.g388900.t1.2 ) )' for '<Reaction FA160ACPHi at 0x7f9552258f98>'\n",
      "cobra/core/reaction.py:440 \u001b[1;31mUserWarning\u001b[0m: uppercase AND/OR found in rule '( Cre13.g577100.t1.2 AND ( Cre06.g256750.t1.2 OR Cre09.g388900.t1.2 ) )' for '<Reaction FA161ACPHi at 0x7f9552258f60>'\n",
      "cobra/core/reaction.py:440 \u001b[1;31mUserWarning\u001b[0m: uppercase AND/OR found in rule '( Cre13.g577100.t1.2 AND ( Cre17.g722150.t1.2 OR Cre06.g256750.t1.2 OR Cre09.g388900.t1.2 ) )' for '<Reaction FA180ACPHi at 0x7f955225d630>'\n",
      "cobra/core/reaction.py:440 \u001b[1;31mUserWarning\u001b[0m: uppercase AND/OR found in rule '( Cre13.g577100.t1.2 AND ( Cre06.g256750.t1.2 OR Cre09.g388900.t1.2 ) )' for '<Reaction FA1819ZACPH at 0x7f955225d828>'\n",
      "cobra/core/reaction.py:440 \u001b[1;31mUserWarning\u001b[0m: uppercase AND/OR found in rule '( Cre13.g577100.t1.2 AND ( Cre06.g256750.t1.2 OR Cre09.g388900.t1.2 ) )' for '<Reaction FA181ACPHi at 0x7f955225da20>'\n",
      "cobra/core/reaction.py:440 \u001b[1;31mUserWarning\u001b[0m: uppercase AND/OR found in rule '( Cre13.g577100.t1.2 AND ( Cre06.g256750.t1.2 OR Cre09.g388900.t1.2 ) )' for '<Reaction FA80ACPHi at 0x7f955225dc18>'\n",
      "cobra/core/reaction.py:440 \u001b[1;31mUserWarning\u001b[0m: uppercase AND/OR found in rule '( Cre13.g577100.t1.2 AND ( Cre10.g438050.t1.1 OR Cre17.g722150.t1.2 OR Cre04.g216950.t1.2 OR Cre07.g335300.t1.2 OR ( Cre11.g467723.t1.1 OR Cre11.g467723.t2.1 ) ) )' for '<Reaction KAS14 at 0x7f955225de48>'\n",
      "cobra/core/reaction.py:440 \u001b[1;31mUserWarning\u001b[0m: uppercase AND/OR found in rule '( Cre08.g359350.t1.2 AND ( Cre08.g373050.t1.1 OR Cre17.g715250.t1.2 ) )' for '<Reaction BTNCm at 0x7f955225deb8>'\n",
      "cobra/core/reaction.py:440 \u001b[1;31mUserWarning\u001b[0m: uppercase AND/OR found in rule '( Cre16.g695050.t1.2 OR Cre06.g308100.t1.2 )' for '<Reaction HACD2m at 0x7f95522630b8>'\n",
      "cobra/core/reaction.py:440 \u001b[1;31mUserWarning\u001b[0m: uppercase AND/OR found in rule '( Cre16.g695050.t1.2 OR Cre06.g308100.t1.2 )' for '<Reaction HACD3m at 0x7f9552263588>'\n",
      "cobra/core/reaction.py:440 \u001b[1;31mUserWarning\u001b[0m: uppercase AND/OR found in rule '( Cre16.g695050.t1.2 OR Cre06.g308100.t1.2 )' for '<Reaction HACD4m at 0x7f9552263780>'\n",
      "cobra/core/reaction.py:440 \u001b[1;31mUserWarning\u001b[0m: uppercase AND/OR found in rule '( Cre16.g695050.t1.2 OR Cre06.g308100.t1.2 )' for '<Reaction HACD5m at 0x7f9552263978>'\n",
      "cobra/core/reaction.py:440 \u001b[1;31mUserWarning\u001b[0m: uppercase AND/OR found in rule '( Cre16.g695050.t1.2 OR Cre06.g308100.t1.2 )' for '<Reaction HACD6m at 0x7f9552263b70>'\n",
      "cobra/core/reaction.py:440 \u001b[1;31mUserWarning\u001b[0m: uppercase AND/OR found in rule '( Cre16.g695050.t1.2 OR Cre06.g308100.t1.2 )' for '<Reaction HACD7m at 0x7f9552263d68>'\n",
      "cobra/core/reaction.py:440 \u001b[1;31mUserWarning\u001b[0m: uppercase AND/OR found in rule '( Cre17.g723650.t1.2 OR Cre02.g146050.t1.2 )' for '<Reaction ACACT2 at 0x7f95522675f8>'\n",
      "cobra/core/reaction.py:440 \u001b[1;31mUserWarning\u001b[0m: uppercase AND/OR found in rule '( Cre16.g695050.t1.2 OR Cre06.g308100.t1.2 )' for '<Reaction HACD1 at 0x7f95522670b8>'\n",
      "cobra/core/reaction.py:440 \u001b[1;31mUserWarning\u001b[0m: uppercase AND/OR found in rule '( Cre16.g695050.t1.2 OR Cre06.g308100.t1.2 )' for '<Reaction HACD2 at 0x7f9552241438>'\n",
      "cobra/core/reaction.py:440 \u001b[1;31mUserWarning\u001b[0m: uppercase AND/OR found in rule '( Cre16.g695050.t1.2 OR Cre06.g308100.t1.2 )' for '<Reaction HACD3 at 0x7f95522549b0>'\n",
      "cobra/core/reaction.py:440 \u001b[1;31mUserWarning\u001b[0m: uppercase AND/OR found in rule '( Cre16.g695050.t1.2 OR Cre06.g308100.t1.2 )' for '<Reaction HACD4 at 0x7f9552254978>'\n",
      "cobra/core/reaction.py:440 \u001b[1;31mUserWarning\u001b[0m: uppercase AND/OR found in rule '( Cre16.g695050.t1.2 OR Cre06.g308100.t1.2 )' for '<Reaction HACD5 at 0x7f9552254ba8>'\n",
      "cobra/core/reaction.py:440 \u001b[1;31mUserWarning\u001b[0m: uppercase AND/OR found in rule '( Cre16.g695050.t1.2 OR Cre06.g308100.t1.2 )' for '<Reaction HACD6 at 0x7f9552254d30>'\n",
      "cobra/core/reaction.py:440 \u001b[1;31mUserWarning\u001b[0m: uppercase AND/OR found in rule '( Cre16.g695050.t1.2 OR Cre06.g308100.t1.2 )' for '<Reaction HACD7 at 0x7f9552254f98>'\n",
      "cobra/core/reaction.py:440 \u001b[1;31mUserWarning\u001b[0m: uppercase AND/OR found in rule '( Cre13.g577100.t1.2 AND Cre06.g299800.t1.2 )' for '<Reaction AACP1819ZS at 0x7f9552254eb8>'\n",
      "cobra/core/reaction.py:440 \u001b[1;31mUserWarning\u001b[0m: uppercase AND/OR found in rule '( Cre13.g577100.t1.2 AND Cre06.g299800.t1.2 )' for '<Reaction AACPS1 at 0x7f9552246ac8>'\n",
      "cobra/core/reaction.py:440 \u001b[1;31mUserWarning\u001b[0m: uppercase AND/OR found in rule '( Cre13.g577100.t1.2 AND Cre06.g299800.t1.2 )' for '<Reaction AACPS3 at 0x7f9552246d68>'\n",
      "cobra/core/reaction.py:440 \u001b[1;31mUserWarning\u001b[0m: uppercase AND/OR found in rule '( Cre13.g577100.t1.2 AND Cre06.g299800.t1.2 )' for '<Reaction AACPS4 at 0x7f9552246fd0>'\n",
      "cobra/core/reaction.py:440 \u001b[1;31mUserWarning\u001b[0m: uppercase AND/OR found in rule '( Cre13.g577100.t1.2 AND Cre06.g299800.t1.2 )' for '<Reaction AACPS5 at 0x7f955226a278>'\n",
      "cobra/core/reaction.py:440 \u001b[1;31mUserWarning\u001b[0m: uppercase AND/OR found in rule '( Cre13.g577100.t1.2 AND Cre06.g299800.t1.2 )' for '<Reaction AACPS6 at 0x7f955226a4a8>'\n",
      "cobra/core/reaction.py:440 \u001b[1;31mUserWarning\u001b[0m: uppercase AND/OR found in rule '( Cre16.g687350.t1.2 OR Cre16.g689050.t1.1 OR Cre16.g695100.t1.1 OR (Cre05.g232002.t1.1 OR Cre05.g232002.t2.1 ) OR Cre11.g467350.t1.2 OR Cre16.g675850.t1.2 )' for '<Reaction ACOA100OR at 0x7f9552246ef0>'\n",
      "cobra/core/reaction.py:440 \u001b[1;31mUserWarning\u001b[0m: uppercase AND/OR found in rule '( Cre16.g687350.t1.2 OR Cre16.g689050.t1.1 OR Cre16.g695100.t1.1 OR (Cre05.g232002.t1.1 OR Cre05.g232002.t2.1 ) OR Cre11.g467350.t1.2 OR Cre16.g675850.t1.2 )' for '<Reaction ACOA120OR at 0x7f9552246b70>'\n",
      "cobra/core/reaction.py:440 \u001b[1;31mUserWarning\u001b[0m: uppercase AND/OR found in rule '( Cre16.g687350.t1.2 OR Cre16.g689050.t1.1 OR Cre16.g695100.t1.1 OR (Cre05.g232002.t1.1 OR Cre05.g232002.t2.1 ) OR Cre11.g467350.t1.2 OR Cre16.g675850.t1.2 )' for '<Reaction ACOA140OR at 0x7f955226a0b8>'\n",
      "cobra/core/reaction.py:440 \u001b[1;31mUserWarning\u001b[0m: uppercase AND/OR found in rule '( Cre16.g687350.t1.2 OR Cre16.g689050.t1.1 OR Cre16.g695100.t1.1 OR (Cre05.g232002.t1.1 OR Cre05.g232002.t2.1 ) OR Cre11.g467350.t1.2 OR Cre16.g675850.t1.2 )' for '<Reaction ACOA160OR at 0x7f955226a908>'\n",
      "cobra/core/reaction.py:440 \u001b[1;31mUserWarning\u001b[0m: uppercase AND/OR found in rule '( Cre16.g687350.t1.2 OR Cre16.g689050.t1.1 OR Cre16.g695100.t1.1 OR (Cre05.g232002.t1.1 OR Cre05.g232002.t2.1 ) OR Cre11.g467350.t1.2 OR Cre16.g675850.t1.2 )' for '<Reaction ACOA40OR at 0x7f955226abe0>'\n",
      "cobra/core/reaction.py:440 \u001b[1;31mUserWarning\u001b[0m: uppercase AND/OR found in rule '( Cre16.g687350.t1.2 OR Cre16.g689050.t1.1 OR Cre16.g695100.t1.1 OR (Cre05.g232002.t1.1 OR Cre05.g232002.t2.1 ) OR Cre11.g467350.t1.2 OR Cre16.g675850.t1.2 )' for '<Reaction ACOA60OR at 0x7f955226acc0>'\n",
      "cobra/core/reaction.py:440 \u001b[1;31mUserWarning\u001b[0m: uppercase AND/OR found in rule '( Cre16.g687350.t1.2 OR Cre16.g689050.t1.1 OR Cre16.g695100.t1.1 OR (Cre05.g232002.t1.1 OR Cre05.g232002.t2.1 ) OR Cre11.g467350.t1.2 OR Cre16.g675850.t1.2 )' for '<Reaction ACOA80OR at 0x7f955226a0f0>'\n",
      "cobra/core/reaction.py:440 \u001b[1;31mUserWarning\u001b[0m: uppercase AND/OR found in rule '( Cre12.g507400.t1.2 OR ( Cre13.g566650.t1.2 OR Cre13.g566650.t2.1 ) OR Cre03.g182050.t1.2 OR Cre03.g211745.t1.1 OR Cre13.g586000.t1.2 OR Cre12.g500715.t1.2 )' for '<Reaction CACOAL at 0x7f955226d518>'\n",
      "cobra/core/reaction.py:440 \u001b[1;31mUserWarning\u001b[0m: uppercase AND/OR found in rule '( Cre12.g507400.t1.2 OR ( Cre13.g566650.t1.2 OR Cre13.g566650.t2.1 ) OR Cre03.g182050.t1.2 OR Cre03.g211745.t1.1 OR Cre13.g586000.t1.2 OR Cre12.g500715.t1.2 )' for '<Reaction FACOAL160 at 0x7f955226af28>'\n",
      "cobra/core/reaction.py:440 \u001b[1;31mUserWarning\u001b[0m: uppercase AND/OR found in rule '( Cre03.g153900.t1.2 AND ( Cre04.g217945.t1.1 OR Cre04.g217945.t2.1 OR Cre04.g217945.t3.1 ) )' for '<Reaction FAH120 at 0x7f955226dda0>'\n",
      "cobra/core/reaction.py:440 \u001b[1;31mUserWarning\u001b[0m: uppercase AND/OR found in rule '( Cre03.g153900.t1.2 AND ( Cre04.g217945.t1.1 OR Cre04.g217945.t2.1 OR Cre04.g217945.t3.1 ) )' for '<Reaction FAH140 at 0x7f95522720b8>'\n",
      "cobra/core/reaction.py:440 \u001b[1;31mUserWarning\u001b[0m: uppercase AND/OR found in rule '( Cre03.g153900.t1.2 AND ( Cre04.g217945.t1.1 OR Cre04.g217945.t2.1 OR Cre04.g217945.t3.1 ) )' for '<Reaction FAH160 at 0x7f95522724e0>'\n",
      "cobra/core/reaction.py:440 \u001b[1;31mUserWarning\u001b[0m: uppercase AND/OR found in rule '( Cre03.g153900.t1.2 AND ( Cre04.g217945.t1.1 OR Cre04.g217945.t2.1 OR Cre04.g217945.t3.1 ) )' for '<Reaction FAH1819Z at 0x7f955226de48>'\n",
      "cobra/core/reaction.py:440 \u001b[1;31mUserWarning\u001b[0m: uppercase AND/OR found in rule '( Cre03.g153900.t1.2 AND ( Cre04.g217945.t1.1 OR Cre04.g217945.t2.1 OR Cre04.g217945.t3.1 ) )' for '<Reaction FAH1829Z12Z at 0x7f955226d400>'\n",
      "cobra/core/reaction.py:440 \u001b[1;31mUserWarning\u001b[0m: uppercase AND/OR found in rule '( Cre12.g507400.t1.2 OR ( Cre13.g566650.t1.2 OR Cre13.g566650.t2.1 ) OR Cre03.g182050.t1.2 OR Cre03.g211745.t1.1 OR Cre13.g586000.t1.2 OR Cre12.g500715.t1.2 )' for '<Reaction LNLCCOAL at 0x7f95522725f8>'\n",
      "cobra/core/reaction.py:440 \u001b[1;31mUserWarning\u001b[0m: uppercase AND/OR found in rule '( Cre12.g507400.t1.2 OR ( Cre13.g566650.t1.2 OR Cre13.g566650.t2.1 ) OR Cre03.g182050.t1.2 OR Cre03.g211745.t1.1 OR Cre13.g586000.t1.2 OR Cre12.g500715.t1.2 )' for '<Reaction LNLNCACOAL at 0x7f9552272828>'\n",
      "cobra/core/reaction.py:440 \u001b[1;31mUserWarning\u001b[0m: uppercase AND/OR found in rule '( Cre12.g507400.t1.2 OR ( Cre13.g566650.t1.2 OR Cre13.g566650.t2.1 ) OR Cre03.g182050.t1.2 OR Cre03.g211745.t1.1 OR Cre13.g586000.t1.2 OR Cre12.g500715.t1.2 )' for '<Reaction LNLNCGCOAL at 0x7f9552272ac8>'\n",
      "cobra/core/reaction.py:440 \u001b[1;31mUserWarning\u001b[0m: uppercase AND/OR found in rule '( Cre12.g507400.t1.2 OR ( Cre13.g566650.t1.2 OR Cre13.g566650.t2.1 ) OR Cre03.g182050.t1.2 OR Cre03.g211745.t1.1 OR Cre13.g586000.t1.2 OR Cre12.g500715.t1.2 )' for '<Reaction PACOAL at 0x7f95522753c8>'\n",
      "cobra/core/reaction.py:440 \u001b[1;31mUserWarning\u001b[0m: uppercase AND/OR found in rule '( Cre05.g239100.t1.1 OR Cre05.g239067.t1.1 )' for '<Reaction 10FTHFGLULLm at 0x7f955226a9b0>'\n",
      "cobra/core/reaction.py:440 \u001b[1;31mUserWarning\u001b[0m: uppercase AND/OR found in rule '( Cre14.g620300.t1.2 AND Cre03.g181400.t1.1 )' for '<Reaction ADCS at 0x7f9552275a90>'\n",
      "cobra/core/reaction.py:440 \u001b[1;31mUserWarning\u001b[0m: uppercase AND/OR found in rule '( Cre05.g239850.t1.1 OR Cre05.g239850.t2.1 OR Cre05.g239850.t3.1 )' for '<Reaction AKP1 at 0x7f9552265f28>'\n",
      "cobra/core/reaction.py:440 \u001b[1;31mUserWarning\u001b[0m: uppercase AND/OR found in rule '( ( Cre01.g006950.t1.1 OR Cre01.g006950.t2.1 ) OR Cre02.g093450.t1.2 )' for '<Reaction FPGPL at 0x7f955227bba8>'\n",
      "cobra/core/reaction.py:440 \u001b[1;31mUserWarning\u001b[0m: uppercase AND/OR found in rule '( Cre03.g144707.t1.1 OR Cre14.g626900.t1.2 )' for '<Reaction MPPM at 0x7f955227bcf8>'\n",
      "cobra/core/reaction.py:440 \u001b[1;31mUserWarning\u001b[0m: uppercase AND/OR found in rule '( Cre04.g216350.t1.2 OR Cre06.g276050.t1.2 )' for '<Reaction SBTRh at 0x7f955227be80>'\n",
      "cobra/core/reaction.py:440 \u001b[1;31mUserWarning\u001b[0m: uppercase AND/OR found in rule '( Cre01.g032700.t1.2 OR Cre02.g117500.t1.2 )' for '<Reaction AM6PT at 0x7f955227bac8>'\n",
      "cobra/core/reaction.py:440 \u001b[1;31mUserWarning\u001b[0m: uppercase AND/OR found in rule '( Cre01.g032700.t1.2 OR Cre02.g117500.t1.2 )' for '<Reaction AM6PTh at 0x7f9552278748>'\n",
      "cobra/core/reaction.py:440 \u001b[1;31mUserWarning\u001b[0m: uppercase AND/OR found in rule '( Cre07.g338451.t1.1 OR Cre17.g699600.t1.2 )' for '<Reaction BFBP at 0x7f9552278320>'\n",
      "cobra/core/reaction.py:440 \u001b[1;31mUserWarning\u001b[0m: uppercase AND/OR found in rule '( ( Cre16.g691888.t1.1 OR Cre16.g691888.t2.1 ) OR Cre16.g652150.t1.2 )' for '<Reaction PFK26 at 0x7f9552278dd8>'\n",
      "cobra/core/reaction.py:440 \u001b[1;31mUserWarning\u001b[0m: uppercase AND/OR found in rule '( Cre09.g401022.t1.2 OR Cre04.g214502.t1.1 )' for '<Reaction UG4E at 0x7f95522786d8>'\n",
      "cobra/core/reaction.py:440 \u001b[1;31mUserWarning\u001b[0m: uppercase AND/OR found in rule '( Cre01.g026250.t1.2 OR ( Cre16.g666334.t1.1 OR Cre16.g666334.t2.1 OR Cre16.g666334.t3.1 ) )' for '<Reaction EMGH at 0x7f9552278da0>'\n",
      "cobra/core/reaction.py:440 \u001b[1;31mUserWarning\u001b[0m: uppercase AND/OR found in rule '( Cre17.g732300.t1.2 OR Cre02.g107600.t1.2 )' for '<Reaction GALK at 0x7f95522665f8>'\n",
      "cobra/core/reaction.py:440 \u001b[1;31mUserWarning\u001b[0m: uppercase AND/OR found in rule '( Cre01.g026250.t1.2 OR ( Cre16.g666334.t1.1 OR Cre16.g666334.t2.1 OR Cre16.g666334.t3.1 ) )' for '<Reaction GGGH at 0x7f9552266c50>'\n",
      "cobra/core/reaction.py:440 \u001b[1;31mUserWarning\u001b[0m: uppercase AND/OR found in rule '( Cre16.g666334.t1.1 OR Cre16.g666334.t2.1 OR Cre16.g666334.t3.1 )' for '<Reaction GRGT at 0x7f9552266e48>'\n",
      "cobra/core/reaction.py:440 \u001b[1;31mUserWarning\u001b[0m: uppercase AND/OR found in rule '( Cre02.g117200.t1.2 OR ( Cre02.g117250.t1.1 OR Cre02.g117250.t2.1 ) OR Cre02.g119700.t1.1 OR Cre08.g379450.t1.1 )' for '<Reaction LCGH at 0x7f9552266d30>'\n",
      "cobra/core/reaction.py:440 \u001b[1;31mUserWarning\u001b[0m: uppercase AND/OR found in rule '( Cre01.g026250.t1.2 OR ( Cre16.g666334.t1.1 OR Cre16.g666334.t2.1 OR Cre16.g666334.t3.1 ) )' for '<Reaction MGHA at 0x7f9552266908>'\n",
      "cobra/core/reaction.py:440 \u001b[1;31mUserWarning\u001b[0m: uppercase AND/OR found in rule '( Cre01.g026250.t1.2 OR ( Cre16.g666334.t1.1 OR Cre16.g666334.t2.1 OR Cre16.g666334.t3.1 ) )' for '<Reaction MGHB at 0x7f955227e5c0>'\n",
      "cobra/core/reaction.py:440 \u001b[1;31mUserWarning\u001b[0m: uppercase AND/OR found in rule '( Cre01.g026250.t1.2 OR ( Cre16.g666334.t1.1 OR Cre16.g666334.t2.1 OR Cre16.g666334.t3.1 ) )' for '<Reaction MLGH at 0x7f955227e710>'\n",
      "cobra/core/reaction.py:440 \u001b[1;31mUserWarning\u001b[0m: uppercase AND/OR found in rule '( Cre01.g026250.t1.2 OR ( Cre16.g666334.t1.1 OR Cre16.g666334.t2.1 OR Cre16.g666334.t3.1 ) )' for '<Reaction MTGH at 0x7f955227e978>'\n",
      "cobra/core/reaction.py:440 \u001b[1;31mUserWarning\u001b[0m: uppercase AND/OR found in rule '( Cre01.g026250.t1.2 OR ( Cre16.g666334.t1.1 OR Cre16.g666334.t2.1 OR Cre16.g666334.t3.1 ) )' for '<Reaction OAGMIG at 0x7f955227eb70>'\n",
      "cobra/core/reaction.py:440 \u001b[1;31mUserWarning\u001b[0m: uppercase AND/OR found in rule '( Cre12.g488000.t1.2 OR Cre12.g488050.t1.2 OR Cre12.g507051.t1.1 )' for '<Reaction RFH at 0x7f955227edd8>'\n",
      "cobra/core/reaction.py:440 \u001b[1;31mUserWarning\u001b[0m: uppercase AND/OR found in rule '( Cre01.g026250.t1.2 OR ( Cre16.g666334.t1.1 OR Cre16.g666334.t2.1 OR Cre16.g666334.t3.1 ) )' for '<Reaction RGH at 0x7f955227efd0>'\n",
      "cobra/core/reaction.py:440 \u001b[1;31mUserWarning\u001b[0m: uppercase AND/OR found in rule '( Cre12.g488000.t1.2 OR Cre12.g488050.t1.2 OR Cre12.g507051.t1.1 )' for '<Reaction SFH at 0x7f955227ef98>'\n",
      "cobra/core/reaction.py:440 \u001b[1;31mUserWarning\u001b[0m: uppercase AND/OR found in rule '( Cre01.g026250.t1.2 OR ( Cre16.g666334.t1.1 OR Cre16.g666334.t2.1 OR Cre16.g666334.t3.1 ) )' for '<Reaction SYGH at 0x7f95521c23c8>'\n",
      "cobra/core/reaction.py:440 \u001b[1;31mUserWarning\u001b[0m: uppercase AND/OR found in rule '( Cre03.g146627.t1.1 OR Cre02.g113200.t1.1 OR Cre03.g207250.t1.2 )' for '<Reaction GAL at 0x7f95521c2860>'\n",
      "cobra/core/reaction.py:440 \u001b[1;31mUserWarning\u001b[0m: uppercase AND/OR found in rule '( Cre09.g396252.t1.1 OR Cre06.g262100.t1.1 )' for '<Reaction GDR at 0x7f9552266d68>'\n",
      "cobra/core/reaction.py:440 \u001b[1;31mUserWarning\u001b[0m: uppercase AND/OR found in rule '( Cre09.g396252.t1.1 OR Cre06.g262100.t1.1 )' for '<Reaction GDR_nadp at 0x7f95521c6710>'\n",
      "cobra/core/reaction.py:440 \u001b[1;31mUserWarning\u001b[0m: uppercase AND/OR found in rule '( Cre09.g396252.t1.1 OR Cre06.g262100.t1.1 )' for '<Reaction GDR_nadp_h at 0x7f95521c6358>'\n",
      "cobra/core/reaction.py:440 \u001b[1;31mUserWarning\u001b[0m: uppercase AND/OR found in rule '( Cre09.g396252.t1.1 OR Cre06.g262100.t1.1 )' for '<Reaction GDR_nadp_m at 0x7f95521c6198>'\n",
      "cobra/core/reaction.py:440 \u001b[1;31mUserWarning\u001b[0m: uppercase AND/OR found in rule '( Cre09.g396252.t1.1 OR Cre06.g262100.t1.1 )' for '<Reaction GDRh at 0x7f95521c6908>'\n",
      "cobra/core/reaction.py:440 \u001b[1;31mUserWarning\u001b[0m: uppercase AND/OR found in rule '( Cre09.g396252.t1.1 OR Cre06.g262100.t1.1 )' for '<Reaction GDRm at 0x7f95521c64a8>'\n",
      "cobra/core/reaction.py:440 \u001b[1;31mUserWarning\u001b[0m: uppercase AND/OR found in rule '( Cre14.g614900.t1.2 OR Cre14.g614900.t2.1 )' for '<Reaction GLNTL at 0x7f95521c6898>'\n",
      "cobra/core/reaction.py:440 \u001b[1;31mUserWarning\u001b[0m: uppercase AND/OR found in rule '( Cre12.g514050.t1.2 AND ( Cre16.g658400.t1.2 OR Cre17.g700950.t1.2 OR Cre03.g183850.t1.2 OR Cre06.g306350.t1.2 OR ( Cre07.g334800.t1.2 OR Cre07.g334800.t2.1 ) ) )' for '<Reaction GLUS_ferr at 0x7f95521c6978>'\n",
      "cobra/core/reaction.py:440 \u001b[1;31mUserWarning\u001b[0m: uppercase AND/OR found in rule '( Cre07.g313700.t1.1 OR Cre11.g467547.t1.1 )' for '<Reaction GLUTL at 0x7f95521c6be0>'\n",
      "cobra/core/reaction.py:440 \u001b[1;31mUserWarning\u001b[0m: uppercase AND/OR found in rule '( Cre17.g747297.t1.1 OR Cre02.g076600.t1.2 )' for '<Reaction GLNTAH at 0x7f95521c86d8>'\n",
      "cobra/core/reaction.py:440 \u001b[1;31mUserWarning\u001b[0m: uppercase AND/OR found in rule '( Cre17.g747297.t1.1 OR Cre02.g076600.t1.2 )' for '<Reaction GLUTAH at 0x7f95521c8cc0>'\n",
      "cobra/core/reaction.py:440 \u001b[1;31mUserWarning\u001b[0m: uppercase AND/OR found in rule '( Cre05.g232150.t1.2 OR Cre09.g388800.t1.2 )' for '<Reaction GDHm at 0x7f95521c8198>'\n",
      "cobra/core/reaction.py:440 \u001b[1;31mUserWarning\u001b[0m: uppercase AND/OR found in rule '( Cre12.g530600.t1.1 OR ( Cre12.g530650.t1.1 OR Cre12.g530650.t2.1 ) )' for '<Reaction GALh at 0x7f95521c89e8>'\n",
      "cobra/core/reaction.py:440 \u001b[1;31mUserWarning\u001b[0m: uppercase AND/OR found in rule '( Cre03.g197750.t1.2 OR Cre10.g458450.t1.1 OR Cre02.g078300.t1.1 )' for '<Reaction GTHP at 0x7f95521cff98>'\n",
      "cobra/core/reaction.py:440 \u001b[1;31mUserWarning\u001b[0m: uppercase AND/OR found in rule '( Cre01.g007700.t1.1 OR Cre04.g213250.t1.2 OR Cre17.g736650.t1.2 )' for '<Reaction CGDP at 0x7f95521cf8d0>'\n",
      "cobra/core/reaction.py:440 \u001b[1;31mUserWarning\u001b[0m: uppercase AND/OR found in rule '( Cre01.g045903.t1.1 OR Cre12.g557750.t1.1 OR Cre03.g205050.t1.2 OR Cre09.g386912.t1.1 OR Cre06.g299050.t1.2 OR Cre02.g079050.t1.1 )' for '<Reaction ACOADAGAT16018111Z160 at 0x7f95521d0f98>'\n",
      "cobra/core/reaction.py:440 \u001b[1;31mUserWarning\u001b[0m: uppercase AND/OR found in rule '( Cre01.g045903.t1.1 OR Cre12.g557750.t1.1 OR Cre03.g205050.t1.2 OR Cre09.g386912.t1.1 OR Cre06.g299050.t1.2 OR Cre02.g079050.t1.1 )' for '<Reaction ACOADAGAT16018111Z180 at 0x7f95521d0f28>'\n",
      "cobra/core/reaction.py:440 \u001b[1;31mUserWarning\u001b[0m: uppercase AND/OR found in rule '( Cre01.g045903.t1.1 OR Cre12.g557750.t1.1 OR Cre03.g205050.t1.2 OR Cre09.g386912.t1.1 OR Cre06.g299050.t1.2 OR Cre02.g079050.t1.1 )' for '<Reaction ACOADAGAT16018111Z18111Z at 0x7f95521d45f8>'\n",
      "cobra/core/reaction.py:440 \u001b[1;31mUserWarning\u001b[0m: uppercase AND/OR found in rule '( Cre01.g045903.t1.1 OR Cre12.g557750.t1.1 OR Cre03.g205050.t1.2 OR Cre09.g386912.t1.1 OR Cre06.g299050.t1.2 OR Cre02.g079050.t1.1 )' for '<Reaction ACOADAGAT16018111Z1819Z at 0x7f95521d47b8>'\n",
      "cobra/core/reaction.py:440 \u001b[1;31mUserWarning\u001b[0m: uppercase AND/OR found in rule '( Cre01.g045903.t1.1 OR Cre12.g557750.t1.1 OR Cre03.g205050.t1.2 OR Cre09.g386912.t1.1 OR Cre06.g299050.t1.2 OR Cre02.g079050.t1.1 )' for '<Reaction ACOADAGAT16018111Z1835Z9Z12Z at 0x7f95521d4a20>'\n",
      "cobra/core/reaction.py:440 \u001b[1;31mUserWarning\u001b[0m: uppercase AND/OR found in rule '( Cre01.g045903.t1.1 OR Cre12.g557750.t1.1 OR Cre03.g205050.t1.2 OR Cre09.g386912.t1.1 OR Cre06.g299050.t1.2 OR Cre02.g079050.t1.1 )' for '<Reaction ACOADAGAT16018111Z1845Z9Z12Z15Z at 0x7f95521d4c88>'\n",
      "cobra/core/reaction.py:440 \u001b[1;31mUserWarning\u001b[0m: uppercase AND/OR found in rule '( Cre01.g045903.t1.1 OR Cre12.g557750.t1.1 OR Cre03.g205050.t1.2 OR Cre09.g386912.t1.1 OR Cre06.g299050.t1.2 OR Cre02.g079050.t1.1 )' for '<Reaction ACOADAGAT1601819Z160 at 0x7f95521d4f28>'\n",
      "cobra/core/reaction.py:440 \u001b[1;31mUserWarning\u001b[0m: uppercase AND/OR found in rule '( Cre01.g045903.t1.1 OR Cre12.g557750.t1.1 OR Cre03.g205050.t1.2 OR Cre09.g386912.t1.1 OR Cre06.g299050.t1.2 OR Cre02.g079050.t1.1 )' for '<Reaction ACOADAGAT1601819Z180 at 0x7f95521d4ef0>'\n",
      "cobra/core/reaction.py:440 \u001b[1;31mUserWarning\u001b[0m: uppercase AND/OR found in rule '( Cre01.g045903.t1.1 OR Cre12.g557750.t1.1 OR Cre03.g205050.t1.2 OR Cre09.g386912.t1.1 OR Cre06.g299050.t1.2 OR Cre02.g079050.t1.1 )' for '<Reaction ACOADAGAT1601819Z18111Z at 0x7f95521d4c50>'\n",
      "cobra/core/reaction.py:440 \u001b[1;31mUserWarning\u001b[0m: uppercase AND/OR found in rule '( Cre01.g045903.t1.1 OR Cre12.g557750.t1.1 OR Cre03.g205050.t1.2 OR Cre09.g386912.t1.1 OR Cre06.g299050.t1.2 OR Cre02.g079050.t1.1 )' for '<Reaction ACOADAGAT1601819Z1819Z at 0x7f95521d6668>'\n",
      "cobra/core/reaction.py:440 \u001b[1;31mUserWarning\u001b[0m: uppercase AND/OR found in rule '( Cre01.g045903.t1.1 OR Cre12.g557750.t1.1 OR Cre03.g205050.t1.2 OR Cre09.g386912.t1.1 OR Cre06.g299050.t1.2 OR Cre02.g079050.t1.1 )' for '<Reaction ACOADAGAT1601819Z1835Z9Z12Z at 0x7f95521d68d0>'\n",
      "cobra/core/reaction.py:440 \u001b[1;31mUserWarning\u001b[0m: uppercase AND/OR found in rule '( Cre01.g045903.t1.1 OR Cre12.g557750.t1.1 OR Cre03.g205050.t1.2 OR Cre09.g386912.t1.1 OR Cre06.g299050.t1.2 OR Cre02.g079050.t1.1 )' for '<Reaction ACOADAGAT1601819Z1845Z9Z12Z15Z at 0x7f95521d6b38>'\n",
      "cobra/core/reaction.py:440 \u001b[1;31mUserWarning\u001b[0m: uppercase AND/OR found in rule '( Cre01.g045903.t1.1 OR Cre12.g557750.t1.1 OR Cre03.g205050.t1.2 OR Cre09.g386912.t1.1 OR Cre06.g299050.t1.2 OR Cre02.g079050.t1.1 )' for '<Reaction ACOADAGAT1801819Z160 at 0x7f95521d6dd8>'\n",
      "cobra/core/reaction.py:440 \u001b[1;31mUserWarning\u001b[0m: uppercase AND/OR found in rule '( Cre01.g045903.t1.1 OR Cre12.g557750.t1.1 OR Cre03.g205050.t1.2 OR Cre09.g386912.t1.1 OR Cre06.g299050.t1.2 OR Cre02.g079050.t1.1 )' for '<Reaction ACOADAGAT1801819Z180 at 0x7f95521d6da0>'\n",
      "cobra/core/reaction.py:440 \u001b[1;31mUserWarning\u001b[0m: uppercase AND/OR found in rule '( Cre01.g045903.t1.1 OR Cre12.g557750.t1.1 OR Cre03.g205050.t1.2 OR Cre09.g386912.t1.1 OR Cre06.g299050.t1.2 OR Cre02.g079050.t1.1 )' for '<Reaction ACOADAGAT1801819Z18111Z at 0x7f95521d6b00>'\n",
      "cobra/core/reaction.py:440 \u001b[1;31mUserWarning\u001b[0m: uppercase AND/OR found in rule '( Cre01.g045903.t1.1 OR Cre12.g557750.t1.1 OR Cre03.g205050.t1.2 OR Cre09.g386912.t1.1 OR Cre06.g299050.t1.2 OR Cre02.g079050.t1.1 )' for '<Reaction ACOADAGAT1801819Z1819Z at 0x7f95521da518>'\n",
      "cobra/core/reaction.py:440 \u001b[1;31mUserWarning\u001b[0m: uppercase AND/OR found in rule '( Cre01.g045903.t1.1 OR Cre12.g557750.t1.1 OR Cre03.g205050.t1.2 OR Cre09.g386912.t1.1 OR Cre06.g299050.t1.2 OR Cre02.g079050.t1.1 )' for '<Reaction ACOADAGAT1801819Z1835Z9Z12Z at 0x7f95521da780>'\n",
      "cobra/core/reaction.py:440 \u001b[1;31mUserWarning\u001b[0m: uppercase AND/OR found in rule '( Cre01.g045903.t1.1 OR Cre12.g557750.t1.1 OR Cre03.g205050.t1.2 OR Cre09.g386912.t1.1 OR Cre06.g299050.t1.2 OR Cre02.g079050.t1.1 )' for '<Reaction ACOADAGAT1801819Z1845Z9Z12Z15Z at 0x7f95521da9e8>'\n",
      "cobra/core/reaction.py:440 \u001b[1;31mUserWarning\u001b[0m: uppercase AND/OR found in rule '( Cre01.g045903.t1.1 OR Cre12.g557750.t1.1 OR Cre03.g205050.t1.2 OR Cre09.g386912.t1.1 OR Cre06.g299050.t1.2 OR Cre02.g079050.t1.1 )' for '<Reaction ACOADAGAT18111Z18111Z160 at 0x7f95521dac88>'\n",
      "cobra/core/reaction.py:440 \u001b[1;31mUserWarning\u001b[0m: uppercase AND/OR found in rule '( Cre01.g045903.t1.1 OR Cre12.g557750.t1.1 OR Cre03.g205050.t1.2 OR Cre09.g386912.t1.1 OR Cre06.g299050.t1.2 OR Cre02.g079050.t1.1 )' for '<Reaction ACOADAGAT18111Z18111Z180 at 0x7f95521daef0>'\n",
      "cobra/core/reaction.py:440 \u001b[1;31mUserWarning\u001b[0m: uppercase AND/OR found in rule '( Cre01.g045903.t1.1 OR Cre12.g557750.t1.1 OR Cre03.g205050.t1.2 OR Cre09.g386912.t1.1 OR Cre06.g299050.t1.2 OR Cre02.g079050.t1.1 )' for '<Reaction ACOADAGAT18111Z18111Z18111Z at 0x7f95521daeb8>'\n",
      "cobra/core/reaction.py:440 \u001b[1;31mUserWarning\u001b[0m: uppercase AND/OR found in rule '( Cre01.g045903.t1.1 OR Cre12.g557750.t1.1 OR Cre03.g205050.t1.2 OR Cre09.g386912.t1.1 OR Cre06.g299050.t1.2 OR Cre02.g079050.t1.1 )' for '<Reaction ACOADAGAT18111Z18111Z1819Z at 0x7f95521daf98>'\n",
      "cobra/core/reaction.py:440 \u001b[1;31mUserWarning\u001b[0m: uppercase AND/OR found in rule '( Cre01.g045903.t1.1 OR Cre12.g557750.t1.1 OR Cre03.g205050.t1.2 OR Cre09.g386912.t1.1 OR Cre06.g299050.t1.2 OR Cre02.g079050.t1.1 )' for '<Reaction ACOADAGAT18111Z18111Z1835Z9Z12Z at 0x7f95521de630>'\n",
      "cobra/core/reaction.py:440 \u001b[1;31mUserWarning\u001b[0m: uppercase AND/OR found in rule '( Cre01.g045903.t1.1 OR Cre12.g557750.t1.1 OR Cre03.g205050.t1.2 OR Cre09.g386912.t1.1 OR Cre06.g299050.t1.2 OR Cre02.g079050.t1.1 )' for '<Reaction ACOADAGAT18111Z18111Z1845Z9Z12Z15Z at 0x7f95521de898>'\n",
      "cobra/core/reaction.py:440 \u001b[1;31mUserWarning\u001b[0m: uppercase AND/OR found in rule '( Cre01.g045903.t1.1 OR Cre12.g557750.t1.1 OR Cre03.g205050.t1.2 OR Cre09.g386912.t1.1 OR Cre06.g299050.t1.2 OR Cre02.g079050.t1.1 )' for '<Reaction ACOADAGAT18111Z1819Z160 at 0x7f95521deb38>'\n",
      "cobra/core/reaction.py:440 \u001b[1;31mUserWarning\u001b[0m: uppercase AND/OR found in rule '( Cre01.g045903.t1.1 OR Cre12.g557750.t1.1 OR Cre03.g205050.t1.2 OR Cre09.g386912.t1.1 OR Cre06.g299050.t1.2 OR Cre02.g079050.t1.1 )' for '<Reaction ACOADAGAT18111Z1819Z180 at 0x7f95521deda0>'\n",
      "cobra/core/reaction.py:440 \u001b[1;31mUserWarning\u001b[0m: uppercase AND/OR found in rule '( Cre01.g045903.t1.1 OR Cre12.g557750.t1.1 OR Cre03.g205050.t1.2 OR Cre09.g386912.t1.1 OR Cre06.g299050.t1.2 OR Cre02.g079050.t1.1 )' for '<Reaction ACOADAGAT18111Z1819Z18111Z at 0x7f95521defd0>'\n",
      "cobra/core/reaction.py:440 \u001b[1;31mUserWarning\u001b[0m: uppercase AND/OR found in rule '( Cre01.g045903.t1.1 OR Cre12.g557750.t1.1 OR Cre03.g205050.t1.2 OR Cre09.g386912.t1.1 OR Cre06.g299050.t1.2 OR Cre02.g079050.t1.1 )' for '<Reaction ACOADAGAT18111Z1819Z1819Z at 0x7f95521dee48>'\n",
      "cobra/core/reaction.py:440 \u001b[1;31mUserWarning\u001b[0m: uppercase AND/OR found in rule '( Cre01.g045903.t1.1 OR Cre12.g557750.t1.1 OR Cre03.g205050.t1.2 OR Cre09.g386912.t1.1 OR Cre06.g299050.t1.2 OR Cre02.g079050.t1.1 )' for '<Reaction ACOADAGAT18111Z1819Z1835Z9Z12Z at 0x7f95521e44e0>'\n",
      "cobra/core/reaction.py:440 \u001b[1;31mUserWarning\u001b[0m: uppercase AND/OR found in rule '( Cre01.g045903.t1.1 OR Cre12.g557750.t1.1 OR Cre03.g205050.t1.2 OR Cre09.g386912.t1.1 OR Cre06.g299050.t1.2 OR Cre02.g079050.t1.1 )' for '<Reaction ACOADAGAT18111Z1819Z1845Z9Z12Z15Z at 0x7f95521e4748>'\n",
      "cobra/core/reaction.py:440 \u001b[1;31mUserWarning\u001b[0m: uppercase AND/OR found in rule '( Cre01.g045903.t1.1 OR Cre12.g557750.t1.1 OR Cre03.g205050.t1.2 OR Cre09.g386912.t1.1 OR Cre06.g299050.t1.2 OR Cre02.g079050.t1.1 )' for '<Reaction ACOADAGAT1819Z18111Z160 at 0x7f95521e49e8>'\n",
      "cobra/core/reaction.py:440 \u001b[1;31mUserWarning\u001b[0m: uppercase AND/OR found in rule '( Cre01.g045903.t1.1 OR Cre12.g557750.t1.1 OR Cre03.g205050.t1.2 OR Cre09.g386912.t1.1 OR Cre06.g299050.t1.2 OR Cre02.g079050.t1.1 )' for '<Reaction ACOADAGAT1819Z18111Z180 at 0x7f95521e4c50>'\n",
      "cobra/core/reaction.py:440 \u001b[1;31mUserWarning\u001b[0m: uppercase AND/OR found in rule '( Cre01.g045903.t1.1 OR Cre12.g557750.t1.1 OR Cre03.g205050.t1.2 OR Cre09.g386912.t1.1 OR Cre06.g299050.t1.2 OR Cre02.g079050.t1.1 )' for '<Reaction ACOADAGAT1819Z18111Z18111Z at 0x7f95521e4e80>'\n",
      "cobra/core/reaction.py:440 \u001b[1;31mUserWarning\u001b[0m: uppercase AND/OR found in rule '( Cre01.g045903.t1.1 OR Cre12.g557750.t1.1 OR Cre03.g205050.t1.2 OR Cre09.g386912.t1.1 OR Cre06.g299050.t1.2 OR Cre02.g079050.t1.1 )' for '<Reaction ACOADAGAT1819Z18111Z1819Z at 0x7f95521e4cf8>'\n",
      "cobra/core/reaction.py:440 \u001b[1;31mUserWarning\u001b[0m: uppercase AND/OR found in rule '( Cre01.g045903.t1.1 OR Cre12.g557750.t1.1 OR Cre03.g205050.t1.2 OR Cre09.g386912.t1.1 OR Cre06.g299050.t1.2 OR Cre02.g079050.t1.1 )' for '<Reaction ACOADAGAT1819Z18111Z1835Z9Z12Z at 0x7f95521e4f60>'\n",
      "cobra/core/reaction.py:440 \u001b[1;31mUserWarning\u001b[0m: uppercase AND/OR found in rule '( Cre01.g045903.t1.1 OR Cre12.g557750.t1.1 OR Cre03.g205050.t1.2 OR Cre09.g386912.t1.1 OR Cre06.g299050.t1.2 OR Cre02.g079050.t1.1 )' for '<Reaction ACOADAGAT1819Z18111Z1845Z9Z12Z15Z at 0x7f95521e95f8>'\n",
      "cobra/core/reaction.py:440 \u001b[1;31mUserWarning\u001b[0m: uppercase AND/OR found in rule '( Cre01.g045903.t1.1 OR Cre12.g557750.t1.1 OR Cre03.g205050.t1.2 OR Cre09.g386912.t1.1 OR Cre06.g299050.t1.2 OR Cre02.g079050.t1.1 )' for '<Reaction ACOADAGAT1819Z1819Z160 at 0x7f95521e9898>'\n",
      "cobra/core/reaction.py:440 \u001b[1;31mUserWarning\u001b[0m: uppercase AND/OR found in rule '( Cre01.g045903.t1.1 OR Cre12.g557750.t1.1 OR Cre03.g205050.t1.2 OR Cre09.g386912.t1.1 OR Cre06.g299050.t1.2 OR Cre02.g079050.t1.1 )' for '<Reaction ACOADAGAT1819Z1819Z180 at 0x7f95521e9b00>'\n",
      "cobra/core/reaction.py:440 \u001b[1;31mUserWarning\u001b[0m: uppercase AND/OR found in rule '( Cre01.g045903.t1.1 OR Cre12.g557750.t1.1 OR Cre03.g205050.t1.2 OR Cre09.g386912.t1.1 OR Cre06.g299050.t1.2 OR Cre02.g079050.t1.1 )' for '<Reaction ACOADAGAT1819Z1819Z18111Z at 0x7f95521e9d30>'\n",
      "cobra/core/reaction.py:440 \u001b[1;31mUserWarning\u001b[0m: uppercase AND/OR found in rule '( Cre01.g045903.t1.1 OR Cre12.g557750.t1.1 OR Cre03.g205050.t1.2 OR Cre09.g386912.t1.1 OR Cre06.g299050.t1.2 OR Cre02.g079050.t1.1 )' for '<Reaction ACOADAGAT1819Z1819Z1819Z at 0x7f95521e9f98>'\n",
      "cobra/core/reaction.py:440 \u001b[1;31mUserWarning\u001b[0m: uppercase AND/OR found in rule '( Cre01.g045903.t1.1 OR Cre12.g557750.t1.1 OR Cre03.g205050.t1.2 OR Cre09.g386912.t1.1 OR Cre06.g299050.t1.2 OR Cre02.g079050.t1.1 )' for '<Reaction ACOADAGAT1819Z1819Z1835Z9Z12Z at 0x7f95521e9e10>'\n",
      "cobra/core/reaction.py:440 \u001b[1;31mUserWarning\u001b[0m: uppercase AND/OR found in rule '( Cre01.g045903.t1.1 OR Cre12.g557750.t1.1 OR Cre03.g205050.t1.2 OR Cre09.g386912.t1.1 OR Cre06.g299050.t1.2 OR Cre02.g079050.t1.1 )' for '<Reaction ACOADAGAT1819Z1819Z1845Z9Z12Z15Z at 0x7f95521ec4a8>'\n",
      "cobra/core/reaction.py:440 \u001b[1;31mUserWarning\u001b[0m: uppercase AND/OR found in rule '( Cre13.g577100.t1.2 AND Cre09.g398289.t1.1 )' for '<Reaction AGPAT1601819Zh at 0x7f95521d4390>'\n",
      "cobra/core/reaction.py:440 \u001b[1;31mUserWarning\u001b[0m: uppercase AND/OR found in rule '( Cre13.g577100.t1.2 AND Cre09.g398289.t1.1 )' for '<Reaction AGPAT160h at 0x7f95521ec710>'\n",
      "cobra/core/reaction.py:440 \u001b[1;31mUserWarning\u001b[0m: uppercase AND/OR found in rule '( Cre13.g577100.t1.2 AND Cre09.g398289.t1.1 )' for '<Reaction AGPAT1801819Zh at 0x7f95521f26a0>'\n",
      "cobra/core/reaction.py:440 \u001b[1;31mUserWarning\u001b[0m: uppercase AND/OR found in rule '( Cre13.g577100.t1.2 AND Cre09.g398289.t1.1 )' for '<Reaction AGPAT18111Z160h at 0x7f95521f2860>'\n",
      "cobra/core/reaction.py:440 \u001b[1;31mUserWarning\u001b[0m: uppercase AND/OR found in rule '( Cre13.g577100.t1.2 AND Cre09.g398289.t1.1 )' for '<Reaction AGPAT18111Z1819Zh at 0x7f95521f2940>'\n",
      "cobra/core/reaction.py:440 \u001b[1;31mUserWarning\u001b[0m: uppercase AND/OR found in rule '( Cre13.g577100.t1.2 AND Cre09.g398289.t1.1 )' for '<Reaction AGPAT1819Z160h at 0x7f95521f2b38>'\n",
      "cobra/core/reaction.py:440 \u001b[1;31mUserWarning\u001b[0m: uppercase AND/OR found in rule '( Cre13.g577100.t1.2 AND Cre09.g398289.t1.1 )' for '<Reaction AGPAT1819Z1619Zh at 0x7f95521f2cc0>'\n",
      "cobra/core/reaction.py:440 \u001b[1;31mUserWarning\u001b[0m: uppercase AND/OR found in rule '( Cre13.g577100.t1.2 AND Cre09.g398289.t1.1 )' for '<Reaction AGPAT1819Z18111Zh at 0x7f95521f2e48>'\n",
      "cobra/core/reaction.py:440 \u001b[1;31mUserWarning\u001b[0m: uppercase AND/OR found in rule '( Cre13.g577100.t1.2 AND Cre09.g398289.t1.1 )' for '<Reaction AGPAT1819Z1819Zh at 0x7f95521f2fd0>'\n",
      "cobra/core/reaction.py:440 \u001b[1;31mUserWarning\u001b[0m: uppercase AND/OR found in rule '( Cre13.g590500.t1.1 OR Cre17.g711150.t1.2 OR Cre06.g288650.t1.2 )' for '<Reaction ASQDCADS1829Z12Z160 at 0x7f95521f6c18>'\n",
      "cobra/core/reaction.py:440 \u001b[1;31mUserWarning\u001b[0m: uppercase AND/OR found in rule '( Cre01.g037600.t1.1 OR Cre01.g037650.t1.2 OR Cre01.g037700.t1.2 OR Cre13.g590500.t1.1 OR Cre17.g711150.t1.2 OR Cre06.g288650.t1.2 )' for '<Reaction ASQDCADS1839Z12Z15Z160 at 0x7f95521f6d68>'\n",
      "cobra/core/reaction.py:440 \u001b[1;31mUserWarning\u001b[0m: uppercase AND/OR found in rule '( Cre13.g590500.t1.1 OR Cre17.g711150.t1.2 OR Cre06.g288650.t1.2 )' for '<Reaction ASQDPADS1829Z12Z160 at 0x7f95521f6eb8>'\n",
      "cobra/core/reaction.py:440 \u001b[1;31mUserWarning\u001b[0m: uppercase AND/OR found in rule '( Cre01.g037600.t1.1 OR Cre01.g037650.t1.2 OR Cre01.g037700.t1.2 OR Cre13.g590500.t1.1 OR Cre17.g711150.t1.2 OR Cre06.g288650.t1.2 )' for '<Reaction ASQDPADS1839Z12Z15Z160 at 0x7f95521f2518>'\n",
      "cobra/core/reaction.py:440 \u001b[1;31mUserWarning\u001b[0m: uppercase AND/OR found in rule '( Cre01.g002400.t1.1 OR Cre03.g144524.t1.1 OR Cre14.g611552.t1.1 OR Cre14.g615550.t1.1 OR Cre09.g391986.t1.1 OR Cre03.g193500.t1.2 OR Cre05.g234801.t1.1 OR Cre06.g275150.t1.2 OR Cre07.g325150.t1.1 OR ( Cre12.g541352.t1.1 OR Cre12.g541352.t2.1 ) OR Cre12.g498750.t1.1 OR Cre17.g698600.t1.1 OR Cre17.g699100.t1.1 OR Cre07.g322900.t1.1 )' for '<Reaction DAGAH16018111Z at 0x7f95521fa2b0>'\n",
      "cobra/core/reaction.py:440 \u001b[1;31mUserWarning\u001b[0m: uppercase AND/OR found in rule '( Cre01.g002400.t1.1 OR Cre03.g144524.t1.1 OR Cre14.g611552.t1.1 OR Cre14.g615550.t1.1 OR Cre09.g391986.t1.1 OR Cre03.g193500.t1.2 OR Cre05.g234801.t1.1 OR Cre06.g275150.t1.2 OR Cre07.g325150.t1.1 OR ( Cre12.g541352.t1.1 OR Cre12.g541352.t2.1 ) OR Cre12.g498750.t1.1 OR Cre17.g698600.t1.1 OR Cre17.g699100.t1.1 OR Cre07.g322900.t1.1 )' for '<Reaction DAGAH1601819Z at 0x7f95521fa4e0>'\n",
      "cobra/core/reaction.py:440 \u001b[1;31mUserWarning\u001b[0m: uppercase AND/OR found in rule '( Cre01.g002400.t1.1 OR Cre03.g144524.t1.1 OR Cre14.g611552.t1.1 OR Cre14.g615550.t1.1 OR Cre09.g391986.t1.1 OR Cre03.g193500.t1.2 OR Cre05.g234801.t1.1 OR Cre06.g275150.t1.2 OR Cre07.g325150.t1.1 OR ( Cre12.g541352.t1.1 OR Cre12.g541352.t2.1 ) OR Cre12.g498750.t1.1 OR Cre17.g698600.t1.1 OR Cre17.g699100.t1.1 OR Cre07.g322900.t1.1 )' for '<Reaction DAGAH1801819Z at 0x7f95521f23c8>'\n",
      "cobra/core/reaction.py:440 \u001b[1;31mUserWarning\u001b[0m: uppercase AND/OR found in rule '( Cre01.g002400.t1.1 OR Cre03.g144524.t1.1 OR Cre14.g611552.t1.1 OR Cre14.g615550.t1.1 OR Cre09.g391986.t1.1 OR Cre03.g193500.t1.2 OR Cre05.g234801.t1.1 OR Cre06.g275150.t1.2 OR Cre07.g325150.t1.1 OR ( Cre12.g541352.t1.1 OR Cre12.g541352.t2.1 ) OR Cre12.g498750.t1.1 OR Cre17.g698600.t1.1 OR Cre17.g699100.t1.1 OR Cre07.g322900.t1.1 )' for '<Reaction DAGAH18111Z18111Z at 0x7f95521fa7b8>'\n",
      "cobra/core/reaction.py:440 \u001b[1;31mUserWarning\u001b[0m: uppercase AND/OR found in rule '( Cre01.g002400.t1.1 OR Cre03.g144524.t1.1 OR Cre14.g611552.t1.1 OR Cre14.g615550.t1.1 OR Cre09.g391986.t1.1 OR Cre03.g193500.t1.2 OR Cre05.g234801.t1.1 OR Cre06.g275150.t1.2 OR Cre07.g325150.t1.1 OR ( Cre12.g541352.t1.1 OR Cre12.g541352.t2.1 ) OR Cre12.g498750.t1.1 OR Cre17.g698600.t1.1 OR Cre17.g699100.t1.1 OR Cre07.g322900.t1.1 )' for '<Reaction DAGAH18111Z1819Z at 0x7f95521fa908>'\n",
      "cobra/core/reaction.py:440 \u001b[1;31mUserWarning\u001b[0m: uppercase AND/OR found in rule '( Cre01.g002400.t1.1 OR Cre03.g144524.t1.1 OR Cre14.g611552.t1.1 OR Cre14.g615550.t1.1 OR Cre09.g391986.t1.1 OR Cre03.g193500.t1.2 OR Cre05.g234801.t1.1 OR Cre06.g275150.t1.2 OR Cre07.g325150.t1.1 OR ( Cre12.g541352.t1.1 OR Cre12.g541352.t2.1 ) OR Cre12.g498750.t1.1 OR Cre17.g698600.t1.1 OR Cre17.g699100.t1.1 OR Cre07.g322900.t1.1 )' for '<Reaction DAGAH1819Z18111Z at 0x7f95521faac8>'\n",
      "cobra/core/reaction.py:440 \u001b[1;31mUserWarning\u001b[0m: uppercase AND/OR found in rule '( Cre01.g002400.t1.1 OR Cre03.g144524.t1.1 OR Cre14.g611552.t1.1 OR Cre14.g615550.t1.1 OR Cre09.g391986.t1.1 OR Cre03.g193500.t1.2 OR Cre05.g234801.t1.1 OR Cre06.g275150.t1.2 OR Cre07.g325150.t1.1 OR ( Cre12.g541352.t1.1 OR Cre12.g541352.t2.1 ) OR Cre12.g498750.t1.1 OR Cre17.g698600.t1.1 OR Cre17.g699100.t1.1 OR Cre07.g322900.t1.1 )' for '<Reaction DAGAH1819Z1819Z at 0x7f95521fad68>'\n",
      "cobra/core/reaction.py:440 \u001b[1;31mUserWarning\u001b[0m: uppercase AND/OR found in rule '( Cre07.g312400.t1.1 OR Cre07.g325550.t1.1 )' for '<Reaction DAGK16018111Z at 0x7f95521faeb8>'\n",
      "cobra/core/reaction.py:440 \u001b[1;31mUserWarning\u001b[0m: uppercase AND/OR found in rule '( Cre07.g312400.t1.1 OR Cre07.g325550.t1.1 )' for '<Reaction DAGK1601819Z at 0x7f95521faf28>'\n",
      "cobra/core/reaction.py:440 \u001b[1;31mUserWarning\u001b[0m: uppercase AND/OR found in rule '( Cre07.g312400.t1.1 OR Cre07.g325550.t1.1 )' for '<Reaction DAGK1601819Zh at 0x7f95521fb828>'\n",
      "cobra/core/reaction.py:440 \u001b[1;31mUserWarning\u001b[0m: uppercase AND/OR found in rule '( Cre07.g312400.t1.1 OR Cre07.g325550.t1.1 )' for '<Reaction DAGK160h at 0x7f95521fbcc0>'\n",
      "cobra/core/reaction.py:440 \u001b[1;31mUserWarning\u001b[0m: uppercase AND/OR found in rule '( Cre07.g312400.t1.1 OR Cre07.g325550.t1.1 )' for '<Reaction DAGK1801819Z at 0x7f95521fbd30>'\n",
      "cobra/core/reaction.py:440 \u001b[1;31mUserWarning\u001b[0m: uppercase AND/OR found in rule '( Cre07.g312400.t1.1 OR Cre07.g325550.t1.1 )' for '<Reaction DAGK1801819Zh at 0x7f9552201668>'\n",
      "cobra/core/reaction.py:440 \u001b[1;31mUserWarning\u001b[0m: uppercase AND/OR found in rule '( Cre07.g312400.t1.1 OR Cre07.g325550.t1.1 )' for '<Reaction DAGK181 at 0x7f95521fd518>'\n",
      "cobra/core/reaction.py:440 \u001b[1;31mUserWarning\u001b[0m: uppercase AND/OR found in rule '( Cre07.g312400.t1.1 OR Cre07.g325550.t1.1 )' for '<Reaction DAGK18111Z160h at 0x7f9552201588>'\n",
      "cobra/core/reaction.py:440 \u001b[1;31mUserWarning\u001b[0m: uppercase AND/OR found in rule '( Cre07.g312400.t1.1 OR Cre07.g325550.t1.1 )' for '<Reaction DAGK18111Z1819Z at 0x7f95521fd278>'\n",
      "cobra/core/reaction.py:440 \u001b[1;31mUserWarning\u001b[0m: uppercase AND/OR found in rule '( Cre07.g312400.t1.1 OR Cre07.g325550.t1.1 )' for '<Reaction DAGK18111Z1819Zh at 0x7f95521fd438>'\n",
      "cobra/core/reaction.py:440 \u001b[1;31mUserWarning\u001b[0m: uppercase AND/OR found in rule '( Cre07.g312400.t1.1 OR Cre07.g325550.t1.1 )' for '<Reaction DAGK1819Z160h at 0x7f95521fd6a0>'\n",
      "cobra/core/reaction.py:440 \u001b[1;31mUserWarning\u001b[0m: uppercase AND/OR found in rule '( Cre07.g312400.t1.1 OR Cre07.g325550.t1.1 )' for '<Reaction DAGK1819Z1619Zh at 0x7f95521fd7f0>'\n",
      "cobra/core/reaction.py:440 \u001b[1;31mUserWarning\u001b[0m: uppercase AND/OR found in rule '( Cre07.g312400.t1.1 OR Cre07.g325550.t1.1 )' for '<Reaction DAGK1819Z18111Z at 0x7f95521fd9b0>'\n",
      "cobra/core/reaction.py:440 \u001b[1;31mUserWarning\u001b[0m: uppercase AND/OR found in rule '( Cre07.g312400.t1.1 OR Cre07.g325550.t1.1 )' for '<Reaction DAGK1819Z18111Zh at 0x7f95521fdb70>'\n",
      "cobra/core/reaction.py:440 \u001b[1;31mUserWarning\u001b[0m: uppercase AND/OR found in rule '( Cre07.g312400.t1.1 OR Cre07.g325550.t1.1 )' for '<Reaction DAGK1819Z1819Z at 0x7f95521fdd30>'\n",
      "cobra/core/reaction.py:440 \u001b[1;31mUserWarning\u001b[0m: uppercase AND/OR found in rule '( Cre07.g312400.t1.1 OR Cre07.g325550.t1.1 )' for '<Reaction DAGK1819Z1819Zh at 0x7f95521fdef0>'\n",
      "cobra/core/reaction.py:440 \u001b[1;31mUserWarning\u001b[0m: uppercase AND/OR found in rule '( Cre16.g658400.t1.2 OR Cre17.g700950.t1.2 OR Cre03.g183850.t1.2 OR Cre06.g306350.t1.2 OR ( Cre07.g334800.t1.2 OR Cre07.g334800.t2.1 ) )' for '<Reaction DGDGD4DS1819Z1634Z7Z10Z at 0x7f95521fdfd0>'\n",
      "cobra/core/reaction.py:440 \u001b[1;31mUserWarning\u001b[0m: uppercase AND/OR found in rule '( Cre16.g658400.t1.2 OR Cre17.g700950.t1.2 OR Cre03.g183850.t1.2 OR Cre06.g306350.t1.2 OR ( Cre07.g334800.t1.2 OR Cre07.g334800.t2.1 ) )' for '<Reaction DGDGD4DS1829Z12Z1634Z7Z10Z at 0x7f95521832b0>'\n",
      "cobra/core/reaction.py:440 \u001b[1;31mUserWarning\u001b[0m: uppercase AND/OR found in rule '( Cre16.g658400.t1.2 OR Cre17.g700950.t1.2 OR Cre03.g183850.t1.2 OR Cre06.g306350.t1.2 OR ( Cre07.g334800.t1.2 OR Cre07.g334800.t2.1 ) )' for '<Reaction DGDGD4DS1839Z12Z15Z1634Z7Z10Z at 0x7f9552183630>'\n",
      "cobra/core/reaction.py:440 \u001b[1;31mUserWarning\u001b[0m: uppercase AND/OR found in rule '( Cre16.g658400.t1.2 OR Cre17.g700950.t1.2 OR Cre03.g183850.t1.2 OR Cre06.g306350.t1.2 OR ( Cre07.g334800.t1.2 OR Cre07.g334800.t2.1 ) )' for '<Reaction DGDGD4DS1839Z12Z15Z1644Z7Z10Z13Z at 0x7f9552183898>'\n",
      "cobra/core/reaction.py:440 \u001b[1;31mUserWarning\u001b[0m: uppercase AND/OR found in rule '( ( Cre13.g590500.t1.1 OR Cre09.g397250.t1.2 OR Cre06.g288650.t1.2 ) AND ( Cre16.g658400.t1.2 OR Cre17.g700950.t1.2 OR Cre03.g183850.t1.2 OR Cre06.g306350.t1.2 OR ( Cre07.g334800.t1.2 OR Cre07.g334800.t2.1 ) ) )' for '<Reaction DGDGD7DS1819Z1617Z at 0x7f9552183a20>'\n",
      "cobra/core/reaction.py:440 \u001b[1;31mUserWarning\u001b[0m: uppercase AND/OR found in rule '( ( Cre13.g590500.t1.1 OR Cre09.g397250.t1.2 OR Cre06.g288650.t1.2 ) AND ( Cre16.g658400.t1.2 OR Cre17.g700950.t1.2 OR Cre03.g183850.t1.2 OR Cre06.g306350.t1.2 OR ( Cre07.g334800.t1.2 OR Cre07.g334800.t2.1 ) ) )' for '<Reaction DGDGD7DS1829Z12Z1617Z at 0x7f9552183c18>'\n",
      "cobra/core/reaction.py:440 \u001b[1;31mUserWarning\u001b[0m: uppercase AND/OR found in rule '( Cre01.g038600.t1.2 AND ( Cre16.g658400.t1.2 OR Cre17.g700950.t1.2 OR Cre03.g183850.t1.2 OR Cre06.g306350.t1.2 OR ( Cre07.g334800.t1.2 OR Cre07.g334800.t2.1 ) ) )' for '<Reaction DGDGW3DS1819Z1637Z10Z13Z at 0x7f9552254710>'\n",
      "cobra/core/reaction.py:440 \u001b[1;31mUserWarning\u001b[0m: uppercase AND/OR found in rule '( Cre01.g038600.t1.2 AND ( Cre16.g658400.t1.2 OR Cre17.g700950.t1.2 OR Cre03.g183850.t1.2 OR Cre06.g306350.t1.2 OR ( Cre07.g334800.t1.2 OR Cre07.g334800.t2.1 ) ) )' for '<Reaction DGDGW3DS1829Z12Z1637Z10Z13Z at 0x7f9552183390>'\n",
      "cobra/core/reaction.py:440 \u001b[1;31mUserWarning\u001b[0m: uppercase AND/OR found in rule '( Cre01.g038600.t1.2 AND ( Cre16.g658400.t1.2 OR Cre17.g700950.t1.2 OR Cre03.g183850.t1.2 OR Cre06.g306350.t1.2 OR ( Cre07.g334800.t1.2 OR Cre07.g334800.t2.1 ) ) )' for '<Reaction DGDGW3DS1839Z12Z15Z160 at 0x7f955226c518>'\n",
      "cobra/core/reaction.py:440 \u001b[1;31mUserWarning\u001b[0m: uppercase AND/OR found in rule '( Cre01.g038600.t1.2 AND ( Cre16.g658400.t1.2 OR Cre17.g700950.t1.2 OR Cre03.g183850.t1.2 OR Cre06.g306350.t1.2 OR ( Cre07.g334800.t1.2 OR Cre07.g334800.t2.1 ) ) )' for '<Reaction DGDGW3DS1839Z12Z15Z1627Z10Z at 0x7f955226c978>'\n",
      "cobra/core/reaction.py:440 \u001b[1;31mUserWarning\u001b[0m: uppercase AND/OR found in rule '( Cre01.g038600.t1.2 AND ( Cre16.g658400.t1.2 OR Cre17.g700950.t1.2 OR Cre03.g183850.t1.2 OR Cre06.g306350.t1.2 OR ( Cre07.g334800.t1.2 OR Cre07.g334800.t2.1 ) ) )' for '<Reaction DGDGW3DS1839Z12Z15Z1634Z7Z10Z at 0x7f955226c898>'\n",
      "cobra/core/reaction.py:440 \u001b[1;31mUserWarning\u001b[0m: uppercase AND/OR found in rule '( Cre01.g038600.t1.2 AND ( Cre16.g658400.t1.2 OR Cre17.g700950.t1.2 OR Cre03.g183850.t1.2 OR Cre06.g306350.t1.2 OR ( Cre07.g334800.t1.2 OR Cre07.g334800.t2.1 ) ) )' for '<Reaction DGDGW3DS1839Z12Z15Z1637Z10Z13Z1 at 0x7f955226cac8>'\n",
      "cobra/core/reaction.py:440 \u001b[1;31mUserWarning\u001b[0m: uppercase AND/OR found in rule '( Cre01.g038600.t1.2 AND ( Cre16.g658400.t1.2 OR Cre17.g700950.t1.2 OR Cre03.g183850.t1.2 OR Cre06.g306350.t1.2 OR ( Cre07.g334800.t1.2 OR Cre07.g334800.t2.1 ) ) )' for '<Reaction DGDGW3DS1839Z12Z15Z1637Z10Z13Z2 at 0x7f955226ce48>'\n",
      "cobra/core/reaction.py:440 \u001b[1;31mUserWarning\u001b[0m: uppercase AND/OR found in rule '( Cre01.g038600.t1.2 AND ( Cre16.g658400.t1.2 OR Cre17.g700950.t1.2 OR Cre03.g183850.t1.2 OR Cre06.g306350.t1.2 OR ( Cre07.g334800.t1.2 OR Cre07.g334800.t2.1 ) ) )' for '<Reaction DGDGW3DS1839Z12Z15Z1644Z7Z10Z13Z at 0x7f955226c6a0>'\n",
      "cobra/core/reaction.py:440 \u001b[1;31mUserWarning\u001b[0m: uppercase AND/OR found in rule '( ( Cre13.g590500.t1.1 OR Cre06.g288650.t1.2 ) AND ( Cre16.g658400.t1.2 OR Cre17.g700950.t1.2 OR Cre03.g183850.t1.2 OR Cre06.g306350.t1.2 OR ( Cre07.g334800.t1.2 OR Cre07.g334800.t2.1 ) ) )' for '<Reaction DGDGW6DS1819Z1627Z10Z at 0x7f955226c668>'\n",
      "cobra/core/reaction.py:440 \u001b[1;31mUserWarning\u001b[0m: uppercase AND/OR found in rule '( ( Cre13.g590500.t1.1 OR Cre06.g288650.t1.2 ) AND ( Cre16.g658400.t1.2 OR Cre17.g700950.t1.2 OR Cre03.g183850.t1.2 OR Cre06.g306350.t1.2 OR ( Cre07.g334800.t1.2 OR Cre07.g334800.t2.1 ) ) )' for '<Reaction DGDGW6DS1829Z12Z160 at 0x7f955226c6d8>'\n",
      "cobra/core/reaction.py:440 \u001b[1;31mUserWarning\u001b[0m: uppercase AND/OR found in rule '( ( Cre13.g590500.t1.1 OR Cre06.g288650.t1.2 ) AND ( Cre16.g658400.t1.2 OR Cre17.g700950.t1.2 OR Cre03.g183850.t1.2 OR Cre06.g306350.t1.2 OR ( Cre07.g334800.t1.2 OR Cre07.g334800.t2.1 ) ) )' for '<Reaction DGDGW6DS1829Z12Z1617Z at 0x7f95521dcc88>'\n",
      "cobra/core/reaction.py:440 \u001b[1;31mUserWarning\u001b[0m: uppercase AND/OR found in rule '( ( Cre13.g590500.t1.1 OR Cre06.g288650.t1.2 ) AND ( Cre16.g658400.t1.2 OR Cre17.g700950.t1.2 OR Cre03.g183850.t1.2 OR Cre06.g306350.t1.2 OR ( Cre07.g334800.t1.2 OR Cre07.g334800.t2.1 ) ) )' for '<Reaction DGDGW6DS1829Z12Z1619Z at 0x7f95521dcb38>'\n",
      "cobra/core/reaction.py:440 \u001b[1;31mUserWarning\u001b[0m: uppercase AND/OR found in rule '( ( Cre13.g590500.t1.1 OR Cre06.g288650.t1.2 ) AND ( Cre16.g658400.t1.2 OR Cre17.g700950.t1.2 OR Cre03.g183850.t1.2 OR Cre06.g306350.t1.2 OR ( Cre07.g334800.t1.2 OR Cre07.g334800.t2.1 ) ) )' for '<Reaction DGDGW6DS1829Z12Z1627Z10Z1 at 0x7f95521dc7b8>'\n",
      "cobra/core/reaction.py:440 \u001b[1;31mUserWarning\u001b[0m: uppercase AND/OR found in rule '( ( Cre13.g590500.t1.1 OR Cre06.g288650.t1.2 ) AND ( Cre16.g658400.t1.2 OR Cre17.g700950.t1.2 OR Cre03.g183850.t1.2 OR Cre06.g306350.t1.2 OR ( Cre07.g334800.t1.2 OR Cre07.g334800.t2.1 ) ) )' for '<Reaction DGDGW6DS1829Z12Z1627Z10Z2 at 0x7f95521dc438>'\n",
      "cobra/core/reaction.py:440 \u001b[1;31mUserWarning\u001b[0m: uppercase AND/OR found in rule '( ( Cre13.g590500.t1.1 OR Cre06.g288650.t1.2 ) AND ( Cre16.g658400.t1.2 OR Cre17.g700950.t1.2 OR Cre03.g183850.t1.2 OR Cre06.g306350.t1.2 OR ( Cre07.g334800.t1.2 OR Cre07.g334800.t2.1 ) ) )' for '<Reaction DGDGW6DS1829Z12Z1634Z7Z10Z at 0x7f95521dc0b8>'\n",
      "cobra/core/reaction.py:440 \u001b[1;31mUserWarning\u001b[0m: uppercase AND/OR found in rule '( ( Cre13.g590500.t1.1 OR Cre06.g288650.t1.2 ) AND ( Cre16.g658400.t1.2 OR Cre17.g700950.t1.2 OR Cre03.g183850.t1.2 OR Cre06.g306350.t1.2 OR ( Cre07.g334800.t1.2 OR Cre07.g334800.t2.1 ) ) )' for '<Reaction DGDGW6DS1829Z12Z1637Z10Z13Z at 0x7f9552185278>'\n",
      "cobra/core/reaction.py:440 \u001b[1;31mUserWarning\u001b[0m: uppercase AND/OR found in rule '( ( Cre10.g453600.t1.2 OR Cre10.g453600.t2.1 ) OR Cre13.g590500.t1.1 OR Cre17.g711150.t1.2 OR Cre06.g288650.t1.2 )' for '<Reaction DGTSD5DS1601835Z9Z12Z at 0x7f955346fd68>'\n",
      "cobra/core/reaction.py:440 \u001b[1;31mUserWarning\u001b[0m: uppercase AND/OR found in rule '( ( Cre10.g453600.t1.2 OR Cre10.g453600.t2.1 ) OR Cre13.g590500.t1.1 OR Cre17.g711150.t1.2 OR Cre06.g288650.t1.2 )' for '<Reaction DGTSD5DS18111Z1835Z9Z12Z at 0x7f95521855f8>'\n",
      "cobra/core/reaction.py:440 \u001b[1;31mUserWarning\u001b[0m: uppercase AND/OR found in rule '( ( Cre10.g453600.t1.2 OR Cre10.g453600.t2.1 ) OR Cre13.g590500.t1.1 OR Cre17.g711150.t1.2 OR Cre06.g288650.t1.2 )' for '<Reaction DGTSD5DS1819Z1835Z9Z12Z at 0x7f9552185ba8>'\n",
      "cobra/core/reaction.py:440 \u001b[1;31mUserWarning\u001b[0m: uppercase AND/OR found in rule '( ( Cre10.g453600.t1.2 OR Cre10.g453600.t2.1 ) OR Cre13.g590500.t1.1 OR Cre17.g711150.t1.2 OR Cre06.g288650.t1.2 )' for '<Reaction DGTSD5DS1829Z12Z1835Z9Z12Z at 0x7f955226c400>'\n",
      "cobra/core/reaction.py:440 \u001b[1;31mUserWarning\u001b[0m: uppercase AND/OR found in rule '( Cre13.g590500.t1.1 OR Cre17.g711150.t1.2 OR Cre06.g288650.t1.2 )' for '<Reaction DGTSDS1601829Z12Z at 0x7f9552197320>'\n",
      "cobra/core/reaction.py:440 \u001b[1;31mUserWarning\u001b[0m: uppercase AND/OR found in rule '( Cre01.g037600.t1.1 OR Cre01.g037650.t1.2 OR Cre01.g037700.t1.2 OR Cre13.g590500.t1.1 OR Cre17.g711150.t1.2 OR Cre06.g288650.t1.2 )' for '<Reaction DGTSDS1601845Z9Z12Z15Z at 0x7f95521a25f8>'\n",
      "cobra/core/reaction.py:440 \u001b[1;31mUserWarning\u001b[0m: uppercase AND/OR found in rule '( Cre13.g590500.t1.1 OR Cre17.g711150.t1.2 OR Cre06.g288650.t1.2 )' for '<Reaction DGTSDS18111Z1829Z12Z at 0x7f95521a2898>'\n",
      "cobra/core/reaction.py:440 \u001b[1;31mUserWarning\u001b[0m: uppercase AND/OR found in rule '( Cre01.g037600.t1.1 OR Cre01.g037650.t1.2 OR Cre01.g037700.t1.2 OR Cre13.g590500.t1.1 OR Cre17.g711150.t1.2 OR Cre06.g288650.t1.2 )' for '<Reaction DGTSDS18111Z1845Z9Z12Z15Z at 0x7f95521a2b38>'\n",
      "cobra/core/reaction.py:440 \u001b[1;31mUserWarning\u001b[0m: uppercase AND/OR found in rule '( Cre13.g590500.t1.1 OR Cre17.g711150.t1.2 OR Cre06.g288650.t1.2 )' for '<Reaction DGTSDS1819Z1829Z12Z at 0x7f95521a2dd8>'\n",
      "cobra/core/reaction.py:440 \u001b[1;31mUserWarning\u001b[0m: uppercase AND/OR found in rule '( Cre01.g037600.t1.1 OR Cre01.g037650.t1.2 OR Cre01.g037700.t1.2 OR Cre13.g590500.t1.1 OR Cre17.g711150.t1.2 OR Cre06.g288650.t1.2 )' for '<Reaction DGTSDS1819Z1845Z9Z12Z15Z at 0x7f95521a2fd0>'\n",
      "cobra/core/reaction.py:440 \u001b[1;31mUserWarning\u001b[0m: uppercase AND/OR found in rule '( Cre13.g590500.t1.1 OR Cre17.g711150.t1.2 OR Cre06.g288650.t1.2 )' for '<Reaction DGTSDS1829Z12Z18111Z at 0x7f95521a2f28>'\n",
      "cobra/core/reaction.py:440 \u001b[1;31mUserWarning\u001b[0m: uppercase AND/OR found in rule '( Cre13.g590500.t1.1 OR Cre17.g711150.t1.2 OR Cre06.g288650.t1.2 )' for '<Reaction DGTSDS1829Z12Z1819Z at 0x7f95521ac550>'\n",
      "cobra/core/reaction.py:440 \u001b[1;31mUserWarning\u001b[0m: uppercase AND/OR found in rule '( Cre13.g590500.t1.1 OR Cre17.g711150.t1.2 OR Cre06.g288650.t1.2 )' for '<Reaction DGTSDS1829Z12Z1829Z12Z1 at 0x7f95521ac828>'\n",
      "cobra/core/reaction.py:440 \u001b[1;31mUserWarning\u001b[0m: uppercase AND/OR found in rule '( Cre13.g590500.t1.1 OR Cre17.g711150.t1.2 OR Cre06.g288650.t1.2 )' for '<Reaction DGTSDS1829Z12Z1829Z12Z2 at 0x7f95521aca58>'\n",
      "cobra/core/reaction.py:440 \u001b[1;31mUserWarning\u001b[0m: uppercase AND/OR found in rule '( Cre13.g590500.t1.1 OR Cre17.g711150.t1.2 OR Cre06.g288650.t1.2 )' for '<Reaction DGTSDS1829Z12Z1835Z9Z12Z at 0x7f95521acd30>'\n",
      "cobra/core/reaction.py:440 \u001b[1;31mUserWarning\u001b[0m: uppercase AND/OR found in rule '( Cre01.g037600.t1.1 OR Cre01.g037650.t1.2 OR Cre01.g037700.t1.2 OR Cre13.g590500.t1.1 OR Cre17.g711150.t1.2 OR Cre06.g288650.t1.2 )' for '<Reaction DGTSDS1829Z12Z1845Z9Z12Z15Z1 at 0x7f95521acf60>'\n",
      "cobra/core/reaction.py:440 \u001b[1;31mUserWarning\u001b[0m: uppercase AND/OR found in rule '( Cre13.g590500.t1.1 OR Cre17.g711150.t1.2 OR Cre06.g288650.t1.2 )' for '<Reaction DGTSDS1829Z12Z1845Z9Z12Z15Z2 at 0x7f95521ace80>'\n",
      "cobra/core/reaction.py:440 \u001b[1;31mUserWarning\u001b[0m: uppercase AND/OR found in rule '( Cre01.g037600.t1.1 OR Cre01.g037650.t1.2 OR Cre01.g037700.t1.2 OR Cre13.g590500.t1.1 OR Cre17.g711150.t1.2 OR Cre06.g288650.t1.2 )' for '<Reaction DGTSDS1839Z12Z15Z18111Z at 0x7f95521b2400>'\n",
      "cobra/core/reaction.py:440 \u001b[1;31mUserWarning\u001b[0m: uppercase AND/OR found in rule '( Cre01.g037600.t1.1 OR Cre01.g037650.t1.2 OR Cre01.g037700.t1.2 OR Cre13.g590500.t1.1 OR Cre17.g711150.t1.2 OR Cre06.g288650.t1.2 )' for '<Reaction DGTSDS1839Z12Z15Z1819Z at 0x7f95521b2630>'\n",
      "cobra/core/reaction.py:440 \u001b[1;31mUserWarning\u001b[0m: uppercase AND/OR found in rule '( Cre01.g037600.t1.1 OR Cre01.g037650.t1.2 OR Cre01.g037700.t1.2 OR Cre13.g590500.t1.1 OR Cre17.g711150.t1.2 OR Cre06.g288650.t1.2 )' for '<Reaction DGTSDS1839Z12Z15Z1835Z9Z12Z at 0x7f95521b2860>'\n",
      "cobra/core/reaction.py:440 \u001b[1;31mUserWarning\u001b[0m: uppercase AND/OR found in rule '( Cre01.g037600.t1.1 OR Cre01.g037650.t1.2 OR Cre01.g037700.t1.2 OR Cre13.g590500.t1.1 OR Cre17.g711150.t1.2 OR Cre06.g288650.t1.2 )' for '<Reaction DGTSDS1839Z12Z15Z1845Z9Z12Z15Z1 at 0x7f95521b2b38>'\n",
      "cobra/core/reaction.py:440 \u001b[1;31mUserWarning\u001b[0m: uppercase AND/OR found in rule '( Cre01.g037600.t1.1 OR Cre01.g037650.t1.2 OR Cre01.g037700.t1.2 OR Cre13.g590500.t1.1 OR Cre17.g711150.t1.2 OR Cre06.g288650.t1.2 )' for '<Reaction DGTSDS1839Z12Z15Z1845Z9Z12Z15Z2 at 0x7f95521b2d68>'\n",
      "cobra/core/reaction.py:440 \u001b[1;31mUserWarning\u001b[0m: uppercase AND/OR found in rule '( Cre12.g507400.t1.2 OR ( Cre13.g566650.t1.2 OR Cre13.g566650.t2.1 ) OR Cre03.g182050.t1.2 OR Cre03.g211745.t1.1 OR Cre13.g586000.t1.2 OR Cre12.g500715.t1.2 )' for '<Reaction FACOAL180 at 0x7f95521b2c88>'\n",
      "cobra/core/reaction.py:440 \u001b[1;31mUserWarning\u001b[0m: uppercase AND/OR found in rule '( Cre12.g507400.t1.2 OR ( Cre13.g566650.t1.2 OR Cre13.g566650.t2.1 ) OR Cre03.g182050.t1.2 OR Cre03.g211745.t1.1 OR Cre13.g586000.t1.2 OR Cre12.g500715.t1.2 )' for '<Reaction FACOAL181 at 0x7f95521b2e10>'\n",
      "cobra/core/reaction.py:440 \u001b[1;31mUserWarning\u001b[0m: uppercase AND/OR found in rule '( Cre12.g507400.t1.2 OR ( Cre13.g566650.t1.2 OR Cre13.g566650.t2.1 ) OR Cre03.g182050.t1.2 OR Cre03.g211745.t1.1 OR Cre13.g586000.t1.2 OR Cre12.g500715.t1.2 )' for '<Reaction FACOAL18111Z at 0x7f95521bc630>'\n",
      "cobra/core/reaction.py:440 \u001b[1;31mUserWarning\u001b[0m: uppercase AND/OR found in rule '( Cre13.g577100.t1.2 AND Cre02.g143000.t1.2 )' for '<Reaction G3PAT160h at 0x7f95521bc9e8>'\n",
      "cobra/core/reaction.py:440 \u001b[1;31mUserWarning\u001b[0m: uppercase AND/OR found in rule '( Cre13.g577100.t1.2 AND Cre02.g143000.t1.2 )' for '<Reaction G3PAT180h at 0x7f95521bc8d0>'\n",
      "cobra/core/reaction.py:440 \u001b[1;31mUserWarning\u001b[0m: uppercase AND/OR found in rule '( Cre13.g577100.t1.2 AND Cre02.g143000.t1.2 )' for '<Reaction G3PAT1819Zh at 0x7f9552145748>'\n",
      "cobra/core/reaction.py:440 \u001b[1;31mUserWarning\u001b[0m: uppercase AND/OR found in rule '( Cre13.g577100.t1.2 AND Cre02.g143000.t1.2 )' for '<Reaction G3PAT181h at 0x7f9552145860>'\n",
      "cobra/core/reaction.py:440 \u001b[1;31mUserWarning\u001b[0m: uppercase AND/OR found in rule '( Cre01.g028250.t1.2 OR Cre01.g038900.t1.1 )' for '<Reaction MAGAH160 at 0x7f9552145d30>'\n",
      "cobra/core/reaction.py:440 \u001b[1;31mUserWarning\u001b[0m: uppercase AND/OR found in rule '( Cre01.g028250.t1.2 OR Cre01.g038900.t1.1 )' for '<Reaction MAGAH180 at 0x7f9552145fd0>'\n",
      "cobra/core/reaction.py:440 \u001b[1;31mUserWarning\u001b[0m: uppercase AND/OR found in rule '( Cre01.g028250.t1.2 OR Cre01.g038900.t1.1 )' for '<Reaction MAGAH18111Z at 0x7f95521bc048>'\n",
      "cobra/core/reaction.py:440 \u001b[1;31mUserWarning\u001b[0m: uppercase AND/OR found in rule '( Cre01.g028250.t1.2 OR Cre01.g038900.t1.1 )' for '<Reaction MAGAH1819Z at 0x7f9552145f60>'\n",
      "cobra/core/reaction.py:440 \u001b[1;31mUserWarning\u001b[0m: uppercase AND/OR found in rule '( Cre16.g658400.t1.2 OR Cre17.g700950.t1.2 OR Cre03.g183850.t1.2 OR Cre06.g306350.t1.2 OR ( Cre07.g334800.t1.2 OR Cre07.g334800.t2.1 ) )' for '<Reaction MGDGD4DS1819Z1644Z7Z10Z13Z at 0x7f9552145e10>'\n",
      "cobra/core/reaction.py:440 \u001b[1;31mUserWarning\u001b[0m: uppercase AND/OR found in rule '( Cre16.g658400.t1.2 OR Cre17.g700950.t1.2 OR Cre03.g183850.t1.2 OR Cre06.g306350.t1.2 OR ( Cre07.g334800.t1.2 OR Cre07.g334800.t2.1 ) )' for '<Reaction MGDGD4DS1829Z12Z1634Z7Z10Z at 0x7f9552145ef0>'\n",
      "cobra/core/reaction.py:440 \u001b[1;31mUserWarning\u001b[0m: uppercase AND/OR found in rule '( Cre16.g658400.t1.2 OR Cre17.g700950.t1.2 OR Cre03.g183850.t1.2 OR Cre06.g306350.t1.2 OR ( Cre07.g334800.t1.2 OR Cre07.g334800.t2.1 ) )' for '<Reaction MGDGD4DS1829Z12Z1644Z7Z10Z13Z at 0x7f9552145eb8>'\n",
      "cobra/core/reaction.py:440 \u001b[1;31mUserWarning\u001b[0m: uppercase AND/OR found in rule '( Cre16.g658400.t1.2 OR Cre17.g700950.t1.2 OR Cre03.g183850.t1.2 OR Cre06.g306350.t1.2 OR ( Cre07.g334800.t1.2 OR Cre07.g334800.t2.1 ) )' for '<Reaction MGDGD4DS1839Z12Z15Z1634Z7Z10Z at 0x7f9552151828>'\n",
      "cobra/core/reaction.py:440 \u001b[1;31mUserWarning\u001b[0m: uppercase AND/OR found in rule '( Cre16.g658400.t1.2 OR Cre17.g700950.t1.2 OR Cre03.g183850.t1.2 OR Cre06.g306350.t1.2 OR ( Cre07.g334800.t1.2 OR Cre07.g334800.t2.1 ) )' for '<Reaction MGDGD4DS1839Z12Z15Z1644Z7Z10Z13Z at 0x7f95521519b0>'\n",
      "cobra/core/reaction.py:440 \u001b[1;31mUserWarning\u001b[0m: uppercase AND/OR found in rule '( ( Cre13.g590500.t1.1 OR Cre09.g397250.t1.2 ) AND ( Cre16.g658400.t1.2 OR Cre17.g700950.t1.2 OR Cre03.g183850.t1.2 OR Cre06.g306350.t1.2 OR ( Cre07.g334800.t1.2 OR Cre07.g334800.t2.1 ) ) )' for '<Reaction MGDGD7DS1819Z1617Z at 0x7f9552151ba8>'\n",
      "cobra/core/reaction.py:440 \u001b[1;31mUserWarning\u001b[0m: uppercase AND/OR found in rule '( ( Cre13.g590500.t1.1 OR Cre09.g397250.t1.2 ) AND ( Cre16.g658400.t1.2 OR Cre17.g700950.t1.2 OR Cre03.g183850.t1.2 OR Cre06.g306350.t1.2 OR ( Cre07.g334800.t1.2 OR Cre07.g334800.t2.1 ) ) )' for '<Reaction MGDGD7DS1829Z12Z1617Z at 0x7f9552151ef0>'\n",
      "cobra/core/reaction.py:440 \u001b[1;31mUserWarning\u001b[0m: uppercase AND/OR found in rule '( Cre01.g038600.t1.2 AND ( Cre16.g658400.t1.2 OR Cre17.g700950.t1.2 OR Cre03.g183850.t1.2 OR Cre06.g306350.t1.2 OR ( Cre07.g334800.t1.2 OR Cre07.g334800.t2.1 ) ) )' for '<Reaction MGDGW3DS1819Z1637Z10Z13Z at 0x7f9552151400>'\n",
      "cobra/core/reaction.py:440 \u001b[1;31mUserWarning\u001b[0m: uppercase AND/OR found in rule '( Cre01.g038600.t1.2 AND ( Cre16.g658400.t1.2 OR Cre17.g700950.t1.2 OR Cre03.g183850.t1.2 OR Cre06.g306350.t1.2 OR ( Cre07.g334800.t1.2 OR Cre07.g334800.t2.1 ) ) )' for '<Reaction MGDGW3DS1829Z12Z1637Z10Z13Z at 0x7f9552151780>'\n",
      "cobra/core/reaction.py:440 \u001b[1;31mUserWarning\u001b[0m: uppercase AND/OR found in rule '( Cre01.g038600.t1.2 AND ( Cre16.g658400.t1.2 OR Cre17.g700950.t1.2 OR Cre03.g183850.t1.2 OR Cre06.g306350.t1.2 OR ( Cre07.g334800.t1.2 OR Cre07.g334800.t2.1 ) ) )' for '<Reaction MGDGW3DS1829Z12Z1644Z7Z10Z13Z at 0x7f9552159f98>'\n",
      "cobra/core/reaction.py:440 \u001b[1;31mUserWarning\u001b[0m: uppercase AND/OR found in rule '( Cre01.g038600.t1.2 AND ( Cre16.g658400.t1.2 OR Cre17.g700950.t1.2 OR Cre03.g183850.t1.2 OR Cre06.g306350.t1.2 OR ( Cre07.g334800.t1.2 OR Cre07.g334800.t2.1 ) ) )' for '<Reaction MGDGW3DS1839Z12Z15Z160 at 0x7f9552162390>'\n",
      "cobra/core/reaction.py:440 \u001b[1;31mUserWarning\u001b[0m: uppercase AND/OR found in rule '( Cre01.g038600.t1.2 AND ( Cre16.g658400.t1.2 OR Cre17.g700950.t1.2 OR Cre03.g183850.t1.2 OR Cre06.g306350.t1.2 OR ( Cre07.g334800.t1.2 OR Cre07.g334800.t2.1 ) ) )' for '<Reaction MGDGW3DS1839Z12Z15Z1627Z10Z at 0x7f9552162518>'\n",
      "cobra/core/reaction.py:440 \u001b[1;31mUserWarning\u001b[0m: uppercase AND/OR found in rule '( Cre01.g038600.t1.2 AND ( Cre16.g658400.t1.2 OR Cre17.g700950.t1.2 OR Cre03.g183850.t1.2 OR Cre06.g306350.t1.2 OR ( Cre07.g334800.t1.2 OR Cre07.g334800.t2.1 ) ) )' for '<Reaction MGDGW3DS1839Z12Z15Z1634Z7Z10Z at 0x7f9552162710>'\n",
      "cobra/core/reaction.py:440 \u001b[1;31mUserWarning\u001b[0m: uppercase AND/OR found in rule '( Cre01.g038600.t1.2 AND ( Cre16.g658400.t1.2 OR Cre17.g700950.t1.2 OR Cre03.g183850.t1.2 OR Cre06.g306350.t1.2 OR ( Cre07.g334800.t1.2 OR Cre07.g334800.t2.1 ) ) )' for '<Reaction MGDGW3DS1839Z12Z15Z1637Z10Z13Z1 at 0x7f9552162a90>'\n",
      "cobra/core/reaction.py:440 \u001b[1;31mUserWarning\u001b[0m: uppercase AND/OR found in rule '( Cre01.g038600.t1.2 AND ( Cre16.g658400.t1.2 OR Cre17.g700950.t1.2 OR Cre03.g183850.t1.2 OR Cre06.g306350.t1.2 OR ( Cre07.g334800.t1.2 OR Cre07.g334800.t2.1 ) ) )' for '<Reaction MGDGW3DS1839Z12Z15Z1637Z10Z13Z2 at 0x7f9552162e10>'\n",
      "cobra/core/reaction.py:440 \u001b[1;31mUserWarning\u001b[0m: uppercase AND/OR found in rule '( Cre01.g038600.t1.2 AND ( Cre16.g658400.t1.2 OR Cre17.g700950.t1.2 OR Cre03.g183850.t1.2 OR Cre06.g306350.t1.2 OR ( Cre07.g334800.t1.2 OR Cre07.g334800.t2.1 ) ) )' for '<Reaction MGDGW3DS1839Z12Z15Z1644Z7Z10Z13Z1 at 0x7f9552162320>'\n",
      "cobra/core/reaction.py:440 \u001b[1;31mUserWarning\u001b[0m: uppercase AND/OR found in rule '( Cre01.g038600.t1.2 AND ( Cre16.g658400.t1.2 OR Cre17.g700950.t1.2 OR Cre03.g183850.t1.2 OR Cre06.g306350.t1.2 OR ( Cre07.g334800.t1.2 OR Cre07.g334800.t2.1 ) ) )' for '<Reaction MGDGW3DS1839Z12Z15Z1644Z7Z10Z13Z2 at 0x7f9552162128>'\n",
      "cobra/core/reaction.py:440 \u001b[1;31mUserWarning\u001b[0m: uppercase AND/OR found in rule '( Cre13.g590500.t1.1 AND ( Cre16.g658400.t1.2 OR Cre17.g700950.t1.2 OR Cre03.g183850.t1.2 OR Cre06.g306350.t1.2 OR ( Cre07.g334800.t1.2 OR Cre07.g334800.t2.1 ) ) )' for '<Reaction MGDGW6DS1819Z1627Z10Z at 0x7f9552162048>'\n",
      "cobra/core/reaction.py:440 \u001b[1;31mUserWarning\u001b[0m: uppercase AND/OR found in rule '( Cre13.g590500.t1.1 AND ( Cre16.g658400.t1.2 OR Cre17.g700950.t1.2 OR Cre03.g183850.t1.2 OR Cre06.g306350.t1.2 OR ( Cre07.g334800.t1.2 OR Cre07.g334800.t2.1 ) ) )' for '<Reaction MGDGW6DS1829Z12Z160 at 0x7f955216cc50>'\n",
      "cobra/core/reaction.py:440 \u001b[1;31mUserWarning\u001b[0m: uppercase AND/OR found in rule '( Cre13.g590500.t1.1 AND ( Cre16.g658400.t1.2 OR Cre17.g700950.t1.2 OR Cre03.g183850.t1.2 OR Cre06.g306350.t1.2 OR ( Cre07.g334800.t1.2 OR Cre07.g334800.t2.1 ) ) )' for '<Reaction MGDGW6DS1829Z12Z1617Z at 0x7f955216cfd0>'\n",
      "cobra/core/reaction.py:440 \u001b[1;31mUserWarning\u001b[0m: uppercase AND/OR found in rule '( Cre13.g590500.t1.1 AND ( Cre16.g658400.t1.2 OR Cre17.g700950.t1.2 OR Cre03.g183850.t1.2 OR Cre06.g306350.t1.2 OR ( Cre07.g334800.t1.2 OR Cre07.g334800.t2.1 ) ) )' for '<Reaction MGDGW6DS1829Z12Z1619Z at 0x7f955216c780>'\n",
      "cobra/core/reaction.py:440 \u001b[1;31mUserWarning\u001b[0m: uppercase AND/OR found in rule '( Cre13.g590500.t1.1 AND ( Cre16.g658400.t1.2 OR Cre17.g700950.t1.2 OR Cre03.g183850.t1.2 OR Cre06.g306350.t1.2 OR ( Cre07.g334800.t1.2 OR Cre07.g334800.t2.1 ) ) )' for '<Reaction MGDGW6DS1829Z12Z1627Z10Z1 at 0x7f955216c400>'\n",
      "cobra/core/reaction.py:440 \u001b[1;31mUserWarning\u001b[0m: uppercase AND/OR found in rule '( Cre13.g590500.t1.1 AND ( Cre16.g658400.t1.2 OR Cre17.g700950.t1.2 OR Cre03.g183850.t1.2 OR Cre06.g306350.t1.2 OR ( Cre07.g334800.t1.2 OR Cre07.g334800.t2.1 ) ) )' for '<Reaction MGDGW6DS1829Z12Z1627Z10Z2 at 0x7f9552175a90>'\n",
      "cobra/core/reaction.py:440 \u001b[1;31mUserWarning\u001b[0m: uppercase AND/OR found in rule '( Cre13.g590500.t1.1 AND ( Cre16.g658400.t1.2 OR Cre17.g700950.t1.2 OR Cre03.g183850.t1.2 OR Cre06.g306350.t1.2 OR ( Cre07.g334800.t1.2 OR Cre07.g334800.t2.1 ) ) )' for '<Reaction MGDGW6DS1829Z12Z1637Z10Z13Z at 0x7f9552175e10>'\n",
      "cobra/core/reaction.py:440 \u001b[1;31mUserWarning\u001b[0m: uppercase AND/OR found in rule '( Cre13.g590500.t1.1 AND ( Cre16.g658400.t1.2 OR Cre17.g700950.t1.2 OR Cre03.g183850.t1.2 OR Cre06.g306350.t1.2 OR ( Cre07.g334800.t1.2 OR Cre07.g334800.t2.1 ) ) )' for '<Reaction MGDGW6DS1829Z12Z1644Z7Z10Z13Z at 0x7f955218db00>'\n",
      "cobra/core/reaction.py:440 \u001b[1;31mUserWarning\u001b[0m: uppercase AND/OR found in rule '( Cre05.g230900.t1.1 OR Cre05.g240000.t1.2 OR Cre12.g506600.t1.2 )' for '<Reaction PAPA1601819Zh at 0x7f9552181c88>'\n",
      "cobra/core/reaction.py:440 \u001b[1;31mUserWarning\u001b[0m: uppercase AND/OR found in rule '( Cre05.g230900.t1.1 OR Cre05.g240000.t1.2 OR Cre12.g506600.t1.2 )' for '<Reaction PAPA160h at 0x7f9552181080>'\n",
      "cobra/core/reaction.py:440 \u001b[1;31mUserWarning\u001b[0m: uppercase AND/OR found in rule '( Cre05.g230900.t1.1 OR Cre05.g240000.t1.2 OR Cre12.g506600.t1.2 )' for '<Reaction PAPA1801819Zh at 0x7f955210c7b8>'\n",
      "cobra/core/reaction.py:440 \u001b[1;31mUserWarning\u001b[0m: uppercase AND/OR found in rule '( Cre05.g230900.t1.1 OR Cre05.g240000.t1.2 OR Cre12.g506600.t1.2 )' for '<Reaction PAPA18111Z160h at 0x7f955210ca58>'\n",
      "cobra/core/reaction.py:440 \u001b[1;31mUserWarning\u001b[0m: uppercase AND/OR found in rule '( Cre05.g230900.t1.1 OR Cre05.g240000.t1.2 OR Cre12.g506600.t1.2 )' for '<Reaction PAPA18111Z1819Zh at 0x7f955210cd68>'\n",
      "cobra/core/reaction.py:440 \u001b[1;31mUserWarning\u001b[0m: uppercase AND/OR found in rule '( Cre05.g230900.t1.1 OR Cre05.g240000.t1.2 OR Cre12.g506600.t1.2 )' for '<Reaction PAPA1819Z160h at 0x7f955210ce80>'\n",
      "cobra/core/reaction.py:440 \u001b[1;31mUserWarning\u001b[0m: uppercase AND/OR found in rule '( Cre05.g230900.t1.1 OR Cre05.g240000.t1.2 OR Cre12.g506600.t1.2 )' for '<Reaction PAPA1819Z1619Zh at 0x7f955210ce48>'\n",
      "cobra/core/reaction.py:440 \u001b[1;31mUserWarning\u001b[0m: uppercase AND/OR found in rule '( Cre05.g230900.t1.1 OR Cre05.g240000.t1.2 OR Cre12.g506600.t1.2 )' for '<Reaction PAPA1819Z18111Zh at 0x7f9552117358>'\n",
      "cobra/core/reaction.py:440 \u001b[1;31mUserWarning\u001b[0m: uppercase AND/OR found in rule '( Cre05.g230900.t1.1 OR Cre05.g240000.t1.2 OR Cre12.g506600.t1.2 )' for '<Reaction PAPA1819Z1819Zh at 0x7f95521176d8>'\n",
      "cobra/core/reaction.py:440 \u001b[1;31mUserWarning\u001b[0m: uppercase AND/OR found in rule '( ( Cre10.g453600.t1.2 OR Cre10.g453600.t2.1 ) OR Cre13.g590500.t1.1 OR Cre17.g711150.t1.2 )' for '<Reaction PED5DS1801835Z9Z12Z at 0x7f95521177f0>'\n",
      "cobra/core/reaction.py:440 \u001b[1;31mUserWarning\u001b[0m: uppercase AND/OR found in rule '( ( Cre10.g453600.t1.2 OR Cre10.g453600.t2.1 ) OR Cre13.g590500.t1.1 OR Cre17.g711150.t1.2 )' for '<Reaction PED5DS18111Z1835Z9Z12Z at 0x7f95521179b0>'\n",
      "cobra/core/reaction.py:440 \u001b[1;31mUserWarning\u001b[0m: uppercase AND/OR found in rule '( ( Cre10.g453600.t1.2 OR Cre10.g453600.t2.1 ) OR Cre13.g590500.t1.1 OR Cre17.g711150.t1.2 )' for '<Reaction PED5DS1819Z1835Z9Z12Z at 0x7f9552117978>'\n",
      "cobra/core/reaction.py:440 \u001b[1;31mUserWarning\u001b[0m: uppercase AND/OR found in rule '( Cre13.g590500.t1.1 OR Cre17.g711150.t1.2 )' for '<Reaction PEDS1801829Z12Z at 0x7f955210c668>'\n",
      "cobra/core/reaction.py:440 \u001b[1;31mUserWarning\u001b[0m: uppercase AND/OR found in rule '( Cre01.g037600.t1.1 OR Cre01.g037650.t1.2 OR Cre01.g037700.t1.2 OR Cre13.g590500.t1.1 OR Cre17.g711150.t1.2 )' for '<Reaction PEDS1801845Z9Z12Z15Z at 0x7f9552117d30>'\n",
      "cobra/core/reaction.py:440 \u001b[1;31mUserWarning\u001b[0m: uppercase AND/OR found in rule '( Cre13.g590500.t1.1 OR Cre17.g711150.t1.2 )' for '<Reaction PEDS18111Z1829Z12Z at 0x7f9552117f98>'\n",
      "cobra/core/reaction.py:440 \u001b[1;31mUserWarning\u001b[0m: uppercase AND/OR found in rule '( Cre01.g037600.t1.1 OR Cre01.g037650.t1.2 OR Cre01.g037700.t1.2 OR Cre13.g590500.t1.1 OR Cre17.g711150.t1.2 )' for '<Reaction PEDS18111Z1845Z9Z12Z15Z at 0x7f9552117dd8>'\n",
      "cobra/core/reaction.py:440 \u001b[1;31mUserWarning\u001b[0m: uppercase AND/OR found in rule '( Cre13.g590500.t1.1 OR Cre17.g711150.t1.2 )' for '<Reaction PEDS1819Z1829Z12Z at 0x7f95521214a8>'\n",
      "cobra/core/reaction.py:440 \u001b[1;31mUserWarning\u001b[0m: uppercase AND/OR found in rule '( Cre01.g037600.t1.1 OR Cre01.g037650.t1.2 OR Cre01.g037700.t1.2 OR Cre13.g590500.t1.1 OR Cre17.g711150.t1.2 )' for '<Reaction PEDS1819Z1845Z9Z12Z15Z at 0x7f95521216a0>'\n",
      "cobra/core/reaction.py:440 \u001b[1;31mUserWarning\u001b[0m: uppercase AND/OR found in rule '( Cre13.g590500.t1.1 OR Cre17.g711150.t1.2 )' for '<Reaction PEDS1829Z12Z1835Z9Z12Z at 0x7f9552121940>'\n",
      "cobra/core/reaction.py:440 \u001b[1;31mUserWarning\u001b[0m: uppercase AND/OR found in rule '( Cre01.g038600.t1.2 AND ( Cre16.g658400.t1.2 OR Cre17.g700950.t1.2 OR Cre03.g183850.t1.2 OR Cre06.g306350.t1.2 OR ( Cre07.g334800.t1.2 OR Cre07.g334800.t2.1 ) ) )' for '<Reaction SQDGW3DS1839Z12Z15Z160 at 0x7f95520d4ba8>'\n",
      "cobra/core/reaction.py:440 \u001b[1;31mUserWarning\u001b[0m: uppercase AND/OR found in rule '( Cre13.g590500.t1.1 AND ( Cre16.g658400.t1.2 OR Cre17.g700950.t1.2 OR Cre03.g183850.t1.2 OR Cre06.g306350.t1.2 OR ( Cre07.g334800.t1.2 OR Cre07.g334800.t2.1 ) ) )' for '<Reaction SQDGW6DS1829Z12Z160 at 0x7f9552121ef0>'\n",
      "cobra/core/reaction.py:440 \u001b[1;31mUserWarning\u001b[0m: uppercase AND/OR found in rule '( Cre01.g002400.t1.1 OR Cre03.g144524.t1.1 OR Cre14.g611552.t1.1 OR Cre14.g615550.t1.1 OR Cre09.g391986.t1.1 OR Cre03.g193500.t1.2 OR Cre05.g234801.t1.1 OR Cre06.g275150.t1.2 OR Cre07.g325150.t1.1 OR ( Cre12.g541352.t1.1 OR Cre12.g541352.t2.1 ) OR Cre12.g498750.t1.1 OR Cre17.g698600.t1.1 OR Cre17.g699100.t1.1 OR Cre07.g322900.t1.1 )' for '<Reaction TAGAH16018111Z160 at 0x7f95520d4cc0>'\n",
      "cobra/core/reaction.py:440 \u001b[1;31mUserWarning\u001b[0m: uppercase AND/OR found in rule '( Cre01.g002400.t1.1 OR Cre03.g144524.t1.1 OR Cre14.g611552.t1.1 OR Cre14.g615550.t1.1 OR Cre09.g391986.t1.1 OR Cre03.g193500.t1.2 OR Cre05.g234801.t1.1 OR Cre06.g275150.t1.2 OR Cre07.g325150.t1.1 OR ( Cre12.g541352.t1.1 OR Cre12.g541352.t2.1 ) OR Cre12.g498750.t1.1 OR Cre17.g698600.t1.1 OR Cre17.g699100.t1.1 OR Cre07.g322900.t1.1 )' for '<Reaction TAGAH16018111Z180 at 0x7f95520d4e80>'\n",
      "cobra/core/reaction.py:440 \u001b[1;31mUserWarning\u001b[0m: uppercase AND/OR found in rule '( Cre01.g002400.t1.1 OR Cre03.g144524.t1.1 OR Cre14.g611552.t1.1 OR Cre14.g615550.t1.1 OR Cre09.g391986.t1.1 OR Cre03.g193500.t1.2 OR Cre05.g234801.t1.1 OR Cre06.g275150.t1.2 OR Cre07.g325150.t1.1 OR ( Cre12.g541352.t1.1 OR Cre12.g541352.t2.1 ) OR Cre12.g498750.t1.1 OR Cre17.g698600.t1.1 OR Cre17.g699100.t1.1 OR Cre07.g322900.t1.1 )' for '<Reaction TAGAH16018111Z18111Z at 0x7f95520d4b38>'\n",
      "cobra/core/reaction.py:440 \u001b[1;31mUserWarning\u001b[0m: uppercase AND/OR found in rule '( Cre01.g002400.t1.1 OR Cre03.g144524.t1.1 OR Cre14.g611552.t1.1 OR Cre14.g615550.t1.1 OR Cre09.g391986.t1.1 OR Cre03.g193500.t1.2 OR Cre05.g234801.t1.1 OR Cre06.g275150.t1.2 OR Cre07.g325150.t1.1 OR ( Cre12.g541352.t1.1 OR Cre12.g541352.t2.1 ) OR Cre12.g498750.t1.1 OR Cre17.g698600.t1.1 OR Cre17.g699100.t1.1 OR Cre07.g322900.t1.1 )' for '<Reaction TAGAH16018111Z1819Z at 0x7f95520d4978>'\n",
      "cobra/core/reaction.py:440 \u001b[1;31mUserWarning\u001b[0m: uppercase AND/OR found in rule '( Cre01.g002400.t1.1 OR Cre03.g144524.t1.1 OR Cre14.g611552.t1.1 OR Cre14.g615550.t1.1 OR Cre09.g391986.t1.1 OR Cre03.g193500.t1.2 OR Cre05.g234801.t1.1 OR Cre06.g275150.t1.2 OR Cre07.g325150.t1.1 OR ( Cre12.g541352.t1.1 OR Cre12.g541352.t2.1 ) OR Cre12.g498750.t1.1 OR Cre17.g698600.t1.1 OR Cre17.g699100.t1.1 OR Cre07.g322900.t1.1 )' for '<Reaction TAGAH16018111Z1835Z9Z12Z at 0x7f95520d4d30>'\n",
      "cobra/core/reaction.py:440 \u001b[1;31mUserWarning\u001b[0m: uppercase AND/OR found in rule '( Cre01.g002400.t1.1 OR Cre03.g144524.t1.1 OR Cre14.g611552.t1.1 OR Cre14.g615550.t1.1 OR Cre09.g391986.t1.1 OR Cre03.g193500.t1.2 OR Cre05.g234801.t1.1 OR Cre06.g275150.t1.2 OR Cre07.g325150.t1.1 OR ( Cre12.g541352.t1.1 OR Cre12.g541352.t2.1 ) OR Cre12.g498750.t1.1 OR Cre17.g698600.t1.1 OR Cre17.g699100.t1.1 OR Cre07.g322900.t1.1 )' for '<Reaction TAGAH16018111Z1845Z9Z12Z15Z at 0x7f95520d4e10>'\n",
      "cobra/core/reaction.py:440 \u001b[1;31mUserWarning\u001b[0m: uppercase AND/OR found in rule '( Cre01.g002400.t1.1 OR Cre03.g144524.t1.1 OR Cre14.g611552.t1.1 OR Cre14.g615550.t1.1 OR Cre09.g391986.t1.1 OR Cre03.g193500.t1.2 OR Cre05.g234801.t1.1 OR Cre06.g275150.t1.2 OR Cre07.g325150.t1.1 OR ( Cre12.g541352.t1.1 OR Cre12.g541352.t2.1 ) OR Cre12.g498750.t1.1 OR Cre17.g698600.t1.1 OR Cre17.g699100.t1.1 OR Cre07.g322900.t1.1 )' for '<Reaction TAGAH1601819Z160 at 0x7f95520dc7f0>'\n",
      "cobra/core/reaction.py:440 \u001b[1;31mUserWarning\u001b[0m: uppercase AND/OR found in rule '( Cre01.g002400.t1.1 OR Cre03.g144524.t1.1 OR Cre14.g611552.t1.1 OR Cre14.g615550.t1.1 OR Cre09.g391986.t1.1 OR Cre03.g193500.t1.2 OR Cre05.g234801.t1.1 OR Cre06.g275150.t1.2 OR Cre07.g325150.t1.1 OR ( Cre12.g541352.t1.1 OR Cre12.g541352.t2.1 ) OR Cre12.g498750.t1.1 OR Cre17.g698600.t1.1 OR Cre17.g699100.t1.1 OR Cre07.g322900.t1.1 )' for '<Reaction TAGAH1601819Z180 at 0x7f95520dce10>'\n",
      "cobra/core/reaction.py:440 \u001b[1;31mUserWarning\u001b[0m: uppercase AND/OR found in rule '( Cre01.g002400.t1.1 OR Cre03.g144524.t1.1 OR Cre14.g611552.t1.1 OR Cre14.g615550.t1.1 OR Cre09.g391986.t1.1 OR Cre03.g193500.t1.2 OR Cre05.g234801.t1.1 OR Cre06.g275150.t1.2 OR Cre07.g325150.t1.1 OR ( Cre12.g541352.t1.1 OR Cre12.g541352.t2.1 ) OR Cre12.g498750.t1.1 OR Cre17.g698600.t1.1 OR Cre17.g699100.t1.1 OR Cre07.g322900.t1.1 )' for '<Reaction TAGAH1601819Z18111Z at 0x7f95520dc940>'\n",
      "cobra/core/reaction.py:440 \u001b[1;31mUserWarning\u001b[0m: uppercase AND/OR found in rule '( Cre01.g002400.t1.1 OR Cre03.g144524.t1.1 OR Cre14.g611552.t1.1 OR Cre14.g615550.t1.1 OR Cre09.g391986.t1.1 OR Cre03.g193500.t1.2 OR Cre05.g234801.t1.1 OR Cre06.g275150.t1.2 OR Cre07.g325150.t1.1 OR ( Cre12.g541352.t1.1 OR Cre12.g541352.t2.1 ) OR Cre12.g498750.t1.1 OR Cre17.g698600.t1.1 OR Cre17.g699100.t1.1 OR Cre07.g322900.t1.1 )' for '<Reaction TAGAH1601819Z1819Z at 0x7f95520dce80>'\n",
      "cobra/core/reaction.py:440 \u001b[1;31mUserWarning\u001b[0m: uppercase AND/OR found in rule '( Cre01.g002400.t1.1 OR Cre03.g144524.t1.1 OR Cre14.g611552.t1.1 OR Cre14.g615550.t1.1 OR Cre09.g391986.t1.1 OR Cre03.g193500.t1.2 OR Cre05.g234801.t1.1 OR Cre06.g275150.t1.2 OR Cre07.g325150.t1.1 OR ( Cre12.g541352.t1.1 OR Cre12.g541352.t2.1 ) OR Cre12.g498750.t1.1 OR Cre17.g698600.t1.1 OR Cre17.g699100.t1.1 OR Cre07.g322900.t1.1 )' for '<Reaction TAGAH1601819Z1835Z9Z12Z at 0x7f95520e7748>'\n",
      "cobra/core/reaction.py:440 \u001b[1;31mUserWarning\u001b[0m: uppercase AND/OR found in rule '( Cre01.g002400.t1.1 OR Cre03.g144524.t1.1 OR Cre14.g611552.t1.1 OR Cre14.g615550.t1.1 OR Cre09.g391986.t1.1 OR Cre03.g193500.t1.2 OR Cre05.g234801.t1.1 OR Cre06.g275150.t1.2 OR Cre07.g325150.t1.1 OR ( Cre12.g541352.t1.1 OR Cre12.g541352.t2.1 ) OR Cre12.g498750.t1.1 OR Cre17.g698600.t1.1 OR Cre17.g699100.t1.1 OR Cre07.g322900.t1.1 )' for '<Reaction TAGAH1601819Z1845Z9Z12Z15Z at 0x7f95520e7be0>'\n",
      "cobra/core/reaction.py:440 \u001b[1;31mUserWarning\u001b[0m: uppercase AND/OR found in rule '( Cre01.g002400.t1.1 OR Cre03.g144524.t1.1 OR Cre14.g611552.t1.1 OR Cre14.g615550.t1.1 OR Cre09.g391986.t1.1 OR Cre03.g193500.t1.2 OR Cre05.g234801.t1.1 OR Cre06.g275150.t1.2 OR Cre07.g325150.t1.1 OR ( Cre12.g541352.t1.1 OR Cre12.g541352.t2.1 ) OR Cre12.g498750.t1.1 OR Cre17.g698600.t1.1 OR Cre17.g699100.t1.1 OR Cre07.g322900.t1.1 )' for '<Reaction TAGAH1801819Z160 at 0x7f955345a320>'\n",
      "cobra/core/reaction.py:440 \u001b[1;31mUserWarning\u001b[0m: uppercase AND/OR found in rule '( Cre01.g002400.t1.1 OR Cre03.g144524.t1.1 OR Cre14.g611552.t1.1 OR Cre14.g615550.t1.1 OR Cre09.g391986.t1.1 OR Cre03.g193500.t1.2 OR Cre05.g234801.t1.1 OR Cre06.g275150.t1.2 OR Cre07.g325150.t1.1 OR ( Cre12.g541352.t1.1 OR Cre12.g541352.t2.1 ) OR Cre12.g498750.t1.1 OR Cre17.g698600.t1.1 OR Cre17.g699100.t1.1 OR Cre07.g322900.t1.1 )' for '<Reaction TAGAH1801819Z180 at 0x7f9620927630>'\n",
      "cobra/core/reaction.py:440 \u001b[1;31mUserWarning\u001b[0m: uppercase AND/OR found in rule '( Cre01.g002400.t1.1 OR Cre03.g144524.t1.1 OR Cre14.g611552.t1.1 OR Cre14.g615550.t1.1 OR Cre09.g391986.t1.1 OR Cre03.g193500.t1.2 OR Cre05.g234801.t1.1 OR Cre06.g275150.t1.2 OR Cre07.g325150.t1.1 OR ( Cre12.g541352.t1.1 OR Cre12.g541352.t2.1 ) OR Cre12.g498750.t1.1 OR Cre17.g698600.t1.1 OR Cre17.g699100.t1.1 OR Cre07.g322900.t1.1 )' for '<Reaction TAGAH1801819Z18111Z at 0x7f95534b2da0>'\n",
      "cobra/core/reaction.py:440 \u001b[1;31mUserWarning\u001b[0m: uppercase AND/OR found in rule '( Cre01.g002400.t1.1 OR Cre03.g144524.t1.1 OR Cre14.g611552.t1.1 OR Cre14.g615550.t1.1 OR Cre09.g391986.t1.1 OR Cre03.g193500.t1.2 OR Cre05.g234801.t1.1 OR Cre06.g275150.t1.2 OR Cre07.g325150.t1.1 OR ( Cre12.g541352.t1.1 OR Cre12.g541352.t2.1 ) OR Cre12.g498750.t1.1 OR Cre17.g698600.t1.1 OR Cre17.g699100.t1.1 OR Cre07.g322900.t1.1 )' for '<Reaction TAGAH1801819Z1819Z at 0x7f95534a1f98>'\n",
      "cobra/core/reaction.py:440 \u001b[1;31mUserWarning\u001b[0m: uppercase AND/OR found in rule '( Cre01.g002400.t1.1 OR Cre03.g144524.t1.1 OR Cre14.g611552.t1.1 OR Cre14.g615550.t1.1 OR Cre09.g391986.t1.1 OR Cre03.g193500.t1.2 OR Cre05.g234801.t1.1 OR Cre06.g275150.t1.2 OR Cre07.g325150.t1.1 OR ( Cre12.g541352.t1.1 OR Cre12.g541352.t2.1 ) OR Cre12.g498750.t1.1 OR Cre17.g698600.t1.1 OR Cre17.g699100.t1.1 OR Cre07.g322900.t1.1 )' for '<Reaction TAGAH1801819Z1835Z9Z12Z at 0x7f9553496710>'\n",
      "cobra/core/reaction.py:440 \u001b[1;31mUserWarning\u001b[0m: uppercase AND/OR found in rule '( Cre01.g002400.t1.1 OR Cre03.g144524.t1.1 OR Cre14.g611552.t1.1 OR Cre14.g615550.t1.1 OR Cre09.g391986.t1.1 OR Cre03.g193500.t1.2 OR Cre05.g234801.t1.1 OR Cre06.g275150.t1.2 OR Cre07.g325150.t1.1 OR ( Cre12.g541352.t1.1 OR Cre12.g541352.t2.1 ) OR Cre12.g498750.t1.1 OR Cre17.g698600.t1.1 OR Cre17.g699100.t1.1 OR Cre07.g322900.t1.1 )' for '<Reaction TAGAH1801819Z1845Z9Z12Z15Z at 0x7f955346f278>'\n",
      "cobra/core/reaction.py:440 \u001b[1;31mUserWarning\u001b[0m: uppercase AND/OR found in rule '( Cre01.g002400.t1.1 OR Cre03.g144524.t1.1 OR Cre14.g611552.t1.1 OR Cre14.g615550.t1.1 OR Cre09.g391986.t1.1 OR Cre03.g193500.t1.2 OR Cre05.g234801.t1.1 OR Cre06.g275150.t1.2 OR Cre07.g325150.t1.1 OR ( Cre12.g541352.t1.1 OR Cre12.g541352.t2.1 ) OR Cre12.g498750.t1.1 OR Cre17.g698600.t1.1 OR Cre17.g699100.t1.1 OR Cre07.g322900.t1.1 )' for '<Reaction TAGAH18111Z18111Z160 at 0x7f95534f3940>'\n",
      "cobra/core/reaction.py:440 \u001b[1;31mUserWarning\u001b[0m: uppercase AND/OR found in rule '( Cre01.g002400.t1.1 OR Cre03.g144524.t1.1 OR Cre14.g611552.t1.1 OR Cre14.g615550.t1.1 OR Cre09.g391986.t1.1 OR Cre03.g193500.t1.2 OR Cre05.g234801.t1.1 OR Cre06.g275150.t1.2 OR Cre07.g325150.t1.1 OR ( Cre12.g541352.t1.1 OR Cre12.g541352.t2.1 ) OR Cre12.g498750.t1.1 OR Cre17.g698600.t1.1 OR Cre17.g699100.t1.1 OR Cre07.g322900.t1.1 )' for '<Reaction TAGAH18111Z18111Z180 at 0x7f95534ce828>'\n",
      "cobra/core/reaction.py:440 \u001b[1;31mUserWarning\u001b[0m: uppercase AND/OR found in rule '( Cre01.g002400.t1.1 OR Cre03.g144524.t1.1 OR Cre14.g611552.t1.1 OR Cre14.g615550.t1.1 OR Cre09.g391986.t1.1 OR Cre03.g193500.t1.2 OR Cre05.g234801.t1.1 OR Cre06.g275150.t1.2 OR Cre07.g325150.t1.1 OR ( Cre12.g541352.t1.1 OR Cre12.g541352.t2.1 ) OR Cre12.g498750.t1.1 OR Cre17.g698600.t1.1 OR Cre17.g699100.t1.1 OR Cre07.g322900.t1.1 )' for '<Reaction TAGAH18111Z18111Z18111Z at 0x7f955353b7f0>'\n",
      "cobra/core/reaction.py:440 \u001b[1;31mUserWarning\u001b[0m: uppercase AND/OR found in rule '( Cre01.g002400.t1.1 OR Cre03.g144524.t1.1 OR Cre14.g611552.t1.1 OR Cre14.g615550.t1.1 OR Cre09.g391986.t1.1 OR Cre03.g193500.t1.2 OR Cre05.g234801.t1.1 OR Cre06.g275150.t1.2 OR Cre07.g325150.t1.1 OR ( Cre12.g541352.t1.1 OR Cre12.g541352.t2.1 ) OR Cre12.g498750.t1.1 OR Cre17.g698600.t1.1 OR Cre17.g699100.t1.1 OR Cre07.g322900.t1.1 )' for '<Reaction TAGAH18111Z18111Z1819Z at 0x7f95535288d0>'\n",
      "cobra/core/reaction.py:440 \u001b[1;31mUserWarning\u001b[0m: uppercase AND/OR found in rule '( Cre01.g002400.t1.1 OR Cre03.g144524.t1.1 OR Cre14.g611552.t1.1 OR Cre14.g615550.t1.1 OR Cre09.g391986.t1.1 OR Cre03.g193500.t1.2 OR Cre05.g234801.t1.1 OR Cre06.g275150.t1.2 OR Cre07.g325150.t1.1 OR ( Cre12.g541352.t1.1 OR Cre12.g541352.t2.1 ) OR Cre12.g498750.t1.1 OR Cre17.g698600.t1.1 OR Cre17.g699100.t1.1 OR Cre07.g322900.t1.1 )' for '<Reaction TAGAH18111Z18111Z1835Z9Z12Z at 0x7f9553517470>'\n",
      "cobra/core/reaction.py:440 \u001b[1;31mUserWarning\u001b[0m: uppercase AND/OR found in rule '( Cre01.g002400.t1.1 OR Cre03.g144524.t1.1 OR Cre14.g611552.t1.1 OR Cre14.g615550.t1.1 OR Cre09.g391986.t1.1 OR Cre03.g193500.t1.2 OR Cre05.g234801.t1.1 OR Cre06.g275150.t1.2 OR Cre07.g325150.t1.1 OR ( Cre12.g541352.t1.1 OR Cre12.g541352.t2.1 ) OR Cre12.g498750.t1.1 OR Cre17.g698600.t1.1 OR Cre17.g699100.t1.1 OR Cre07.g322900.t1.1 )' for '<Reaction TAGAH18111Z18111Z1845Z9Z12Z15Z at 0x7f9553505048>'\n",
      "cobra/core/reaction.py:440 \u001b[1;31mUserWarning\u001b[0m: uppercase AND/OR found in rule '( Cre01.g002400.t1.1 OR Cre03.g144524.t1.1 OR Cre14.g611552.t1.1 OR Cre14.g615550.t1.1 OR Cre09.g391986.t1.1 OR Cre03.g193500.t1.2 OR Cre05.g234801.t1.1 OR Cre06.g275150.t1.2 OR Cre07.g325150.t1.1 OR ( Cre12.g541352.t1.1 OR Cre12.g541352.t2.1 ) OR Cre12.g498750.t1.1 OR Cre17.g698600.t1.1 OR Cre17.g699100.t1.1 OR Cre07.g322900.t1.1 )' for '<Reaction TAGAH18111Z1819Z160 at 0x7f9553574080>'\n",
      "cobra/core/reaction.py:440 \u001b[1;31mUserWarning\u001b[0m: uppercase AND/OR found in rule '( Cre01.g002400.t1.1 OR Cre03.g144524.t1.1 OR Cre14.g611552.t1.1 OR Cre14.g615550.t1.1 OR Cre09.g391986.t1.1 OR Cre03.g193500.t1.2 OR Cre05.g234801.t1.1 OR Cre06.g275150.t1.2 OR Cre07.g325150.t1.1 OR ( Cre12.g541352.t1.1 OR Cre12.g541352.t2.1 ) OR Cre12.g498750.t1.1 OR Cre17.g698600.t1.1 OR Cre17.g699100.t1.1 OR Cre07.g322900.t1.1 )' for '<Reaction TAGAH18111Z1819Z180 at 0x7f95535604e0>'\n",
      "cobra/core/reaction.py:440 \u001b[1;31mUserWarning\u001b[0m: uppercase AND/OR found in rule '( Cre01.g002400.t1.1 OR Cre03.g144524.t1.1 OR Cre14.g611552.t1.1 OR Cre14.g615550.t1.1 OR Cre09.g391986.t1.1 OR Cre03.g193500.t1.2 OR Cre05.g234801.t1.1 OR Cre06.g275150.t1.2 OR Cre07.g325150.t1.1 OR ( Cre12.g541352.t1.1 OR Cre12.g541352.t2.1 ) OR Cre12.g498750.t1.1 OR Cre17.g698600.t1.1 OR Cre17.g699100.t1.1 OR Cre07.g322900.t1.1 )' for '<Reaction TAGAH18111Z1819Z18111Z at 0x7f9553560278>'\n",
      "cobra/core/reaction.py:440 \u001b[1;31mUserWarning\u001b[0m: uppercase AND/OR found in rule '( Cre01.g002400.t1.1 OR Cre03.g144524.t1.1 OR Cre14.g611552.t1.1 OR Cre14.g615550.t1.1 OR Cre09.g391986.t1.1 OR Cre03.g193500.t1.2 OR Cre05.g234801.t1.1 OR Cre06.g275150.t1.2 OR Cre07.g325150.t1.1 OR ( Cre12.g541352.t1.1 OR Cre12.g541352.t2.1 ) OR Cre12.g498750.t1.1 OR Cre17.g698600.t1.1 OR Cre17.g699100.t1.1 OR Cre07.g322900.t1.1 )' for '<Reaction TAGAH18111Z1819Z1819Z at 0x7f9553557208>'\n",
      "cobra/core/reaction.py:440 \u001b[1;31mUserWarning\u001b[0m: uppercase AND/OR found in rule '( Cre01.g002400.t1.1 OR Cre03.g144524.t1.1 OR Cre14.g611552.t1.1 OR Cre14.g615550.t1.1 OR Cre09.g391986.t1.1 OR Cre03.g193500.t1.2 OR Cre05.g234801.t1.1 OR Cre06.g275150.t1.2 OR Cre07.g325150.t1.1 OR ( Cre12.g541352.t1.1 OR Cre12.g541352.t2.1 ) OR Cre12.g498750.t1.1 OR Cre17.g698600.t1.1 OR Cre17.g699100.t1.1 OR Cre07.g322900.t1.1 )' for '<Reaction TAGAH18111Z1819Z1835Z9Z12Z at 0x7f9553547550>'\n",
      "cobra/core/reaction.py:440 \u001b[1;31mUserWarning\u001b[0m: uppercase AND/OR found in rule '( Cre01.g002400.t1.1 OR Cre03.g144524.t1.1 OR Cre14.g611552.t1.1 OR Cre14.g615550.t1.1 OR Cre09.g391986.t1.1 OR Cre03.g193500.t1.2 OR Cre05.g234801.t1.1 OR Cre06.g275150.t1.2 OR Cre07.g325150.t1.1 OR ( Cre12.g541352.t1.1 OR Cre12.g541352.t2.1 ) OR Cre12.g498750.t1.1 OR Cre17.g698600.t1.1 OR Cre17.g699100.t1.1 OR Cre07.g322900.t1.1 )' for '<Reaction TAGAH18111Z1819Z1845Z9Z12Z15Z at 0x7f95535bd9b0>'\n",
      "cobra/core/reaction.py:440 \u001b[1;31mUserWarning\u001b[0m: uppercase AND/OR found in rule '( Cre01.g002400.t1.1 OR Cre03.g144524.t1.1 OR Cre14.g611552.t1.1 OR Cre14.g615550.t1.1 OR Cre09.g391986.t1.1 OR Cre03.g193500.t1.2 OR Cre05.g234801.t1.1 OR Cre06.g275150.t1.2 OR Cre07.g325150.t1.1 OR ( Cre12.g541352.t1.1 OR Cre12.g541352.t2.1 ) OR Cre12.g498750.t1.1 OR Cre17.g698600.t1.1 OR Cre17.g699100.t1.1 OR Cre07.g322900.t1.1 )' for '<Reaction TAGAH1819Z18111Z160 at 0x7f9553550a58>'\n",
      "cobra/core/reaction.py:440 \u001b[1;31mUserWarning\u001b[0m: uppercase AND/OR found in rule '( Cre01.g002400.t1.1 OR Cre03.g144524.t1.1 OR Cre14.g611552.t1.1 OR Cre14.g615550.t1.1 OR Cre09.g391986.t1.1 OR Cre03.g193500.t1.2 OR Cre05.g234801.t1.1 OR Cre06.g275150.t1.2 OR Cre07.g325150.t1.1 OR ( Cre12.g541352.t1.1 OR Cre12.g541352.t2.1 ) OR Cre12.g498750.t1.1 OR Cre17.g698600.t1.1 OR Cre17.g699100.t1.1 OR Cre07.g322900.t1.1 )' for '<Reaction TAGAH1819Z18111Z180 at 0x7f95535b4860>'\n",
      "cobra/core/reaction.py:440 \u001b[1;31mUserWarning\u001b[0m: uppercase AND/OR found in rule '( Cre01.g002400.t1.1 OR Cre03.g144524.t1.1 OR Cre14.g611552.t1.1 OR Cre14.g615550.t1.1 OR Cre09.g391986.t1.1 OR Cre03.g193500.t1.2 OR Cre05.g234801.t1.1 OR Cre06.g275150.t1.2 OR Cre07.g325150.t1.1 OR ( Cre12.g541352.t1.1 OR Cre12.g541352.t2.1 ) OR Cre12.g498750.t1.1 OR Cre17.g698600.t1.1 OR Cre17.g699100.t1.1 OR Cre07.g322900.t1.1 )' for '<Reaction TAGAH1819Z18111Z18111Z at 0x7f95535aba58>'\n",
      "cobra/core/reaction.py:440 \u001b[1;31mUserWarning\u001b[0m: uppercase AND/OR found in rule '( Cre01.g002400.t1.1 OR Cre03.g144524.t1.1 OR Cre14.g611552.t1.1 OR Cre14.g615550.t1.1 OR Cre09.g391986.t1.1 OR Cre03.g193500.t1.2 OR Cre05.g234801.t1.1 OR Cre06.g275150.t1.2 OR Cre07.g325150.t1.1 OR ( Cre12.g541352.t1.1 OR Cre12.g541352.t2.1 ) OR Cre12.g498750.t1.1 OR Cre17.g698600.t1.1 OR Cre17.g699100.t1.1 OR Cre07.g322900.t1.1 )' for '<Reaction TAGAH1819Z18111Z1819Z at 0x7f95535a4d30>'\n",
      "cobra/core/reaction.py:440 \u001b[1;31mUserWarning\u001b[0m: uppercase AND/OR found in rule '( Cre01.g002400.t1.1 OR Cre03.g144524.t1.1 OR Cre14.g611552.t1.1 OR Cre14.g615550.t1.1 OR Cre09.g391986.t1.1 OR Cre03.g193500.t1.2 OR Cre05.g234801.t1.1 OR Cre06.g275150.t1.2 OR Cre07.g325150.t1.1 OR ( Cre12.g541352.t1.1 OR Cre12.g541352.t2.1 ) OR Cre12.g498750.t1.1 OR Cre17.g698600.t1.1 OR Cre17.g699100.t1.1 OR Cre07.g322900.t1.1 )' for '<Reaction TAGAH1819Z18111Z1835Z9Z12Z at 0x7f9553599940>'\n",
      "cobra/core/reaction.py:440 \u001b[1;31mUserWarning\u001b[0m: uppercase AND/OR found in rule '( Cre01.g002400.t1.1 OR Cre03.g144524.t1.1 OR Cre14.g611552.t1.1 OR Cre14.g615550.t1.1 OR Cre09.g391986.t1.1 OR Cre03.g193500.t1.2 OR Cre05.g234801.t1.1 OR Cre06.g275150.t1.2 OR Cre07.g325150.t1.1 OR ( Cre12.g541352.t1.1 OR Cre12.g541352.t2.1 ) OR Cre12.g498750.t1.1 OR Cre17.g698600.t1.1 OR Cre17.g699100.t1.1 OR Cre07.g322900.t1.1 )' for '<Reaction TAGAH1819Z18111Z1845Z9Z12Z15Z at 0x7f9553599048>'\n",
      "cobra/core/reaction.py:440 \u001b[1;31mUserWarning\u001b[0m: uppercase AND/OR found in rule '( Cre01.g002400.t1.1 OR Cre03.g144524.t1.1 OR Cre14.g611552.t1.1 OR Cre14.g615550.t1.1 OR Cre09.g391986.t1.1 OR Cre03.g193500.t1.2 OR Cre05.g234801.t1.1 OR Cre06.g275150.t1.2 OR Cre07.g325150.t1.1 OR ( Cre12.g541352.t1.1 OR Cre12.g541352.t2.1 ) OR Cre12.g498750.t1.1 OR Cre17.g698600.t1.1 OR Cre17.g699100.t1.1 OR Cre07.g322900.t1.1 )' for '<Reaction TAGAH1819Z1819Z160 at 0x7f9553590550>'\n",
      "cobra/core/reaction.py:440 \u001b[1;31mUserWarning\u001b[0m: uppercase AND/OR found in rule '( Cre01.g002400.t1.1 OR Cre03.g144524.t1.1 OR Cre14.g611552.t1.1 OR Cre14.g615550.t1.1 OR Cre09.g391986.t1.1 OR Cre03.g193500.t1.2 OR Cre05.g234801.t1.1 OR Cre06.g275150.t1.2 OR Cre07.g325150.t1.1 OR ( Cre12.g541352.t1.1 OR Cre12.g541352.t2.1 ) OR Cre12.g498750.t1.1 OR Cre17.g698600.t1.1 OR Cre17.g699100.t1.1 OR Cre07.g322900.t1.1 )' for '<Reaction TAGAH1819Z1819Z180 at 0x7f9553590cc0>'\n",
      "cobra/core/reaction.py:440 \u001b[1;31mUserWarning\u001b[0m: uppercase AND/OR found in rule '( Cre01.g002400.t1.1 OR Cre03.g144524.t1.1 OR Cre14.g611552.t1.1 OR Cre14.g615550.t1.1 OR Cre09.g391986.t1.1 OR Cre03.g193500.t1.2 OR Cre05.g234801.t1.1 OR Cre06.g275150.t1.2 OR Cre07.g325150.t1.1 OR ( Cre12.g541352.t1.1 OR Cre12.g541352.t2.1 ) OR Cre12.g498750.t1.1 OR Cre17.g698600.t1.1 OR Cre17.g699100.t1.1 OR Cre07.g322900.t1.1 )' for '<Reaction TAGAH1819Z1819Z18111Z at 0x7f9553585358>'\n",
      "cobra/core/reaction.py:440 \u001b[1;31mUserWarning\u001b[0m: uppercase AND/OR found in rule '( Cre01.g002400.t1.1 OR Cre03.g144524.t1.1 OR Cre14.g611552.t1.1 OR Cre14.g615550.t1.1 OR Cre09.g391986.t1.1 OR Cre03.g193500.t1.2 OR Cre05.g234801.t1.1 OR Cre06.g275150.t1.2 OR Cre07.g325150.t1.1 OR ( Cre12.g541352.t1.1 OR Cre12.g541352.t2.1 ) OR Cre12.g498750.t1.1 OR Cre17.g698600.t1.1 OR Cre17.g699100.t1.1 OR Cre07.g322900.t1.1 )' for '<Reaction TAGAH1819Z1819Z1819Z at 0x7f95535fd400>'\n",
      "cobra/core/reaction.py:440 \u001b[1;31mUserWarning\u001b[0m: uppercase AND/OR found in rule '( Cre01.g002400.t1.1 OR Cre03.g144524.t1.1 OR Cre14.g611552.t1.1 OR Cre14.g615550.t1.1 OR Cre09.g391986.t1.1 OR Cre03.g193500.t1.2 OR Cre05.g234801.t1.1 OR Cre06.g275150.t1.2 OR Cre07.g325150.t1.1 OR ( Cre12.g541352.t1.1 OR Cre12.g541352.t2.1 ) OR Cre12.g498750.t1.1 OR Cre17.g698600.t1.1 OR Cre17.g699100.t1.1 OR Cre07.g322900.t1.1 )' for '<Reaction TAGAH1819Z1819Z1835Z9Z12Z at 0x7f95535f4860>'\n",
      "cobra/core/reaction.py:440 \u001b[1;31mUserWarning\u001b[0m: uppercase AND/OR found in rule '( Cre01.g002400.t1.1 OR Cre03.g144524.t1.1 OR Cre14.g611552.t1.1 OR Cre14.g615550.t1.1 OR Cre09.g391986.t1.1 OR Cre03.g193500.t1.2 OR Cre05.g234801.t1.1 OR Cre06.g275150.t1.2 OR Cre07.g325150.t1.1 OR ( Cre12.g541352.t1.1 OR Cre12.g541352.t2.1 ) OR Cre12.g498750.t1.1 OR Cre17.g698600.t1.1 OR Cre17.g699100.t1.1 OR Cre07.g322900.t1.1 )' for '<Reaction TAGAH1819Z1819Z1845Z9Z12Z15Z at 0x7f95535eb080>'\n",
      "cobra/core/reaction.py:440 \u001b[1;31mUserWarning\u001b[0m: uppercase AND/OR found in rule '( Cre01.g053000.t1.2 OR ( Cre01.g053150.t1.2 OR Cre01.g053150.t2.1 ) OR Cre10.g421700.t1.2 OR Cre09.g387763.t1.1 )' for '<Reaction G3PD1 at 0x7f9553639a90>'\n",
      "cobra/core/reaction.py:440 \u001b[1;31mUserWarning\u001b[0m: uppercase AND/OR found in rule '( Cre09.g387763.t1.1 OR Cre12.g511150.t1.2 )' for '<Reaction G3PD2 at 0x7f9553639ba8>'\n",
      "cobra/core/reaction.py:440 \u001b[1;31mUserWarning\u001b[0m: uppercase AND/OR found in rule '( Cre17.g707300.t1.2 OR Cre03.g182650.t1.2 OR Cre12.g537641.t1.1 OR Cre10.g460350.t1.1 OR Cre05.g248150.t1.2 )' for '<Reaction 1AGPEAT1801819Z at 0x7f955362e048>'\n",
      "cobra/core/reaction.py:440 \u001b[1;31mUserWarning\u001b[0m: uppercase AND/OR found in rule '( Cre17.g707300.t1.2 OR Cre03.g182650.t1.2 OR Cre12.g537641.t1.1 OR Cre10.g460350.t1.1 OR Cre05.g248150.t1.2 )' for '<Reaction 1AGPEAT1801829Z12Z at 0x7f955362e080>'\n",
      "cobra/core/reaction.py:440 \u001b[1;31mUserWarning\u001b[0m: uppercase AND/OR found in rule '( Cre17.g707300.t1.2 OR Cre03.g182650.t1.2 OR Cre12.g537641.t1.1 OR Cre10.g460350.t1.1 OR Cre05.g248150.t1.2 )' for '<Reaction 1AGPEAT1801835Z9Z12Z at 0x7f9553627fd0>'\n",
      "cobra/core/reaction.py:440 \u001b[1;31mUserWarning\u001b[0m: uppercase AND/OR found in rule '( Cre17.g707300.t1.2 OR Cre03.g182650.t1.2 OR Cre12.g537641.t1.1 OR Cre10.g460350.t1.1 OR Cre05.g248150.t1.2 )' for '<Reaction 1AGPEAT1801845Z9Z12Z15Z at 0x7f9553627f98>'\n",
      "cobra/core/reaction.py:440 \u001b[1;31mUserWarning\u001b[0m: uppercase AND/OR found in rule '( Cre17.g707300.t1.2 OR Cre03.g182650.t1.2 OR Cre12.g537641.t1.1 OR Cre10.g460350.t1.1 OR Cre05.g248150.t1.2 )' for '<Reaction 1AGPEAT18111Z1819Z at 0x7f955361ef60>'\n",
      "cobra/core/reaction.py:440 \u001b[1;31mUserWarning\u001b[0m: uppercase AND/OR found in rule '( Cre17.g707300.t1.2 OR Cre03.g182650.t1.2 OR Cre12.g537641.t1.1 OR Cre10.g460350.t1.1 OR Cre05.g248150.t1.2 )' for '<Reaction 1AGPEAT18111Z1829Z12Z at 0x7f955361e160>'\n",
      "cobra/core/reaction.py:440 \u001b[1;31mUserWarning\u001b[0m: uppercase AND/OR found in rule '( Cre17.g707300.t1.2 OR Cre03.g182650.t1.2 OR Cre12.g537641.t1.1 OR Cre10.g460350.t1.1 OR Cre05.g248150.t1.2 )' for '<Reaction 1AGPEAT18111Z1835Z9Z12Z at 0x7f9553617f60>'\n",
      "cobra/core/reaction.py:440 \u001b[1;31mUserWarning\u001b[0m: uppercase AND/OR found in rule '( Cre17.g707300.t1.2 OR Cre03.g182650.t1.2 OR Cre12.g537641.t1.1 OR Cre10.g460350.t1.1 OR Cre05.g248150.t1.2 )' for '<Reaction 1AGPEAT18111Z1845Z9Z12Z15Z at 0x7f9553617278>'\n",
      "cobra/core/reaction.py:440 \u001b[1;31mUserWarning\u001b[0m: uppercase AND/OR found in rule '( Cre17.g707300.t1.2 OR Cre03.g182650.t1.2 OR Cre12.g537641.t1.1 OR Cre10.g460350.t1.1 OR Cre05.g248150.t1.2 )' for '<Reaction 1AGPEAT1819Z1819Z at 0x7f955360ee80>'\n",
      "cobra/core/reaction.py:440 \u001b[1;31mUserWarning\u001b[0m: uppercase AND/OR found in rule '( Cre17.g707300.t1.2 OR Cre03.g182650.t1.2 OR Cre12.g537641.t1.1 OR Cre10.g460350.t1.1 OR Cre05.g248150.t1.2 )' for '<Reaction 1AGPEAT1819Z1829Z12Z at 0x7f955360e470>'\n",
      "cobra/core/reaction.py:440 \u001b[1;31mUserWarning\u001b[0m: uppercase AND/OR found in rule '( Cre17.g707300.t1.2 OR Cre03.g182650.t1.2 OR Cre12.g537641.t1.1 OR Cre10.g460350.t1.1 OR Cre05.g248150.t1.2 )' for '<Reaction 1AGPEAT1819Z1835Z9Z12Z at 0x7f9553606d68>'\n",
      "cobra/core/reaction.py:440 \u001b[1;31mUserWarning\u001b[0m: uppercase AND/OR found in rule '( Cre17.g707300.t1.2 OR Cre03.g182650.t1.2 OR Cre12.g537641.t1.1 OR Cre10.g460350.t1.1 OR Cre05.g248150.t1.2 )' for '<Reaction 1AGPEAT1819Z1845Z9Z12Z15Z at 0x7f9553606860>'\n",
      "cobra/core/reaction.py:440 \u001b[1;31mUserWarning\u001b[0m: uppercase AND/OR found in rule '( Cre17.g707300.t1.2 OR Cre03.g182650.t1.2 OR Cre12.g537641.t1.1 OR Cre10.g460350.t1.1 OR Cre05.g248150.t1.2 )' for '<Reaction 1AGPEAT1829Z12Z1835Z9Z12Z at 0x7f955367eef0>'\n",
      "cobra/core/reaction.py:440 \u001b[1;31mUserWarning\u001b[0m: uppercase AND/OR found in rule '( Cre12.g489050.t1.2 OR Cre03.g186200.t1.2 )' for '<Reaction CDPDAGS18111Z160 at 0x7f955366d3c8>'\n",
      "cobra/core/reaction.py:440 \u001b[1;31mUserWarning\u001b[0m: uppercase AND/OR found in rule '( Cre12.g489050.t1.2 OR Cre03.g186200.t1.2 )' for '<Reaction CDPDAGS18111Z160h at 0x7f955366dd30>'\n",
      "cobra/core/reaction.py:440 \u001b[1;31mUserWarning\u001b[0m: uppercase AND/OR found in rule '( Cre12.g489050.t1.2 OR Cre03.g186200.t1.2 )' for '<Reaction CDPDAGS1819Z160 at 0x7f95536646a0>'\n",
      "cobra/core/reaction.py:440 \u001b[1;31mUserWarning\u001b[0m: uppercase AND/OR found in rule '( Cre12.g489050.t1.2 OR Cre03.g186200.t1.2 )' for '<Reaction CDPDAGS1819Z160h at 0x7f95536645f8>'\n",
      "cobra/core/reaction.py:440 \u001b[1;31mUserWarning\u001b[0m: uppercase AND/OR found in rule '( Cre06.g291600.t1.1 OR Cre06.g291600.t2.1 )' for '<Reaction ETHAK at 0x7f955365eb38>'\n",
      "cobra/core/reaction.py:440 \u001b[1;31mUserWarning\u001b[0m: uppercase AND/OR found in rule '( Cre16.g683850.t1.1 OR Cre16.g683900.t1.1 OR Cre17.g699850.t1.2 OR Cre03.g203600.t1.2 )' for '<Reaction GPDDA2 at 0x7f95536552b0>'\n",
      "cobra/core/reaction.py:440 \u001b[1;31mUserWarning\u001b[0m: uppercase AND/OR found in rule '( Cre06.g262400.t1.1 OR Cre03.g164350.t1.1 OR Cre10.g425100.t1.2 )' for '<Reaction LPLPS1AGPE180 at 0x7f9553655748>'\n",
      "cobra/core/reaction.py:440 \u001b[1;31mUserWarning\u001b[0m: uppercase AND/OR found in rule '( Cre06.g262400.t1.1 OR Cre03.g164350.t1.1 OR Cre10.g425100.t1.2 )' for '<Reaction LPLPS1AGPE18111Z at 0x7f95536455c0>'\n",
      "cobra/core/reaction.py:440 \u001b[1;31mUserWarning\u001b[0m: uppercase AND/OR found in rule '( Cre06.g262400.t1.1 OR Cre03.g164350.t1.1 OR Cre10.g425100.t1.2 )' for '<Reaction LPLPS1AGPE1819Z at 0x7f95536bb860>'\n",
      "cobra/core/reaction.py:440 \u001b[1;31mUserWarning\u001b[0m: uppercase AND/OR found in rule '( Cre06.g262400.t1.1 OR Cre03.g164350.t1.1 OR Cre10.g425100.t1.2 )' for '<Reaction LPLPS1AGPE1829Z12Z at 0x7f95536bb6a0>'\n",
      "cobra/core/reaction.py:440 \u001b[1;31mUserWarning\u001b[0m: uppercase AND/OR found in rule '( Cre16.g658400.t1.2 OR Cre17.g700950.t1.2 OR Cre03.g183850.t1.2 OR Cre06.g306350.t1.2 OR ( Cre07.g334800.t1.2 OR Cre07.g334800.t2.1 ) )' for '<Reaction PGD3TDS18111Z1613E at 0x7f95536b45c0>'\n",
      "cobra/core/reaction.py:440 \u001b[1;31mUserWarning\u001b[0m: uppercase AND/OR found in rule '( Cre16.g658400.t1.2 OR Cre17.g700950.t1.2 OR Cre03.g183850.t1.2 OR Cre06.g306350.t1.2 OR ( Cre07.g334800.t1.2 OR Cre07.g334800.t2.1 ) )' for '<Reaction PGD3TDS1819Z1613E at 0x7f95536ad588>'\n",
      "cobra/core/reaction.py:440 \u001b[1;31mUserWarning\u001b[0m: uppercase AND/OR found in rule '( Cre16.g658400.t1.2 OR Cre17.g700950.t1.2 OR Cre03.g183850.t1.2 OR Cre06.g306350.t1.2 OR ( Cre07.g334800.t1.2 OR Cre07.g334800.t2.1 ) )' for '<Reaction PGD3TDS1829Z12Z1613E at 0x7f95536a6940>'\n",
      "cobra/core/reaction.py:440 \u001b[1;31mUserWarning\u001b[0m: uppercase AND/OR found in rule '( Cre16.g658400.t1.2 OR Cre17.g700950.t1.2 OR Cre03.g183850.t1.2 OR Cre06.g306350.t1.2 OR ( Cre07.g334800.t1.2 OR Cre07.g334800.t2.1 ) )' for '<Reaction PGD3TDS1839Z12Z15Z1613E at 0x7f955369c160>'\n",
      "cobra/core/reaction.py:440 \u001b[1;31mUserWarning\u001b[0m: uppercase AND/OR found in rule '( Cre02.g095106.t1.1 OR Cre13.g604700.t1.1 OR Cre03.g162601.t1.1 )' for '<Reaction PGPS18111Z160 at 0x7f95536849e8>'\n",
      "cobra/core/reaction.py:440 \u001b[1;31mUserWarning\u001b[0m: uppercase AND/OR found in rule '( Cre02.g095106.t1.1 OR Cre13.g604700.t1.1 OR Cre03.g162601.t1.1 )' for '<Reaction PGPS18111Z160h at 0x7f95536fa978>'\n",
      "cobra/core/reaction.py:440 \u001b[1;31mUserWarning\u001b[0m: uppercase AND/OR found in rule '( Cre02.g095106.t1.1 OR Cre13.g604700.t1.1 OR Cre03.g162601.t1.1 )' for '<Reaction PGPS1819Z160 at 0x7f95536fac50>'\n",
      "cobra/core/reaction.py:440 \u001b[1;31mUserWarning\u001b[0m: uppercase AND/OR found in rule '( Cre02.g095106.t1.1 OR Cre13.g604700.t1.1 OR Cre03.g162601.t1.1 )' for '<Reaction PGPS1819Z160h at 0x7f95536fada0>'\n",
      "cobra/core/reaction.py:440 \u001b[1;31mUserWarning\u001b[0m: uppercase AND/OR found in rule '( Cre01.g038600.t1.2 AND ( Cre16.g658400.t1.2 OR Cre17.g700950.t1.2 OR Cre03.g183850.t1.2 OR Cre06.g306350.t1.2 OR ( Cre07.g334800.t1.2 OR Cre07.g334800.t2.1 ) ) )' for '<Reaction PGW3DS1839Z12Z15Z160 at 0x7f95536f25f8>'\n",
      "cobra/core/reaction.py:440 \u001b[1;31mUserWarning\u001b[0m: uppercase AND/OR found in rule '( Cre13.g590500.t1.1 AND ( Cre16.g658400.t1.2 OR Cre17.g700950.t1.2 OR Cre03.g183850.t1.2 OR Cre06.g306350.t1.2 OR ( Cre07.g334800.t1.2 OR Cre07.g334800.t2.1 ) ) )' for '<Reaction PGW6DS1829Z12Z160 at 0x7f95536f2860>'\n",
      "cobra/core/reaction.py:440 \u001b[1;31mUserWarning\u001b[0m: uppercase AND/OR found in rule '( Cre02.g095000.t1.2 OR Cre10.g425100.t1.2 )' for '<Reaction PLPSA21801819Z at 0x7f95536e3be0>'\n",
      "cobra/core/reaction.py:440 \u001b[1;31mUserWarning\u001b[0m: uppercase AND/OR found in rule '( Cre02.g095000.t1.2 OR Cre10.g425100.t1.2 )' for '<Reaction PLPSA21801829Z12Z at 0x7f95536dc748>'\n",
      "cobra/core/reaction.py:440 \u001b[1;31mUserWarning\u001b[0m: uppercase AND/OR found in rule '( Cre02.g095000.t1.2 OR Cre10.g425100.t1.2 )' for '<Reaction PLPSA21801835Z9Z12Z at 0x7f95536dceb8>'\n",
      "cobra/core/reaction.py:440 \u001b[1;31mUserWarning\u001b[0m: uppercase AND/OR found in rule '( Cre02.g095000.t1.2 OR Cre10.g425100.t1.2 )' for '<Reaction PLPSA21801845Z9Z12Z15Z at 0x7f95520f2e48>'\n",
      "cobra/core/reaction.py:440 \u001b[1;31mUserWarning\u001b[0m: uppercase AND/OR found in rule '( Cre02.g095000.t1.2 OR Cre10.g425100.t1.2 )' for '<Reaction PLPSA218111Z1819Z at 0x7f95520ff7b8>'\n",
      "cobra/core/reaction.py:440 \u001b[1;31mUserWarning\u001b[0m: uppercase AND/OR found in rule '( Cre02.g095000.t1.2 OR Cre10.g425100.t1.2 )' for '<Reaction PLPSA218111Z1829Z12Z at 0x7f95520ffb00>'\n",
      "cobra/core/reaction.py:440 \u001b[1;31mUserWarning\u001b[0m: uppercase AND/OR found in rule '( Cre02.g095000.t1.2 OR Cre10.g425100.t1.2 )' for '<Reaction PLPSA218111Z1835Z9Z12Z at 0x7f95520ffeb8>'\n",
      "cobra/core/reaction.py:440 \u001b[1;31mUserWarning\u001b[0m: uppercase AND/OR found in rule '( Cre02.g095000.t1.2 OR Cre10.g425100.t1.2 )' for '<Reaction PLPSA218111Z1845Z9Z12Z15Z at 0x7f9552019320>'\n",
      "cobra/core/reaction.py:440 \u001b[1;31mUserWarning\u001b[0m: uppercase AND/OR found in rule '( Cre02.g095000.t1.2 OR Cre10.g425100.t1.2 )' for '<Reaction PLPSA21819Z1819Z at 0x7f9552019710>'\n",
      "cobra/core/reaction.py:440 \u001b[1;31mUserWarning\u001b[0m: uppercase AND/OR found in rule '( Cre02.g095000.t1.2 OR Cre10.g425100.t1.2 )' for '<Reaction PLPSA21819Z1829Z12Z at 0x7f9552019a58>'\n",
      "cobra/core/reaction.py:440 \u001b[1;31mUserWarning\u001b[0m: uppercase AND/OR found in rule '( Cre02.g095000.t1.2 OR Cre10.g425100.t1.2 )' for '<Reaction PLPSA21819Z1835Z9Z12Z at 0x7f9552019e10>'\n",
      "cobra/core/reaction.py:440 \u001b[1;31mUserWarning\u001b[0m: uppercase AND/OR found in rule '( Cre02.g095000.t1.2 OR Cre10.g425100.t1.2 )' for '<Reaction PLPSA21819Z1845Z9Z12Z15Z at 0x7f9552021278>'\n",
      "cobra/core/reaction.py:440 \u001b[1;31mUserWarning\u001b[0m: uppercase AND/OR found in rule '( Cre02.g095000.t1.2 OR Cre10.g425100.t1.2 )' for '<Reaction PLPSA21829Z12Z1835Z9Z12Z at 0x7f9552021668>'\n",
      "cobra/core/reaction.py:440 \u001b[1;31mUserWarning\u001b[0m: uppercase AND/OR found in rule '( Cre09.g411900.t1.1 OR Cre06.g293950.t1.2 OR Cre16.g664550.t1.2 )' for '<Reaction GHMT at 0x7f9552037588>'\n",
      "cobra/core/reaction.py:440 \u001b[1;31mUserWarning\u001b[0m: uppercase AND/OR found in rule '( Cre16.g689700.t1.1 OR Cre02.g087300.t1.1 )' for '<Reaction GLYCOR_nadp at 0x7f9552037dd8>'\n",
      "cobra/core/reaction.py:440 \u001b[1;31mUserWarning\u001b[0m: uppercase AND/OR found in rule '( Cre07.g344600.t1.2 OR Cre07.g344550.t1.2 OR Cre07.g344400.t1.2 )' for '<Reaction 2HGOR at 0x7f955203df60>'\n",
      "cobra/core/reaction.py:440 \u001b[1;31mUserWarning\u001b[0m: uppercase AND/OR found in rule '( Cre18.g749847.t1.1 OR Cre18.g749847.t2.1 )' for '<Reaction DHLDH at 0x7f9551fc8160>'\n",
      "cobra/core/reaction.py:440 \u001b[1;31mUserWarning\u001b[0m: uppercase AND/OR found in rule '( Cre12.g559950.t1.2 AND Cre06.g288700.t1.2 )' for '<Reaction GCLDH at 0x7f9551fc83c8>'\n",
      "cobra/core/reaction.py:440 \u001b[1;31mUserWarning\u001b[0m: uppercase AND/OR found in rule '( Cre12.g534800.t1.1 AND Cre06.g253350.t1.2 )' for '<Reaction GLYDHD at 0x7f9551fc8f28>'\n",
      "cobra/core/reaction.py:440 \u001b[1;31mUserWarning\u001b[0m: uppercase AND/OR found in rule '( Cre01.g005150.t1.1 OR Cre10.g451950.t1.2 OR Cre06.g284700.t1.2 )' for '<Reaction GLYTA at 0x7f9551fce2e8>'\n",
      "cobra/core/reaction.py:440 \u001b[1;31mUserWarning\u001b[0m: uppercase AND/OR found in rule '( Cre10.g433000.t1.1 OR Cre05.g233800.t1.2 )' for '<Reaction GLYTL at 0x7f9551fce710>'\n",
      "cobra/core/reaction.py:440 \u001b[1;31mUserWarning\u001b[0m: uppercase AND/OR found in rule '( Cre07.g344600.t1.2 OR Cre07.g344550.t1.2 OR Cre07.g344400.t1.2 )' for '<Reaction PGLYDH at 0x7f9551fd3c88>'\n",
      "cobra/core/reaction.py:440 \u001b[1;31mUserWarning\u001b[0m: uppercase AND/OR found in rule '( Cre04.g217959.t1.1 OR Cre04.g217959.t2.1 )' for '<Reaction PSP at 0x7f9551fd8128>'\n",
      "cobra/core/reaction.py:440 \u001b[1;31mUserWarning\u001b[0m: uppercase AND/OR found in rule '( Cre02.g082877.t1.1 OR Cre03.g189400.t1.2 OR Cre02.g082825.t1.1 )' for '<Reaction SERTL at 0x7f9551fd8470>'\n",
      "cobra/core/reaction.py:440 \u001b[1;31mUserWarning\u001b[0m: uppercase AND/OR found in rule '( Cre10.g421600.t1.2 OR Cre06.g273300.t1.2 )' for '<Reaction THRTL at 0x7f9551fd8da0>'\n",
      "cobra/core/reaction.py:440 \u001b[1;31mUserWarning\u001b[0m: uppercase AND/OR found in rule '( Cre17.g747297.t1.1 OR Cre02.g076600.t1.2 )' for '<Reaction GLYTAH at 0x7f9551fe5c50>'\n",
      "cobra/core/reaction.py:440 \u001b[1;31mUserWarning\u001b[0m: uppercase AND/OR found in rule '( Cre17.g747297.t1.1 OR Cre02.g076600.t1.2 )' for '<Reaction SERTAH at 0x7f9551fe5ef0>'\n",
      "cobra/core/reaction.py:440 \u001b[1;31mUserWarning\u001b[0m: uppercase AND/OR found in rule '( Cre17.g747297.t1.1 OR Cre02.g076600.t1.2 )' for '<Reaction THRTAH at 0x7f9551feb2b0>'\n",
      "cobra/core/reaction.py:440 \u001b[1;31mUserWarning\u001b[0m: uppercase AND/OR found in rule '( Cre10.g458500.t1.2 OR ( Cre18.g749447.t1.1 OR Cre18.g749447.t2.1 ) )' for '<Reaction ASPK at 0x7f9551feb668>'\n",
      "cobra/core/reaction.py:440 \u001b[1;31mUserWarning\u001b[0m: uppercase AND/OR found in rule '( Cre02.g109550.t1.2 OR ( Cre18.g749447.t1.1 OR Cre18.g749447.t2.1 ) )' for '<Reaction HSDH at 0x7f9551febc18>'\n",
      "cobra/core/reaction.py:440 \u001b[1;31mUserWarning\u001b[0m: uppercase AND/OR found in rule '( Cre02.g093450.t1.2 OR Cre02.g115650.t1.2 )' for '<Reaction FBAf at 0x7f9551ff5b38>'\n",
      "cobra/core/reaction.py:440 \u001b[1;31mUserWarning\u001b[0m: uppercase AND/OR found in rule '( ( Cre01.g006950.t1.1 OR Cre01.g006950.t2.1 ) OR Cre02.g093450.t1.2 )' for '<Reaction FBAh at 0x7f9551ff5dd8>'\n",
      "cobra/core/reaction.py:440 \u001b[1;31mUserWarning\u001b[0m: uppercase AND/OR found in rule '( Cre02.g093450.t1.2 OR ( Cre05.g234550.t1.2 OR Cre05.g234550.t2.1 ) )' for '<Reaction FBAm at 0x7f9551fff080>'\n",
      "cobra/core/reaction.py:440 \u001b[1;31mUserWarning\u001b[0m: uppercase AND/OR found in rule '( ( Cre03.g175400.t1.2 OR Cre03.g175400.t2.1 ) OR Cre07.g347100.t1.2 OR Cre16.g677450.t1.2 )' for '<Reaction G6PI at 0x7f9551fff358>'\n",
      "cobra/core/reaction.py:440 \u001b[1;31mUserWarning\u001b[0m: uppercase AND/OR found in rule '( ( Cre03.g175400.t1.2 OR Cre03.g175400.t2.1 ) OR Cre07.g347100.t1.2 OR Cre16.g677450.t1.2 )' for '<Reaction G6PIh at 0x7f9551fff668>'\n",
      "cobra/core/reaction.py:440 \u001b[1;31mUserWarning\u001b[0m: uppercase AND/OR found in rule '( Cre01.g010900.t1.2 AND Cre12.g485150.t1.2 )' for '<Reaction GAPDHh at 0x7f9551f88198>'\n",
      "cobra/core/reaction.py:440 \u001b[1;31mUserWarning\u001b[0m: uppercase AND/OR found in rule '( Cre01.g012600.t1.1 OR Cre06.g278210.t1.1 )' for '<Reaction PGCM at 0x7f9551f88630>'\n",
      "cobra/core/reaction.py:440 \u001b[1;31mUserWarning\u001b[0m: uppercase AND/OR found in rule '( Cre03.g175400.t1.2 OR Cre03.g175400.t2.1 )' for '<Reaction PGIA at 0x7f9551f88b38>'\n",
      "cobra/core/reaction.py:440 \u001b[1;31mUserWarning\u001b[0m: uppercase AND/OR found in rule '( Cre03.g175400.t1.2 OR Cre03.g175400.t2.1 )' for '<Reaction PGIAh at 0x7f9551f88c18>'\n",
      "cobra/core/reaction.py:440 \u001b[1;31mUserWarning\u001b[0m: uppercase AND/OR found in rule '( Cre03.g175400.t1.2 OR Cre03.g175400.t2.1 )' for '<Reaction PGIB at 0x7f9551f88e48>'\n",
      "cobra/core/reaction.py:440 \u001b[1;31mUserWarning\u001b[0m: uppercase AND/OR found in rule '( Cre03.g175400.t1.2 OR Cre03.g175400.t2.1 )' for '<Reaction PGIBh at 0x7f9551f910b8>'\n",
      "cobra/core/reaction.py:440 \u001b[1;31mUserWarning\u001b[0m: uppercase AND/OR found in rule '( Cre10.g460300.t1.2 OR Cre12.g518950.t1.2 OR Cre12.g527400.t1.1 OR Cre03.g166950.t1.2 OR Cre03.g182300.t1.1 OR Cre06.g272050.t1.2 OR Cre05.g232550.t1.2 )' for '<Reaction PGM at 0x7f9551f912e8>'\n",
      "cobra/core/reaction.py:440 \u001b[1;31mUserWarning\u001b[0m: uppercase AND/OR found in rule '( Cre10.g460300.t1.2 OR Cre12.g518950.t1.2 OR Cre12.g527400.t1.1 OR Cre03.g166950.t1.2 OR Cre03.g182300.t1.1 OR Cre06.g272050.t1.2 OR Cre05.g232550.t1.2 )' for '<Reaction PGMf at 0x7f9551f91518>'\n",
      "cobra/core/reaction.py:440 \u001b[1;31mUserWarning\u001b[0m: uppercase AND/OR found in rule '( Cre10.g460300.t1.2 OR Cre12.g518950.t1.2 OR Cre12.g527400.t1.1 OR Cre03.g166950.t1.2 OR Cre03.g182300.t1.1 OR Cre06.g272050.t1.2 OR Cre05.g232550.t1.2 )' for '<Reaction PGMm at 0x7f9551f91748>'\n",
      "cobra/core/reaction.py:440 \u001b[1;31mUserWarning\u001b[0m: uppercase AND/OR found in rule '( Cre01.g032700.t1.2 OR Cre02.g117500.t1.2 )' for '<Reaction GLUKA at 0x7f9551fa5048>'\n",
      "cobra/core/reaction.py:440 \u001b[1;31mUserWarning\u001b[0m: uppercase AND/OR found in rule '( Cre01.g032700.t1.2 OR Cre02.g117500.t1.2 )' for '<Reaction GLUKAh at 0x7f9551fa58d0>'\n",
      "cobra/core/reaction.py:440 \u001b[1;31mUserWarning\u001b[0m: uppercase AND/OR found in rule '( Cre01.g032700.t1.2 OR Cre02.g117500.t1.2 )' for '<Reaction GLUKB at 0x7f9551fa5898>'\n",
      "cobra/core/reaction.py:440 \u001b[1;31mUserWarning\u001b[0m: uppercase AND/OR found in rule '( Cre01.g032700.t1.2 OR Cre02.g117500.t1.2 )' for '<Reaction GLUKBh at 0x7f9551fb0160>'\n",
      "cobra/core/reaction.py:440 \u001b[1;31mUserWarning\u001b[0m: uppercase AND/OR found in rule '( Cre12.g553250.t1.2 OR Cre06.g262900.t1.2 OR Cre11.g467552.t1.1 )' for '<Reaction PFKh at 0x7f9551fb0128>'\n",
      "cobra/core/reaction.py:440 \u001b[1;31mUserWarning\u001b[0m: uppercase AND/OR found in rule '( Cre06.g252550.t1.1 OR Cre09.g386735.t1.1 )' for '<Reaction PDHe2r at 0x7f9551fb0cf8>'\n",
      "cobra/core/reaction.py:440 \u001b[1;31mUserWarning\u001b[0m: uppercase AND/OR found in rule '( ( Cre02.g099850.t1.1 AND Cre03.g194200.t1.2 ) OR ( Cre01.g055453.t1.1 AND Cre09.g386758.t1.1 ) )' for '<Reaction PDHam1hi at 0x7f9551fb0cc0>'\n",
      "cobra/core/reaction.py:440 \u001b[1;31mUserWarning\u001b[0m: uppercase AND/OR found in rule '( ( Cre16.g677026.t1.1 AND Cre07.g337650.t1.2 ) OR ( Cre16.g677026.t1.1 AND Cre03.g165700.t1.1 ) OR ( Cre01.g055453.t1.1 AND Cre09.g386758.t1.1 ) )' for '<Reaction PDHam1mi at 0x7f9551fba048>'\n",
      "cobra/core/reaction.py:440 \u001b[1;31mUserWarning\u001b[0m: uppercase AND/OR found in rule '( ( Cre02.g099850.t1.1 AND Cre03.g194200.t1.2 ) OR ( Cre01.g055453.t1.1 AND Cre09.g386758.t1.1 ) )' for '<Reaction PDHam2hi at 0x7f9551fba470>'\n",
      "cobra/core/reaction.py:440 \u001b[1;31mUserWarning\u001b[0m: uppercase AND/OR found in rule '( ( Cre16.g677026.t1.1 AND Cre07.g337650.t1.2 ) OR ( Cre16.g677026.t1.1 AND Cre03.g165700.t1.1 ) OR ( Cre01.g055453.t1.1 AND Cre09.g386758.t1.1 ) )' for '<Reaction PDHam2mi at 0x7f9551fba8d0>'\n",
      "cobra/core/reaction.py:440 \u001b[1;31mUserWarning\u001b[0m: uppercase AND/OR found in rule '( Cre12.g533550.t1.1 OR Cre06.g280950.t1.2 OR Cre10.g426292.t1.1 OR Cre05.g234700.t1.1 OR Cre03.g144847.t1.1 OR ( Cre02.g147900.t1.1 OR Cre02.g147900.t2.1 OR Cre02.g147900.t3.1 OR Cre02.g147900.t4.1 ) )' for '<Reaction PYK at 0x7f9551f4d2e8>'\n",
      "cobra/core/reaction.py:440 \u001b[1;31mUserWarning\u001b[0m: uppercase AND/OR found in rule '( Cre12.g533550.t1.1 OR Cre10.g426292.t1.1 OR Cre05.g234700.t1.1 OR Cre03.g144847.t1.1 OR ( Cre02.g147900.t1.1 OR Cre02.g147900.t2.1 OR Cre02.g147900.t3.1 OR Cre02.g147900.t4.1 ) )' for '<Reaction PYKf at 0x7f9551f4d438>'\n",
      "cobra/core/reaction.py:440 \u001b[1;31mUserWarning\u001b[0m: uppercase AND/OR found in rule '( Cre12.g533550.t1.1 OR Cre10.g426292.t1.1 OR Cre05.g234700.t1.1 OR Cre03.g144847.t1.1 OR ( Cre02.g147900.t1.1 OR Cre02.g147900.t2.1 OR Cre02.g147900.t3.1 OR Cre02.g147900.t4.1 ) )' for '<Reaction PYKm at 0x7f9551f4d898>'\n",
      "cobra/core/reaction.py:440 \u001b[1;31mUserWarning\u001b[0m: uppercase AND/OR found in rule '( Cre18.g749847.t1.1 OR Cre18.g749847.t2.1 )' for '<Reaction PDHe3mr at 0x7f9551f569e8>'\n",
      "cobra/core/reaction.py:440 \u001b[1;31mUserWarning\u001b[0m: uppercase AND/OR found in rule '( Cre09.g417150.t1.2 OR Cre01.g045700.t1.1 )' for '<Reaction CAT at 0x7f9551f56a20>'\n",
      "cobra/core/reaction.py:440 \u001b[1;31mUserWarning\u001b[0m: uppercase AND/OR found in rule '( Cre02.g088600.t1.2 AND Cre05.g241850.t1.2 )' for '<Reaction ATPCS at 0x7f9551f62048>'\n",
      "cobra/core/reaction.py:440 \u001b[1;31mUserWarning\u001b[0m: uppercase AND/OR found in rule '( Cre02.g119050.t1.1 OR Cre02.g119100.t1.2 )' for '<Reaction FKYNH at 0x7f9551f624e0>'\n",
      "cobra/core/reaction.py:440 \u001b[1;31mUserWarning\u001b[0m: uppercase AND/OR found in rule '( Cre06.g295450.t1.2 OR Cre01.g019100.t1.2 OR Cre06.g278148.t1.1 )' for '<Reaction GLYCLTD at 0x7f9551f6ce80>'\n",
      "cobra/core/reaction.py:440 \u001b[1;31mUserWarning\u001b[0m: uppercase AND/OR found in rule '( Cre06.g295450.t1.2 OR Cre01.g019100.t1.2 OR Cre06.g278148.t1.1 )' for '<Reaction GLYDH at 0x7f9551f6ceb8>'\n",
      "cobra/core/reaction.py:440 \u001b[1;31mUserWarning\u001b[0m: uppercase AND/OR found in rule '( Cre03.g200250.t1.2 OR Cre06.g282800.t1.2 )' for '<Reaction ICL at 0x7f9551f73710>'\n",
      "cobra/core/reaction.py:440 \u001b[1;31mUserWarning\u001b[0m: uppercase AND/OR found in rule '( Cre03.g162650.t1.2 OR Cre03.g182450.t1.2 OR Cre17.g698450.t1.2 )' for '<Reaction MTHFCx at 0x7f9551f73d68>'\n",
      "cobra/core/reaction.py:440 \u001b[1;31mUserWarning\u001b[0m: uppercase AND/OR found in rule '( ChreCp049 AND ( Cre02.g120100.t1.2 OR Cre02.g120150.t1.2 ) )' for '<Reaction RBCh at 0x7f9551f7c128>'\n",
      "cobra/core/reaction.py:440 \u001b[1;31mUserWarning\u001b[0m: uppercase AND/OR found in rule '( ( Cre07.g336600.t1.1 OR Cre07.g336600.t2.1 ) OR Cre06.g301600.t1.1 )' for '<Reaction MM3 at 0x7f9551f06c88>'\n",
      "cobra/core/reaction.py:440 \u001b[1;31mUserWarning\u001b[0m: uppercase AND/OR found in rule '( Cre09.g410650.t1.2 OR Cre09.g410650.t2.1 OR Cre09.g410650.t3.1 )' for '<Reaction ADPART at 0x7f9551f0f6a0>'\n",
      "cobra/core/reaction.py:440 \u001b[1;31mUserWarning\u001b[0m: uppercase AND/OR found in rule '( Cre13.g572750.t1.1 OR Cre13.g572750.t2.1 OR Cre13.g572750.t3.1 )' for '<Reaction AO at 0x7f9551f0f7f0>'\n",
      "cobra/core/reaction.py:440 \u001b[1;31mUserWarning\u001b[0m: uppercase AND/OR found in rule '( Cre11.g481500.t1.2 OR Cre12.g495300.t1.2 )' for '<Reaction PRICI at 0x7f9551f1cdd8>'\n",
      "cobra/core/reaction.py:440 \u001b[1;31mUserWarning\u001b[0m: uppercase AND/OR found in rule '( Cre11.g481500.t1.2 OR Cre12.g495300.t1.2 )' for '<Reaction PRICIh at 0x7f9551f423c8>'\n",
      "cobra/core/reaction.py:440 \u001b[1;31mUserWarning\u001b[0m: uppercase AND/OR found in rule '( Cre17.g747297.t1.1 OR Cre02.g076600.t1.2 )' for '<Reaction HISTAH at 0x7f9551f424a8>'\n",
      "cobra/core/reaction.py:440 \u001b[1;31mUserWarning\u001b[0m: uppercase AND/OR found in rule '( Cre01.g018400.t1.1 OR Cre03.g182100.t1.1 )' for '<Reaction AMI3TP at 0x7f9551f424e0>'\n",
      "cobra/core/reaction.py:440 \u001b[1;31mUserWarning\u001b[0m: uppercase AND/OR found in rule '( Cre01.g018400.t1.1 OR Cre03.g182100.t1.1 )' for '<Reaction ITK1K at 0x7f9551f42a20>'\n",
      "cobra/core/reaction.py:440 \u001b[1;31mUserWarning\u001b[0m: uppercase AND/OR found in rule '( Cre07.g352400.t1.2 OR Cre13.g563550.t1.1 )' for '<Reaction ITKPH at 0x7f955226c908>'\n",
      "cobra/core/reaction.py:440 \u001b[1;31mUserWarning\u001b[0m: uppercase AND/OR found in rule '( Cre07.g352400.t1.2 OR Cre13.g563550.t1.1 )' for '<Reaction ITKPHn at 0x7f9551f3a828>'\n",
      "cobra/core/reaction.py:440 \u001b[1;31mUserWarning\u001b[0m: uppercase AND/OR found in rule '( Cre01.g018400.t1.1 OR Cre03.g182100.t1.1 )' for '<Reaction ITKPK at 0x7f9551f3aa90>'\n",
      "cobra/core/reaction.py:440 \u001b[1;31mUserWarning\u001b[0m: uppercase AND/OR found in rule '( Cre06.g278202.t1.1 OR Cre02.g085900.t1.2 OR Cre02.g109600.t1.2 OR Cre17.g723550.t1.2 )' for '<Reaction MI1PP at 0x7f9551f3a6d8>'\n",
      "cobra/core/reaction.py:440 \u001b[1;31mUserWarning\u001b[0m: uppercase AND/OR found in rule '( Cre06.g278202.t1.1 OR Cre02.g085900.t1.2 OR Cre02.g109600.t1.2 OR Cre17.g723550.t1.2 )' for '<Reaction MI3PP at 0x7f9551f3ae10>'\n",
      "cobra/core/reaction.py:440 \u001b[1;31mUserWarning\u001b[0m: uppercase AND/OR found in rule '( Cre06.g278202.t1.1 OR Cre02.g085900.t1.2 OR Cre02.g109600.t1.2 OR Cre17.g723550.t1.2 )' for '<Reaction MI4PP at 0x7f9551eca4a8>'\n",
      "cobra/core/reaction.py:440 \u001b[1;31mUserWarning\u001b[0m: uppercase AND/OR found in rule '( Cre13.g568600.t1.1 OR Cre13.g568600.t2.1 OR Cre13.g568600.t3.1 )' for '<Reaction MIHKPP at 0x7f9551eca9e8>'\n",
      "cobra/core/reaction.py:440 \u001b[1;31mUserWarning\u001b[0m: uppercase AND/OR found in rule '( Cre13.g568600.t1.1 OR Cre13.g568600.t2.1 OR Cre13.g568600.t3.1 )' for '<Reaction MITKP at 0x7f9551f3ac18>'\n",
      "cobra/core/reaction.py:440 \u001b[1;31mUserWarning\u001b[0m: uppercase AND/OR found in rule '( Cre07.g352400.t1.2 OR Cre13.g563550.t1.1 )' for '<Reaction MITP at 0x7f9551ecaf28>'\n",
      "cobra/core/reaction.py:440 \u001b[1;31mUserWarning\u001b[0m: uppercase AND/OR found in rule '( Cre07.g352400.t1.2 OR Cre13.g563550.t1.1 )' for '<Reaction MITPn at 0x7f9551ecaeb8>'\n",
      "cobra/core/reaction.py:440 \u001b[1;31mUserWarning\u001b[0m: uppercase AND/OR found in rule '( Cre05.g245550.t1.1 OR Cre06.g304650.t1.1 )' for '<Reaction PAIL4PT18111Z160 at 0x7f9551ecaba8>'\n",
      "cobra/core/reaction.py:440 \u001b[1;31mUserWarning\u001b[0m: uppercase AND/OR found in rule '( Cre05.g245550.t1.1 OR Cre06.g304650.t1.1 )' for '<Reaction PAIL4PT1819Z160 at 0x7f9551edc710>'\n",
      "cobra/core/reaction.py:440 \u001b[1;31mUserWarning\u001b[0m: uppercase AND/OR found in rule '( Cre12.g523050.t1.1 OR Cre06.g249950.t1.1 OR Cre09.g400478.t1.1 )' for '<Reaction PAIL45PT18111Z160 at 0x7f9551ecac18>'\n",
      "cobra/core/reaction.py:440 \u001b[1;31mUserWarning\u001b[0m: uppercase AND/OR found in rule '( Cre12.g523050.t1.1 OR Cre06.g249950.t1.1 OR Cre09.g400478.t1.1 )' for '<Reaction PAIL45PT1819Z160 at 0x7f9551edc5f8>'\n",
      "cobra/core/reaction.py:440 \u001b[1;31mUserWarning\u001b[0m: uppercase AND/OR found in rule '( Cre12.g530050.t1.2 OR Cre13.g563550.t1.1 )' for '<Reaction PAIL45PH18111Z160 at 0x7f9551edc4e0>'\n",
      "cobra/core/reaction.py:440 \u001b[1;31mUserWarning\u001b[0m: uppercase AND/OR found in rule '( Cre12.g530050.t1.2 OR Cre13.g563550.t1.1 )' for '<Reaction PAIL45PH1819Z160 at 0x7f9551edc8d0>'\n",
      "cobra/core/reaction.py:440 \u001b[1;31mUserWarning\u001b[0m: uppercase AND/OR found in rule '( Cre14.g627850.t1.2 OR Cre16.g656300.t1.1 )' for '<Reaction DHPR at 0x7f9551ef1c18>'\n",
      "cobra/core/reaction.py:440 \u001b[1;31mUserWarning\u001b[0m: uppercase AND/OR found in rule '( Cre03.g160500.t1.2 OR Cre06.g296250.t1.1 )' for '<Reaction LYSTLm at 0x7f9551e825c0>'\n",
      "cobra/core/reaction.py:440 \u001b[1;31mUserWarning\u001b[0m: uppercase AND/OR found in rule '( Cre17.g747297.t1.1 OR Cre02.g076600.t1.2 )' for '<Reaction LYSTAH at 0x7f9551e820f0>'\n",
      "cobra/core/reaction.py:440 \u001b[1;31mUserWarning\u001b[0m: uppercase AND/OR found in rule '( Cre09.g391450.t1.2 AND Cre09.g391650.t1.2 )' for '<Reaction COORr at 0x7f9551e82ac8>'\n",
      "cobra/core/reaction.py:440 \u001b[1;31mUserWarning\u001b[0m: uppercase AND/OR found in rule '( Cre01.g000650.t1.1 OR Cre09.g402515.t1.1 )' for '<Reaction MMAOR at 0x7f9551e82ba8>'\n",
      "cobra/core/reaction.py:440 \u001b[1;31mUserWarning\u001b[0m: uppercase AND/OR found in rule '( Cre03.g144627.t1.1 AND ( Cre10.g446100.t1.2 OR Cre05.g243050.t1.2 OR Cre01.g066552.t1.1 ) )' for '<Reaction AHAL at 0x7f9551e94780>'\n",
      "cobra/core/reaction.py:440 \u001b[1;31mUserWarning\u001b[0m: uppercase AND/OR found in rule '( Cre10.g461750.t1.1 OR Cre12.g484600.t1.2 )' for '<Reaction DMT at 0x7f9551e94d68>'\n",
      "cobra/core/reaction.py:440 \u001b[1;31mUserWarning\u001b[0m: uppercase AND/OR found in rule '( Cre16.g687518.t1.1 OR Cre16.g673550.t1.1 )' for '<Reaction M5TRPI at 0x7f9551ea3c18>'\n",
      "cobra/core/reaction.py:440 \u001b[1;31mUserWarning\u001b[0m: uppercase AND/OR found in rule '( Cre12.g560550.t1.1 OR Cre09.g392729.t1.1 )' for '<Reaction METTF at 0x7f9551ea3fd0>'\n",
      "cobra/core/reaction.py:440 \u001b[1;31mUserWarning\u001b[0m: uppercase AND/OR found in rule '( Cre12.g487100.t1.2 OR Cre02.g087950.t1.2 )' for '<Reaction METTL at 0x7f9551ea3978>'\n",
      "cobra/core/reaction.py:440 \u001b[1;31mUserWarning\u001b[0m: uppercase AND/OR found in rule '( Cre17.g747297.t1.1 OR Cre02.g076600.t1.2 )' for '<Reaction METTAH at 0x7f9551eb5908>'\n",
      "cobra/core/reaction.py:440 \u001b[1;31mUserWarning\u001b[0m: uppercase AND/OR found in rule '( Cre12.g523300.t1.2 AND ( Cre08.g368450.t1.2 OR Cre08.g368450.t2.1 ) AND Cre14.g614100.t1.2 AND ( Cre09.g387245.t1.1 OR Cre07.g330100.t1.2 ) )' for '<Reaction DOLASNT at 0x7f9551e44320>'\n",
      "cobra/core/reaction.py:440 \u001b[1;31mUserWarning\u001b[0m: uppercase AND/OR found in rule '( Cre13.g585850.t1.2 OR Cre16.g669950.t1.2 )' for '<Reaction GLCNACT at 0x7f9551e57978>'\n",
      "cobra/core/reaction.py:440 \u001b[1;31mUserWarning\u001b[0m: uppercase AND/OR found in rule '( ( Cre07.g336600.t1.1 OR Cre07.g336600.t2.1 ) OR Cre06.g301600.t1.1 )' for '<Reaction MM1 at 0x7f9551e68390>'\n",
      "cobra/core/reaction.py:440 \u001b[1;31mUserWarning\u001b[0m: uppercase AND/OR found in rule '( Cre03.g180450.t1.2 OR Cre03.g180550.t1.2 OR Cre03.g180600.t1.1 )' for '<Reaction NRPH at 0x7f9551e794e0>'\n",
      "cobra/core/reaction.py:440 \u001b[1;31mUserWarning\u001b[0m: uppercase AND/OR found in rule '( Cre12.g560600.t1.1 OR Cre07.g322950.t1.2 OR Cre10.g431650.t1.2 )' for '<Reaction AN2PT at 0x7f9551e79470>'\n",
      "cobra/core/reaction.py:440 \u001b[1;31mUserWarning\u001b[0m: uppercase AND/OR found in rule '( Cre16.g658075.t1.1 OR Cre03.g189450.t1.2 OR Cre03.g189500.t1.2 OR Cre08.g367800.t1.2 OR Cre06.g285200.t1.1 OR Cre08.g373550.t1.2 OR Cre02.g106500.t1.2 OR Cre03.g184400.t1.2 OR Cre09.g396900.t1.2 )' for '<Reaction DNNH at 0x7f9551e79908>'\n",
      "cobra/core/reaction.py:440 \u001b[1;31mUserWarning\u001b[0m: uppercase AND/OR found in rule '( Cre10.g448500.t1.1 OR Cre02.g081350.t1.1 )' for '<Reaction NAAH at 0x7f9551e79eb8>'\n",
      "cobra/core/reaction.py:440 \u001b[1;31mUserWarning\u001b[0m: uppercase AND/OR found in rule '( Cre03.g180450.t1.2 OR Cre03.g180550.t1.2 OR Cre03.g180600.t1.1 )' for '<Reaction NARP at 0x7f9551e79a58>'\n",
      "cobra/core/reaction.py:440 \u001b[1;31mUserWarning\u001b[0m: uppercase AND/OR found in rule '( Cre02.g103350.t1.1 OR ( Cre11.g467630.t1.1 OR Cre11.g467630.t2.1 OR Cre11.g467630.t3.1 ) )' for '<Reaction AMID at 0x7f9551e099b0>'\n",
      "cobra/core/reaction.py:440 \u001b[1;31mUserWarning\u001b[0m: uppercase AND/OR found in rule '( Cre10.g459000.t1.1 AND ( Cre12.g552850.t1.1 OR Cre03.g193750.t1.1 ) )' for '<Reaction GLYS at 0x7f9551e1bc18>'\n",
      "cobra/core/reaction.py:440 \u001b[1;31mUserWarning\u001b[0m: uppercase AND/OR found in rule '( Cre08.g360550.t1.1 AND ( Cre16.g651050.t1.2 OR Cre16.g670950.t1.2 ) )' for '<Reaction NITR_NO at 0x7f9551e2a2e8>'\n",
      "cobra/core/reaction.py:440 \u001b[1;31mUserWarning\u001b[0m: uppercase AND/OR found in rule '( Cre09.g410750.t1.2 AND ( Cre16.g658400.t1.2 OR Cre17.g700950.t1.2 OR Cre03.g183850.t1.2 OR Cre06.g306350.t1.2 OR ( Cre07.g334800.t1.2 OR Cre07.g334800.t2.1 ) ) )' for '<Reaction NO2R at 0x7f9551e1bf98>'\n",
      "cobra/core/reaction.py:440 \u001b[1;31mUserWarning\u001b[0m: uppercase AND/OR found in rule '( Cre08.g360050.t1.1 OR Cre08.g360050.t2.1 )' for '<Reaction URCBm at 0x7f9551e1bef0>'\n",
      "cobra/core/reaction.py:440 \u001b[1;31mUserWarning\u001b[0m: uppercase AND/OR found in rule '( Cre16.g666334.t1.1 OR Cre16.g666334.t2.1 OR Cre16.g666334.t3.1 )' for '<Reaction A2GALT1 at 0x7f9551e3d0f0>'\n",
      "cobra/core/reaction.py:440 \u001b[1;31mUserWarning\u001b[0m: uppercase AND/OR found in rule '( Cre16.g666334.t1.1 OR Cre16.g666334.t2.1 OR Cre16.g666334.t3.1 )' for '<Reaction A2GALT2 at 0x7f9551e3d208>'\n",
      "cobra/core/reaction.py:440 \u001b[1;31mUserWarning\u001b[0m: uppercase AND/OR found in rule '( Cre16.g666334.t1.1 OR Cre16.g666334.t2.1 OR Cre16.g666334.t3.1 )' for '<Reaction A2GALT3 at 0x7f9551e3d2b0>'\n",
      "cobra/core/reaction.py:440 \u001b[1;31mUserWarning\u001b[0m: uppercase AND/OR found in rule '( Cre16.g666334.t1.1 OR Cre16.g666334.t2.1 OR Cre16.g666334.t3.1 )' for '<Reaction A2GALT4 at 0x7f9551e3d668>'\n",
      "cobra/core/reaction.py:440 \u001b[1;31mUserWarning\u001b[0m: uppercase AND/OR found in rule '( Cre16.g666334.t1.1 OR Cre16.g666334.t2.1 OR Cre16.g666334.t3.1 )' for '<Reaction A2GALT5 at 0x7f9551e3d860>'\n",
      "cobra/core/reaction.py:440 \u001b[1;31mUserWarning\u001b[0m: uppercase AND/OR found in rule '( Cre16.g666334.t1.1 OR Cre16.g666334.t2.1 OR Cre16.g666334.t3.1 )' for '<Reaction A2GALT6 at 0x7f9551e3da58>'\n",
      "cobra/core/reaction.py:440 \u001b[1;31mUserWarning\u001b[0m: uppercase AND/OR found in rule '( Cre16.g666334.t1.1 OR Cre16.g666334.t2.1 OR Cre16.g666334.t3.1 )' for '<Reaction A3GALT1 at 0x7f9551e3dc50>'\n",
      "cobra/core/reaction.py:440 \u001b[1;31mUserWarning\u001b[0m: uppercase AND/OR found in rule '( Cre16.g666334.t1.1 OR Cre16.g666334.t2.1 OR Cre16.g666334.t3.1 )' for '<Reaction A3GALT2 at 0x7f9551dd0198>'\n",
      "cobra/core/reaction.py:440 \u001b[1;31mUserWarning\u001b[0m: uppercase AND/OR found in rule '( Cre16.g666334.t1.1 OR Cre16.g666334.t2.1 OR Cre16.g666334.t3.1 )' for '<Reaction A3GALT3 at 0x7f9551dd0080>'\n",
      "cobra/core/reaction.py:440 \u001b[1;31mUserWarning\u001b[0m: uppercase AND/OR found in rule '( Cre16.g666334.t1.1 OR Cre16.g666334.t2.1 OR Cre16.g666334.t3.1 )' for '<Reaction A3GALT4 at 0x7f9551dd0278>'\n",
      "cobra/core/reaction.py:440 \u001b[1;31mUserWarning\u001b[0m: uppercase AND/OR found in rule '( Cre16.g666334.t1.1 OR Cre16.g666334.t2.1 OR Cre16.g666334.t3.1 )' for '<Reaction A3GALT5 at 0x7f9551dd0470>'\n",
      "cobra/core/reaction.py:440 \u001b[1;31mUserWarning\u001b[0m: uppercase AND/OR found in rule '( Cre16.g666334.t1.1 OR Cre16.g666334.t2.1 OR Cre16.g666334.t3.1 )' for '<Reaction A4GALT at 0x7f9551dd0c18>'\n",
      "cobra/core/reaction.py:440 \u001b[1;31mUserWarning\u001b[0m: uppercase AND/OR found in rule '( Cre01.g014650.t1.2 OR Cre10.g443050.t1.2 OR ( Cre10.g459900.t1.1 OR Cre10.g459900.t2.1 ) OR Cre11.g481200.t1.2 OR Cre02.g084450.t1.2 OR ( Cre03.g160200.t1.2 OR Cre03.g160200.t2.1 ) OR Cre04.g217931.t1.1 OR Cre05.g244700.t1.1 OR Cre08.g369300.t1.2 OR Cre10.g428500.t1.1 )' for '<Reaction PROAKGOX1 at 0x7f9551dd0860>'\n",
      "cobra/core/reaction.py:440 \u001b[1;31mUserWarning\u001b[0m: uppercase AND/OR found in rule '( Cre12.g550700.t1.2 OR Cre18.g749497.t1.1 )' for '<Reaction FPGFTh at 0x7f9551de2c88>'\n",
      "cobra/core/reaction.py:440 \u001b[1;31mUserWarning\u001b[0m: uppercase AND/OR found in rule '( Cre12.g550700.t1.2 OR Cre07.g318750.t1.2 )' for '<Reaction FPGFTm at 0x7f9551de2dd8>'\n",
      "cobra/core/reaction.py:440 \u001b[1;31mUserWarning\u001b[0m: uppercase AND/OR found in rule '( Cre10.g459000.t1.1 AND ( Cre12.g552850.t1.1 OR Cre03.g193750.t1.1 ) )' for '<Reaction MTAM_nh4 at 0x7f9551de2f60>'\n",
      "cobra/core/reaction.py:440 \u001b[1;31mUserWarning\u001b[0m: uppercase AND/OR found in rule '( Cre12.g550700.t1.2 OR Cre18.g749497.t1.1 )' for '<Reaction FGFTh at 0x7f9551defba8>'\n",
      "cobra/core/reaction.py:440 \u001b[1;31mUserWarning\u001b[0m: uppercase AND/OR found in rule '( Cre12.g550700.t1.2 OR Cre07.g318750.t1.2 )' for '<Reaction FGFTm at 0x7f9551defd68>'\n",
      "cobra/core/reaction.py:440 \u001b[1;31mUserWarning\u001b[0m: uppercase AND/OR found in rule '( Cre10.g459000.t1.1 AND ( Cre12.g552850.t1.1 OR Cre03.g193750.t1.1 ) )' for '<Reaction MTAM at 0x7f9551d83780>'\n",
      "cobra/core/reaction.py:440 \u001b[1;31mUserWarning\u001b[0m: uppercase AND/OR found in rule '( Cre17.g698000.t1.2 AND ( Cre15.g635850.t1.2 OR Cre15.g635850.t2.1 ) AND Cre11.g467707.t1.1 AND Cre16.g680000.t1.2 AND Cre01.g018800.t1.2 AND Cre17.g726250.t1.2 AND Cre10.g420700.t1.2 AND Cre01.g049600.t1.2 AND ( ( Cre02.g116750.t1.1 OR Cre02.g116750.t2.1 ) OR ( Cre10.g419050.t1.1 OR Cre10.g419050.t2.1 ) ) AND ( Cre17.g731950.t1.2 OR Cre17.g732000.t1.1 ) AND Cre07.g340350.t1.1 AND Cre07.g338050.t1.2 AND Cre13.g581600.t1.2 AND Cre17.g721300.t1.2 AND Cre02.g079800.t1.2 AND Cre09.g402300.t1.2 AND Cre09.g415550.t1.2 AND Cre09.g416150.t1.2 )' for '<Reaction ATPSm at 0x7f9551d83d30>'\n",
      "cobra/core/reaction.py:440 \u001b[1;31mUserWarning\u001b[0m: uppercase AND/OR found in rule '( Cre09.g401886.t1.1 AND ( Cre12.g522600.t1.2 OR Cre15.g638500.t1.2 ) )' for '<Reaction CCP2m at 0x7f9551d83eb8>'\n",
      "cobra/core/reaction.py:440 \u001b[1;31mUserWarning\u001b[0m: uppercase AND/OR found in rule '( Cre03.g154350.t1.2 AND Cre01.g049500.t1.2 AND Cre04.g221700.t1.2 AND Cre06.g304350.t1.2 AND Cre16.g691850.t1.2 AND Cre13.g567600.t1.2 AND Cre03.g157700.t1.2 AND ChrepMp04 AND ( Cre12.g522600.t1.2 OR Cre15.g638500.t1.2 ) )' for '<Reaction CYOO6m at 0x7f9551d93048>'\n",
      "cobra/core/reaction.py:440 \u001b[1;31mUserWarning\u001b[0m: uppercase AND/OR found in rule '( Cre01.g051900.t1.2 AND Cre06.g262700.t1.1 AND Cre11.g468950.t1.2 AND ChrepMp01 AND ( Cre12.g522600.t1.2 OR Cre15.g638500.t1.2 ) )' for '<Reaction CYOR_q8_m at 0x7f9551d83fd0>'\n",
      "cobra/core/reaction.py:440 \u001b[1;31mUserWarning\u001b[0m: uppercase AND/OR found in rule '( Cre10.g424100.t1.2 OR Cre09.g387875.t1.1 OR Cre09.g394436.t1.1 OR Cre09.g390200.t1.1 )' for '<Reaction IDPh at 0x7f9551d83ba8>'\n",
      "cobra/core/reaction.py:440 \u001b[1;31mUserWarning\u001b[0m: uppercase AND/OR found in rule '( Cre10.g424100.t1.2 OR Cre09.g387875.t1.1 OR Cre09.g394436.t1.1 OR Cre09.g390200.t1.1 )' for '<Reaction IDPm at 0x7f9551d933c8>'\n",
      "cobra/core/reaction.py:440 \u001b[1;31mUserWarning\u001b[0m: uppercase AND/OR found in rule '( Cre12.g492300.t1.2 AND Cre09.g402552.t1.1 AND Cre11.g467767.t1.1 AND Cre06.g267200.t1.2 AND Cre08.g378900.t1.2 AND Cre10.g450400.t1.2 AND Cre10.g422600.t1.1 AND Cre12.g496750.t1.2 AND Cre07.g327400.t1.1 AND Cre07.g333900.t1.1 AND Cre10.g434450.t1.2 AND Cre13.g568800.t1.2 AND Cre12.g555250.t1.2 AND Cre16.g664600.t1.2 AND Cre06.g278188.t1.1 AND Cre12.g535950.t1.2 AND Cre03.g146247.t1.1 AND Cre12.g511200.t1.2 AND ( Cre06.g293850.t1.2 OR Cre09.g415850.t1.2 ) AND Cre16.g679500.t1.2 AND Cre09.g405850.t1.1 AND ChrepMp02 AND ChrepMp03 AND ChrepMp05 AND ChrepMp06 AND ChrepMp07 )' for '<Reaction NADHOR at 0x7f9551d93518>'\n",
      "cobra/core/reaction.py:440 \u001b[1;31mUserWarning\u001b[0m: uppercase AND/OR found in rule '( Cre16.g691552.t1.1 OR Cre16.g671000.t1.2 )' for '<Reaction NADHOR_2m at 0x7f9551d83e10>'\n",
      "cobra/core/reaction.py:440 \u001b[1;31mUserWarning\u001b[0m: uppercase AND/OR found in rule '( ( Cre19.g750547.t1.1 OR Cre19.g750547.t2.1 OR Cre19.g750547.t3.1 OR Cre19.g750547.t4.1 ) OR Cre05.g232200.t1.2 )' for '<Reaction NADHOR_2h at 0x7f9551d93f28>'\n",
      "cobra/core/reaction.py:440 \u001b[1;31mUserWarning\u001b[0m: uppercase AND/OR found in rule '( Cre09.g387875.t1.1 OR Cre09.g394436.t1.1 )' for '<Reaction IDP at 0x7f9551d936d8>'\n",
      "cobra/core/reaction.py:440 \u001b[1;31mUserWarning\u001b[0m: uppercase AND/OR found in rule '( ( Cre01.g018500.t1.1 OR Cre07.g323750.t1.1 ) AND Cre13.g577100.t1.2 )' for '<Reaction ACPS1 at 0x7f9551d93eb8>'\n",
      "cobra/core/reaction.py:440 \u001b[1;31mUserWarning\u001b[0m: uppercase AND/OR found in rule '( ( Cre01.g018500.t1.1 OR Cre07.g323750.t1.1 ) AND Cre13.g577100.t1.2 )' for '<Reaction ACPS1h at 0x7f9551db4278>'\n",
      "cobra/core/reaction.py:440 \u001b[1;31mUserWarning\u001b[0m: uppercase AND/OR found in rule '( Cre10.g458050.t1.2 OR Cre05.g245900.t1.2 )' for '<Reaction BCTA_val_m at 0x7f9551db43c8>'\n",
      "cobra/core/reaction.py:440 \u001b[1;31mUserWarning\u001b[0m: uppercase AND/OR found in rule '( ( Cre01.g018500.t1.1 OR Cre07.g323750.t1.1 ) AND Cre13.g577100.t1.2 )' for '<Reaction ACPS1m at 0x7f9551db47f0>'\n",
      "cobra/core/reaction.py:440 \u001b[1;31mUserWarning\u001b[0m: uppercase AND/OR found in rule '( Cre10.g436150.t1.1 OR Cre13.g586250.t1.2 )' for '<Reaction ADCPT at 0x7f9551db4be0>'\n",
      "cobra/core/reaction.py:440 \u001b[1;31mUserWarning\u001b[0m: uppercase AND/OR found in rule '( Cre13.g572500.t1.2 OR Cre13.g591400.t1.1 )' for '<Reaction APCPT at 0x7f9551db4d30>'\n",
      "cobra/core/reaction.py:440 \u001b[1;31mUserWarning\u001b[0m: uppercase AND/OR found in rule '( Cre13.g572500.t1.2 OR Cre13.g591400.t1.1 )' for '<Reaction APNPT at 0x7f9551db49b0>'\n",
      "cobra/core/reaction.py:440 \u001b[1;31mUserWarning\u001b[0m: uppercase AND/OR found in rule '( Cre13.g572500.t1.2 OR Cre13.g591400.t1.1 )' for '<Reaction APPT at 0x7f9551db4cf8>'\n",
      "cobra/core/reaction.py:440 \u001b[1;31mUserWarning\u001b[0m: uppercase AND/OR found in rule '( Cre01.g055453.t1.1 AND Cre09.g386758.t1.1 )' for '<Reaction PPATDh at 0x7f9551d5e0b8>'\n",
      "cobra/core/reaction.py:440 \u001b[1;31mUserWarning\u001b[0m: uppercase AND/OR found in rule '( Cre01.g055453.t1.1 AND Cre09.g386758.t1.1 )' for '<Reaction PPATDm at 0x7f9551d5e1d0>'\n",
      "cobra/core/reaction.py:440 \u001b[1;31mUserWarning\u001b[0m: uppercase AND/OR found in rule '( Cre01.g012600.t1.1 OR Cre06.g278210.t1.1 )' for '<Reaction PPM at 0x7f9551d4dd68>'\n",
      "cobra/core/reaction.py:440 \u001b[1;31mUserWarning\u001b[0m: uppercase AND/OR found in rule '( Cre08.g378850.t1.2 OR Cre09.g394550.t1.2 )' for '<Reaction RPDPK at 0x7f9551d5ea90>'\n",
      "cobra/core/reaction.py:440 \u001b[1;31mUserWarning\u001b[0m: uppercase AND/OR found in rule '( ( Cre01.g032650.t1.2 OR Cre01.g032650.t2.1 ) OR Cre14.g630847.t1.1 )' for '<Reaction TAh at 0x7f9551d5ec50>'\n",
      "cobra/core/reaction.py:440 \u001b[1;31mUserWarning\u001b[0m: uppercase AND/OR found in rule '( Cre01.g034400.t1.1 OR Cre08.g370650.t1.2 )' for '<Reaction PGLh at 0x7f9551d70e10>'\n",
      "cobra/core/reaction.py:440 \u001b[1;31mUserWarning\u001b[0m: uppercase AND/OR found in rule '( Cre16.g672385.t1.1 OR Cre02.g097900.t1.2 OR Cre09.g387726.t1.1 OR Cre02.g147302.t1.1 )' for '<Reaction POAT at 0x7f9551d81978>'\n",
      "cobra/core/reaction.py:440 \u001b[1;31mUserWarning\u001b[0m: uppercase AND/OR found in rule '( Cre16.g672385.t1.1 OR Cre02.g097900.t1.2 OR Cre09.g387726.t1.1 OR Cre02.g147302.t1.1 )' for '<Reaction POATh at 0x7f9551d70d68>'\n",
      "cobra/core/reaction.py:440 \u001b[1;31mUserWarning\u001b[0m: uppercase AND/OR found in rule '( Cre16.g672385.t1.1 OR Cre02.g097900.t1.2 OR Cre09.g387726.t1.1 OR Cre06.g257950.t1.2 )' for '<Reaction POATm at 0x7f9551d81dd8>'\n",
      "cobra/core/reaction.py:440 \u001b[1;31mUserWarning\u001b[0m: uppercase AND/OR found in rule '( Cre16.g672385.t1.1 OR Cre02.g097900.t1.2 OR Cre09.g387726.t1.1 )' for '<Reaction TYRTA at 0x7f9551d81eb8>'\n",
      "cobra/core/reaction.py:440 \u001b[1;31mUserWarning\u001b[0m: uppercase AND/OR found in rule '( Cre16.g672385.t1.1 OR Cre02.g097900.t1.2 OR Cre09.g387726.t1.1 )' for '<Reaction TYRTAh at 0x7f9551d0f3c8>'\n",
      "cobra/core/reaction.py:440 \u001b[1;31mUserWarning\u001b[0m: uppercase AND/OR found in rule '( Cre16.g672385.t1.1 OR Cre02.g097900.t1.2 OR Cre09.g387726.t1.1 OR Cre06.g257950.t1.2 )' for '<Reaction TYRTAm at 0x7f9551d0f8d0>'\n",
      "cobra/core/reaction.py:440 \u001b[1;31mUserWarning\u001b[0m: uppercase AND/OR found in rule '( ( Cre03.g181400.t1.1 OR Cre06.g306601.t1.1 ) AND Cre14.g620300.t1.2 )' for '<Reaction ATNS at 0x7f9551d0fcf8>'\n",
      "cobra/core/reaction.py:440 \u001b[1;31mUserWarning\u001b[0m: uppercase AND/OR found in rule '( ( Cre03.g181400.t1.1 OR Cre06.g306601.t1.1 ) AND Cre14.g620300.t1.2 )' for '<Reaction ATNS_nh4 at 0x7f9551d0ff98>'\n",
      "cobra/core/reaction.py:440 \u001b[1;31mUserWarning\u001b[0m: uppercase AND/OR found in rule '( Cre12.g528700.t1.2 AND Cre03.g161400.t1.2 )' for '<Reaction G3PL at 0x7f9551d0fda0>'\n",
      "cobra/core/reaction.py:440 \u001b[1;31mUserWarning\u001b[0m: uppercase AND/OR found in rule '( Cre02.g079600.t1.2 OR Cre09.g389430.t1.1 OR Cre13.g603900.t1.2 )' for '<Reaction PHETLm at 0x7f9551d22828>'\n",
      "cobra/core/reaction.py:440 \u001b[1;31mUserWarning\u001b[0m: uppercase AND/OR found in rule '( Cre12.g528700.t1.2 AND Cre03.g161400.t1.2 )' for '<Reaction SERH at 0x7f9551d22b70>'\n",
      "cobra/core/reaction.py:440 \u001b[1;31mUserWarning\u001b[0m: uppercase AND/OR found in rule '( Cre10.g436350.t1.1 OR Cre16.g659850.t1.2 )' for '<Reaction SKK at 0x7f9551d22d68>'\n",
      "cobra/core/reaction.py:440 \u001b[1;31mUserWarning\u001b[0m: uppercase AND/OR found in rule '( Cre12.g528700.t1.2 AND Cre03.g161400.t1.2 )' for '<Reaction TRPS2h at 0x7f9551d365f8>'\n",
      "cobra/core/reaction.py:440 \u001b[1;31mUserWarning\u001b[0m: uppercase AND/OR found in rule '( Cre12.g522350.t1.2 OR Cre05.g238322.t1.1 )' for '<Reaction TRPTL at 0x7f9551d22a58>'\n",
      "cobra/core/reaction.py:440 \u001b[1;31mUserWarning\u001b[0m: uppercase AND/OR found in rule '( Cre03.g145727.t1.1 OR Cre13.g606050.t1.2 )' for '<Reaction TYRTL at 0x7f9551d22cc0>'\n",
      "cobra/core/reaction.py:440 \u001b[1;31mUserWarning\u001b[0m: uppercase AND/OR found in rule '( Cre09.g389430.t1.1 OR Cre13.g603900.t1.2 )' for '<Reaction PHETL at 0x7f9551d368d0>'\n",
      "cobra/core/reaction.py:440 \u001b[1;31mUserWarning\u001b[0m: uppercase AND/OR found in rule '( Cre17.g747297.t1.1 OR Cre02.g076600.t1.2 )' for '<Reaction PHETAH at 0x7f9551cc5ba8>'\n",
      "cobra/core/reaction.py:440 \u001b[1;31mUserWarning\u001b[0m: uppercase AND/OR found in rule '( Cre17.g747297.t1.1 OR Cre02.g076600.t1.2 )' for '<Reaction TRPTAH at 0x7f9551cc5ac8>'\n",
      "cobra/core/reaction.py:440 \u001b[1;31mUserWarning\u001b[0m: uppercase AND/OR found in rule '( Cre17.g747297.t1.1 OR Cre02.g076600.t1.2 )' for '<Reaction TYRTAAH at 0x7f9551cc5198>'\n",
      "cobra/core/reaction.py:440 \u001b[1;31mUserWarning\u001b[0m: uppercase AND/OR found in rule '( Cre11.g481450.t1.2 AND Cre06.g259900.t1.2 AND Cre11.g467569.t1.1 AND ChreCp058 AND ChreCp050 AND ChreCp023 AND ChreCp053 AND ChreCp062 AND ChreCp054 )' for '<Reaction ATPSh at 0x7f9551cc5e80>'\n",
      "cobra/core/reaction.py:440 \u001b[1;31mUserWarning\u001b[0m: uppercase AND/OR found in rule '( Cre12.g546150.t1.2 AND Cre12.g558900.t1.2 AND Cre16.g650100.t1.2 AND Cre03.g182551.t1.2 AND Cre11.g467689.t1.1 AND ChreCp008 AND ChreCp002 AND ChreCp001 AND ChreCp045 AND ChreCp068 )' for '<Reaction CBFC at 0x7f9551cc5358>'\n",
      "cobra/core/reaction.py:440 \u001b[1;31mUserWarning\u001b[0m: uppercase AND/OR found in rule '( Cre14.g626700.t1.2 AND Cre03.g182551.t1.2 AND Cre05.g242400.t1.2 AND Cre07.g340200.t1.1 )' for '<Reaction CEF at 0x7f9551cc5da0>'\n",
      "cobra/core/reaction.py:440 \u001b[1;31mUserWarning\u001b[0m: uppercase AND/OR found in rule '( Cre11.g476750.t1.2 AND Cre14.g626700.t1.2 )' for '<Reaction FNORh at 0x7f9551cd82b0>'\n",
      "cobra/core/reaction.py:440 \u001b[1;31mUserWarning\u001b[0m: uppercase AND/OR found in rule '( Cre06.g283050.t1.2 AND Cre12.g508750.t1.2 AND Cre11.g467573.t1.1 AND Cre10.g452050.t1.2 AND Cre10.g425900.t1.2 AND Cre06.g278213.t1.1 AND Cre16.g687900.t1.2 AND Cre06.g272650.t1.2 AND Cre07.g344950.t1.2 AND Cre03.g182551.t1.2 AND Cre14.g626700.t1.2 AND Cre07.g340200.t1.1 AND Cre05.g238332.t1.1 AND Cre10.g420350.t1.2 AND Cre09.g412100.t1.2 AND Cre12.g560950.t1.2 AND Cre07.g330250.t1.2 AND Cre03.g165100.t1.2 AND Cre17.g724300.t1.2 AND Cre12.g486300.t1.2 AND Cre02.g082500.t1.1 AND Cre07.g334550.t1.2 AND Cre05.g233950.t1.2 AND ChreCp019 AND ChreCp048 AND ChreCp067 AND ChreCp061 )' for '<Reaction PSIblue at 0x7f9551cd8d68>'\n",
      "cobra/core/reaction.py:440 \u001b[1;31mUserWarning\u001b[0m: uppercase AND/OR found in rule '( Cre05.g243800.t1.2 AND Cre17.g720250.t1.2 AND Cre16.g673650.t1.1 AND Cre12.g548400.t1.2 AND Cre06.g283950.t1.2 AND Cre10.g440450.t1.2 AND Cre09.g396213.t1.1 AND Cre12.g550850.t1.2 AND Cre16.g678851.t1.1 AND Cre12.g509050.t1.1 AND Cre08.g362900.t1.1 AND Cre09.g389578.t1.1 AND Cre07.g328200.t1.2 AND Cre07.g328250.t1.2 AND Cre06.g280100.t1.2 AND Cre03.g198850.t1.2 AND Cre08.g372450.t1.2 AND Cre06.g261000.t1.2 AND Cre01.g016600.t1.2 AND Cre01.g016750.t1.2 AND Cre02.g082750.t1.2 AND Cre10.g452100.t1.1 AND Cre06.g273700.t1.2 AND ChreCp064 AND ChreCp066 AND ChreCp032 AND ChreCp040 AND ChreCp043 AND ChreCp044 AND ChreCp021 AND ChreCp057 AND ChreCp063 AND ChreCp004 AND ChreCp026 AND ChreCp029 AND ChreCp051 AND ChreCp031 AND ChreCp027 )' for '<Reaction PSIIblue at 0x7f9551d364e0>'\n",
      "cobra/core/reaction.py:440 \u001b[1;31mUserWarning\u001b[0m: uppercase AND/OR found in rule '( Cre06.g283050.t1.2 AND Cre12.g508750.t1.2 AND Cre11.g467573.t1.1 AND Cre10.g452050.t1.2 AND Cre10.g425900.t1.2 AND Cre06.g278213.t1.1 AND Cre16.g687900.t1.2 AND Cre06.g272650.t1.2 AND Cre07.g344950.t1.2 AND Cre03.g182551.t1.2 AND Cre14.g626700.t1.2 AND Cre07.g340200.t1.1 AND Cre05.g238332.t1.1 AND Cre10.g420350.t1.2 AND Cre09.g412100.t1.2 AND Cre12.g560950.t1.2 AND Cre07.g330250.t1.2 AND Cre03.g165100.t1.2 AND Cre17.g724300.t1.2 AND Cre12.g486300.t1.2 AND Cre02.g082500.t1.1 AND Cre07.g334550.t1.2 AND Cre05.g233950.t1.2 AND ChreCp019 AND ChreCp048 AND ChreCp067 AND ChreCp061 )' for '<Reaction PSIred at 0x7f9551ce80f0>'\n",
      "cobra/core/reaction.py:440 \u001b[1;31mUserWarning\u001b[0m: uppercase AND/OR found in rule '( Cre05.g243800.t1.2 AND Cre17.g720250.t1.2 AND Cre16.g673650.t1.1 AND Cre12.g548400.t1.2 AND Cre06.g283950.t1.2 AND Cre10.g440450.t1.2 AND Cre09.g396213.t1.1 AND Cre12.g550850.t1.2 AND Cre16.g678851.t1.1 AND Cre12.g509050.t1.1 AND Cre08.g362900.t1.1 AND Cre09.g389578.t1.1 AND Cre07.g328200.t1.2 AND Cre07.g328250.t1.2 AND Cre06.g280100.t1.2 AND Cre03.g198850.t1.2 AND Cre08.g372450.t1.2 AND Cre06.g261000.t1.2 AND Cre01.g016600.t1.2 AND Cre01.g016750.t1.2 AND Cre02.g082750.t1.2 AND Cre10.g452100.t1.1 AND Cre06.g273700.t1.2 AND ChreCp064 AND ChreCp066 AND ChreCp032 AND ChreCp040 AND ChreCp043 AND ChreCp044 AND ChreCp021 AND ChreCp057 AND ChreCp063 AND ChreCp004 AND ChreCp026 AND ChreCp029 AND ChreCp051 AND ChreCp031 AND ChreCp027 )' for '<Reaction PSIIred at 0x7f9551ce8278>'\n",
      "cobra/core/reaction.py:440 \u001b[1;31mUserWarning\u001b[0m: uppercase AND/OR found in rule '( Cre13.g572750.t1.1 OR Cre13.g572750.t2.1 OR Cre13.g572750.t3.1 )' for '<Reaction PTOR at 0x7f9551cd8128>'\n",
      "cobra/core/reaction.py:440 \u001b[1;31mUserWarning\u001b[0m: uppercase AND/OR found in rule '( Cre01.g009350.t1.2 OR Cre01.g053300.t1.1 )' for '<Reaction AGDI at 0x7f9551cd8208>'\n",
      "cobra/core/reaction.py:440 \u001b[1;31mUserWarning\u001b[0m: uppercase AND/OR found in rule '( Cre01.g009350.t1.2 OR Cre01.g053300.t1.1 )' for '<Reaction AGDIn at 0x7f9551ce8320>'\n",
      "cobra/core/reaction.py:440 \u001b[1;31mUserWarning\u001b[0m: uppercase AND/OR found in rule '( Cre12.g535750.t1.1 OR Cre01.g035300.t1.2 )' for '<Reaction CMPA at 0x7f9551ce8e80>'\n",
      "cobra/core/reaction.py:440 \u001b[1;31mUserWarning\u001b[0m: uppercase AND/OR found in rule '( Cre16.g683371.t1.1 OR ( Cre03.g159500.t1.2 OR Cre03.g159500.t2.1 OR Cre03.g159500.t3.1 OR Cre03.g159500.t4.1 OR Cre03.g159500.t5.1 ) )' for '<Reaction ORDC at 0x7f9551ce8c18>'\n",
      "cobra/core/reaction.py:440 \u001b[1;31mUserWarning\u001b[0m: uppercase AND/OR found in rule '( Cre16.g683371.t1.1 OR ( Cre03.g159500.t1.2 OR Cre03.g159500.t2.1 OR Cre03.g159500.t3.1 OR Cre03.g159500.t4.1 OR Cre03.g159500.t5.1 ) )' for '<Reaction ORDCh at 0x7f9551ce8c50>'\n",
      "cobra/core/reaction.py:440 \u001b[1;31mUserWarning\u001b[0m: uppercase AND/OR found in rule '( ( Cre10.g420350.t1.2 AND Cre12.g486300.t1.2 AND Cre12.g560950.t1.2 AND Cre17.g724300.t1.2 AND Cre02.g082500.t1.1 AND Cre03.g165100.t1.2 AND Cre09.g412100.t1.2 AND Cre05.g238332.t1.1 ) )' for '<Reaction CHLAE at 0x7f9551c86f28>'\n",
      "cobra/core/reaction.py:440 \u001b[1;31mUserWarning\u001b[0m: uppercase AND/OR found in rule '( Cre12.g525700.t1.2 OR Cre16.g690050.t1.2 )' for '<Reaction HEMELh at 0x7f9551c9ed30>'\n",
      "cobra/core/reaction.py:440 \u001b[1;31mUserWarning\u001b[0m: uppercase AND/OR found in rule '( Cre12.g525700.t1.2 OR Cre16.g690050.t1.2 )' for '<Reaction HEMELm at 0x7f9551cae358>'\n",
      "cobra/core/reaction.py:440 \u001b[1;31mUserWarning\u001b[0m: uppercase AND/OR found in rule '( Cre16.g663900.t1.2 OR Cre02.g113850.t1.1 )' for '<Reaction PPBNGD at 0x7f9551cae438>'\n",
      "cobra/core/reaction.py:440 \u001b[1;31mUserWarning\u001b[0m: uppercase AND/OR found in rule '( Cre13.g574500.t1.1 AND Cre09.g387800.t1.2 )' for '<Reaction APOFETNs at 0x7f9551caeb38>'\n",
      "cobra/core/reaction.py:440 \u001b[1;31mUserWarning\u001b[0m: uppercase AND/OR found in rule '( Cre12.g484750.t1.1 OR Cre03.g148750.t1.2 )' for '<Reaction CHLASE at 0x7f9551cc0358>'\n",
      "cobra/core/reaction.py:440 \u001b[1;31mUserWarning\u001b[0m: uppercase AND/OR found in rule '( Cre02.g085450.t1.2 OR Cre02.g092600.t1.2 )' for '<Reaction CPPPGO at 0x7f9551cc0898>'\n",
      "cobra/core/reaction.py:440 \u001b[1;31mUserWarning\u001b[0m: uppercase AND/OR found in rule '( Cre07.g339750.t1.2 OR Cre07.g339750.t2.1 )' for '<Reaction FCLT at 0x7f9551cc0d68>'\n",
      "cobra/core/reaction.py:440 \u001b[1;31mUserWarning\u001b[0m: uppercase AND/OR found in rule '( Cre13.g574500.t1.1 AND Cre09.g387800.t1.2 )' for '<Reaction FE2TFENR at 0x7f9551cc0588>'\n",
      "cobra/core/reaction.py:440 \u001b[1;31mUserWarning\u001b[0m: uppercase AND/OR found in rule '( Cre12.g531200.t1.1 OR Cre09.g393150.t1.2 )' for '<Reaction FERO at 0x7f9551cc0a20>'\n",
      "cobra/core/reaction.py:440 \u001b[1;31mUserWarning\u001b[0m: uppercase AND/OR found in rule '( Cre12.g510050.t1.2 OR ( Cre07.g346050.t1.2 OR Cre07.g346050.t2.1 ) )' for '<Reaction MPMECY1 at 0x7f9551c5c6d8>'\n",
      "cobra/core/reaction.py:440 \u001b[1;31mUserWarning\u001b[0m: uppercase AND/OR found in rule '( Cre12.g510050.t1.2 OR ( Cre07.g346050.t1.2 OR Cre07.g346050.t2.1 ) )' for '<Reaction MPMECY2 at 0x7f9551c5c860>'\n",
      "cobra/core/reaction.py:440 \u001b[1;31mUserWarning\u001b[0m: uppercase AND/OR found in rule '( Cre12.g510050.t1.2 OR ( Cre07.g346050.t1.2 OR Cre07.g346050.t2.1 ) )' for '<Reaction MPMECY3 at 0x7f9551c5cb00>'\n",
      "cobra/core/reaction.py:440 \u001b[1;31mUserWarning\u001b[0m: uppercase AND/OR found in rule '( Cre05.g242000.t1.2 AND ( Cre11.g477625.t1.1 OR Cre07.g325500.t1.1 ) AND ( Cre06.g306300.t1.2 OR Cre12.g510800.t1.2) )' for '<Reaction MPML at 0x7f9551c50e48>'\n",
      "cobra/core/reaction.py:440 \u001b[1;31mUserWarning\u001b[0m: uppercase AND/OR found in rule '( Cre03.g193950.t1.2 AND ChreCp003 AND ChreCp009 AND ChreCp056 )' for '<Reaction PCHLDR at 0x7f9551c6c4a8>'\n",
      "cobra/core/reaction.py:440 \u001b[1;31mUserWarning\u001b[0m: uppercase AND/OR found in rule '( Cre09.g396401.t1.1 OR Cre12.g538650.t1.1 )' for '<Reaction UPP3MT at 0x7f9551c6ccf8>'\n",
      "cobra/core/reaction.py:440 \u001b[1;31mUserWarning\u001b[0m: uppercase AND/OR found in rule '( Cre11.g467700.t1.1 OR ( Cre02.g073700.t1.2 OR Cre02.g073700.t2.1 ) OR Cre02.g076300.t1.1 )' for '<Reaction UPPDC1 at 0x7f9551c6cd68>'\n",
      "cobra/core/reaction.py:440 \u001b[1;31mUserWarning\u001b[0m: uppercase AND/OR found in rule '( Cre11.g467700.t1.1 OR ( Cre02.g073700.t1.2 OR Cre02.g073700.t2.1 ) OR Cre02.g076300.t1.1 )' for '<Reaction UPPDC2 at 0x7f9551c7f240>'\n",
      "cobra/core/reaction.py:440 \u001b[1;31mUserWarning\u001b[0m: uppercase AND/OR found in rule '( Cre12.g517700.t1.2 OR Cre14.g608800.t1.2 )' for '<Reaction HCHLDAOR at 0x7f9551c6ce10>'\n",
      "cobra/core/reaction.py:440 \u001b[1;31mUserWarning\u001b[0m: uppercase AND/OR found in rule '( Cre09.g396250.t1.2 OR Cre06.g262450.t1.1 )' for '<Reaction PHYTOLK at 0x7f9551c7f390>'\n",
      "cobra/core/reaction.py:440 \u001b[1;31mUserWarning\u001b[0m: uppercase AND/OR found in rule '( Cre07.g319320.t1.1 OR Cre07.g319400.t1.2 )' for '<Reaction ACCAHh at 0x7f9551c7f198>'\n",
      "cobra/core/reaction.py:440 \u001b[1;31mUserWarning\u001b[0m: uppercase AND/OR found in rule '( Cre07.g319320.t1.1 OR Cre07.g319400.t1.2 )' for '<Reaction ACCAHm at 0x7f9551c110b8>'\n",
      "cobra/core/reaction.py:440 \u001b[1;31mUserWarning\u001b[0m: uppercase AND/OR found in rule '( Cre17.g709850.t1.2 OR Cre09.g396700.t1.2 )' for '<Reaction APPTh at 0x7f9551c7ff98>'\n",
      "cobra/core/reaction.py:440 \u001b[1;31mUserWarning\u001b[0m: uppercase AND/OR found in rule '( Cre17.g709850.t1.2 OR Cre09.g396700.t1.2 )' for '<Reaction APPTm at 0x7f9551c7fc18>'\n",
      "cobra/core/reaction.py:440 \u001b[1;31mUserWarning\u001b[0m: uppercase AND/OR found in rule '( Cre16.g695050.t1.2 OR Cre02.g091850.t1.2 )' for '<Reaction HPHL at 0x7f9551c11780>'\n",
      "cobra/core/reaction.py:440 \u001b[1;31mUserWarning\u001b[0m: uppercase AND/OR found in rule '( Cre10.g463150.t1.1 OR Cre16.g695050.t1.2 OR Cre03.g190850.t1.2 )' for '<Reaction HPHLm at 0x7f9551c7fa20>'\n",
      "cobra/core/reaction.py:440 \u001b[1;31mUserWarning\u001b[0m: uppercase AND/OR found in rule '( ( Cre17.g699000.t1.2 OR Cre17.g699000.t2.1 ) OR Cre09.g396650.t1.2 )' for '<Reaction PCPPTh at 0x7f9551c23978>'\n",
      "cobra/core/reaction.py:440 \u001b[1;31mUserWarning\u001b[0m: uppercase AND/OR found in rule '( ( Cre17.g699000.t1.2 OR Cre17.g699000.t2.1 ) OR Cre09.g396650.t1.2 )' for '<Reaction PCPPTm at 0x7f9551c23940>'\n",
      "cobra/core/reaction.py:440 \u001b[1;31mUserWarning\u001b[0m: uppercase AND/OR found in rule '( Cre13.g565450.t1.2 OR Cre13.g565321.t1.1 )' for '<Reaction AIAL at 0x7f9551c23ba8>'\n",
      "cobra/core/reaction.py:440 \u001b[1;31mUserWarning\u001b[0m: uppercase AND/OR found in rule '( Cre17.g704850.t1.2 OR Cre17.g708100.t1.2 OR Cre04.g217934.t1.1 OR Cre08.g358900.t1.2 )' for '<Reaction APPRT at 0x7f9551c23e10>'\n",
      "cobra/core/reaction.py:440 \u001b[1;31mUserWarning\u001b[0m: uppercase AND/OR found in rule '( Cre10.g456900.t1.2 OR Cre13.g573150.t1.1 )' for '<Reaction DAMPH at 0x7f9551c23dd8>'\n",
      "cobra/core/reaction.py:440 \u001b[1;31mUserWarning\u001b[0m: uppercase AND/OR found in rule '( Cre10.g456900.t1.2 OR Cre13.g573150.t1.1 )' for '<Reaction DMPH at 0x7f9551c23da0>'\n",
      "cobra/core/reaction.py:440 \u001b[1;31mUserWarning\u001b[0m: uppercase AND/OR found in rule '( Cre03.g159800.t1.1 OR Cre14.g621351.t1.1 )' for '<Reaction GBDP at 0x7f9551c34cc0>'\n",
      "cobra/core/reaction.py:440 \u001b[1;31mUserWarning\u001b[0m: uppercase AND/OR found in rule '( Cre17.g704850.t1.2 OR Cre17.g708100.t1.2 OR Cre04.g217934.t1.1 OR Cre08.g358900.t1.2 )' for '<Reaction GPAR at 0x7f9551c34fd0>'\n",
      "cobra/core/reaction.py:440 \u001b[1;31mUserWarning\u001b[0m: uppercase AND/OR found in rule '( Cre17.g708100.t1.2 OR Cre04.g217934.t1.1 OR Cre08.g358900.t1.2 )' for '<Reaction HPRT at 0x7f9551c34da0>'\n",
      "cobra/core/reaction.py:440 \u001b[1;31mUserWarning\u001b[0m: uppercase AND/OR found in rule '( Cre17.g708100.t1.2 OR Cre04.g217934.t1.1 OR Cre08.g358900.t1.2 )' for '<Reaction XPPRT at 0x7f9551bc4b38>'\n",
      "cobra/core/reaction.py:440 \u001b[1;31mUserWarning\u001b[0m: uppercase AND/OR found in rule '( Cre13.g565450.t1.2 OR Cre13.g565321.t1.1 )' for '<Reaction AAL_fum at 0x7f9551bd62e8>'\n",
      "cobra/core/reaction.py:440 \u001b[1;31mUserWarning\u001b[0m: uppercase AND/OR found in rule '( Cre01.g053450.t1.1 OR Cre06.g300500.t1.1 OR Cre09.g387200.t1.1 OR Cre07.g320750.t1.1 OR Cre12.g527700.t1.1 OR Cre13.g607100.t1.2 OR Cre12.g547351.t1.2 OR Cre14.g628850.t1.1 OR Cre02.g117000.t1.1 )' for '<Reaction ADEC at 0x7f9551bd69b0>'\n",
      "cobra/core/reaction.py:440 \u001b[1;31mUserWarning\u001b[0m: uppercase AND/OR found in rule '( Cre01.g053450.t1.1 OR Cre06.g300500.t1.1 OR Cre09.g387200.t1.1 OR Cre07.g320750.t1.1 OR Cre12.g527700.t1.1 OR Cre13.g607100.t1.2 OR Cre12.g547351.t1.2 OR Cre14.g628850.t1.1 OR Cre02.g117000.t1.1 )' for '<Reaction ADECn at 0x7f9551bd6b70>'\n",
      "cobra/core/reaction.py:440 \u001b[1;31mUserWarning\u001b[0m: uppercase AND/OR found in rule '( Cre03.g161000.t1.1 OR Cre05.g246377.t1.1 )' for '<Reaction ADEDA at 0x7f9551bd6940>'\n",
      "cobra/core/reaction.py:440 \u001b[1;31mUserWarning\u001b[0m: uppercase AND/OR found in rule '( Cre03.g161000.t1.1 OR Cre05.g246377.t1.1 )' for '<Reaction ADNDA at 0x7f9551bd6908>'\n",
      "cobra/core/reaction.py:440 \u001b[1;31mUserWarning\u001b[0m: uppercase AND/OR found in rule '( ( Cre06.g273500.t1.2 OR Cre06.g273500.t2.1 ) OR Cre07.g330600.t1.1 OR Cre03.g184800.t1.1 )' for '<Reaction ADPA at 0x7f9551bd6eb8>'\n",
      "cobra/core/reaction.py:440 \u001b[1;31mUserWarning\u001b[0m: uppercase AND/OR found in rule '( Cre04.g224100.t1.2 OR Cre04.g224100.t2.1 )' for '<Reaction ADRH at 0x7f9551bd6d30>'\n",
      "cobra/core/reaction.py:440 \u001b[1;31mUserWarning\u001b[0m: uppercase AND/OR found in rule '( Cre12.g533550.t1.1 OR Cre06.g280950.t1.2 OR Cre10.g426292.t1.1 OR Cre05.g234700.t1.1 OR Cre03.g144847.t1.1 OR ( Cre02.g147900.t1.1 OR Cre02.g147900.t2.1 OR Cre02.g147900.t3.1 OR Cre02.g147900.t4.1 ) )' for '<Reaction AGPOP at 0x7f9551be68d0>'\n",
      "cobra/core/reaction.py:440 \u001b[1;31mUserWarning\u001b[0m: uppercase AND/OR found in rule '( Cre12.g533550.t1.1 OR Cre10.g426292.t1.1 OR Cre05.g234700.t1.1 OR Cre03.g144847.t1.1 OR ( Cre02.g147900.t1.1 OR Cre02.g147900.t2.1 OR Cre02.g147900.t3.1 OR Cre02.g147900.t4.1 ) )' for '<Reaction AGPOPm at 0x7f9551bf83c8>'\n",
      "cobra/core/reaction.py:440 \u001b[1;31mUserWarning\u001b[0m: uppercase AND/OR found in rule '( Cre02.g084950.t1.2 OR Cre09.g394102.t1.1 OR Cre08.g377350.t1.1 )' for '<Reaction AGPT at 0x7f9551be6f28>'\n",
      "cobra/core/reaction.py:440 \u001b[1;31mUserWarning\u001b[0m: uppercase AND/OR found in rule '( Cre10.g456900.t1.2 OR Cre13.g573150.t1.1 )' for '<Reaction AMP5N at 0x7f9551be6eb8>'\n",
      "cobra/core/reaction.py:440 \u001b[1;31mUserWarning\u001b[0m: uppercase AND/OR found in rule '( Cre12.g499250.t1.1 OR Cre12.g509550.t1.1 OR Cre14.g617650.t1.1 OR Cre14.g617700.t1.1 OR Cre02.g141786.t1.1 OR Cre07.g342350.t1.2 OR Cre11.g467673.t1.1 OR Cre01.g015200.t1.1 OR Cre02.g080550.t1.1 OR Cre13.g605100.t1.2 )' for '<Reaction APN at 0x7f9551be6438>'\n",
      "cobra/core/reaction.py:440 \u001b[1;31mUserWarning\u001b[0m: uppercase AND/OR found in rule '( Cre12.g499250.t1.1 OR Cre12.g509550.t1.1 OR Cre14.g617650.t1.1 OR Cre14.g617700.t1.1 OR Cre02.g141786.t1.1 OR Cre07.g342350.t1.2 OR Cre11.g467673.t1.1 OR Cre01.g015200.t1.1 OR Cre02.g080550.t1.1 OR Cre13.g605100.t1.2 )' for '<Reaction APNn at 0x7f9551bf8dd8>'\n",
      "cobra/core/reaction.py:440 \u001b[1;31mUserWarning\u001b[0m: uppercase AND/OR found in rule '( Cre16.g658075.t1.1 OR Cre03.g189450.t1.2 OR Cre03.g189500.t1.2 OR Cre08.g367800.t1.2 OR Cre06.g285200.t1.1 OR Cre08.g373550.t1.2 OR Cre02.g106500.t1.2 OR Cre03.g184400.t1.2 OR Cre09.g396900.t1.2 )' for '<Reaction ARDP at 0x7f9551bf8cf8>'\n",
      "cobra/core/reaction.py:440 \u001b[1;31mUserWarning\u001b[0m: uppercase AND/OR found in rule '( Cre12.g557600.t1.1 OR Cre02.g081550.t1.2 OR Cre08.g377100.t1.2 )' for '<Reaction ATAM at 0x7f9551bf8978>'\n",
      "cobra/core/reaction.py:440 \u001b[1;31mUserWarning\u001b[0m: uppercase AND/OR found in rule '( Cre12.g494850.t1.2 OR Cre02.g081550.t1.2 OR Cre08.g377100.t1.2 )' for '<Reaction ATAMh at 0x7f9551b8aa90>'\n",
      "cobra/core/reaction.py:440 \u001b[1;31mUserWarning\u001b[0m: uppercase AND/OR found in rule '( Cre02.g081550.t1.2 OR Cre08.g377100.t1.2 )' for '<Reaction ATAMm at 0x7f9551bf8cc0>'\n",
      "cobra/core/reaction.py:440 \u001b[1;31mUserWarning\u001b[0m: uppercase AND/OR found in rule '( Cre12.g557600.t1.1 OR Cre02.g081550.t1.2 OR Cre08.g377100.t1.2 )' for '<Reaction ATDAM at 0x7f9551b8a9e8>'\n",
      "cobra/core/reaction.py:440 \u001b[1;31mUserWarning\u001b[0m: uppercase AND/OR found in rule '( Cre12.g494850.t1.2 OR Cre02.g081550.t1.2 OR Cre08.g377100.t1.2 )' for '<Reaction ATDAMh at 0x7f9551b9e2e8>'\n",
      "cobra/core/reaction.py:440 \u001b[1;31mUserWarning\u001b[0m: uppercase AND/OR found in rule '( Cre02.g081550.t1.2 OR Cre08.g377100.t1.2 )' for '<Reaction ATDAMm at 0x7f9551b9e4e0>'\n",
      "cobra/core/reaction.py:440 \u001b[1;31mUserWarning\u001b[0m: uppercase AND/OR found in rule '( Cre12.g558700.t1.2 OR ( Cre16.g650550.t1.2 OR Cre16.g650550.t2.1 ) OR Cre16.g654300.t1.2 OR Cre07.g325734.t1.1 )' for '<Reaction ATDGD at 0x7f9551b8af98>'\n",
      "cobra/core/reaction.py:440 \u001b[1;31mUserWarning\u001b[0m: uppercase AND/OR found in rule '( Cre02.g084950.t1.2 OR Cre09.g394102.t1.1 OR Cre08.g377350.t1.1 )' for '<Reaction ATDGM at 0x7f9551b9e898>'\n",
      "cobra/core/reaction.py:440 \u001b[1;31mUserWarning\u001b[0m: uppercase AND/OR found in rule '( Cre12.g558700.t1.2 OR ( Cre16.g650550.t1.2 OR Cre16.g650550.t2.1 ) OR Cre16.g654300.t1.2 OR Cre07.g325734.t1.1 )' for '<Reaction ATGD at 0x7f9551b8ae48>'\n",
      "cobra/core/reaction.py:440 \u001b[1;31mUserWarning\u001b[0m: uppercase AND/OR found in rule '( Cre12.g558700.t1.2 OR ( Cre16.g650550.t1.2 OR Cre16.g650550.t2.1 ) OR Cre16.g654300.t1.2 OR Cre07.g325734.t1.1 )' for '<Reaction ATID at 0x7f9551b9eeb8>'\n",
      "cobra/core/reaction.py:440 \u001b[1;31mUserWarning\u001b[0m: uppercase AND/OR found in rule '( ( Cre16.g682050.t1.1 OR Cre16.g682050.t2.1 ) OR Cre01.g038151.t1.1 OR ( Cre06.g273500.t1.2 OR Cre06.g273500.t2.1 ) OR Cre07.g330600.t1.1 )' for '<Reaction ATPPH at 0x7f9551b9e278>'\n",
      "cobra/core/reaction.py:440 \u001b[1;31mUserWarning\u001b[0m: uppercase AND/OR found in rule '( Cre01.g038151.t1.1 OR ( Cre06.g273500.t1.2 OR Cre06.g273500.t2.1 ) OR Cre07.g330600.t1.1 )' for '<Reaction ATPPHm at 0x7f9551bb1908>'\n",
      "cobra/core/reaction.py:440 \u001b[1;31mUserWarning\u001b[0m: uppercase AND/OR found in rule '( Cre08.g376100.t1.2 OR Cre01.g030250.t1.2 )' for '<Reaction BPNT at 0x7f9551b9ed68>'\n",
      "cobra/core/reaction.py:440 \u001b[1;31mUserWarning\u001b[0m: uppercase AND/OR found in rule '( Cre06.g273000.t1.2 OR Cre11.g467717.t1.1 )' for '<Reaction BTP at 0x7f9551bb1cc0>'\n",
      "cobra/core/reaction.py:440 \u001b[1;31mUserWarning\u001b[0m: uppercase AND/OR found in rule '( Cre12.g492950.t1.2 AND ( Cre12.g491050.t1.2 OR Cre12.g509400.t1.2 ) AND ( Cre12.g554850.t1.2 OR Cre09.g391900.t1.1 ) )' for '<Reaction DAOTO at 0x7f9551bb1898>'\n",
      "cobra/core/reaction.py:440 \u001b[1;31mUserWarning\u001b[0m: uppercase AND/OR found in rule '( Cre12.g533550.t1.1 OR Cre06.g280950.t1.2 OR Cre10.g426292.t1.1 OR Cre05.g234700.t1.1 OR Cre03.g144847.t1.1 OR ( Cre02.g147900.t1.1 OR Cre02.g147900.t2.1 OR Cre02.g147900.t3.1 OR Cre02.g147900.t4.1 ) )' for '<Reaction DAPOP at 0x7f9551bb1fd0>'\n",
      "cobra/core/reaction.py:440 \u001b[1;31mUserWarning\u001b[0m: uppercase AND/OR found in rule '( Cre12.g492950.t1.2 AND ( Cre12.g491050.t1.2 OR Cre12.g509400.t1.2 ) AND ( Cre12.g554850.t1.2 OR Cre09.g391900.t1.1 ) )' for '<Reaction DGOTO at 0x7f9551bb1ef0>'\n",
      "cobra/core/reaction.py:440 \u001b[1;31mUserWarning\u001b[0m: uppercase AND/OR found in rule '( Cre12.g499250.t1.1 OR Cre12.g499300.t1.2 OR Cre14.g617650.t1.1 OR Cre14.g617700.t1.1 OR Cre02.g141786.t1.1 OR Cre11.g467673.t1.1 )' for '<Reaction GCPN at 0x7f9551bc04a8>'\n",
      "cobra/core/reaction.py:440 \u001b[1;31mUserWarning\u001b[0m: uppercase AND/OR found in rule '( Cre12.g499250.t1.1 OR Cre12.g499300.t1.2 OR Cre14.g617650.t1.1 OR Cre14.g617700.t1.1 OR Cre02.g141786.t1.1 OR Cre11.g467673.t1.1 )' for '<Reaction GCPNn at 0x7f9551bc0cc0>'\n",
      "cobra/core/reaction.py:440 \u001b[1;31mUserWarning\u001b[0m: uppercase AND/OR found in rule '( ( Cre06.g273500.t1.2 OR Cre06.g273500.t2.1 ) OR Cre07.g330600.t1.1 OR Cre03.g184800.t1.1 )' for '<Reaction GDPA at 0x7f9551bc08d0>'\n",
      "cobra/core/reaction.py:440 \u001b[1;31mUserWarning\u001b[0m: uppercase AND/OR found in rule '( Cre10.g456900.t1.2 OR Cre13.g573150.t1.1 )' for '<Reaction GMP5N at 0x7f9551bc0898>'\n",
      "cobra/core/reaction.py:440 \u001b[1;31mUserWarning\u001b[0m: uppercase AND/OR found in rule '( ( Cre06.g273500.t1.2 OR Cre06.g273500.t2.1 ) OR Cre07.g330600.t1.1 )' for '<Reaction GTPA at 0x7f9551b53f60>'\n",
      "cobra/core/reaction.py:440 \u001b[1;31mUserWarning\u001b[0m: uppercase AND/OR found in rule '( Cre03.g159800.t1.1 OR Cre14.g621351.t1.1 )' for '<Reaction GTPDPK at 0x7f9551b632b0>'\n",
      "cobra/core/reaction.py:440 \u001b[1;31mUserWarning\u001b[0m: uppercase AND/OR found in rule '( Cre12.g533550.t1.1 OR Cre06.g280950.t1.2 OR Cre10.g426292.t1.1 OR Cre05.g234700.t1.1 OR Cre03.g144847.t1.1 OR ( Cre02.g147900.t1.1 OR Cre02.g147900.t2.1 OR Cre02.g147900.t3.1 OR Cre02.g147900.t4.1 ) )' for '<Reaction GTPOP at 0x7f9551b53e10>'\n",
      "cobra/core/reaction.py:440 \u001b[1;31mUserWarning\u001b[0m: uppercase AND/OR found in rule '( Cre12.g533550.t1.1 OR Cre10.g426292.t1.1 OR Cre05.g234700.t1.1 OR Cre03.g144847.t1.1 OR ( Cre02.g147900.t1.1 OR Cre02.g147900.t2.1 OR Cre02.g147900.t3.1 OR Cre02.g147900.t4.1 ) )' for '<Reaction GTPOPm at 0x7f9551b636a0>'\n",
      "cobra/core/reaction.py:440 \u001b[1;31mUserWarning\u001b[0m: uppercase AND/OR found in rule '( Cre01.g053450.t1.1 OR ( Cre16.g649050.t1.1 OR Cre16.g649050.t2.1 ) OR Cre07.g320700.t1.1 OR Cre07.g321150.t1.1 OR Cre07.g348650.t1.2 OR Cre09.g387350.t1.2 OR Cre09.g388650.t1.1 OR Cre09.g387200.t1.1 OR Cre07.g320750.t1.1 OR Cre12.g527700.t1.1 OR Cre13.g607100.t1.2 OR Cre12.g547351.t1.2 OR Cre14.g628850.t1.1 OR Cre02.g117000.t1.1 OR Cre13.g564800.t1.1 OR Cre16.g688901.t1.2 )' for '<Reaction GUAC at 0x7f9551b53b00>'\n",
      "cobra/core/reaction.py:440 \u001b[1;31mUserWarning\u001b[0m: uppercase AND/OR found in rule '( Cre01.g053450.t1.1 OR ( Cre16.g649050.t1.1 OR Cre16.g649050.t2.1 ) OR Cre07.g320700.t1.1 OR Cre07.g321150.t1.1 OR Cre07.g348650.t1.2 OR Cre09.g387350.t1.2 OR Cre09.g388650.t1.1 )' for '<Reaction GUACn at 0x7f9551b537f0>'\n",
      "cobra/core/reaction.py:440 \u001b[1;31mUserWarning\u001b[0m: uppercase AND/OR found in rule '( Cre10.g456900.t1.2 OR Cre13.g573150.t1.1 )' for '<Reaction I5NT at 0x7f9551b53588>'\n",
      "cobra/core/reaction.py:440 \u001b[1;31mUserWarning\u001b[0m: uppercase AND/OR found in rule '( ( Cre06.g273500.t1.2 OR Cre06.g273500.t2.1 ) OR Cre07.g330600.t1.1 )' for '<Reaction IDPA at 0x7f9551b63ef0>'\n",
      "cobra/core/reaction.py:440 \u001b[1;31mUserWarning\u001b[0m: uppercase AND/OR found in rule '( Cre04.g224100.t1.2 OR Cre04.g224100.t2.1 )' for '<Reaction ISRH at 0x7f9551b73d30>'\n",
      "cobra/core/reaction.py:440 \u001b[1;31mUserWarning\u001b[0m: uppercase AND/OR found in rule '( ( Cre06.g273500.t1.2 OR Cre06.g273500.t2.1 ) OR Cre07.g330600.t1.1 )' for '<Reaction ITPA at 0x7f9551b73f28>'\n",
      "cobra/core/reaction.py:440 \u001b[1;31mUserWarning\u001b[0m: uppercase AND/OR found in rule '( Cre02.g095089.t1.1 OR Cre13.g568950.t1.1 )' for '<Reaction ITPP at 0x7f9551b73e80>'\n",
      "cobra/core/reaction.py:440 \u001b[1;31mUserWarning\u001b[0m: uppercase AND/OR found in rule '( Cre12.g558700.t1.2 OR ( Cre16.g650550.t1.2 OR Cre16.g650550.t2.1 ) OR Cre16.g654300.t1.2 OR Cre07.g325734.t1.1 )' for '<Reaction NDPK at 0x7f9551b63f28>'\n",
      "cobra/core/reaction.py:440 \u001b[1;31mUserWarning\u001b[0m: uppercase AND/OR found in rule '( Cre18.g749497.t1.1 OR Cre18.g749647.t1.1 )' for '<Reaction PPRGL at 0x7f9551b06c88>'\n",
      "cobra/core/reaction.py:440 \u001b[1;31mUserWarning\u001b[0m: uppercase AND/OR found in rule '( Cre18.g749497.t1.1 OR Cre18.g749647.t1.1 )' for '<Reaction PPRGLh at 0x7f9551b1a0b8>'\n",
      "cobra/core/reaction.py:440 \u001b[1;31mUserWarning\u001b[0m: uppercase AND/OR found in rule '( Cre08.g378850.t1.2 OR Cre09.g394550.t1.2 )' for '<Reaction R5PDP at 0x7f9551b06ba8>'\n",
      "cobra/core/reaction.py:440 \u001b[1;31mUserWarning\u001b[0m: uppercase AND/OR found in rule '( Cre04.g224100.t1.2 OR Cre04.g224100.t2.1 )' for '<Reaction RSPN at 0x7f9551b1ac88>'\n",
      "cobra/core/reaction.py:440 \u001b[1;31mUserWarning\u001b[0m: uppercase AND/OR found in rule '( Cre02.g107450.t1.2 OR Cre03.g203850.t1.2 )' for '<Reaction SUAT at 0x7f9551b1af28>'\n",
      "cobra/core/reaction.py:440 \u001b[1;31mUserWarning\u001b[0m: uppercase AND/OR found in rule '( Cre10.g456900.t1.2 OR Cre13.g573150.t1.1 )' for '<Reaction X5NT at 0x7f9551b1ae48>'\n",
      "cobra/core/reaction.py:440 \u001b[1;31mUserWarning\u001b[0m: uppercase AND/OR found in rule '( Cre04.g224100.t1.2 OR Cre04.g224100.t2.1 )' for '<Reaction XTSNRH at 0x7f9551b3b048>'\n",
      "cobra/core/reaction.py:440 \u001b[1;31mUserWarning\u001b[0m: uppercase AND/OR found in rule '( Cre06.g271050.t1.1 OR ( Cre09.g411500.t1.1 OR Cre09.g411500.t2.1 ) )' for '<Reaction URIH at 0x7f9551b2bf28>'\n",
      "cobra/core/reaction.py:440 \u001b[1;31mUserWarning\u001b[0m: uppercase AND/OR found in rule '( Cre06.g271050.t1.1 OR ( Cre09.g411500.t1.1 OR Cre09.g411500.t2.1 ) )' for '<Reaction INSH at 0x7f9551b3b6d8>'\n",
      "cobra/core/reaction.py:440 \u001b[1;31mUserWarning\u001b[0m: uppercase AND/OR found in rule '( Cre03.g199423.t1.1 AND Cre06.g287750.t1.2 )' for '<Reaction DHROm at 0x7f9551b3bf60>'\n",
      "cobra/core/reaction.py:440 \u001b[1;31mUserWarning\u001b[0m: uppercase AND/OR found in rule '( Cre12.g558700.t1.2 OR ( Cre16.g650550.t1.2 OR Cre16.g650550.t2.1 ) OR Cre16.g654300.t1.2 OR Cre07.g325734.t1.1 )' for '<Reaction ATCD at 0x7f9551ace390>'\n",
      "cobra/core/reaction.py:440 \u001b[1;31mUserWarning\u001b[0m: uppercase AND/OR found in rule '( Cre13.g573800.t1.2 OR Cre16.g681850.t1.2 OR Cre02.g101000.t1.1 OR Cre13.g590300.t1.1 )' for '<Reaction ATCY at 0x7f9551acec50>'\n",
      "cobra/core/reaction.py:440 \u001b[1;31mUserWarning\u001b[0m: uppercase AND/OR found in rule '( Cre12.g558700.t1.2 OR ( Cre16.g650550.t1.2 OR Cre16.g650550.t2.1 ) OR Cre16.g654300.t1.2 OR Cre07.g325734.t1.1 )' for '<Reaction ATDCD at 0x7f9551aceda0>'\n",
      "cobra/core/reaction.py:440 \u001b[1;31mUserWarning\u001b[0m: uppercase AND/OR found in rule '( Cre12.g558700.t1.2 OR ( Cre16.g650550.t1.2 OR Cre16.g650550.t2.1 ) OR Cre16.g654300.t1.2 OR Cre07.g325734.t1.1 )' for '<Reaction ATDTD at 0x7f9551adf048>'\n",
      "cobra/core/reaction.py:440 \u001b[1;31mUserWarning\u001b[0m: uppercase AND/OR found in rule '( Cre03.g190750.t1.1 OR Cre03.g190800.t1.1 )' for '<Reaction ATDTM at 0x7f9551adfa90>'\n",
      "cobra/core/reaction.py:440 \u001b[1;31mUserWarning\u001b[0m: uppercase AND/OR found in rule '( Cre12.g558700.t1.2 OR ( Cre16.g650550.t1.2 OR Cre16.g650550.t2.1 ) OR Cre16.g654300.t1.2 OR Cre07.g325734.t1.1 )' for '<Reaction ATDUD at 0x7f9551adf9e8>'\n",
      "cobra/core/reaction.py:440 \u001b[1;31mUserWarning\u001b[0m: uppercase AND/OR found in rule '( Cre12.g558700.t1.2 OR ( Cre16.g650550.t1.2 OR Cre16.g650550.t2.1 ) OR Cre16.g654300.t1.2 OR Cre07.g325734.t1.1 )' for '<Reaction ATUD at 0x7f9551adf1d0>'\n",
      "cobra/core/reaction.py:440 \u001b[1;31mUserWarning\u001b[0m: uppercase AND/OR found in rule '( Cre13.g573800.t1.2 OR Cre16.g681850.t1.2 OR Cre02.g101000.t1.1 OR Cre13.g590300.t1.1 )' for '<Reaction AUPT at 0x7f9551adfb70>'\n",
      "cobra/core/reaction.py:440 \u001b[1;31mUserWarning\u001b[0m: uppercase AND/OR found in rule '( ( Cre06.g273500.t1.2 OR Cre06.g273500.t2.1 ) OR Cre07.g330600.t1.1 )' for '<Reaction CDPPH at 0x7f9551acefd0>'\n",
      "cobra/core/reaction.py:440 \u001b[1;31mUserWarning\u001b[0m: uppercase AND/OR found in rule '( Cre10.g456900.t1.2 OR Cre13.g573150.t1.1 )' for '<Reaction CMP at 0x7f9551adf198>'\n",
      "cobra/core/reaction.py:440 \u001b[1;31mUserWarning\u001b[0m: uppercase AND/OR found in rule '( ( Cre06.g273500.t1.2 OR Cre06.g273500.t2.1 ) OR Cre07.g330600.t1.1 )' for '<Reaction CTPH at 0x7f9551aeddd8>'\n",
      "cobra/core/reaction.py:440 \u001b[1;31mUserWarning\u001b[0m: uppercase AND/OR found in rule '( Cre04.g224100.t1.2 OR Cre04.g224100.t2.1 )' for '<Reaction CYRH at 0x7f9551aed9b0>'\n",
      "cobra/core/reaction.py:440 \u001b[1;31mUserWarning\u001b[0m: uppercase AND/OR found in rule '( Cre13.g573800.t1.2 OR Cre16.g681850.t1.2 OR Cre02.g101000.t1.1 OR Cre13.g590300.t1.1 )' for '<Reaction DATCY at 0x7f9551aedda0>'\n",
      "cobra/core/reaction.py:440 \u001b[1;31mUserWarning\u001b[0m: uppercase AND/OR found in rule '( Cre13.g573800.t1.2 OR Cre16.g681850.t1.2 OR Cre02.g101000.t1.1 OR Cre13.g590300.t1.1 )' for '<Reaction DATUP at 0x7f9551aed4e0>'\n",
      "cobra/core/reaction.py:440 \u001b[1;31mUserWarning\u001b[0m: uppercase AND/OR found in rule '( Cre12.g492950.t1.2 AND ( Cre12.g491050.t1.2 OR Cre12.g509400.t1.2 ) AND ( Cre12.g554850.t1.2 OR Cre09.g391900.t1.1 ) )' for '<Reaction DCDT at 0x7f9551aedf28>'\n",
      "cobra/core/reaction.py:440 \u001b[1;31mUserWarning\u001b[0m: uppercase AND/OR found in rule '( Cre19.g750897.t1.1 OR Cre19.g750897.t2.1 )' for '<Reaction DCMAH at 0x7f9551affb70>'\n",
      "cobra/core/reaction.py:440 \u001b[1;31mUserWarning\u001b[0m: uppercase AND/OR found in rule '( Cre10.g456900.t1.2 OR Cre13.g573150.t1.1 )' for '<Reaction DCMP at 0x7f9551aff7b8>'\n",
      "cobra/core/reaction.py:440 \u001b[1;31mUserWarning\u001b[0m: uppercase AND/OR found in rule '( Cre13.g573800.t1.2 OR Cre16.g681850.t1.2 OR Cre02.g101000.t1.1 OR Cre13.g590300.t1.1 )' for '<Reaction DCTCP at 0x7f9551affa20>'\n",
      "cobra/core/reaction.py:440 \u001b[1;31mUserWarning\u001b[0m: uppercase AND/OR found in rule '( Cre13.g573800.t1.2 OR Cre16.g681850.t1.2 OR Cre02.g101000.t1.1 OR Cre13.g590300.t1.1 )' for '<Reaction DCTUP at 0x7f9551affe48>'\n",
      "cobra/core/reaction.py:440 \u001b[1;31mUserWarning\u001b[0m: uppercase AND/OR found in rule '( Cre13.g573800.t1.2 OR Cre16.g681850.t1.2 OR Cre02.g101000.t1.1 OR Cre13.g590300.t1.1 )' for '<Reaction DGTCY at 0x7f9551affcc0>'\n",
      "cobra/core/reaction.py:440 \u001b[1;31mUserWarning\u001b[0m: uppercase AND/OR found in rule '( Cre13.g573800.t1.2 OR Cre16.g681850.t1.2 OR Cre02.g101000.t1.1 OR Cre13.g590300.t1.1 )' for '<Reaction DGTUP at 0x7f9551aff9e8>'\n",
      "cobra/core/reaction.py:440 \u001b[1;31mUserWarning\u001b[0m: uppercase AND/OR found in rule '( Cre03.g190750.t1.1 OR Cre03.g190800.t1.1 )' for '<Reaction DTMPK at 0x7f9551affc88>'\n",
      "cobra/core/reaction.py:440 \u001b[1;31mUserWarning\u001b[0m: uppercase AND/OR found in rule '( ( Cre06.g273500.t1.2 OR Cre06.g273500.t2.1 ) OR Cre07.g330600.t1.1 )' for '<Reaction DTNH at 0x7f9551a8e4e0>'\n",
      "cobra/core/reaction.py:440 \u001b[1;31mUserWarning\u001b[0m: uppercase AND/OR found in rule '( ( Cre06.g273500.t1.2 OR Cre06.g273500.t2.1 ) OR Cre07.g330600.t1.1 )' for '<Reaction DTPH at 0x7f9551a8ec18>'\n",
      "cobra/core/reaction.py:440 \u001b[1;31mUserWarning\u001b[0m: uppercase AND/OR found in rule '( Cre13.g573800.t1.2 OR Cre16.g681850.t1.2 OR Cre02.g101000.t1.1 OR Cre13.g590300.t1.1 )' for '<Reaction DTTGY at 0x7f9551affe10>'\n",
      "cobra/core/reaction.py:440 \u001b[1;31mUserWarning\u001b[0m: uppercase AND/OR found in rule '( Cre13.g573800.t1.2 OR Cre16.g681850.t1.2 OR Cre02.g101000.t1.1 OR Cre13.g590300.t1.1 )' for '<Reaction DTTUP at 0x7f9551a8e240>'\n",
      "cobra/core/reaction.py:440 \u001b[1;31mUserWarning\u001b[0m: uppercase AND/OR found in rule '( Cre12.g492950.t1.2 AND ( Cre12.g491050.t1.2 OR Cre12.g509400.t1.2 ) AND ( Cre12.g554850.t1.2 OR Cre09.g391900.t1.1 ) )' for '<Reaction DUDT at 0x7f9551a8eeb8>'\n",
      "cobra/core/reaction.py:440 \u001b[1;31mUserWarning\u001b[0m: uppercase AND/OR found in rule '( Cre13.g573800.t1.2 OR Cre16.g681850.t1.2 OR Cre02.g101000.t1.1 OR Cre13.g590300.t1.1 )' for '<Reaction DUTCP at 0x7f9551a8e0b8>'\n",
      "cobra/core/reaction.py:440 \u001b[1;31mUserWarning\u001b[0m: uppercase AND/OR found in rule '( Cre02.g095089.t1.1 OR Cre16.g667850.t1.1 )' for '<Reaction DUTNH at 0x7f9551a8e320>'\n",
      "cobra/core/reaction.py:440 \u001b[1;31mUserWarning\u001b[0m: uppercase AND/OR found in rule '( Cre13.g573800.t1.2 OR Cre16.g681850.t1.2 OR Cre02.g101000.t1.1 OR Cre13.g590300.t1.1 )' for '<Reaction DUTUP at 0x7f9551a8e710>'\n",
      "cobra/core/reaction.py:440 \u001b[1;31mUserWarning\u001b[0m: uppercase AND/OR found in rule '( Cre13.g573800.t1.2 OR Cre16.g681850.t1.2 OR Cre02.g101000.t1.1 OR Cre13.g590300.t1.1 )' for '<Reaction GTCY at 0x7f9551aa19b0>'\n",
      "cobra/core/reaction.py:440 \u001b[1;31mUserWarning\u001b[0m: uppercase AND/OR found in rule '( Cre13.g573800.t1.2 OR Cre16.g681850.t1.2 OR Cre02.g101000.t1.1 OR Cre13.g590300.t1.1 )' for '<Reaction GTUP at 0x7f9551aa1c88>'\n",
      "cobra/core/reaction.py:440 \u001b[1;31mUserWarning\u001b[0m: uppercase AND/OR found in rule '( Cre06.g308500.t1.2 AND Cre08.g358580.t1.1 )' for '<Reaction HCGAL at 0x7f9551aa1e10>'\n",
      "cobra/core/reaction.py:440 \u001b[1;31mUserWarning\u001b[0m: uppercase AND/OR found in rule '( Cre06.g308500.t1.2 AND Cre08.g358580.t1.1 )' for '<Reaction HCGALm at 0x7f9551ab6a90>'\n",
      "cobra/core/reaction.py:440 \u001b[1;31mUserWarning\u001b[0m: uppercase AND/OR found in rule '( Cre13.g573800.t1.2 OR Cre16.g681850.t1.2 OR Cre02.g101000.t1.1 OR Cre13.g590300.t1.1 )' for '<Reaction ITCY at 0x7f9551aa1048>'\n",
      "cobra/core/reaction.py:440 \u001b[1;31mUserWarning\u001b[0m: uppercase AND/OR found in rule '( Cre13.g573800.t1.2 OR Cre16.g681850.t1.2 OR Cre02.g101000.t1.1 OR Cre13.g590300.t1.1 )' for '<Reaction ITUP at 0x7f9551ab6518>'\n",
      "cobra/core/reaction.py:440 \u001b[1;31mUserWarning\u001b[0m: uppercase AND/OR found in rule '( Cre10.g456900.t1.2 OR Cre13.g573150.t1.1 )' for '<Reaction NTD1 at 0x7f9551aa14a8>'\n",
      "cobra/core/reaction.py:440 \u001b[1;31mUserWarning\u001b[0m: uppercase AND/OR found in rule '( ( Cre12.g554850.t1.2 OR Cre09.g391900.t1.1 ) AND ( Cre08.g368400.t1.2 OR Cre02.g098850.t1.1 OR Cre07.g355600.t1.1 ) )' for '<Reaction TDSR at 0x7f9551ab6f98>'\n",
      "cobra/core/reaction.py:440 \u001b[1;31mUserWarning\u001b[0m: uppercase AND/OR found in rule '( ( Cre08.g368400.t1.2 OR Cre02.g098850.t1.1 OR Cre07.g355600.t1.1 OR Cre01.g054150.t1.2 ) AND ( Cre01.g066552.t1.1 OR Cre05.g243050.t1.2 OR Cre10.g446100.t1.2 OR Cre01.g054150.t1.2 ) )' for '<Reaction TDSRh at 0x7f9551ab6240>'\n",
      "cobra/core/reaction.py:440 \u001b[1;31mUserWarning\u001b[0m: uppercase AND/OR found in rule '( Cre10.g456900.t1.2 OR Cre13.g573150.t1.1 )' for '<Reaction TPH at 0x7f9551a47400>'\n",
      "cobra/core/reaction.py:440 \u001b[1;31mUserWarning\u001b[0m: uppercase AND/OR found in rule '( Cre02.g093950.t1.2 OR Cre10.g438650.t1.2 )' for '<Reaction UMPK at 0x7f9551a47dd8>'\n",
      "cobra/core/reaction.py:440 \u001b[1;31mUserWarning\u001b[0m: uppercase AND/OR found in rule '( Cre10.g456900.t1.2 OR Cre13.g573150.t1.1 )' for '<Reaction UMPP at 0x7f9551a475f8>'\n",
      "cobra/core/reaction.py:440 \u001b[1;31mUserWarning\u001b[0m: uppercase AND/OR found in rule '( ( Cre06.g273500.t1.2 OR Cre06.g273500.t2.1 ) OR Cre07.g330600.t1.1 )' for '<Reaction UPH at 0x7f9551a47f98>'\n",
      "cobra/core/reaction.py:440 \u001b[1;31mUserWarning\u001b[0m: uppercase AND/OR found in rule '( Cre13.g573800.t1.2 OR Cre16.g681850.t1.2 OR Cre02.g101000.t1.1 OR Cre13.g590300.t1.1 )' for '<Reaction UTCY at 0x7f9551a47c18>'\n",
      "cobra/core/reaction.py:440 \u001b[1;31mUserWarning\u001b[0m: uppercase AND/OR found in rule '( ( Cre06.g273500.t1.2 OR Cre06.g273500.t2.1 ) OR Cre07.g330600.t1.1 )' for '<Reaction UTPH at 0x7f9551a57518>'\n",
      "cobra/core/reaction.py:440 \u001b[1;31mUserWarning\u001b[0m: uppercase AND/OR found in rule '( Cre13.g573800.t1.2 OR Cre16.g681850.t1.2 OR Cre02.g101000.t1.1 OR Cre13.g590300.t1.1 )' for '<Reaction UTUP at 0x7f9551a57978>'\n",
      "cobra/core/reaction.py:440 \u001b[1;31mUserWarning\u001b[0m: uppercase AND/OR found in rule '( Cre17.g709850.t1.2 OR Cre09.g396700.t1.2 )' for '<Reaction ACKrh at 0x7f9551a69400>'\n",
      "cobra/core/reaction.py:440 \u001b[1;31mUserWarning\u001b[0m: uppercase AND/OR found in rule '( Cre17.g709850.t1.2 OR Cre09.g396700.t1.2 )' for '<Reaction ACKrm at 0x7f9551a695f8>'\n",
      "cobra/core/reaction.py:440 \u001b[1;31mUserWarning\u001b[0m: uppercase AND/OR found in rule '( Cre02.g097900.t1.2 OR Cre09.g387726.t1.1 OR Cre02.g147302.t1.1 )' for '<Reaction ASPAT at 0x7f9551a699b0>'\n",
      "cobra/core/reaction.py:440 \u001b[1;31mUserWarning\u001b[0m: uppercase AND/OR found in rule '( ( Cre17.g699000.t1.2 OR Cre17.g699000.t2.1 ) OR Cre09.g396650.t1.2 )' for '<Reaction PTArh at 0x7f9551a69e10>'\n",
      "cobra/core/reaction.py:440 \u001b[1;31mUserWarning\u001b[0m: uppercase AND/OR found in rule '( ( Cre17.g699000.t1.2 OR Cre17.g699000.t2.1 ) OR Cre09.g396650.t1.2 )' for '<Reaction PTArm at 0x7f9551a69278>'\n",
      "cobra/core/reaction.py:440 \u001b[1;31mUserWarning\u001b[0m: uppercase AND/OR found in rule '( Cre17.g715250.t1.2 AND ( Cre12.g484000.t1.2 OR Cre12.g519100.t1.2 OR Cre08.g359350.t1.2 ) )' for '<Reaction ACCOAhi at 0x7f9551a7ab00>'\n",
      "cobra/core/reaction.py:440 \u001b[1;31mUserWarning\u001b[0m: uppercase AND/OR found in rule '( Cre16.g669150.t1.2 OR Cre17.g746997.t1.1 )' for '<Reaction ACDHi at 0x7f9551a7ae10>'\n",
      "cobra/core/reaction.py:440 \u001b[1;31mUserWarning\u001b[0m: uppercase AND/OR found in rule '( Cre16.g669150.t1.2 OR Cre17.g746997.t1.1 )' for '<Reaction ACDHmi at 0x7f9551a0a2e8>'\n",
      "cobra/core/reaction.py:440 \u001b[1;31mUserWarning\u001b[0m: uppercase AND/OR found in rule '( Cre16.g669125.t1.1 OR Cre16.g669150.t1.2 OR Cre17.g746997.t1.1 )' for '<Reaction ALCDHi at 0x7f9551a0a828>'\n",
      "cobra/core/reaction.py:440 \u001b[1;31mUserWarning\u001b[0m: uppercase AND/OR found in rule '( Cre16.g669125.t1.1 OR Cre16.g669150.t1.2 OR Cre17.g746997.t1.1 )' for '<Reaction ALCDHmi at 0x7f9551a0a9e8>'\n",
      "cobra/core/reaction.py:440 \u001b[1;31mUserWarning\u001b[0m: uppercase AND/OR found in rule '( ( Cre10.g434900.t1.1 OR Cre08.g370550.t1.1 ) AND ( Cre12.g522600.t1.2 OR Cre15.g638500.t1.2 ) )' for '<Reaction D_LACDHm at 0x7f9551a0a518>'\n",
      "cobra/core/reaction.py:440 \u001b[1;31mUserWarning\u001b[0m: uppercase AND/OR found in rule '( Cre12.g557700.t1.2 OR ( Cre06.g276450.t1.1 OR Cre06.g276450.t2.1 ) OR Cre06.g276350.t1.1 )' for '<Reaction GLYOXm at 0x7f9551a1d390>'\n",
      "cobra/core/reaction.py:440 \u001b[1;31mUserWarning\u001b[0m: uppercase AND/OR found in rule '( Cre06.g258733.t1.1 OR Cre06.g258733.t2.1 )' for '<Reaction IPPSh at 0x7f9551a0acf8>'\n",
      "cobra/core/reaction.py:440 \u001b[1;31mUserWarning\u001b[0m: uppercase AND/OR found in rule '( ( Cre12.g543350.t1.1 OR Cre12.g543350.t2.1 OR Cre12.g543350.t3.1 ) OR Cre12.g543400.t1.2 OR Cre07.g321700.t1.2 )' for '<Reaction LALDD1 at 0x7f9551a1d908>'\n",
      "cobra/core/reaction.py:440 \u001b[1;31mUserWarning\u001b[0m: uppercase AND/OR found in rule '( Cre10.g466500.t1.2 OR ( Cre16.g678200.t1.1 OR Cre16.g678200.t2.1 ) OR Cre04.g216100.t1.1 )' for '<Reaction LGTHL at 0x7f9551a0acc0>'\n",
      "cobra/core/reaction.py:440 \u001b[1;31mUserWarning\u001b[0m: uppercase AND/OR found in rule '( ( Cre09.g403200.t1.2 OR Cre09.g403200.t2.1 ) AND ( Cre12.g522600.t1.2 OR Cre15.g638500.t1.2 ) )' for '<Reaction LLDH_ferr_m at 0x7f9551a1d780>'\n",
      "cobra/core/reaction.py:440 \u001b[1;31mUserWarning\u001b[0m: uppercase AND/OR found in rule '( Cre09.g403200.t1.2 OR Cre09.g403200.t2.1 )' for '<Reaction LLDH_ferr_x at 0x7f9551a0a940>'\n",
      "cobra/core/reaction.py:440 \u001b[1;31mUserWarning\u001b[0m: uppercase AND/OR found in rule '( ( Cre02.g095137.t1.1 OR Cre02.g095137.t2.1 ) AND ( Cre16.g658400.t1.2 OR Cre17.g700950.t1.2 OR Cre03.g183850.t1.2 OR Cre06.g306350.t1.2 OR ( Cre07.g334800.t1.2 OR Cre07.g334800.t2.1 ) ) )' for '<Reaction PYRShi at 0x7f9551a326a0>'\n",
      "cobra/core/reaction.py:440 \u001b[1;31mUserWarning\u001b[0m: uppercase AND/OR found in rule '( ( Cre03.g199800.t1.1 OR Cre09.g396600.t1.1 ) AND ( Cre16.g658400.t1.2 OR Cre17.g700950.t1.2 OR Cre03.g183850.t1.2 OR Cre06.g306350.t1.2 OR ( Cre07.g334800.t1.2 OR Cre07.g334800.t2.1 ) ) )' for '<Reaction HYDAh at 0x7f9551a324e0>'\n",
      "cobra/core/reaction.py:440 \u001b[1;31mUserWarning\u001b[0m: uppercase AND/OR found in rule '( ( Cre03.g199800.t1.1 OR Cre09.g396600.t1.1 ) AND ( Cre01.g006100.t1.2 OR Cre12.g487900.t1.2 OR Cre06.g291650.t1.2 ) )' for '<Reaction HYDA at 0x7f9551a1dcc0>'\n",
      "cobra/core/reaction.py:440 \u001b[1;31mUserWarning\u001b[0m: uppercase AND/OR found in rule '( ( Cre03.g199800.t1.1 OR Cre09.g396600.t1.1 ) AND Cre12.g559950.t1.2 )' for '<Reaction HYDAm at 0x7f9551a32a20>'\n",
      "cobra/core/reaction.py:440 \u001b[1;31mUserWarning\u001b[0m: uppercase AND/OR found in rule '( Cre01.g002500.t1.2 OR Cre14.g611300.t1.1 OR ( Cre02.g074150.t1.1 OR Cre02.g074150.t2.1 ) OR Cre02.g085257.t1.2 OR Cre11.g467678.t1.1 )' for '<Reaction BATHORHODOPSINI at 0x7f9551a32630>'\n",
      "cobra/core/reaction.py:440 \u001b[1;31mUserWarning\u001b[0m: uppercase AND/OR found in rule '( Cre01.g045903.t1.1 OR Cre12.g557750.t1.1 OR Cre03.g205050.t1.2 OR Cre09.g386912.t1.1 OR Cre06.g299050.t1.2 )' for '<Reaction CRETINOLPMTACT at 0x7f9551a414a8>'\n",
      "cobra/core/reaction.py:440 \u001b[1;31mUserWarning\u001b[0m: uppercase AND/OR found in rule '( Cre01.g002500.t1.2 OR Cre14.g611300.t1.1 OR ( Cre02.g074150.t1.1 OR Cre02.g074150.t2.1 ) OR Cre02.g085257.t1.2 OR Cre11.g467678.t1.1 )' for '<Reaction LUMIRHODOPSINI at 0x7f9551a418d0>'\n",
      "cobra/core/reaction.py:440 \u001b[1;31mUserWarning\u001b[0m: uppercase AND/OR found in rule '( Cre01.g002500.t1.2 OR Cre14.g611300.t1.1 OR ( Cre02.g074150.t1.1 OR Cre02.g074150.t2.1 ) OR Cre02.g085257.t1.2 OR Cre11.g467678.t1.1 )' for '<Reaction METARHODOPSINH at 0x7f9551a41b38>'\n",
      "cobra/core/reaction.py:440 \u001b[1;31mUserWarning\u001b[0m: uppercase AND/OR found in rule '( Cre01.g045903.t1.1 OR Cre12.g557750.t1.1 OR Cre03.g205050.t1.2 OR Cre09.g386912.t1.1 OR Cre06.g299050.t1.2 )' for '<Reaction RETINOLACACT at 0x7f9551a41e48>'\n",
      "cobra/core/reaction.py:440 \u001b[1;31mUserWarning\u001b[0m: uppercase AND/OR found in rule '( Cre16.g674950.t1.2 OR Cre16.g651923.t1.2 OR Cre09.g407200.t1.2 )' for '<Reaction RETINOLSAT at 0x7f9551a417f0>'\n",
      "cobra/core/reaction.py:440 \u001b[1;31mUserWarning\u001b[0m: uppercase AND/OR found in rule '( Cre01.g002500.t1.2 OR Cre14.g611300.t1.1 OR ( Cre02.g074150.t1.1 OR Cre02.g074150.t2.1 ) OR Cre02.g085257.t1.2 OR Cre11.g467678.t1.1 )' for '<Reaction RHODOPSINI at 0x7f9551a41cc0>'\n",
      "cobra/core/reaction.py:440 \u001b[1;31mUserWarning\u001b[0m: uppercase AND/OR found in rule '( Cre01.g002500.t1.2 OR Cre14.g611300.t1.1 OR ( Cre02.g074150.t1.1 OR Cre02.g074150.t2.1 ) OR Cre02.g085257.t1.2 OR Cre11.g467678.t1.1 )' for '<Reaction RHODOPSINRT at 0x7f95519d6898>'\n",
      "cobra/core/reaction.py:440 \u001b[1;31mUserWarning\u001b[0m: uppercase AND/OR found in rule '( Cre01.g045903.t1.1 OR Cre12.g557750.t1.1 OR Cre03.g205050.t1.2 OR Cre09.g386912.t1.1 OR Cre06.g299050.t1.2 )' for '<Reaction TRETINOLPMTACT at 0x7f95519d60f0>'\n",
      "cobra/core/reaction.py:440 \u001b[1;31mUserWarning\u001b[0m: uppercase AND/OR found in rule '( Cre13.g592500.t1.1 OR Cre01.g026650.t1.2 OR Cre13.g607600.t1.1 )' for '<Reaction AFAT at 0x7f95519d6cc0>'\n",
      "cobra/core/reaction.py:440 \u001b[1;31mUserWarning\u001b[0m: uppercase AND/OR found in rule '( Cre06.g311600.t1.2 OR Cre01.g025250.t1.1 )' for '<Reaction ARPT at 0x7f95519d6780>'\n",
      "cobra/core/reaction.py:440 \u001b[1;31mUserWarning\u001b[0m: uppercase AND/OR found in rule '( Cre14.g620350.t1.2 OR ( Cre09.g393900.t1.2 OR Cre09.g393900.t2.1 ) )' for '<Reaction GTPDH at 0x7f95519eaa90>'\n",
      "cobra/core/reaction.py:440 \u001b[1;31mUserWarning\u001b[0m: uppercase AND/OR found in rule '( Cre16.g664250.t1.2 OR Cre16.g685550.t1.2 OR Cre03.g172850.t1.2 OR Cre08.g367600.t1.2 )' for '<Reaction ACSERL at 0x7f95519fe710>'\n",
      "cobra/core/reaction.py:440 \u001b[1;31mUserWarning\u001b[0m: uppercase AND/OR found in rule '( Cre16.g685550.t1.2 OR Cre03.g172850.t1.2 )' for '<Reaction ACSERLh at 0x7f95519fe908>'\n",
      "cobra/core/reaction.py:440 \u001b[1;31mUserWarning\u001b[0m: uppercase AND/OR found in rule '( Cre16.g685550.t1.2 OR Cre03.g172850.t1.2 OR Cre08.g367600.t1.2 )' for '<Reaction ACSERLm at 0x7f95519feb70>'\n",
      "cobra/core/reaction.py:440 \u001b[1;31mUserWarning\u001b[0m: uppercase AND/OR found in rule '( Cre12.g525650.t1.2 OR Cre07.g322000.t1.2 )' for '<Reaction SELCYSLY2 at 0x7f95519fecf8>'\n",
      "cobra/core/reaction.py:440 \u001b[1;31mUserWarning\u001b[0m: uppercase AND/OR found in rule '( Cre08.g365692.t1.1 AND ( Cre01.g006100.t1.2 OR Cre12.g487900.t1.2 OR Cre06.g291650.t1.2 ) )' for '<Reaction SELTORc at 0x7f95519927b8>'\n",
      "cobra/core/reaction.py:440 \u001b[1;31mUserWarning\u001b[0m: uppercase AND/OR found in rule '( Cre08.g365692.t1.1 AND Cre12.g559950.t1.2 )' for '<Reaction SELTORm at 0x7f9551992d30>'\n",
      "cobra/core/reaction.py:440 \u001b[1;31mUserWarning\u001b[0m: uppercase AND/OR found in rule '( Cre02.g082877.t1.1 OR Cre03.g189400.t1.2 OR Cre02.g082825.t1.1 )' for '<Reaction SECYSTL at 0x7f95519a31d0>'\n",
      "cobra/core/reaction.py:440 \u001b[1;31mUserWarning\u001b[0m: uppercase AND/OR found in rule '( Cre12.g528550.t1.1 OR Cre17.g720950.t1.1 )' for '<Reaction SGOR at 0x7f95519b8470>'\n",
      "cobra/core/reaction.py:440 \u001b[1;31mUserWarning\u001b[0m: uppercase AND/OR found in rule '( Cre03.g146507.t1.1 AND Cre04.g230144.t1.1 )' for '<Reaction SERPT at 0x7f95519b8e80>'\n",
      "cobra/core/reaction.py:440 \u001b[1;31mUserWarning\u001b[0m: uppercase AND/OR found in rule '( Cre12.g530550.t1.1 OR Cre10.g448650.t1.1 OR Cre09.g393691.t1.1 )' for '<Reaction SLCBK1 at 0x7f95519487f0>'\n",
      "cobra/core/reaction.py:440 \u001b[1;31mUserWarning\u001b[0m: uppercase AND/OR found in rule '( Cre12.g530550.t1.1 OR Cre10.g448650.t1.1 OR Cre09.g393691.t1.1 )' for '<Reaction SPHK21 at 0x7f9551948d68>'\n",
      "cobra/core/reaction.py:440 \u001b[1;31mUserWarning\u001b[0m: uppercase AND/OR found in rule '( Cre17.g726400.t1.1 OR Cre09.g401100.t1.2 OR Cre12.g514300.t1.2 OR Cre12.g504050.t1.1 OR Cre12.g514000.t1.2 OR Cre09.g400516.t1.1 )' for '<Reaction SPHINGSAT at 0x7f95519485f8>'\n",
      "cobra/core/reaction.py:440 \u001b[1;31mUserWarning\u001b[0m: uppercase AND/OR found in rule '( Cre17.g726400.t1.1 OR Cre09.g401100.t1.2 OR Cre12.g514300.t1.2 OR Cre12.g504050.t1.1 OR Cre12.g514000.t1.2 OR Cre09.g400516.t1.1 )' for '<Reaction SPHGNAT at 0x7f9551958160>'\n",
      "cobra/core/reaction.py:440 \u001b[1;31mUserWarning\u001b[0m: uppercase AND/OR found in rule '( Cre01.g032700.t1.2 OR Cre13.g561850.t1.1 OR Cre02.g117500.t1.2 )' for '<Reaction ABFPT at 0x7f9551958e48>'\n",
      "cobra/core/reaction.py:440 \u001b[1;31mUserWarning\u001b[0m: uppercase AND/OR found in rule '( Cre01.g032700.t1.2 OR Cre13.g561850.t1.1 OR Cre02.g117500.t1.2 )' for '<Reaction ABFPTh at 0x7f9551969208>'\n",
      "cobra/core/reaction.py:440 \u001b[1;31mUserWarning\u001b[0m: uppercase AND/OR found in rule '( Cre12.g488000.t1.2 OR Cre12.g488050.t1.2 OR Cre12.g507051.t1.1 )' for '<Reaction BFFS at 0x7f95519587f0>'\n",
      "cobra/core/reaction.py:440 \u001b[1;31mUserWarning\u001b[0m: uppercase AND/OR found in rule '( Cre12.g488000.t1.2 OR Cre03.g194700.t1.1 OR Cre12.g488050.t1.2 OR Cre12.g507051.t1.1 )' for '<Reaction SAGH at 0x7f9551958d68>'\n",
      "cobra/core/reaction.py:440 \u001b[1;31mUserWarning\u001b[0m: uppercase AND/OR found in rule '( Cre06.g283400.t1.2 OR Cre36.g759647.t1.1 OR Cre07.g348200.t1.1 )' for '<Reaction SPP at 0x7f9551969550>'\n",
      "cobra/core/reaction.py:440 \u001b[1;31mUserWarning\u001b[0m: uppercase AND/OR found in rule '( Cre12.g497750.t1.2 OR Cre06.g278221.t1.1 OR Cre16.g662350.t1.1 )' for '<Reaction THP at 0x7f95519697f0>'\n",
      "cobra/core/reaction.py:440 \u001b[1;31mUserWarning\u001b[0m: uppercase AND/OR found in rule '( Cre06.g278221.t1.1 OR Cre16.g686200.t1.1 OR Cre16.g662350.t1.1 )' for '<Reaction UG6PGT at 0x7f9551969e80>'\n",
      "cobra/core/reaction.py:440 \u001b[1;31mUserWarning\u001b[0m: uppercase AND/OR found in rule '( Cre06.g278221.t1.1 OR Cre16.g686200.t1.1 OR Cre16.g662350.t1.1 )' for '<Reaction UG6PGTn at 0x7f955197d080>'\n",
      "cobra/core/reaction.py:440 \u001b[1;31mUserWarning\u001b[0m: uppercase AND/OR found in rule '( Cre07.g357200.t1.2 OR Cre12.g532450.t1.2 OR Cre06.g278185.t1.1 )' for '<Reaction UGDH at 0x7f9551969e10>'\n",
      "cobra/core/reaction.py:440 \u001b[1;31mUserWarning\u001b[0m: uppercase AND/OR found in rule '( ( Cre13.g567950.t1.2 OR Cre07.g331300.t1.2 OR Cre16.g683450.t1.2 ) AND Cre03.g188250.t1.2 )' for '<Reaction GLPThi at 0x7f955197d8d0>'\n",
      "cobra/core/reaction.py:440 \u001b[1;31mUserWarning\u001b[0m: uppercase AND/OR found in rule '( Cre03.g194700.t1.1 AND ( Cre07.g336950.t1.1 OR Cre12.g552200.t1.2 ) AND ( Cre11.g476650.t1.1 OR Cre03.g207713.t1.1 ) AND ( ( Cre08.g385500.t1.2 OR Cre08.g385500.t2.1 ) OR Cre08.g362450.t1.2 OR Cre08.g384750.t1.1 ) AND ( Cre06.g307150.t1.1 OR Cre06.g270350.t1.1 OR Cre01.g044100.t1.2 ) )' for '<Reaction STARCH300DEGR2A at 0x7f9551969fd0>'\n",
      "cobra/core/reaction.py:440 \u001b[1;31mUserWarning\u001b[0m: uppercase AND/OR found in rule '( Cre03.g194700.t1.1 AND ( Cre07.g336950.t1.1 OR Cre12.g552200.t1.2 ) AND ( Cre11.g476650.t1.1 OR Cre03.g207713.t1.1 ) AND ( ( Cre08.g385500.t1.2 OR Cre08.g385500.t2.1 ) OR Cre08.g362450.t1.2 OR Cre08.g384750.t1.1 ) AND ( Cre06.g307150.t1.1 OR Cre06.g270350.t1.1 OR Cre01.g044100.t1.2 ) )' for '<Reaction STARCH300DEGR2B at 0x7f955197d9e8>'\n",
      "cobra/core/reaction.py:440 \u001b[1;31mUserWarning\u001b[0m: uppercase AND/OR found in rule '( Cre03.g194700.t1.1 AND ( Cre07.g336950.t1.1 OR Cre12.g552200.t1.2 ) AND ( Cre11.g476650.t1.1 OR Cre03.g207713.t1.1 ) AND ( ( Cre08.g385500.t1.2 OR Cre08.g385500.t2.1 ) OR Cre08.g362450.t1.2 OR Cre08.g384750.t1.1 ) AND ( Cre06.g307150.t1.1 OR Cre06.g270350.t1.1 OR Cre01.g044100.t1.2 ) )' for '<Reaction STARCH300DEGRA at 0x7f9551969f98>'\n",
      "cobra/core/reaction.py:440 \u001b[1;31mUserWarning\u001b[0m: uppercase AND/OR found in rule '( Cre03.g194700.t1.1 AND ( Cre07.g336950.t1.1 OR Cre12.g552200.t1.2 ) AND ( Cre11.g476650.t1.1 OR Cre03.g207713.t1.1 ) AND ( ( Cre08.g385500.t1.2 OR Cre08.g385500.t2.1 ) OR Cre08.g362450.t1.2 OR Cre08.g384750.t1.1 ) AND ( Cre06.g307150.t1.1 OR Cre06.g270350.t1.1 OR Cre01.g044100.t1.2 ) )' for '<Reaction STARCH300DEGRB at 0x7f955197d9b0>'\n",
      "cobra/core/reaction.py:440 \u001b[1;31mUserWarning\u001b[0m: uppercase AND/OR found in rule '( ( Cre06.g289850.t1.1 OR Cre06.g270100.t1.1 OR Cre10.g444700.t1.1 ) AND ( Cre12.g521700.t1.2 OR Cre03.g185250.t1.2 OR Cre16.g665800.t1.2 OR Cre16.g663850.t1.1 OR ( Cre06.g282000.t1.1 OR Cre06.g282000.t2.1 ) OR ( Cre13.g579598.t1.1 OR Cre13.g579598.t2.1 ) OR Cre13.g579582.t1.1 OR ( Cre04.g215150.t1.2 OR Cre04.g215150.t2.1 ) ) )' for '<Reaction STARCH300S at 0x7f955197d518>'\n",
      "cobra/core/reaction.py:440 \u001b[1;31mUserWarning\u001b[0m: uppercase AND/OR found in rule '( Cre16.g671400.t1.2 OR Cre16.g671350.t1.2 OR ( Cre10.g430200.t1.2 OR Cre10.g430200.t2.1 ) OR Cre01.g012100.t1.1 OR Cre10.g431800.t1.2 OR ( Cre01.g012126.t1.2 OR Cre01.g012126.t2.1 ) OR Cre04.g226050.t1.1 OR ( Cre04.g226550.t1.2 OR Cre04.g226550.t2.1 ) OR Cre04.g226600.t1.1 OR Cre05.g239750.t1.2 OR Cre05.g239900.t1.1 OR Cre06.g293800.t1.1 OR Cre07.g328500.t1.1 OR ( Cre05.g239800.t1.1 OR Cre05.g239800.t2.1 ) OR Cre01.g011901.t1.1 OR Cre02.g085850.t1.1 OR Cre02.g086000.t1.1 OR Cre10.g432600.t1.1 OR Cre02.g090550.t1.1 )' for '<Reaction ARSO4SH at 0x7f955190cf98>'\n",
      "cobra/core/reaction.py:440 \u001b[1;31mUserWarning\u001b[0m: uppercase AND/OR found in rule '( Cre08.g376100.t1.2 OR Cre01.g030250.t1.2 )' for '<Reaction BPNT2 at 0x7f955197def0>'\n",
      "cobra/core/reaction.py:440 \u001b[1;31mUserWarning\u001b[0m: uppercase AND/OR found in rule '( ( Cre08.g365692.t1.1 OR Cre16.g693202.t1.1 ) AND ( Cre01.g006100.t1.2 OR Cre12.g487900.t1.2 OR Cre06.g291650.t1.2 ) )' for '<Reaction SULR_ferr at 0x7f955190c780>'\n",
      "cobra/core/reaction.py:440 \u001b[1;31mUserWarning\u001b[0m: uppercase AND/OR found in rule '( Cre07.g343700.t1.2 OR Cre07.g343433.t1.1 )' for '<Reaction AKGDHe2r at 0x7f95519219b0>'\n",
      "cobra/core/reaction.py:440 \u001b[1;31mUserWarning\u001b[0m: uppercase AND/OR found in rule '( Cre17.g703700.t1.1 AND Cre03.g193850.t1.2 )' for '<Reaction SUCL_gdp_m at 0x7f95519217b8>'\n",
      "cobra/core/reaction.py:440 \u001b[1;31mUserWarning\u001b[0m: uppercase AND/OR found in rule '( Cre03.g194850.t1.2 OR Cre09.g410700.t1.2 )' for '<Reaction MDHh at 0x7f95519316a0>'\n",
      "cobra/core/reaction.py:440 \u001b[1;31mUserWarning\u001b[0m: uppercase AND/OR found in rule '( Cre01.g020223.t1.1 OR Cre06.g254400.t1.1 )' for '<Reaction FUMm at 0x7f95518c6f98>'\n",
      "cobra/core/reaction.py:440 \u001b[1;31mUserWarning\u001b[0m: uppercase AND/OR found in rule '( Cre17.g703700.t1.1 AND Cre03.g193850.t1.2 )' for '<Reaction SUCLm at 0x7f95518c6eb8>'\n",
      "cobra/core/reaction.py:440 \u001b[1;31mUserWarning\u001b[0m: uppercase AND/OR found in rule '( Cre14.g619133.t1.1 AND Cre06.g264200.t1.2 )' for '<Reaction SUCDH_q8_m at 0x7f95518c6ef0>'\n",
      "cobra/core/reaction.py:440 \u001b[1;31mUserWarning\u001b[0m: uppercase AND/OR found in rule '( Cre01.g040050.t1.1 OR Cre13.g582201.t1.1 )' for '<Reaction TMDPT at 0x7f95518eb668>'\n",
      "cobra/core/reaction.py:440 \u001b[1;31mUserWarning\u001b[0m: uppercase AND/OR found in rule '( Cre01.g040050.t1.1 OR Cre13.g582201.t1.1 )' for '<Reaction THMPPPT at 0x7f95518fac18>'\n",
      "cobra/core/reaction.py:440 \u001b[1;31mUserWarning\u001b[0m: uppercase AND/OR found in rule '( Cre16.g682050.t1.1 OR Cre16.g682050.t2.1 )' for '<Reaction TMDPH at 0x7f95518eb6d8>'\n",
      "cobra/core/reaction.py:440 \u001b[1;31mUserWarning\u001b[0m: uppercase AND/OR found in rule '( Cre14.g622700.t1.2 OR Cre15.g643385.t1.1 OR Cre02.g106200.t1.2 OR Cre08.g363600.t1.2 OR Cre09.g415900.t1.2 )' for '<Reaction 3PG_pi_thr at 0x7f9551085390>'\n",
      "cobra/core/reaction.py:440 \u001b[1;31mUserWarning\u001b[0m: uppercase AND/OR found in rule '( Cre10.g456400.t1.1 OR Cre10.g456400.t2.1 )' for '<Reaction ASPNA1th at 0x7f95510971d0>'\n",
      "cobra/core/reaction.py:440 \u001b[1;31mUserWarning\u001b[0m: uppercase AND/OR found in rule '( Cre14.g622700.t1.2 OR Cre15.g643385.t1.1 OR Cre02.g106200.t1.2 OR Cre08.g363600.t1.2 OR Cre09.g415900.t1.2 )' for '<Reaction DHAP_pi_thr at 0x7f9551097ac8>'\n",
      "cobra/core/reaction.py:440 \u001b[1;31mUserWarning\u001b[0m: uppercase AND/OR found in rule '( Cre14.g622700.t1.2 OR Cre15.g643385.t1.1 OR Cre02.g106200.t1.2 OR Cre08.g363600.t1.2 OR Cre09.g415900.t1.2 )' for '<Reaction G1P_pi_th at 0x7f95510a84a8>'\n",
      "cobra/core/reaction.py:440 \u001b[1;31mUserWarning\u001b[0m: uppercase AND/OR found in rule '( Cre14.g622700.t1.2 OR Cre15.g643385.t1.1 OR Cre02.g106200.t1.2 OR Cre08.g363600.t1.2 OR Cre09.g415900.t1.2 )' for '<Reaction G3P_pi_thr at 0x7f95510a8630>'\n",
      "cobra/core/reaction.py:440 \u001b[1;31mUserWarning\u001b[0m: uppercase AND/OR found in rule '( Cre14.g622700.t1.2 OR Cre15.g643385.t1.1 OR Cre02.g106200.t1.2 OR Cre08.g363600.t1.2 OR Cre09.g415900.t1.2 )' for '<Reaction G6PA_pi_th at 0x7f95510a8860>'\n",
      "cobra/core/reaction.py:440 \u001b[1;31mUserWarning\u001b[0m: uppercase AND/OR found in rule '( Cre14.g622700.t1.2 OR Cre15.g643385.t1.1 OR Cre02.g106200.t1.2 OR Cre08.g363600.t1.2 OR Cre09.g415900.t1.2 )' for '<Reaction G6PB_pi_th at 0x7f95510a8978>'\n",
      "cobra/core/reaction.py:440 \u001b[1;31mUserWarning\u001b[0m: uppercase AND/OR found in rule '( ( Cre01.g041050.t1.1 OR Cre01.g041050.t2.1 ) OR Cre07.g329050.t1.2 )' for '<Reaction GLYth at 0x7f95510ba320>'\n",
      "cobra/core/reaction.py:440 \u001b[1;31mUserWarning\u001b[0m: uppercase AND/OR found in rule '( Cre12.g549300.t1.2 OR Cre17.g711250.t1.2 )' for '<Reaction H2Oth at 0x7f95510ba828>'\n",
      "cobra/core/reaction.py:440 \u001b[1;31mUserWarning\u001b[0m: uppercase AND/OR found in rule '( ( Cre01.g041050.t1.1 OR Cre01.g041050.t2.1 ) OR Cre07.g329050.t1.2 )' for '<Reaction HISth at 0x7f95510baba8>'\n",
      "cobra/core/reaction.py:440 \u001b[1;31mUserWarning\u001b[0m: uppercase AND/OR found in rule '( Cre06.g311000.t1.1 OR Cre14.g615900.t1.1 )' for '<Reaction METHFth at 0x7f955004a6a0>'\n",
      "cobra/core/reaction.py:440 \u001b[1;31mUserWarning\u001b[0m: uppercase AND/OR found in rule '( Cre16.g671250.t1.2 OR Cre09.g395288.t1.1 )' for '<Reaction NA1Hth at 0x7f955004a828>'\n",
      "cobra/core/reaction.py:440 \u001b[1;31mUserWarning\u001b[0m: uppercase AND/OR found in rule '( Cre13.g569850.t1.2 OR Cre02.g111050.t1.1 OR ( Cre03.g159254.t1.2 OR Cre03.g159254.t2.1 ) OR Cre07.g355650.t1.1 OR Cre09.g400750.t1.2 OR Cre14.g629920.t1.1 OR Cre06.g293051.t1.1 OR ( Cre12.g531000.t1.2 OR Cre12.g531000.t2.1 ) )' for '<Reaction NH4th at 0x7f955004abe0>'\n",
      "cobra/core/reaction.py:440 \u001b[1;31mUserWarning\u001b[0m: uppercase AND/OR found in rule '( Cre02.g110800.t1.1 OR Cre09.g396000.t1.2 OR Cre09.g410800.t1.2 )' for '<Reaction NO2th at 0x7f955004acf8>'\n",
      "cobra/core/reaction.py:440 \u001b[1;31mUserWarning\u001b[0m: uppercase AND/OR found in rule '( ( Cre01.g041050.t1.1 OR Cre01.g041050.t2.1 ) OR Cre07.g329050.t1.2 )' for '<Reaction SERth at 0x7f955005de10>'\n",
      "cobra/core/reaction.py:440 \u001b[1;31mUserWarning\u001b[0m: uppercase AND/OR found in rule '( ( Cre01.g041050.t1.1 OR Cre01.g041050.t2.1 ) OR Cre07.g329050.t1.2 )' for '<Reaction THRth at 0x7f955006d588>'\n",
      "cobra/core/reaction.py:440 \u001b[1;31mUserWarning\u001b[0m: uppercase AND/OR found in rule '( ( Cre01.g041050.t1.1 OR Cre01.g041050.t2.1 ) OR Cre07.g329050.t1.2 )' for '<Reaction VALth at 0x7f95518fa4e0>'\n",
      "cobra/core/reaction.py:440 \u001b[1;31mUserWarning\u001b[0m: uppercase AND/OR found in rule '( ( Cre01.g041050.t1.1 OR Cre01.g041050.t2.1 ) OR Cre07.g329050.t1.2 )' for '<Reaction METth at 0x7f955007a588>'\n",
      "cobra/core/reaction.py:440 \u001b[1;31mUserWarning\u001b[0m: uppercase AND/OR found in rule '( Cre06.g257000.t1.2 AND Cre07.g348600.t1.1 )' for '<Reaction SO4th at 0x7f955007aa20>'\n",
      "cobra/core/reaction.py:440 \u001b[1;31mUserWarning\u001b[0m: uppercase AND/OR found in rule '( Cre17.g697950.t1.1 OR Cre08.g358526.t1.1 )' for '<Reaction ATP_3h_th at 0x7f955007afd0>'\n",
      "cobra/core/reaction.py:440 \u001b[1;31mUserWarning\u001b[0m: uppercase AND/OR found in rule '( ( Cre07.g355150.t1.1 AND Cre07.g355100.t1.2 ) OR ( Cre01.g066187.t1.1 AND Cre12.g530350.t1.1 ) OR Cre13.g573950.t1.1 )' for '<Reaction FE2th at 0x7f954bfcb6a0>'\n",
      "cobra/core/reaction.py:440 \u001b[1;31mUserWarning\u001b[0m: uppercase AND/OR found in rule '( Cre12.g541250.t1.2 OR Cre06.g309000.t1.2 )' for '<Reaction FORthi at 0x7f954bfcbc18>'\n",
      "cobra/core/reaction.py:440 \u001b[1;31mUserWarning\u001b[0m: uppercase AND/OR found in rule '( Cre10.g456400.t1.1 OR Cre10.g456400.t2.1 )' for '<Reaction GLUNA1th at 0x7f954bfcbcc0>'\n",
      "cobra/core/reaction.py:440 \u001b[1;31mUserWarning\u001b[0m: uppercase AND/OR found in rule '( Cre17.g713200.t1.1 OR Cre17.g713350.t1.2 OR Cre06.g260450.t1.2 )' for '<Reaction MALGLUth at 0x7f954bfcbd68>'\n",
      "cobra/core/reaction.py:440 \u001b[1;31mUserWarning\u001b[0m: uppercase AND/OR found in rule '( Cre02.g106200.t1.2 OR Cre03.g162000.t1.2 OR Cre06.g263850.t1.1 OR Cre08.g379350.t1.1 OR Cre08.g382350.t1.2 )' for '<Reaction PEPPIth at 0x7f954bfe0208>'\n",
      "cobra/core/reaction.py:440 \u001b[1;31mUserWarning\u001b[0m: uppercase AND/OR found in rule '( Cre12.g489400.t1.2 OR Cre12.g491600.t1.1 OR Cre02.g144650.t1.2 OR Cre02.g144750.t1.1 OR Cre02.g144700.t1.2 )' for '<Reaction PINA1th at 0x7f954bfe0a20>'\n",
      "cobra/core/reaction.py:440 \u001b[1;31mUserWarning\u001b[0m: uppercase AND/OR found in rule '( Cre06.g257000.t1.2 AND ( Cre07.g348600.t1.1 OR Cre06.g273750.t1.1 ) )' for '<Reaction TSULth at 0x7f954bfe0780>'\n",
      "cobra/core/reaction.py:440 \u001b[1;31mUserWarning\u001b[0m: uppercase AND/OR found in rule '( Cre10.g433200.t1.2 OR ( Cre10.g442600.t1.2 OR Cre10.g442600.t2.1 ) OR Cre10.g442800.t1.1 OR Cre06.g305900.t1.1 OR Cre11.g467754.t1.1 OR Cre18.g748997.t1.1 )' for '<Reaction 5FLURAt at 0x7f954bff1320>'\n",
      "cobra/core/reaction.py:440 \u001b[1;31mUserWarning\u001b[0m: uppercase AND/OR found in rule '( Cre10.g433200.t1.2 OR ( Cre10.g442600.t1.2 OR Cre10.g442600.t2.1 ) OR Cre10.g442800.t1.1 OR Cre06.g305900.t1.1 OR Cre11.g467754.t1.1 OR Cre18.g748997.t1.1 )' for '<Reaction 6MPURt at 0x7f954bff1550>'\n",
      "cobra/core/reaction.py:440 \u001b[1;31mUserWarning\u001b[0m: uppercase AND/OR found in rule '( Cre12.g549300.t1.2 OR Cre17.g711250.t1.2 )' for '<Reaction H2Ot at 0x7f954bff1f28>'\n",
      "cobra/core/reaction.py:440 \u001b[1;31mUserWarning\u001b[0m: uppercase AND/OR found in rule '( ( Cre01.g041050.t1.1 OR Cre01.g041050.t2.1 ) OR Cre07.g329050.t1.2 )' for '<Reaction HISt at 0x7f954bf82240>'\n",
      "cobra/core/reaction.py:440 \u001b[1;31mUserWarning\u001b[0m: uppercase AND/OR found in rule '( Cre13.g569850.t1.2 OR Cre02.g111050.t1.1 OR ( Cre03.g159254.t1.2 OR Cre03.g159254.t2.1 ) OR Cre07.g355650.t1.1 OR Cre09.g400750.t1.2 OR Cre14.g629920.t1.1 OR Cre06.g293051.t1.1 OR ( Cre12.g531000.t1.2 OR Cre12.g531000.t2.1 ) )' for '<Reaction NH4t at 0x7f954bf82898>'\n",
      "cobra/core/reaction.py:440 \u001b[1;31mUserWarning\u001b[0m: uppercase AND/OR found in rule '( Cre02.g110800.t1.1 OR Cre09.g396000.t1.2 OR Cre09.g410800.t1.2 )' for '<Reaction NO2t at 0x7f954bf82978>'\n",
      "cobra/core/reaction.py:440 \u001b[1;31mUserWarning\u001b[0m: uppercase AND/OR found in rule '( Cre02.g110800.t1.1 OR Cre09.g396000.t1.2 OR Cre09.g410800.t1.2 )' for '<Reaction NO3t at 0x7f954bf82c50>'\n",
      "cobra/core/reaction.py:440 \u001b[1;31mUserWarning\u001b[0m: uppercase AND/OR found in rule '( Cre16.g686750.t1.2 OR Cre16.g686850.t1.2 OR Cre02.g075050.t1.2 OR Cre16.g686800.t1.2 )' for '<Reaction PIt at 0x7f954bf82dd8>'\n",
      "cobra/core/reaction.py:440 \u001b[1;31mUserWarning\u001b[0m: uppercase AND/OR found in rule '( Cre03.g160400.t1.2 AND ( Cre10.g445050.t1.2 OR Cre10.g445000.t1.2 OR Cre12.g502600.t1.2 ) )' for '<Reaction SO4NA1t at 0x7f954bf8f5c0>'\n",
      "cobra/core/reaction.py:440 \u001b[1;31mUserWarning\u001b[0m: uppercase AND/OR found in rule '( Cre10.g433200.t1.2 OR ( Cre10.g442600.t1.2 OR Cre10.g442600.t2.1 ) OR Cre10.g442800.t1.1 OR Cre06.g305900.t1.1 OR Cre11.g467754.t1.1 OR Cre18.g748997.t1.1 )' for '<Reaction TEGAt at 0x7f954bf8f898>'\n",
      "cobra/core/reaction.py:440 \u001b[1;31mUserWarning\u001b[0m: uppercase AND/OR found in rule '( Cre10.g433200.t1.2 OR ( Cre10.g442600.t1.2 OR Cre10.g442600.t2.1 ) OR Cre10.g442800.t1.1 OR Cre06.g305900.t1.1 OR Cre11.g467754.t1.1 OR Cre18.g748997.t1.1 )' for '<Reaction TGUAt at 0x7f954bf8f9e8>'\n",
      "cobra/core/reaction.py:440 \u001b[1;31mUserWarning\u001b[0m: uppercase AND/OR found in rule '( Cre10.g433200.t1.2 OR Cre10.g433250.t1.2 OR ( Cre10.g442600.t1.2 OR Cre10.g442600.t2.1 ) OR Cre10.g442800.t1.1 )' for '<Reaction URATEt at 0x7f954bf8fdd8>'\n",
      "cobra/core/reaction.py:440 \u001b[1;31mUserWarning\u001b[0m: uppercase AND/OR found in rule '( Cre17.g703800.t1.1 OR Cre08.g360200.t1.2 OR Cre08.g360250.t1.2 )' for '<Reaction UREAt at 0x7f954bf8fd30>'\n",
      "cobra/core/reaction.py:440 \u001b[1;31mUserWarning\u001b[0m: uppercase AND/OR found in rule '( Cre16.g681238.t1.1 OR Cre03.g172250.t1.1 )' for '<Reaction FE2GTPabc at 0x7f954bfa7f98>'\n",
      "cobra/core/reaction.py:440 \u001b[1;31mUserWarning\u001b[0m: uppercase AND/OR found in rule '( Cre03.g192050.t1.1 OR Cre01.g031500.t1.2 )' for '<Reaction FE3t at 0x7f954bfb80b8>'\n",
      "cobra/core/reaction.py:440 \u001b[1;31mUserWarning\u001b[0m: uppercase AND/OR found in rule '( Cre01.g012050.t1.2 OR Cre04.g217915.t1.1 OR Cre07.g335600.t1.2 )' for '<Reaction FORti at 0x7f954bfb83c8>'\n",
      "cobra/core/reaction.py:440 \u001b[1;31mUserWarning\u001b[0m: uppercase AND/OR found in rule '( Cre10.g459200.t1.2 OR Cre03.g164600.t1.2 OR Cre03.g165050.t1.2 )' for '<Reaction HATPase at 0x7f954bfb8940>'\n",
      "cobra/core/reaction.py:440 \u001b[1;31mUserWarning\u001b[0m: uppercase AND/OR found in rule '( Cre12.g536000.t1.2 OR Cre12.g536050.t1.2 OR ( Cre16.g656500.t1.1 OR Cre16.g656500.t2.1 ) )' for '<Reaction PAIL18111Z160t at 0x7f954bfb82e8>'\n",
      "cobra/core/reaction.py:440 \u001b[1;31mUserWarning\u001b[0m: uppercase AND/OR found in rule '( Cre12.g536000.t1.2 OR Cre12.g536050.t1.2 OR ( Cre16.g656500.t1.1 OR Cre16.g656500.t2.1 ) )' for '<Reaction PAIL1819Z160t at 0x7f954bfb8cf8>'\n",
      "cobra/core/reaction.py:440 \u001b[1;31mUserWarning\u001b[0m: uppercase AND/OR found in rule '( Cre12.g536000.t1.2 OR Cre12.g536050.t1.2 OR ( Cre16.g656500.t1.1 OR Cre16.g656500.t2.1 ) )' for '<Reaction PE1801819Zt at 0x7f954bfb8978>'\n",
      "cobra/core/reaction.py:440 \u001b[1;31mUserWarning\u001b[0m: uppercase AND/OR found in rule '( Cre12.g536000.t1.2 OR Cre12.g536050.t1.2 OR ( Cre16.g656500.t1.1 OR Cre16.g656500.t2.1 ) )' for '<Reaction PE1801829Z12Zt at 0x7f954bfb8ac8>'\n",
      "cobra/core/reaction.py:440 \u001b[1;31mUserWarning\u001b[0m: uppercase AND/OR found in rule '( Cre12.g536000.t1.2 OR Cre12.g536050.t1.2 OR ( Cre16.g656500.t1.1 OR Cre16.g656500.t2.1 ) )' for '<Reaction PE1801835Z9Z12Zt at 0x7f954bfb8eb8>'\n",
      "cobra/core/reaction.py:440 \u001b[1;31mUserWarning\u001b[0m: uppercase AND/OR found in rule '( Cre12.g536000.t1.2 OR Cre12.g536050.t1.2 OR ( Cre16.g656500.t1.1 OR Cre16.g656500.t2.1 ) )' for '<Reaction PE1801845Z9Z12Z15Zt at 0x7f954bfb8f98>'\n",
      "cobra/core/reaction.py:440 \u001b[1;31mUserWarning\u001b[0m: uppercase AND/OR found in rule '( Cre12.g536000.t1.2 OR Cre12.g536050.t1.2 OR ( Cre16.g656500.t1.1 OR Cre16.g656500.t2.1 ) )' for '<Reaction PE18111Z1819Zt at 0x7f954bfb8ba8>'\n",
      "cobra/core/reaction.py:440 \u001b[1;31mUserWarning\u001b[0m: uppercase AND/OR found in rule '( Cre12.g536000.t1.2 OR Cre12.g536050.t1.2 OR ( Cre16.g656500.t1.1 OR Cre16.g656500.t2.1 ) )' for '<Reaction PE18111Z1829Z12Zt at 0x7f954bf485f8>'\n",
      "cobra/core/reaction.py:440 \u001b[1;31mUserWarning\u001b[0m: uppercase AND/OR found in rule '( Cre12.g536000.t1.2 OR Cre12.g536050.t1.2 OR ( Cre16.g656500.t1.1 OR Cre16.g656500.t2.1 ) )' for '<Reaction PE18111Z1835Z9Z12Zt at 0x7f954bf48898>'\n",
      "cobra/core/reaction.py:440 \u001b[1;31mUserWarning\u001b[0m: uppercase AND/OR found in rule '( Cre12.g536000.t1.2 OR Cre12.g536050.t1.2 OR ( Cre16.g656500.t1.1 OR Cre16.g656500.t2.1 ) )' for '<Reaction PE18111Z1845Z9Z12Z15Zt at 0x7f954bf48b38>'\n",
      "cobra/core/reaction.py:440 \u001b[1;31mUserWarning\u001b[0m: uppercase AND/OR found in rule '( Cre12.g536000.t1.2 OR Cre12.g536050.t1.2 OR ( Cre16.g656500.t1.1 OR Cre16.g656500.t2.1 ) )' for '<Reaction PE1819Z1819Zt at 0x7f954bf48dd8>'\n",
      "cobra/core/reaction.py:440 \u001b[1;31mUserWarning\u001b[0m: uppercase AND/OR found in rule '( Cre12.g536000.t1.2 OR Cre12.g536050.t1.2 OR ( Cre16.g656500.t1.1 OR Cre16.g656500.t2.1 ) )' for '<Reaction PE1819Z1829Z12Zt at 0x7f954bf48f98>'\n",
      "cobra/core/reaction.py:440 \u001b[1;31mUserWarning\u001b[0m: uppercase AND/OR found in rule '( Cre12.g536000.t1.2 OR Cre12.g536050.t1.2 OR ( Cre16.g656500.t1.1 OR Cre16.g656500.t2.1 ) )' for '<Reaction PE1819Z1835Z9Z12Zt at 0x7f954bf48278>'\n",
      "cobra/core/reaction.py:440 \u001b[1;31mUserWarning\u001b[0m: uppercase AND/OR found in rule '( Cre12.g536000.t1.2 OR Cre12.g536050.t1.2 OR ( Cre16.g656500.t1.1 OR Cre16.g656500.t2.1 ) )' for '<Reaction PE1819Z1845Z9Z12Z15Zt at 0x7f954bf5c5f8>'\n",
      "cobra/core/reaction.py:440 \u001b[1;31mUserWarning\u001b[0m: uppercase AND/OR found in rule '( Cre12.g536000.t1.2 OR Cre12.g536050.t1.2 OR ( Cre16.g656500.t1.1 OR Cre16.g656500.t2.1 ) )' for '<Reaction PE1829Z12Z1835Z9Z12Zt at 0x7f954bf5c898>'\n",
      "cobra/core/reaction.py:440 \u001b[1;31mUserWarning\u001b[0m: uppercase AND/OR found in rule '( Cre12.g536000.t1.2 OR Cre12.g536050.t1.2 OR ( Cre16.g656500.t1.1 OR Cre16.g656500.t2.1 ) )' for '<Reaction PG18111Z160t at 0x7f954bf5cb38>'\n",
      "cobra/core/reaction.py:440 \u001b[1;31mUserWarning\u001b[0m: uppercase AND/OR found in rule '( Cre12.g536000.t1.2 OR Cre12.g536050.t1.2 OR ( Cre16.g656500.t1.1 OR Cre16.g656500.t2.1 ) )' for '<Reaction PG1819Z160t at 0x7f954bf5cdd8>'\n",
      "cobra/core/reaction.py:440 \u001b[1;31mUserWarning\u001b[0m: uppercase AND/OR found in rule '( Cre12.g536000.t1.2 OR Cre12.g536050.t1.2 OR ( Cre16.g656500.t1.1 OR Cre16.g656500.t2.1 ) )' for '<Reaction PGP18111Z160t at 0x7f954bf5cf98>'\n",
      "cobra/core/reaction.py:440 \u001b[1;31mUserWarning\u001b[0m: uppercase AND/OR found in rule '( Cre12.g536000.t1.2 OR Cre12.g536050.t1.2 OR ( Cre16.g656500.t1.1 OR Cre16.g656500.t2.1 ) )' for '<Reaction PGP1819Z160t at 0x7f954bf5c278>'\n",
      "cobra/core/reaction.py:440 \u001b[1;31mUserWarning\u001b[0m: uppercase AND/OR found in rule '( Cre12.g549300.t1.2 OR Cre17.g711250.t1.2 )' for '<Reaction H2Otf at 0x7f954bf03ba8>'\n",
      "cobra/core/reaction.py:440 \u001b[1;31mUserWarning\u001b[0m: uppercase AND/OR found in rule '( Cre16.g686750.t1.2 OR Cre16.g686850.t1.2 OR Cre02.g075050.t1.2 )' for '<Reaction PItf at 0x7f954bf03cf8>'\n",
      "cobra/core/reaction.py:440 \u001b[1;31mUserWarning\u001b[0m: uppercase AND/OR found in rule '( Cre12.g549300.t1.2 OR Cre17.g711250.t1.2 )' for '<Reaction H2Otx at 0x7f954bf14b70>'\n",
      "cobra/core/reaction.py:440 \u001b[1;31mUserWarning\u001b[0m: uppercase AND/OR found in rule '( Cre13.g569850.t1.2 OR Cre02.g111050.t1.1 OR ( Cre03.g159254.t1.2 OR Cre03.g159254.t2.1 ) OR Cre07.g355650.t1.1 OR Cre09.g400750.t1.2 OR Cre14.g629920.t1.1 OR Cre06.g293051.t1.1 OR ( Cre12.g531000.t1.2 OR Cre12.g531000.t2.1 ) )' for '<Reaction NH4tx at 0x7f954bf14eb8>'\n",
      "cobra/core/reaction.py:440 \u001b[1;31mUserWarning\u001b[0m: uppercase AND/OR found in rule '( Cre16.g686750.t1.2 OR Cre16.g686850.t1.2 OR Cre02.g075050.t1.2 )' for '<Reaction PItx at 0x7f954bf14f60>'\n",
      "cobra/core/reaction.py:440 \u001b[1;31mUserWarning\u001b[0m: uppercase AND/OR found in rule '( ( Cre01.g041050.t1.1 OR Cre01.g041050.t2.1 ) OR Cre07.g329050.t1.2 )' for '<Reaction ALAtx at 0x7f954bf255c0>'\n",
      "cobra/core/reaction.py:440 \u001b[1;31mUserWarning\u001b[0m: uppercase AND/OR found in rule '( ( Cre01.g041050.t1.1 OR Cre01.g041050.t2.1 ) OR Cre07.g329050.t1.2 )' for '<Reaction GLYtx at 0x7f954bf25be0>'\n",
      "cobra/core/reaction.py:440 \u001b[1;31mUserWarning\u001b[0m: uppercase AND/OR found in rule '( Cre15.g637761.t1.2 OR Cre15.g637761.t2.1 OR Cre15.g637761.t3.1 )' for '<Reaction FA160COAabcp at 0x7f954bf25ef0>'\n",
      "cobra/core/reaction.py:440 \u001b[1;31mUserWarning\u001b[0m: uppercase AND/OR found in rule '( Cre01.g012050.t1.2 OR Cre04.g217915.t1.1 OR Cre07.g335600.t1.2 )' for '<Reaction FORtxi at 0x7f954bf359b0>'\n",
      "cobra/core/reaction.py:440 \u001b[1;31mUserWarning\u001b[0m: uppercase AND/OR found in rule '( ( Cre01.g041050.t1.1 OR Cre01.g041050.t2.1 ) OR Cre07.g329050.t1.2 )' for '<Reaction ALAtm at 0x7f954bed3320>'\n",
      "cobra/core/reaction.py:440 \u001b[1;31mUserWarning\u001b[0m: uppercase AND/OR found in rule '( Cre10.g456400.t1.1 OR Cre10.g456400.t2.1 )' for '<Reaction ASPNA1tm at 0x7f9551f0f198>'\n",
      "cobra/core/reaction.py:440 \u001b[1;31mUserWarning\u001b[0m: uppercase AND/OR found in rule '( Cre10.g456400.t1.1 OR Cre10.g456400.t2.1 )' for '<Reaction GLUNA1tm at 0x7f954bef8470>'\n",
      "cobra/core/reaction.py:440 \u001b[1;31mUserWarning\u001b[0m: uppercase AND/OR found in rule '( ( Cre01.g041050.t1.1 OR Cre01.g041050.t2.1 ) OR Cre07.g329050.t1.2 )' for '<Reaction GLYtm at 0x7f954bef8978>'\n",
      "cobra/core/reaction.py:440 \u001b[1;31mUserWarning\u001b[0m: uppercase AND/OR found in rule '( Cre12.g549300.t1.2 OR Cre17.g711250.t1.2 )' for '<Reaction H2Otm at 0x7f954bed3898>'\n",
      "cobra/core/reaction.py:440 \u001b[1;31mUserWarning\u001b[0m: uppercase AND/OR found in rule '( Cre16.g671250.t1.2 OR Cre09.g395288.t1.1 )' for '<Reaction NA1Htm at 0x7f954be99240>'\n",
      "cobra/core/reaction.py:440 \u001b[1;31mUserWarning\u001b[0m: uppercase AND/OR found in rule '( Cre13.g569850.t1.2 OR Cre02.g111050.t1.1 OR ( Cre03.g159254.t1.2 OR Cre03.g159254.t2.1 ) OR Cre07.g355650.t1.1 OR Cre09.g400750.t1.2 OR Cre14.g629920.t1.1 OR Cre06.g293051.t1.1 OR ( Cre12.g531000.t1.2 OR Cre12.g531000.t2.1 ) )' for '<Reaction NH4tm at 0x7f954be993c8>'\n",
      "cobra/core/reaction.py:440 \u001b[1;31mUserWarning\u001b[0m: uppercase AND/OR found in rule '( Cre17.g747797.t1.1 OR Cre17.g747797.t2.1 )' for '<Reaction ORNtm at 0x7f954be998d0>'\n",
      "cobra/core/reaction.py:440 \u001b[1;31mUserWarning\u001b[0m: uppercase AND/OR found in rule '( ( Cre16.g676757.t1.1 OR Cre16.g676757.t2.1 ) OR Cre12.g489400.t1.2 OR Cre12.g491600.t1.1 OR Cre02.g144650.t1.2 OR Cre02.g144750.t1.1 OR Cre07.g325740.t1.1 OR Cre07.g325741.t1.1 OR Cre02.g144700.t1.2 )' for '<Reaction PINA1tm at 0x7f954beaa080>'\n",
      "cobra/core/reaction.py:440 \u001b[1;31mUserWarning\u001b[0m: uppercase AND/OR found in rule '( Cre16.g686750.t1.2 OR Cre16.g686850.t1.2 OR Cre02.g075050.t1.2 )' for '<Reaction PItm at 0x7f954be99908>'\n",
      "cobra/core/reaction.py:440 \u001b[1;31mUserWarning\u001b[0m: uppercase AND/OR found in rule '( Cre02.g112000.t1.1 OR Cre06.g273200.t1.1 )' for '<Reaction PRONA1tm at 0x7f954beaa898>'\n",
      "cobra/core/reaction.py:440 \u001b[1;31mUserWarning\u001b[0m: uppercase AND/OR found in rule '( Cre02.g112000.t1.1 OR Cre06.g273200.t1.1 )' for '<Reaction PROtm at 0x7f954beaa940>'\n",
      "cobra/core/reaction.py:440 \u001b[1;31mUserWarning\u001b[0m: uppercase AND/OR found in rule '( ( Cre01.g041050.t1.1 OR Cre01.g041050.t2.1 ) OR Cre07.g329050.t1.2 )' for '<Reaction SERtm at 0x7f954beaae10>'\n",
      "cobra/core/reaction.py:440 \u001b[1;31mUserWarning\u001b[0m: uppercase AND/OR found in rule '( ( Cre01.g041050.t1.1 OR Cre01.g041050.t2.1 ) OR Cre07.g329050.t1.2 )' for '<Reaction THRtm at 0x7f954bebc588>'\n",
      "cobra/core/reaction.py:440 \u001b[1;31mUserWarning\u001b[0m: uppercase AND/OR found in rule '( Cre10.g433200.t1.2 OR Cre10.g433250.t1.2 OR ( Cre10.g442600.t1.2 OR Cre10.g442600.t2.1 ) OR Cre10.g442800.t1.1 )' for '<Reaction URATEtm at 0x7f954bebcda0>'\n",
      "cobra/core/reaction.py:440 \u001b[1;31mUserWarning\u001b[0m: uppercase AND/OR found in rule '( Cre17.g703800.t1.1 OR Cre08.g360200.t1.2 OR Cre08.g360250.t1.2 )' for '<Reaction UREAtm at 0x7f954bebce10>'\n",
      "cobra/core/reaction.py:440 \u001b[1;31mUserWarning\u001b[0m: uppercase AND/OR found in rule '( ( Cre01.g041050.t1.1 OR Cre01.g041050.t2.1 ) OR Cre07.g329050.t1.2 )' for '<Reaction VALtm at 0x7f954bebcf60>'\n",
      "cobra/core/reaction.py:440 \u001b[1;31mUserWarning\u001b[0m: uppercase AND/OR found in rule '( Cre06.g307300.t1.1 OR ( Cre09.g386650.t1.2 OR Cre09.g386650.t2.1 ) OR Cre09.g394800.t1.1 )' for '<Reaction ATP_3h_tm at 0x7f954be5e198>'\n",
      "cobra/core/reaction.py:440 \u001b[1;31mUserWarning\u001b[0m: uppercase AND/OR found in rule '( Cre01.g012050.t1.2 OR Cre04.g217915.t1.1 OR Cre07.g335600.t1.2 )' for '<Reaction FORtmi at 0x7f954be5e668>'\n",
      "cobra/core/reaction.py:440 \u001b[1;31mUserWarning\u001b[0m: uppercase AND/OR found in rule '( Cre17.g698000.t1.2 AND ( ( Cre10.g419050.t1.1 OR Cre10.g419050.t2.1 ) OR ( Cre02.g116750.t1.1 OR Cre02.g116750.t2.1 ) ) )' for '<Reaction NA1ATPasem at 0x7f954be5e940>'\n",
      "cobra/core/reaction.py:440 \u001b[1;31mUserWarning\u001b[0m: uppercase AND/OR found in rule '( Cre06.g257000.t1.2 AND ( Cre07.g348600.t1.1 OR Cre06.g273750.t1.1 OR Cre14.g616900.t1.2 ) )' for '<Reaction TSULtm at 0x7f954be6e390>'\n",
      "cobra/core/reaction.py:440 \u001b[1;31mUserWarning\u001b[0m: uppercase AND/OR found in rule '( Cre13.g569850.t1.2 OR Cre02.g111050.t1.1 OR ( Cre03.g159254.t1.2 OR Cre03.g159254.t2.1 ) OR Cre07.g355650.t1.1 OR Cre09.g400750.t1.2 OR Cre14.g629920.t1.1 OR Cre06.g293051.t1.1 OR ( Cre12.g531000.t1.2 OR Cre12.g531000.t2.1 ) )' for '<Reaction NH4tn at 0x7f954be6ecf8>'\n",
      "cobra/core/reaction.py:440 \u001b[1;31mUserWarning\u001b[0m: uppercase AND/OR found in rule '( Cre12.g549300.t1.2 OR Cre17.g711250.t1.2 )' for '<Reaction H2Othu at 0x7f954be7ff28>'\n",
      "cobra/core/reaction.py:440 \u001b[1;31mUserWarning\u001b[0m: uppercase AND/OR found in rule '( ( Cre17.g710200.t1.1 OR Cre17.g710200.t2.1 ) OR Cre17.g713700.t1.1 )' for '<Reaction TRP23OR at 0x7f954be0fc18>'\n",
      "cobra/core/reaction.py:440 \u001b[1;31mUserWarning\u001b[0m: uppercase AND/OR found in rule '( Cre02.g097900.t1.2 OR Cre09.g387726.t1.1 OR Cre02.g147302.t1.1 )' for '<Reaction TAT at 0x7f954be0f940>'\n",
      "cobra/core/reaction.py:440 \u001b[1;31mUserWarning\u001b[0m: uppercase AND/OR found in rule '( Cre09.g398993.t1.1 OR Cre09.g399030.t1.1 )' for '<Reaction HPPD at 0x7f954be0fb38>'\n",
      "cobra/core/reaction.py:440 \u001b[1;31mUserWarning\u001b[0m: uppercase AND/OR found in rule '( Cre08.g360050.t1.1 OR Cre08.g360050.t2.1 )' for '<Reaction URCB at 0x7f954be0fd68>'\n",
      "cobra/core/reaction.py:440 \u001b[1;31mUserWarning\u001b[0m: uppercase AND/OR found in rule '( Cre01.g004500.t1.2 AND Cre06.g252650.t1.2 )' for '<Reaction IMDHT at 0x7f954be20ac8>'\n",
      "cobra/core/reaction.py:440 \u001b[1;31mUserWarning\u001b[0m: uppercase AND/OR found in rule '( Cre01.g004500.t1.2 AND Cre06.g252650.t1.2 )' for '<Reaction IMDHT_3c2hmp at 0x7f954be20860>'\n",
      "cobra/core/reaction.py:440 \u001b[1;31mUserWarning\u001b[0m: uppercase AND/OR found in rule '( Cre01.g055453.t1.1 AND Cre09.g386758.t1.1 )' for '<Reaction ACAS_2ahbut at 0x7f954be20fd0>'\n",
      "cobra/core/reaction.py:440 \u001b[1;31mUserWarning\u001b[0m: uppercase AND/OR found in rule '( Cre16.g651750.t1.2 OR Cre16.g651650.t1.1 )' for '<Reaction ILETL at 0x7f954be30588>'\n",
      "cobra/core/reaction.py:440 \u001b[1;31mUserWarning\u001b[0m: uppercase AND/OR found in rule '( Cre06.g258733.t1.1 OR Cre06.g258733.t2.1 )' for '<Reaction IPMS at 0x7f954be306d8>'\n",
      "cobra/core/reaction.py:440 \u001b[1;31mUserWarning\u001b[0m: uppercase AND/OR found in rule '( Cre13.g578451.t1.1 OR Cre06.g293582.t1.1 )' for '<Reaction LEUTL at 0x7f954be30a20>'\n",
      "cobra/core/reaction.py:440 \u001b[1;31mUserWarning\u001b[0m: uppercase AND/OR found in rule '( Cre12.g537100.t1.2 OR Cre07.g350500.t1.2 )' for '<Reaction VALTL at 0x7f954be30940>'\n",
      "cobra/core/reaction.py:440 \u001b[1;31mUserWarning\u001b[0m: uppercase AND/OR found in rule '( Cre12.g537100.t1.2 OR Cre07.g350500.t1.2 )' for '<Reaction VALTLh at 0x7f954bdc39b0>'\n",
      "cobra/core/reaction.py:440 \u001b[1;31mUserWarning\u001b[0m: uppercase AND/OR found in rule '( Cre17.g747297.t1.1 OR Cre02.g076600.t1.2 )' for '<Reaction ILETAH at 0x7f954bdc38d0>'\n",
      "cobra/core/reaction.py:440 \u001b[1;31mUserWarning\u001b[0m: uppercase AND/OR found in rule '( Cre17.g747297.t1.1 OR Cre02.g076600.t1.2 )' for '<Reaction LEUTAH at 0x7f954bdc3da0>'\n",
      "cobra/core/reaction.py:440 \u001b[1;31mUserWarning\u001b[0m: uppercase AND/OR found in rule '( Cre17.g747297.t1.1 OR Cre02.g076600.t1.2 )' for '<Reaction VALTAH at 0x7f954bdd3160>'\n",
      "cobra/core/reaction.py:440 \u001b[1;31mUserWarning\u001b[0m: uppercase AND/OR found in rule '( Cre16.g684550.t1.1 OR Cre16.g695050.t1.2 OR Cre06.g308100.t1.2 OR Cre14.g630859.t1.1 )' for '<Reaction HMNO at 0x7f954bdc3860>'\n",
      "cobra/core/reaction.py:440 \u001b[1;31mUserWarning\u001b[0m: uppercase AND/OR found in rule '( Cre16.g695050.t1.2 OR Cre06.g308100.t1.2 )' for '<Reaction HMNOS at 0x7f954bdc3b38>'\n",
      "cobra/core/reaction.py:440 \u001b[1;31mUserWarning\u001b[0m: uppercase AND/OR found in rule '( Cre06.g278098.t1.1 AND Cre03.g181200.t1.2 )' for '<Reaction MCTC at 0x7f954bde64e0>'\n",
      "cobra/core/reaction.py:440 \u001b[1;31mUserWarning\u001b[0m: uppercase AND/OR found in rule '( Cre12.g539900.t1.1 AND Cre06.g311050.t1.2 )' for '<Reaction MOD at 0x7f954bde6f98>'\n",
      "cobra/core/reaction.py:440 \u001b[1;31mUserWarning\u001b[0m: uppercase AND/OR found in rule '( Cre12.g539900.t1.1 AND Cre06.g311050.t1.2 )' for '<Reaction MOD_2mbdhl at 0x7f954bde6e80>'\n",
      "cobra/core/reaction.py:440 \u001b[1;31mUserWarning\u001b[0m: uppercase AND/OR found in rule '( Cre12.g539900.t1.1 AND Cre06.g311050.t1.2 )' for '<Reaction MOD_2mhop at 0x7f954bef82b0>'\n",
      "cobra/core/reaction.py:440 \u001b[1;31mUserWarning\u001b[0m: uppercase AND/OR found in rule '( Cre12.g539900.t1.1 AND Cre06.g311050.t1.2 )' for '<Reaction MOD_3mhtpp at 0x7f954bde6d30>'\n",
      "cobra/core/reaction.py:440 \u001b[1;31mUserWarning\u001b[0m: uppercase AND/OR found in rule '( Cre12.g539900.t1.1 AND Cre06.g311050.t1.2 )' for '<Reaction MOD_3mop at 0x7f954bde6cc0>'\n",
      "cobra/core/reaction.py:440 \u001b[1;31mUserWarning\u001b[0m: uppercase AND/OR found in rule '( Cre12.g539900.t1.1 AND Cre06.g311050.t1.2 )' for '<Reaction MOD_4mop at 0x7f954bdf8710>'\n",
      "cobra/core/reaction.py:440 \u001b[1;31mUserWarning\u001b[0m: uppercase AND/OR found in rule '( Cre06.g311050.t1.2 OR Cre12.g539900.t1.1 OR Cre04.g228350.t1.1 )' for '<Reaction OIVD3m at 0x7f954bdf8b70>'\n",
      "cobra/core/reaction.py:440 \u001b[1;31mUserWarning\u001b[0m: uppercase AND/OR found in rule '( Cre10.g458050.t1.2 OR Cre02.g081400.t1.2 )' for '<Reaction BCTA_glu_h at 0x7f954bdf8908>'\n",
      "cobra/core/reaction.py:440 \u001b[1;31mUserWarning\u001b[0m: uppercase AND/OR found in rule '( Cre10.g458050.t1.2 OR Cre02.g081400.t1.2 )' for '<Reaction BCTAh at 0x7f954bdf8eb8>'\n",
      "cobra/core/reaction.py:440 \u001b[1;31mUserWarning\u001b[0m: uppercase AND/OR found in rule '( Cre10.g458050.t1.2 OR Cre02.g081400.t1.2 )' for '<Reaction BCTA_val_h at 0x7f954bdf8ef0>'\n",
      "cobra/core/reaction.py:440 \u001b[1;31mUserWarning\u001b[0m: uppercase AND/OR found in rule '( Cre02.g095100.t1.1 OR Cre08.g378200.t1.2 )' for '<Reaction PDX5POi at 0x7f954bd89940>'\n",
      "cobra/core/reaction.py:440 \u001b[1;31mUserWarning\u001b[0m: uppercase AND/OR found in rule '( Cre03.g168700.t1.2 OR Cre10.g438100.t1.2 OR Cre06.g271400.t1.1 )' for '<Reaction PDXPP at 0x7f954bdf8978>'\n",
      "cobra/core/reaction.py:440 \u001b[1;31mUserWarning\u001b[0m: uppercase AND/OR found in rule '( Cre02.g095100.t1.1 OR Cre08.g378200.t1.2 )' for '<Reaction PYAM5PO at 0x7f954bd895c0>'\n",
      "cobra/core/reaction.py:440 \u001b[1;31mUserWarning\u001b[0m: uppercase AND/OR found in rule '( Cre03.g168700.t1.2 OR Cre10.g438100.t1.2 OR Cre06.g271400.t1.1 )' for '<Reaction PYAMPP at 0x7f954bd89eb8>'\n",
      "cobra/core/reaction.py:440 \u001b[1;31mUserWarning\u001b[0m: uppercase AND/OR found in rule '( Cre03.g173800.t1.2 OR Cre03.g173800.t2.1 )' for '<Reaction PYDAMK at 0x7f954bd9c080>'\n",
      "cobra/core/reaction.py:440 \u001b[1;31mUserWarning\u001b[0m: uppercase AND/OR found in rule '( Cre11.g467688.t1.1 OR Cre11.g467688.t2.1 )' for '<Reaction PYDXDH at 0x7f954bd9c2e8>'\n",
      "cobra/core/reaction.py:440 \u001b[1;31mUserWarning\u001b[0m: uppercase AND/OR found in rule '( Cre03.g173800.t1.2 OR Cre03.g173800.t2.1 )' for '<Reaction PYDXK at 0x7f954bd89438>'\n",
      "cobra/core/reaction.py:440 \u001b[1;31mUserWarning\u001b[0m: uppercase AND/OR found in rule '( Cre03.g173800.t1.2 OR Cre03.g173800.t2.1 )' for '<Reaction PYDXNK at 0x7f954bd9c710>'\n",
      "cobra/core/reaction.py:440 \u001b[1;31mUserWarning\u001b[0m: uppercase AND/OR found in rule '( Cre02.g095100.t1.1 OR Cre08.g378200.t1.2 )' for '<Reaction PYDXNO at 0x7f954bd9c940>'\n",
      "cobra/core/reaction.py:440 \u001b[1;31mUserWarning\u001b[0m: uppercase AND/OR found in rule '( Cre02.g095100.t1.1 OR Cre08.g378200.t1.2 )' for '<Reaction PYDXO at 0x7f954bd9c4a8>'\n",
      "cobra/core/reaction.py:440 \u001b[1;31mUserWarning\u001b[0m: uppercase AND/OR found in rule '( Cre03.g168700.t1.2 OR Cre10.g438100.t1.2 OR Cre06.g271400.t1.1 )' for '<Reaction PYDXPP at 0x7f954bd9cd68>'\n",
      "cobra/core/reaction.py:440 \u001b[1;31mUserWarning\u001b[0m: uppercase AND/OR found in rule '( Cre15.g643550.t1.2 AND Cre03.g167051.t1.2 )' for '<Reaction PYDXS at 0x7f954bd9c7f0>'\n"
     ]
    }
   ],
   "source": [
    "from cobra.io import read_sbml_model\n",
    "model = read_sbml_model('../iCre1355_hetero.xml')"
   ]
  },
  {
   "cell_type": "code",
   "execution_count": 8,
   "metadata": {
    "collapsed": true,
    "jupyter": {
     "outputs_hidden": true
    }
   },
   "outputs": [
    {
     "data": {
      "text/html": [
       "\n",
       "        <table>\n",
       "            <tr>\n",
       "                <td><strong>Name</strong></td>\n",
       "                <td>iCre1355</td>\n",
       "            </tr><tr>\n",
       "                <td><strong>Memory address</strong></td>\n",
       "                <td>0x07f960388a2b0</td>\n",
       "            </tr><tr>\n",
       "                <td><strong>Number of metabolites</strong></td>\n",
       "                <td>1845</td>\n",
       "            </tr><tr>\n",
       "                <td><strong>Number of reactions</strong></td>\n",
       "                <td>2394</td>\n",
       "            </tr><tr>\n",
       "                <td><strong>Number of groups</strong></td>\n",
       "                <td>117</td>\n",
       "            </tr><tr>\n",
       "                <td><strong>Objective expression</strong></td>\n",
       "                <td>0</td>\n",
       "            </tr><tr>\n",
       "                <td><strong>Compartments</strong></td>\n",
       "                <td>Cytosol, Chloroplast, Mitochondria, Glyoxysome, Flagellum, Extra-organism, Nucleus, Golgi Apparatus, Eyespot, Thylakoid Lumen, Inner Mitochondrial membrane space</td>\n",
       "            </tr>\n",
       "          </table>"
      ],
      "text/plain": [
       "<Model iCre1355 at 0x7f960388a2b0>"
      ]
     },
     "execution_count": 8,
     "metadata": {},
     "output_type": "execute_result"
    }
   ],
   "source": [
    "model"
   ]
  },
  {
   "cell_type": "code",
   "execution_count": 20,
   "metadata": {},
   "outputs": [
    {
     "name": "stdout",
     "output_type": "stream",
     "text": [
      "Number of reactions:\t 2394\n",
      "Number of metabolites:\t 1845\n",
      "Number of genes:\t 1963\n",
      "Compartments:\n",
      "c Cytosol\n",
      "h Chloroplast\n",
      "m Mitochondria\n",
      "x Glyoxysome\n",
      "f Flagellum\n",
      "e Extra-organism\n",
      "n Nucleus\n",
      "g Golgi Apparatus\n",
      "s Eyespot\n",
      "u Thylakoid Lumen\n",
      "i Inner Mitochondrial membrane space\n"
     ]
    }
   ],
   "source": [
    "print(\"Number of reactions:\\t\", len(model.reactions))\n",
    "print(\"Number of metabolites:\\t\", len(model.metabolites))\n",
    "print(\"Number of genes:\\t\", len(model.genes))\n",
    "print(\"Compartments:\")\n",
    "for compartment in model.compartments:\n",
    "    print(compartment, model.compartments[compartment])"
   ]
  },
  {
   "cell_type": "code",
   "execution_count": 21,
   "metadata": {},
   "outputs": [
    {
     "name": "stdout",
     "output_type": "stream",
     "text": [
      "Maximize\n",
      "0\n"
     ]
    }
   ],
   "source": [
    "print(model.objective)"
   ]
  },
  {
   "cell_type": "markdown",
   "metadata": {},
   "source": [
    "### Needs to be corrected:\n",
    "- find acyl_coa  and add to reaction\n",
    "- add 3Dehydrosphinganine to reaction"
   ]
  },
  {
   "cell_type": "markdown",
   "metadata": {},
   "source": [
    "### Ceramid biosynthesis: \n",
    "Kegg: www.genome.jp/kegg-bin/show_module?M00094+C00154\n",
    "\n",
    "1. R01281: C00154 + C00065 -> C02934\n",
    "2. R02978: C02934 -> C00836\n",
    "3. R06517: C00836 -> C12126\n",
    "4. R06519: C12126 -> C00195"
   ]
  },
  {
   "cell_type": "code",
   "execution_count": 22,
   "metadata": {
    "collapsed": true,
    "jupyter": {
     "outputs_hidden": true
    }
   },
   "outputs": [
    {
     "data": {
      "text/html": [
       "\n",
       "        <table>\n",
       "            <tr>\n",
       "                <td><strong>Metabolite identifier</strong></td><td>pmtcoa_c</td>\n",
       "            </tr><tr>\n",
       "                <td><strong>Name</strong></td><td>Palmitoyl-CoA (n-C16:0CoA)</td>\n",
       "            </tr><tr>\n",
       "                <td><strong>Memory address</strong></td>\n",
       "                <td>0x07f9552f9d240</td>\n",
       "            </tr><tr>\n",
       "                <td><strong>Formula</strong></td><td>C37H62N7O17P3S</td>\n",
       "            </tr><tr>\n",
       "                <td><strong>Compartment</strong></td><td>c</td>\n",
       "            </tr><tr>\n",
       "                <td><strong>In 19 reaction(s)</strong></td><td>\n",
       "                    AGPATCOA1819Z160, ACOADAGAT18111Z18111Z160, ACOADAGAT1819Z1819Z160, G3PAT160, SPHGNAT, ACOADAGAT1801819Z160, ACOADAGAT1819Z18111Z160, FACOAE160, SPHINGSAT, PMTCOAth, 3OACOAS, SERPT, FA160COAabcp, F...</td>\n",
       "            </tr>\n",
       "        </table>"
      ],
      "text/plain": [
       "<Metabolite pmtcoa_c at 0x7f9552f9d240>"
      ]
     },
     "execution_count": 22,
     "metadata": {},
     "output_type": "execute_result"
    }
   ],
   "source": [
    "model.metabolites.get_by_id('pmtcoa_c')"
   ]
  },
  {
   "cell_type": "code",
   "execution_count": 49,
   "metadata": {},
   "outputs": [
    {
     "data": {
      "text/html": [
       "<div>\n",
       "<style scoped>\n",
       "    .dataframe tbody tr th:only-of-type {\n",
       "        vertical-align: middle;\n",
       "    }\n",
       "\n",
       "    .dataframe tbody tr th {\n",
       "        vertical-align: top;\n",
       "    }\n",
       "\n",
       "    .dataframe thead th {\n",
       "        text-align: right;\n",
       "    }\n",
       "</style>\n",
       "<table border=\"1\" class=\"dataframe\">\n",
       "  <thead>\n",
       "    <tr style=\"text-align: right;\">\n",
       "      <th></th>\n",
       "      <th></th>\n",
       "      <th>PERCENT</th>\n",
       "      <th>FLUX</th>\n",
       "      <th>REACTION_STRING</th>\n",
       "    </tr>\n",
       "    <tr>\n",
       "      <th>RXN_STAT</th>\n",
       "      <th>ID</th>\n",
       "      <th></th>\n",
       "      <th></th>\n",
       "      <th></th>\n",
       "    </tr>\n",
       "  </thead>\n",
       "  <tbody>\n",
       "    <tr>\n",
       "      <th>PRODUCING</th>\n",
       "      <th>PMTCOAtm</th>\n",
       "      <td>100.0</td>\n",
       "      <td>0.012767</td>\n",
       "      <td>pmtcoa_m &lt;=&gt; pmtcoa_c</td>\n",
       "    </tr>\n",
       "    <tr>\n",
       "      <th>CONSUMING</th>\n",
       "      <th>FA160COAabcp</th>\n",
       "      <td>100.0</td>\n",
       "      <td>0.012767</td>\n",
       "      <td>atp_c + h2o_c + pmtcoa_c --&gt; adp_c + h_c + pi_...</td>\n",
       "    </tr>\n",
       "  </tbody>\n",
       "</table>\n",
       "</div>"
      ],
      "text/plain": [
       "<cobra.core.summary.metabolite_summary.MetaboliteSummary at 0x7f9551cd8198>"
      ]
     },
     "execution_count": 49,
     "metadata": {},
     "output_type": "execute_result"
    }
   ],
   "source": [
    "# Palmitoyl -CoA\n",
    "model.metabolites.pmtcoa_c.summary()"
   ]
  },
  {
   "cell_type": "code",
   "execution_count": 25,
   "metadata": {
    "collapsed": true,
    "jupyter": {
     "outputs_hidden": true
    }
   },
   "outputs": [
    {
     "data": {
      "text/plain": [
       "frozenset({<Reaction 3OACOAS at 0x7f955366de80>,\n",
       "           <Reaction ACOADAGAT16018111Z160 at 0x7f95521d0f98>,\n",
       "           <Reaction ACOADAGAT1601819Z160 at 0x7f95521d4f28>,\n",
       "           <Reaction ACOADAGAT1801819Z160 at 0x7f95521d6dd8>,\n",
       "           <Reaction ACOADAGAT18111Z18111Z160 at 0x7f95521dac88>,\n",
       "           <Reaction ACOADAGAT18111Z1819Z160 at 0x7f95521deb38>,\n",
       "           <Reaction ACOADAGAT1819Z18111Z160 at 0x7f95521e49e8>,\n",
       "           <Reaction ACOADAGAT1819Z1819Z160 at 0x7f95521e9898>,\n",
       "           <Reaction AGPATCOA18111Z160 at 0x7f95521f63c8>,\n",
       "           <Reaction AGPATCOA1819Z160 at 0x7f95521f6828>,\n",
       "           <Reaction FA160COAabcp at 0x7f954bf25ef0>,\n",
       "           <Reaction FACOAE160 at 0x7f95536649e8>,\n",
       "           <Reaction FACOAL160 at 0x7f955226af28>,\n",
       "           <Reaction G3PAT160 at 0x7f95521bc940>,\n",
       "           <Reaction PMTCOAth at 0x7f955004ae10>,\n",
       "           <Reaction PMTCOAtm at 0x7f954beaa358>,\n",
       "           <Reaction SERPT at 0x7f95519b8e80>,\n",
       "           <Reaction SPHGNAT at 0x7f9551958160>,\n",
       "           <Reaction SPHINGSAT at 0x7f95519485f8>})"
      ]
     },
     "execution_count": 25,
     "metadata": {},
     "output_type": "execute_result"
    }
   ],
   "source": [
    "model.metabolites.pmtcoa_c.reactions"
   ]
  },
  {
   "cell_type": "markdown",
   "metadata": {},
   "source": [
    "### 1. Reaction R01281\n",
    "Kegg: https://www.genome.jp/dbget-bin/www_bget?R01281\n",
    "\n",
    "    Palmitoyl-CoA:L-serine C-palmitoyltransferase (decarboxylating)\n",
    "    Palmitoyl-CoA + L-Serine <=> 3-Dehydrosphinganine + CoA + CO2"
   ]
  },
  {
   "cell_type": "code",
   "execution_count": 61,
   "metadata": {},
   "outputs": [
    {
     "data": {
      "text/html": [
       "\n",
       "        <table>\n",
       "            <tr>\n",
       "                <td><strong>Reaction identifier</strong></td><td>SERPT</td>\n",
       "            </tr><tr>\n",
       "                <td><strong>Name</strong></td><td>serine C-palmitoyltransferase</td>\n",
       "            </tr><tr>\n",
       "                <td><strong>Memory address</strong></td>\n",
       "                <td>0x07f95519b8e80</td>\n",
       "            </tr><tr>\n",
       "                <td><strong>Stoichiometry</strong></td>\n",
       "                <td>\n",
       "                    <p style='text-align:right'>h_c + pmtcoa_c + ser_L_c --> 3dsphgn_c + co2_c + coa_c</p>\n",
       "                    <p style='text-align:right'>H+ + Palmitoyl-CoA (n-C16:0CoA) + L-Serine --> 3-Dehydrosphinganine + CO2 + Coenzyme A</p>\n",
       "                </td>\n",
       "            </tr><tr>\n",
       "                <td><strong>GPR</strong></td><td>( Cre03.g146507.t1.1 and Cre04.g230144.t1.1 )</td>\n",
       "            </tr><tr>\n",
       "                <td><strong>Lower bound</strong></td><td>0.0</td>\n",
       "            </tr><tr>\n",
       "                <td><strong>Upper bound</strong></td><td>1000.0</td>\n",
       "            </tr>\n",
       "        </table>\n",
       "        "
      ],
      "text/plain": [
       "<Reaction SERPT at 0x7f95519b8e80>"
      ]
     },
     "execution_count": 61,
     "metadata": {},
     "output_type": "execute_result"
    }
   ],
   "source": [
    "# Different than in kegg\n",
    "model.reactions.get_by_id('SERPT')"
   ]
  },
  {
   "cell_type": "code",
   "execution_count": 32,
   "metadata": {
    "collapsed": true,
    "jupyter": {
     "outputs_hidden": true
    }
   },
   "outputs": [
    {
     "data": {
      "text/html": [
       "\n",
       "        <table>\n",
       "            <tr>\n",
       "                <td><strong>Metabolite identifier</strong></td><td>3dsphgn_c</td>\n",
       "            </tr><tr>\n",
       "                <td><strong>Name</strong></td><td>3-Dehydrosphinganine</td>\n",
       "            </tr><tr>\n",
       "                <td><strong>Memory address</strong></td>\n",
       "                <td>0x07f9553a65588</td>\n",
       "            </tr><tr>\n",
       "                <td><strong>Formula</strong></td><td>C18H38NO2</td>\n",
       "            </tr><tr>\n",
       "                <td><strong>Compartment</strong></td><td>c</td>\n",
       "            </tr><tr>\n",
       "                <td><strong>In 2 reaction(s)</strong></td><td>\n",
       "                    3DSPHR, SERPT</td>\n",
       "            </tr>\n",
       "        </table>"
      ],
      "text/plain": [
       "<Metabolite 3dsphgn_c at 0x7f9553a65588>"
      ]
     },
     "execution_count": 32,
     "metadata": {},
     "output_type": "execute_result"
    }
   ],
   "source": [
    "# 3-Dehydrosphinganine\n",
    "model.metabolites.get_by_id('3dsphgn_c')"
   ]
  },
  {
   "cell_type": "code",
   "execution_count": 62,
   "metadata": {
    "collapsed": true,
    "jupyter": {
     "outputs_hidden": true,
     "source_hidden": true
    }
   },
   "outputs": [
    {
     "data": {
      "text/html": [
       "<div>\n",
       "<style scoped>\n",
       "    .dataframe tbody tr th:only-of-type {\n",
       "        vertical-align: middle;\n",
       "    }\n",
       "\n",
       "    .dataframe tbody tr th {\n",
       "        vertical-align: top;\n",
       "    }\n",
       "\n",
       "    .dataframe thead th {\n",
       "        text-align: right;\n",
       "    }\n",
       "</style>\n",
       "<table border=\"1\" class=\"dataframe\">\n",
       "  <thead>\n",
       "    <tr style=\"text-align: right;\">\n",
       "      <th></th>\n",
       "      <th></th>\n",
       "      <th>PERCENT</th>\n",
       "      <th>FLUX</th>\n",
       "      <th>REACTION_STRING</th>\n",
       "    </tr>\n",
       "    <tr>\n",
       "      <th>RXN_STAT</th>\n",
       "      <th>ID</th>\n",
       "      <th></th>\n",
       "      <th></th>\n",
       "      <th></th>\n",
       "    </tr>\n",
       "  </thead>\n",
       "  <tbody>\n",
       "    <tr>\n",
       "      <th rowspan=\"2\" valign=\"top\">PRODUCING</th>\n",
       "      <th>3DSPHR</th>\n",
       "      <td>NaN</td>\n",
       "      <td>0.0</td>\n",
       "      <td>3dsphgn_c + h_c + nadph_c --&gt; nadp_c + sphgn_c</td>\n",
       "    </tr>\n",
       "    <tr>\n",
       "      <th>SERPT</th>\n",
       "      <td>NaN</td>\n",
       "      <td>0.0</td>\n",
       "      <td>h_c + pmtcoa_c + ser_L_c --&gt; 3dsphgn_c + co2_c...</td>\n",
       "    </tr>\n",
       "  </tbody>\n",
       "</table>\n",
       "</div>"
      ],
      "text/plain": [
       "<cobra.core.summary.metabolite_summary.MetaboliteSummary at 0x7f9546fc3d30>"
      ]
     },
     "execution_count": 62,
     "metadata": {},
     "output_type": "execute_result"
    }
   ],
   "source": [
    "model.metabolites.get_by_id('3dsphgn_c').summary()"
   ]
  },
  {
   "cell_type": "code",
   "execution_count": 33,
   "metadata": {},
   "outputs": [
    {
     "data": {
      "text/plain": [
       "frozenset({<Reaction 3DSPHR at 0x7f955299c4e0>,\n",
       "           <Reaction SERPT at 0x7f95529895f8>})"
      ]
     },
     "execution_count": 33,
     "metadata": {},
     "output_type": "execute_result"
    }
   ],
   "source": [
    "model.metabolites.get_by_id('3dsphgn_c').reactions"
   ]
  },
  {
   "cell_type": "markdown",
   "metadata": {},
   "source": [
    "### 2. Reaction R02978\n",
    "Kegg: https://www.genome.jp/dbget-bin/www_bget?R02978\n",
    "\n",
    "    Sphinganine:NADP+ 3-oxidoreductase\n",
    "    Sphinganine + NADP+ <=> 3-Dehydrosphinganine + NADPH + H+"
   ]
  },
  {
   "cell_type": "code",
   "execution_count": 31,
   "metadata": {},
   "outputs": [
    {
     "data": {
      "text/html": [
       "\n",
       "        <table>\n",
       "            <tr>\n",
       "                <td><strong>Reaction identifier</strong></td><td>3DSPHR</td>\n",
       "            </tr><tr>\n",
       "                <td><strong>Name</strong></td><td>3-dehydrosphinganine reductase</td>\n",
       "            </tr><tr>\n",
       "                <td><strong>Memory address</strong></td>\n",
       "                <td>0x07f955299c4e0</td>\n",
       "            </tr><tr>\n",
       "                <td><strong>Stoichiometry</strong></td>\n",
       "                <td>\n",
       "                    <p style='text-align:right'>3dsphgn_c + h_c + nadph_c --> nadp_c + sphgn_c</p>\n",
       "                    <p style='text-align:right'>3-Dehydrosphinganine + H+ + Nicotinamide adenine dinucleotide phosphate - reduced --> Nicotinamide adenine dinucleotide phosphate + Sphinganine</p>\n",
       "                </td>\n",
       "            </tr><tr>\n",
       "                <td><strong>GPR</strong></td><td>Cre17.g702750.t1.2</td>\n",
       "            </tr><tr>\n",
       "                <td><strong>Lower bound</strong></td><td>0.0</td>\n",
       "            </tr><tr>\n",
       "                <td><strong>Upper bound</strong></td><td>1000.0</td>\n",
       "            </tr>\n",
       "        </table>\n",
       "        "
      ],
      "text/plain": [
       "<Reaction 3DSPHR at 0x7f955299c4e0>"
      ]
     },
     "execution_count": 31,
     "metadata": {},
     "output_type": "execute_result"
    }
   ],
   "source": [
    "model.reactions.get_by_id('3DSPHR')"
   ]
  },
  {
   "cell_type": "code",
   "execution_count": 37,
   "metadata": {
    "collapsed": true,
    "jupyter": {
     "outputs_hidden": true
    }
   },
   "outputs": [
    {
     "data": {
      "text/html": [
       "\n",
       "        <table>\n",
       "            <tr>\n",
       "                <td><strong>Metabolite identifier</strong></td><td>sphgn_c</td>\n",
       "            </tr><tr>\n",
       "                <td><strong>Name</strong></td><td>Sphinganine</td>\n",
       "            </tr><tr>\n",
       "                <td><strong>Memory address</strong></td>\n",
       "                <td>0x07f95538939e8</td>\n",
       "            </tr><tr>\n",
       "                <td><strong>Formula</strong></td><td>C18H40NO2</td>\n",
       "            </tr><tr>\n",
       "                <td><strong>Compartment</strong></td><td>c</td>\n",
       "            </tr><tr>\n",
       "                <td><strong>In 6 reaction(s)</strong></td><td>\n",
       "                    SLCBK1, PSPHS, DHCERAH, SGOR, SPHGNAT, 3DSPHR</td>\n",
       "            </tr>\n",
       "        </table>"
      ],
      "text/plain": [
       "<Metabolite sphgn_c at 0x7f95538939e8>"
      ]
     },
     "execution_count": 37,
     "metadata": {},
     "output_type": "execute_result"
    }
   ],
   "source": [
    "# Sphinganine\n",
    "model.metabolites.get_by_id('sphgn_c')"
   ]
  },
  {
   "cell_type": "code",
   "execution_count": 38,
   "metadata": {
    "collapsed": true,
    "jupyter": {
     "outputs_hidden": true
    }
   },
   "outputs": [
    {
     "data": {
      "text/plain": [
       "frozenset({<Reaction 3DSPHR at 0x7f955299c4e0>,\n",
       "           <Reaction DHCERAH at 0x7f95529ad748>,\n",
       "           <Reaction PSPHS at 0x7f960380c320>,\n",
       "           <Reaction SGOR at 0x7f955299c358>,\n",
       "           <Reaction SLCBK1 at 0x7f955299cc18>,\n",
       "           <Reaction SPHGNAT at 0x7f95529ad588>})"
      ]
     },
     "execution_count": 38,
     "metadata": {},
     "output_type": "execute_result"
    }
   ],
   "source": [
    "model.metabolites.get_by_id('sphgn_c').reactions"
   ]
  },
  {
   "cell_type": "markdown",
   "metadata": {},
   "source": [
    "### 3. Reaction R06517\n",
    "Kegg: https://www.genome.jp/dbget-bin/www_bget?R06517\n",
    "\n",
    "    acyl-CoA:sphingosine N-acyltransferase\n",
    "    Acyl-CoA + Sphinganine <=> CoA + Dihydroceramide"
   ]
  },
  {
   "cell_type": "code",
   "execution_count": 60,
   "metadata": {},
   "outputs": [
    {
     "data": {
      "text/html": [
       "\n",
       "        <table>\n",
       "            <tr>\n",
       "                <td><strong>Reaction identifier</strong></td><td>SPHGNAT</td>\n",
       "            </tr><tr>\n",
       "                <td><strong>Name</strong></td><td>Palmitoyl-CoA:sphingosine N-acyltransferase</td>\n",
       "            </tr><tr>\n",
       "                <td><strong>Memory address</strong></td>\n",
       "                <td>0x07f9551958160</td>\n",
       "            </tr><tr>\n",
       "                <td><strong>Stoichiometry</strong></td>\n",
       "                <td>\n",
       "                    <p style='text-align:right'>pmtcoa_c + sphgn_c --> coa_c + dhcer_c + h_c</p>\n",
       "                    <p style='text-align:right'>Palmitoyl-CoA (n-C16:0CoA) + Sphinganine --> Coenzyme A + Dihydroceramide + H+</p>\n",
       "                </td>\n",
       "            </tr><tr>\n",
       "                <td><strong>GPR</strong></td><td>( Cre17.g726400.t1.1 or Cre09.g401100.t1.2 or Cre12.g514300.t1.2 or Cre12.g504050.t1.1 or Cre12.g...</td>\n",
       "            </tr><tr>\n",
       "                <td><strong>Lower bound</strong></td><td>0.0</td>\n",
       "            </tr><tr>\n",
       "                <td><strong>Upper bound</strong></td><td>1000.0</td>\n",
       "            </tr>\n",
       "        </table>\n",
       "        "
      ],
      "text/plain": [
       "<Reaction SPHGNAT at 0x7f9551958160>"
      ]
     },
     "execution_count": 60,
     "metadata": {},
     "output_type": "execute_result"
    }
   ],
   "source": [
    "# Different than kegg reaction\n",
    "model.reactions.get_by_id('SPHGNAT')"
   ]
  },
  {
   "cell_type": "code",
   "execution_count": 44,
   "metadata": {},
   "outputs": [
    {
     "data": {
      "text/html": [
       "\n",
       "        <table>\n",
       "            <tr>\n",
       "                <td><strong>Metabolite identifier</strong></td><td>dhcer_c</td>\n",
       "            </tr><tr>\n",
       "                <td><strong>Name</strong></td><td>Dihydroceramide</td>\n",
       "            </tr><tr>\n",
       "                <td><strong>Memory address</strong></td>\n",
       "                <td>0x07f9552cd9278</td>\n",
       "            </tr><tr>\n",
       "                <td><strong>Formula</strong></td><td>C34H69NO3</td>\n",
       "            </tr><tr>\n",
       "                <td><strong>Compartment</strong></td><td>c</td>\n",
       "            </tr><tr>\n",
       "                <td><strong>In 3 reaction(s)</strong></td><td>\n",
       "                    DHCERAH, DHCEROR, SPHGNAT</td>\n",
       "            </tr>\n",
       "        </table>"
      ],
      "text/plain": [
       "<Metabolite dhcer_c at 0x7f9552cd9278>"
      ]
     },
     "execution_count": 44,
     "metadata": {},
     "output_type": "execute_result"
    }
   ],
   "source": [
    "# Dihydroceramide \n",
    "model.metabolites.get_by_id('dhcer_c')"
   ]
  },
  {
   "cell_type": "code",
   "execution_count": 46,
   "metadata": {},
   "outputs": [
    {
     "data": {
      "text/plain": [
       "frozenset({<Reaction DHCERAH at 0x7f9551958320>,\n",
       "           <Reaction DHCEROR at 0x7f9551958860>,\n",
       "           <Reaction SPHGNAT at 0x7f9551958160>})"
      ]
     },
     "execution_count": 46,
     "metadata": {},
     "output_type": "execute_result"
    }
   ],
   "source": [
    "model.metabolites.get_by_id('dhcer_c').reactions"
   ]
  },
  {
   "cell_type": "markdown",
   "metadata": {},
   "source": [
    "### 4. Reaction R06519\n",
    "Kegg: https://www.genome.jp/dbget-bin/www_bget?R06519\n",
    "\n",
    "    dihydroceramide,ferrocytochrome b5:oxygen oxidoreductase (4,5-dehydrogenating)\n",
    "    Dihydroceramide + 2 Ferrocytochrome b5 + Oxygen + 2 H+ <=> N-Acylsphingosine + 2 Ferricytochrome b5 + 2 H2O"
   ]
  },
  {
   "cell_type": "code",
   "execution_count": null,
   "metadata": {},
   "outputs": [],
   "source": [
    "# Not included in model"
   ]
  },
  {
   "cell_type": "markdown",
   "metadata": {},
   "source": [
    "### Other reactions"
   ]
  },
  {
   "cell_type": "code",
   "execution_count": 55,
   "metadata": {},
   "outputs": [
    {
     "data": {
      "text/html": [
       "\n",
       "        <table>\n",
       "            <tr>\n",
       "                <td><strong>Reaction identifier</strong></td><td>DHCEROR</td>\n",
       "            </tr><tr>\n",
       "                <td><strong>Name</strong></td><td>sphinganine oxygen oxidoreductase (NADPH, 4-hydroxylating)</td>\n",
       "            </tr><tr>\n",
       "                <td><strong>Memory address</strong></td>\n",
       "                <td>0x07f9551958860</td>\n",
       "            </tr><tr>\n",
       "                <td><strong>Stoichiometry</strong></td>\n",
       "                <td>\n",
       "                    <p style='text-align:right'>dhcer_c + h_c + nadph_c + o2_c --> h2o_c + nadp_c + phycer_c</p>\n",
       "                    <p style='text-align:right'>Dihydroceramide + H+ + Nicotinamide adenine dinucleotide phosphate - reduced + O2 --> H2O + Nicotinamide adenine dinucleotide phosphate + Phytoceramide</p>\n",
       "                </td>\n",
       "            </tr><tr>\n",
       "                <td><strong>GPR</strong></td><td>Cre02.g103500.t1.2</td>\n",
       "            </tr><tr>\n",
       "                <td><strong>Lower bound</strong></td><td>0.0</td>\n",
       "            </tr><tr>\n",
       "                <td><strong>Upper bound</strong></td><td>1000.0</td>\n",
       "            </tr>\n",
       "        </table>\n",
       "        "
      ],
      "text/plain": [
       "<Reaction DHCEROR at 0x7f9551958860>"
      ]
     },
     "execution_count": 55,
     "metadata": {},
     "output_type": "execute_result"
    }
   ],
   "source": [
    "# This reaction is not in Kegg, but R06526 is similar\n",
    "model.reactions.get_by_id('DHCEROR')"
   ]
  },
  {
   "cell_type": "code",
   "execution_count": 57,
   "metadata": {},
   "outputs": [
    {
     "data": {
      "text/html": [
       "\n",
       "        <table>\n",
       "            <tr>\n",
       "                <td><strong>Metabolite identifier</strong></td><td>phycer_c</td>\n",
       "            </tr><tr>\n",
       "                <td><strong>Name</strong></td><td>Phytoceramide</td>\n",
       "            </tr><tr>\n",
       "                <td><strong>Memory address</strong></td>\n",
       "                <td>0x07f9552fa67f0</td>\n",
       "            </tr><tr>\n",
       "                <td><strong>Formula</strong></td><td>C34H69NO4</td>\n",
       "            </tr><tr>\n",
       "                <td><strong>Compartment</strong></td><td>c</td>\n",
       "            </tr><tr>\n",
       "                <td><strong>In 2 reaction(s)</strong></td><td>\n",
       "                    PHYCERAH, DHCEROR</td>\n",
       "            </tr>\n",
       "        </table>"
      ],
      "text/plain": [
       "<Metabolite phycer_c at 0x7f9552fa67f0>"
      ]
     },
     "execution_count": 57,
     "metadata": {},
     "output_type": "execute_result"
    }
   ],
   "source": [
    "# Phytoceramide\n",
    "model.metabolites.get_by_id('phycer_c')"
   ]
  },
  {
   "cell_type": "code",
   "execution_count": 59,
   "metadata": {},
   "outputs": [
    {
     "data": {
      "text/html": [
       "\n",
       "        <table>\n",
       "            <tr>\n",
       "                <td><strong>Reaction identifier</strong></td><td>PHYCERAH</td>\n",
       "            </tr><tr>\n",
       "                <td><strong>Name</strong></td><td>Phytoceramide amidohydrolase</td>\n",
       "            </tr><tr>\n",
       "                <td><strong>Memory address</strong></td>\n",
       "                <td>0x07f9551958208</td>\n",
       "            </tr><tr>\n",
       "                <td><strong>Stoichiometry</strong></td>\n",
       "                <td>\n",
       "                    <p style='text-align:right'>h2o_c + phycer_c --> hdca_c + psphings_c</p>\n",
       "                    <p style='text-align:right'>H2O + Phytoceramide --> Hexadecanoate (n-C16:0) + Phytosphingosine</p>\n",
       "                </td>\n",
       "            </tr><tr>\n",
       "                <td><strong>GPR</strong></td><td>Cre05.g236500.t1.1</td>\n",
       "            </tr><tr>\n",
       "                <td><strong>Lower bound</strong></td><td>0.0</td>\n",
       "            </tr><tr>\n",
       "                <td><strong>Upper bound</strong></td><td>1000.0</td>\n",
       "            </tr>\n",
       "        </table>\n",
       "        "
      ],
      "text/plain": [
       "<Reaction PHYCERAH at 0x7f9551958208>"
      ]
     },
     "execution_count": 59,
     "metadata": {},
     "output_type": "execute_result"
    }
   ],
   "source": [
    "model.reactions.get_by_id('PHYCERAH')"
   ]
  },
  {
   "cell_type": "markdown",
   "metadata": {
    "jupyter": {
     "source_hidden": true
    }
   },
   "source": [
    "**Further pathway**: C00836 (Sphinganine) -> C12126(Dihydroceramide) -> C00195(N-Acylsphingosine)"
   ]
  },
  {
   "cell_type": "markdown",
   "metadata": {
    "jupyter": {
     "source_hidden": true
    }
   },
   "source": [
    "## R02978 = 3-Dehydrosphinganine (3dsphgn_c) + NADPH + H+ <-> Sphinganine (C00836) + NADP+"
   ]
  },
  {
   "cell_type": "code",
   "execution_count": 19,
   "metadata": {
    "jupyter": {
     "source_hidden": true
    }
   },
   "outputs": [],
   "source": [
    "R02978 = Reaction('R02978')"
   ]
  },
  {
   "cell_type": "code",
   "execution_count": 20,
   "metadata": {
    "jupyter": {
     "source_hidden": true
    }
   },
   "outputs": [],
   "source": [
    "sphinganine = Metabolite(id='c00836_c', compartment = 'c')"
   ]
  },
  {
   "cell_type": "code",
   "execution_count": 21,
   "metadata": {
    "jupyter": {
     "source_hidden": true
    }
   },
   "outputs": [],
   "source": [
    "R02978.add_metabolites({hetero.metabolites.h_c: -1,\n",
    "                              #hetero.metabolites.3dsphgn_c: -1,\n",
    "                            hetero.metabolites.nadph_c: -1,\n",
    "                              sphinganine: 1, \n",
    "                              hetero.metabolites.nadp_c: 1\n",
    "                             })"
   ]
  },
  {
   "cell_type": "code",
   "execution_count": 23,
   "metadata": {
    "collapsed": true,
    "jupyter": {
     "outputs_hidden": true,
     "source_hidden": true
    }
   },
   "outputs": [
    {
     "name": "stdout",
     "output_type": "stream",
     "text": [
      "h_c + nadph_c --> c00836_c + nadp_c\n"
     ]
    }
   ],
   "source": [
    "print(R02978.build_reaction_string())"
   ]
  },
  {
   "cell_type": "code",
   "execution_count": 25,
   "metadata": {
    "jupyter": {
     "source_hidden": true
    }
   },
   "outputs": [],
   "source": [
    "hetero.add_reactions([R02978])"
   ]
  },
  {
   "cell_type": "markdown",
   "metadata": {
    "jupyter": {
     "source_hidden": true
    }
   },
   "source": [
    "## R06517: Acyl-CoA + Sphinganine (c00836_c) <-> CoA (coa_c) + Dihydroceramide"
   ]
  },
  {
   "cell_type": "code",
   "execution_count": 26,
   "metadata": {
    "jupyter": {
     "source_hidden": true
    }
   },
   "outputs": [],
   "source": [
    "R06517 = Reaction('R06517')"
   ]
  },
  {
   "cell_type": "code",
   "execution_count": 27,
   "metadata": {
    "jupyter": {
     "source_hidden": true
    }
   },
   "outputs": [],
   "source": [
    "dihydroceramide = Metabolite(id='c12126_c', compartment = 'c')"
   ]
  },
  {
   "cell_type": "code",
   "execution_count": 29,
   "metadata": {
    "jupyter": {
     "source_hidden": true
    }
   },
   "outputs": [],
   "source": [
    "R06517.add_metabolites({#hetero.metabolites.acyl_coa: -1, have to find acyl coa\n",
    "                              hetero.metabolites.c00836_c: -1,\n",
    "                            hetero.metabolites.coa_c: 1,\n",
    "                              dihydroceramide: 1\n",
    "                             })"
   ]
  },
  {
   "cell_type": "code",
   "execution_count": 30,
   "metadata": {
    "collapsed": true,
    "jupyter": {
     "outputs_hidden": true,
     "source_hidden": true
    }
   },
   "outputs": [
    {
     "name": "stdout",
     "output_type": "stream",
     "text": [
      "c00836_c --> c12126_c + coa_c\n"
     ]
    }
   ],
   "source": [
    "print(R06517.build_reaction_string())"
   ]
  },
  {
   "cell_type": "code",
   "execution_count": 31,
   "metadata": {
    "jupyter": {
     "source_hidden": true
    }
   },
   "outputs": [],
   "source": [
    "hetero.add_reactions([R06517])"
   ]
  },
  {
   "cell_type": "markdown",
   "metadata": {},
   "source": [
    "## R06519: Dihydroceramide (c00836_c) + 2 Ferrocytochrome b5 (focytb5_c) + Oxygen (o2_c) + 2H (h_c) <-> N-Acylsphingosine + 2 Ferricytochrome b5 (ficytb5_c) + 2H20 (h2o_c)"
   ]
  },
  {
   "cell_type": "code",
   "execution_count": 33,
   "metadata": {},
   "outputs": [],
   "source": [
    "R06519 = Reaction ('R06519')"
   ]
  },
  {
   "cell_type": "code",
   "execution_count": 34,
   "metadata": {},
   "outputs": [],
   "source": [
    "nacylsphingosine = Metabolite(id='c00195_c', compartment = 'c')"
   ]
  },
  {
   "cell_type": "code",
   "execution_count": 36,
   "metadata": {},
   "outputs": [],
   "source": [
    "R06519.add_metabolites({\n",
    "    hetero.metabolites.c00836_c: -1,\n",
    "    hetero.metabolites.focytb5_c: -2,\n",
    "    hetero.metabolites.o2_c: -1,\n",
    "    hetero.metabolites.h_c: -2,\n",
    "    nacylsphingosine: 1,\n",
    "    hetero.metabolites.ficytb5_c: 2,\n",
    "    hetero.metabolites.h2o_c: 2\n",
    "                             })"
   ]
  },
  {
   "cell_type": "code",
   "execution_count": 38,
   "metadata": {},
   "outputs": [
    {
     "name": "stdout",
     "output_type": "stream",
     "text": [
      "c00836_c + 2 focytb5_c + 2 h_c + o2_c --> c00195_c + 2 ficytb5_c + 2 h2o_c\n"
     ]
    }
   ],
   "source": [
    "print(R06519.build_reaction_string())"
   ]
  },
  {
   "cell_type": "code",
   "execution_count": 39,
   "metadata": {},
   "outputs": [],
   "source": [
    "hetero.add_reactions([R06519])"
   ]
  },
  {
   "cell_type": "code",
   "execution_count": null,
   "metadata": {},
   "outputs": [],
   "source": []
  }
 ],
 "metadata": {
  "kernelspec": {
   "display_name": "python3.6",
   "language": "python",
   "name": "python3.6"
  },
  "language_info": {
   "codemirror_mode": {
    "name": "ipython",
    "version": 3
   },
   "file_extension": ".py",
   "mimetype": "text/x-python",
   "name": "python",
   "nbconvert_exporter": "python",
   "pygments_lexer": "ipython3",
   "version": "3.6.12"
  }
 },
 "nbformat": 4,
 "nbformat_minor": 4
}
