{
 "cells": [
  {
   "cell_type": "markdown",
   "metadata": {},
   "source": [
    "# [Title]"
   ]
  },
  {
   "cell_type": "markdown",
   "metadata": {},
   "source": [
    "## 1. Introduction"
   ]
  },
  {
   "cell_type": "markdown",
   "metadata": {},
   "source": [
    "### 1.1 Literature review of the compound (<500 words)"
   ]
  },
  {
   "cell_type": "markdown",
   "metadata": {},
   "source": [
    "### 1.2 Literature review of the cell factory (<500 words)"
   ]
  },
  {
   "cell_type": "markdown",
   "metadata": {},
   "source": [
    "## 2. Problem definition (<300 words)"
   ]
  },
  {
   "cell_type": "markdown",
   "metadata": {},
   "source": [
    "## 3. *If Project category I:* Reconstruction of a new GSM for your cell factory host of interest (<1500 words)"
   ]
  },
  {
   "cell_type": "markdown",
   "metadata": {},
   "source": [
    "or"
   ]
  },
  {
   "cell_type": "markdown",
   "metadata": {},
   "source": [
    "## 3. *If Project category II:* Selection and assessment of existing GSM (<500 words)"
   ]
  },
  {
   "cell_type": "markdown",
   "metadata": {},
   "source": [
    "As previously mentioned, the model used for this assignment was provided by Imam et al. (2015) as an improvement of the previous model iRC1080. After completing the model, the authors actually conducted several experiments to contrast the accuracy of the new model's predictions.\n",
    "\n",
    "A collection of 306 different genotype-phenotype conditions, obtained from 81 different mutants, was listed, and iCre1335 was used to predict the phenotypes of these mutants. The model showed a sensitivity of 83%, and a specificity of 92%, overall achieving an area under the Receiver Operating Curve (ROC) of 0.92. This means that only in 17% of the cases, the expression of a phenotype was predicted incorrectly; and in 8% of the cases, the lack of expression of a phenotype was predicted incorrectly.\n",
    "\n",
    "Authors further tested the model by comparing the predicted growth rates under different metabolic conditions and C, N and P uptake rates with experimental cultures, obtaining a good agreement ($R^{2}$ = 0.82) between experimental and predicted values. Moreover, the model actually was able to predict growth halt and lipid accumulation due to nitrogen starvation, but unfortunately, it was unable to correctly predict the effect of light intensity changes in growth rate. In this case, the authors had to manually tune the photon uptake rate to match predictions with experimental results.\n",
    "\n",
    "Overall, the authors were fairly confident of the predictive capabilities of the model. In order to independently verify that statement, we conducted our own validation, by uploading the file to memote, to analyse the consistency of the model. The report obtained, which has been added to this project's repository, shows that the model was quite satisfactory. Almost the totality of the reactions are both mass and charge balanced, there are almost no disconnected metabolite (meaning that they are not used in any reaction) and most of the reactions are not able to carry unlimited amounts of flux. The main problems are the lack of stoichiometric consistency, meaning that it is not possible to assign to each metabolite a positive molecular mass without breaking mass conservation at some point in the model (this is probably caused by the few reactions that are not mass balanced); and the fact that all metabolites, reactions and genes do not have any reference (annotation) linking them to one major database."
   ]
  },
  {
   "cell_type": "code",
   "execution_count": null,
   "metadata": {},
   "outputs": [],
   "source": [
    "!memote report snapshot iCre1355_hetero_V2.xml"
   ]
  },
  {
   "cell_type": "markdown",
   "metadata": {},
   "source": [
    "## 4. Computer-Aided Cell Factory Engineering (<1500 words if Category II project; <500 words for Category I project)"
   ]
  },
  {
   "cell_type": "markdown",
   "metadata": {},
   "source": [
    "# Model upload and general information"
   ]
  },
  {
   "cell_type": "markdown",
   "metadata": {},
   "source": [
    "Firstly, the model given by the authors was loaded into the script, but it creates problems during the reading, due to formating of the data (conflicts with SBML definitions)."
   ]
  },
  {
   "cell_type": "code",
   "execution_count": 4,
   "metadata": {},
   "outputs": [],
   "source": [
    "from cobra.io import read_sbml_model\n",
    "from cobra.io import write_sbml_model"
   ]
  },
  {
   "cell_type": "code",
   "execution_count": null,
   "metadata": {},
   "outputs": [],
   "source": [
    "hetero = read_sbml_model('iCre1355_hetero.xml')\n",
    "auto = read_sbml_model('iCre1355_auto.xml')\n",
    "mixo = read_sbml_model('iCre1355_mixo.xml')\n",
    "\n",
    "# Source: https://github.com/baliga-lab/Chlamy_model_iCre1355.git"
   ]
  },
  {
   "cell_type": "markdown",
   "metadata": {},
   "source": [
    "Therefore, in order to avoid constant warning messages that slow down computation, after the model is read for the first time, a new model is written with the correct format"
   ]
  },
  {
   "cell_type": "code",
   "execution_count": null,
   "metadata": {},
   "outputs": [],
   "source": [
    "write_sbml_model(hetero, 'iCre1355_hetero_V2.xml')\n",
    "write_sbml_model(auto, 'iCre1355_auto_V2.xml')\n",
    "write_sbml_model(mixo, 'iCre1355_mixo_V2.xml')"
   ]
  },
  {
   "cell_type": "code",
   "execution_count": 5,
   "metadata": {},
   "outputs": [],
   "source": [
    "hetero = read_sbml_model('iCre1355_hetero_V2.xml')\n",
    "auto = read_sbml_model('iCre1355_auto_V2.xml')\n",
    "mixo = read_sbml_model('iCre1355_mixo_V2.xml')"
   ]
  },
  {
   "cell_type": "code",
   "execution_count": 6,
   "metadata": {},
   "outputs": [],
   "source": [
    "hetero.name = 'iCre1355_Hetero'\n",
    "auto.name = 'iCre1355_Auto'\n",
    "mixo.name = 'iCre1355_Mixo'\n",
    "\n",
    "models = [auto, mixo, hetero]\n",
    "bio_growth = [auto.reactions.Biomass_Chlamy_auto, mixo.reactions.Biomass_Chlamy_mixo, hetero.reactions.Biomass_Chlamy_hetero]"
   ]
  },
  {
   "cell_type": "markdown",
   "metadata": {},
   "source": [
    "Let´s now take a first look at the models. Let´s begin by checking the number of reactions, metabolites and genes:"
   ]
  },
  {
   "cell_type": "code",
   "execution_count": 7,
   "metadata": {},
   "outputs": [
    {
     "name": "stdout",
     "output_type": "stream",
     "text": [
      "============================\n",
      " iCre1355_Auto \n",
      "----------------------------\n",
      "Number of metabolites:  1845\n",
      "Number of reactions:    2394\n",
      "Number of genes:        1963\n",
      "\n",
      "\n",
      "============================\n",
      " iCre1355_Mixo \n",
      "----------------------------\n",
      "Number of metabolites:  1845\n",
      "Number of reactions:    2394\n",
      "Number of genes:        1963\n",
      "\n",
      "\n",
      "============================\n",
      " iCre1355_Hetero \n",
      "----------------------------\n",
      "Number of metabolites:  1845\n",
      "Number of reactions:    2394\n",
      "Number of genes:        1963\n",
      "\n",
      "\n"
     ]
    }
   ],
   "source": [
    "for model in models:\n",
    "    print('============================\\n', model.name, '\\n----------------------------')\n",
    "    print('{0:22}  {1}'.format('Number of metabolites:', len(model.metabolites)))\n",
    "    print('{0:22}  {1}'.format('Number of reactions:', len(model.reactions)))\n",
    "    print('{0:22}  {1}'.format('Number of genes:', len(model.genes)))\n",
    "    print('\\n')"
   ]
  },
  {
   "cell_type": "markdown",
   "metadata": {
    "jupyter": {
     "outputs_hidden": true
    }
   },
   "source": [
    "Now, let's analyze other useful information, like the number of compartments, the media composition and the available exchange reactions"
   ]
  },
  {
   "cell_type": "code",
   "execution_count": 8,
   "metadata": {
    "collapsed": true,
    "jupyter": {
     "outputs_hidden": true
    }
   },
   "outputs": [
    {
     "name": "stdout",
     "output_type": "stream",
     "text": [
      "============================\n",
      " iCre1355_Auto \n",
      "----------------------------\n",
      "EX_h_e           10.0\n",
      "EX_h2o_e         10.0\n",
      "EX_pi_e          10.0\n",
      "EX_nh4_e         1.0\n",
      "EX_so4_e         10.0\n",
      "EX_fe2_e         10.0\n",
      "EX_mg2_e         10.0\n",
      "EX_na1_e         10.0\n",
      "EX_photonVis_e   80.0\n",
      "EX_o2_e          10.0\n",
      "EX_co2_e         2.0\n",
      "\n",
      "\n",
      "============================\n",
      " iCre1355_Mixo \n",
      "----------------------------\n",
      "EX_h_e           10.0\n",
      "EX_h2o_e         10.0\n",
      "EX_pi_e          10.0\n",
      "EX_nh4_e         1.0\n",
      "EX_so4_e         10.0\n",
      "EX_fe2_e         10.0\n",
      "EX_mg2_e         10.0\n",
      "EX_na1_e         10.0\n",
      "EX_photonVis_e   80.0\n",
      "EX_o2_e          10.0\n",
      "EX_co2_e         2.0\n",
      "EX_ac_e          2.0\n",
      "\n",
      "\n",
      "============================\n",
      " iCre1355_Hetero \n",
      "----------------------------\n",
      "EX_h_e           10.0\n",
      "EX_h2o_e         10.0\n",
      "EX_pi_e          10.0\n",
      "EX_nh4_e         0.5\n",
      "EX_so4_e         10.0\n",
      "EX_fe2_e         10.0\n",
      "EX_mg2_e         10.0\n",
      "EX_na1_e         10.0\n",
      "EX_o2_e          10.0\n",
      "EX_ac_e          2.0\n",
      "\n",
      "\n"
     ]
    }
   ],
   "source": [
    "# Medium\n",
    "\n",
    "for model in models:\n",
    "    print('============================\\n', model.name, '\\n----------------------------')\n",
    "    for compound in model.medium:\n",
    "        print('{0:15}  {1}'.format(compound, model.medium[compound]))\n",
    "    print('\\n')"
   ]
  },
  {
   "cell_type": "code",
   "execution_count": 9,
   "metadata": {
    "collapsed": true,
    "jupyter": {
     "outputs_hidden": true
    }
   },
   "outputs": [
    {
     "name": "stdout",
     "output_type": "stream",
     "text": [
      "============================\n",
      " iCre1355_Auto \n",
      "----------------------------\n",
      "c   Cytosol\n",
      "h   Chloroplast\n",
      "m   Mitochondria\n",
      "x   Glyoxysome\n",
      "f   Flagellum\n",
      "e   Extra-organism\n",
      "n   Nucleus\n",
      "g   Golgi Apparatus\n",
      "s   Eyespot\n",
      "u   Thylakoid Lumen\n",
      "i   Inner Mitochondrial membrane space\n",
      "\n",
      "\n",
      "============================\n",
      " iCre1355_Mixo \n",
      "----------------------------\n",
      "c   Cytosol\n",
      "h   Chloroplast\n",
      "m   Mitochondria\n",
      "x   Glyoxysome\n",
      "f   Flagellum\n",
      "e   Extra-organism\n",
      "n   Nucleus\n",
      "g   Golgi Apparatus\n",
      "s   Eyespot\n",
      "u   Thylakoid Lumen\n",
      "i   Inner Mitochondrial membrane space\n",
      "\n",
      "\n",
      "============================\n",
      " iCre1355_Hetero \n",
      "----------------------------\n",
      "c   Cytosol\n",
      "h   Chloroplast\n",
      "m   Mitochondria\n",
      "x   Glyoxysome\n",
      "f   Flagellum\n",
      "e   Extra-organism\n",
      "n   Nucleus\n",
      "g   Golgi Apparatus\n",
      "s   Eyespot\n",
      "u   Thylakoid Lumen\n",
      "i   Inner Mitochondrial membrane space\n",
      "\n",
      "\n"
     ]
    }
   ],
   "source": [
    "# Compartments\n",
    "\n",
    "for model in models:\n",
    "    print('============================\\n', model.name, '\\n----------------------------')\n",
    "    for compartment in model.compartments:\n",
    "        print('{0:2}  {1}'.format(compartment, model.compartments[compartment]))\n",
    "    print('\\n')"
   ]
  },
  {
   "cell_type": "code",
   "execution_count": 10,
   "metadata": {},
   "outputs": [
    {
     "name": "stdout",
     "output_type": "stream",
     "text": [
      "==========================================================================\n",
      " iCre1355_Auto \n",
      "--------------------------------------------------------------------------\n",
      "H+ exchange                             EX_h_e           h_e <=> \n",
      "H2O exchange                            EX_h2o_e         h2o_e <=> \n",
      "Phosphate exchange                      EX_pi_e          pi_e <=> \n",
      "ammonia exchange                        EX_nh4_e         nh4_e <=> \n",
      "nitrate exchange                        EX_no3_e         no3_e --> \n",
      "sulfate exchange                        EX_so4_e         so4_e <=> \n",
      "Fe2+ exchange                           EX_fe2_e         fe2_e <=> \n",
      "Fe3+ exchange                           EX_fe3_e         fe3_e --> \n",
      "magnesium exchange                      EX_mg2_e         mg2_e <=> \n",
      "sodium exchange                         EX_na1_e         na1_e <=> \n",
      "photon emission                         EX_photonVis_e   photonVis_e <=> \n",
      "O2 exchange                             EX_o2_e          o2_e <=> \n",
      "CO2 exchange                            EX_co2_e         co2_e <=> \n",
      "HCO3 exchange                           EX_hco3_e        hco3_e --> \n",
      "Acetate exchange                        EX_ac_e          ac_e --> \n",
      "D-ribose exchange                       EX_rib_D_e       rib_D_e --> \n",
      "nitrite exchange                        EX_no2_e         no2_e --> \n",
      "histidine exchange                      EX_his_L_e       his_L_e --> \n",
      "urea exchange                           EX_urea_e        urea_e --> \n",
      "acetamide exchange                      EX_ad_e          ad_e --> \n",
      "guanine exchange                        EX_gua_e         gua_e --> \n",
      "adenine exchange                        EX_ade_e         ade_e --> \n",
      "allantoate exchange                     EX_alltt_e       alltt_e --> \n",
      "allantoin exchange                      EX_alltn_e       alltn_e --> \n",
      "hypoxanthine exchange                   EX_hxan_e        hxan_e --> \n",
      "ornithine exchange                      EX_orn_e         orn_e --> \n",
      "L-glutamine exchange                    EX_gln_L_e       gln_L_e --> \n",
      "urate exchange                          EX_urate_e       urate_e --> \n",
      "L-leucine exchange                      EX_leu_L_e       leu_L_e --> \n",
      "arginine exchange                       EX_arg_L_e       arg_L_e --> \n",
      "sulfite exchange                        EX_so3_e         hso3_e --> \n",
      "sulfur exchange                         EX_s_e           s_e --> \n",
      "Selenite exchange                       EX_selt_e        selt_e --> \n",
      "Ethanol exchange                        EX_etoh_e        etoh_e --> \n",
      "Formate exchange                        EX_for_e         for_e --> \n",
      "H2 exchange                             EX_h2_e          h2_e --> \n",
      "glycolate exchange                      EX_glyclt_e      glyclt_e --> \n",
      "succinate exchange                      EX_succ_e        succ_e --> \n",
      "D-lactate exchange                      EX_lac_D_e       lac_D_e --> \n",
      "6-mercaptopurine exchange               EX_6mpur_e       6mpur_e --> \n",
      "thioguanine exchange                    EX_tgua_e        tgua_e --> \n",
      "tegafur exchange                        EX_tega_e        tega_e --> \n",
      "fluorouracil exchange                   EX_5flura_e      5flura_e --> \n",
      "citalopram exchange                     EX_cital_e       cital_e --> \n",
      "lidocaine exchange                      EX_lido_e        lido_e --> \n",
      "Ascorbate exchange                      EX_ascb_e        ascb_L_e --> \n",
      "Xanthine exchange                       EX_xan_e         xan_e --> \n",
      "Uracil exchange                         EX_ura_e         ura_e --> \n",
      "Methanol exchange                       EX_meoh_e        meoh_e --> \n",
      "Nicotinamide exchange                   EX_ncam_e        ncam_e --> \n",
      "Nicotinamide mononucleotide exchange    EX_nmn_e         nmn_e --> \n",
      "Thiamine exchange                       EX_thm_e         thm_e --> \n",
      "Heme exchange                           EX_pheme_e       pheme_e --> \n",
      "Biliverdin exchange                     EX_biliverd_e    biliverd_e --> \n",
      "Carbon monoxide exchange                EX_co_e          co_e --> \n",
      "\n",
      "\n",
      "==========================================================================\n",
      " iCre1355_Mixo \n",
      "--------------------------------------------------------------------------\n",
      "H+ exchange                             EX_h_e           h_e <=> \n",
      "H2O exchange                            EX_h2o_e         h2o_e <=> \n",
      "Phosphate exchange                      EX_pi_e          pi_e <=> \n",
      "ammonia exchange                        EX_nh4_e         nh4_e <=> \n",
      "nitrate exchange                        EX_no3_e         no3_e --> \n",
      "sulfate exchange                        EX_so4_e         so4_e <=> \n",
      "Fe2+ exchange                           EX_fe2_e         fe2_e <=> \n",
      "Fe3+ exchange                           EX_fe3_e         fe3_e --> \n",
      "magnesium exchange                      EX_mg2_e         mg2_e <=> \n",
      "sodium exchange                         EX_na1_e         na1_e <=> \n",
      "photon emission                         EX_photonVis_e   photonVis_e <=> \n",
      "O2 exchange                             EX_o2_e          o2_e <=> \n",
      "CO2 exchange                            EX_co2_e         co2_e <=> \n",
      "HCO3 exchange                           EX_hco3_e        hco3_e --> \n",
      "Acetate exchange                        EX_ac_e          ac_e <=> \n",
      "D-ribose exchange                       EX_rib_D_e       rib_D_e --> \n",
      "nitrite exchange                        EX_no2_e         no2_e --> \n",
      "histidine exchange                      EX_his_L_e       his_L_e --> \n",
      "urea exchange                           EX_urea_e        urea_e --> \n",
      "acetamide exchange                      EX_ad_e          ad_e --> \n",
      "guanine exchange                        EX_gua_e         gua_e --> \n",
      "adenine exchange                        EX_ade_e         ade_e --> \n",
      "allantoate exchange                     EX_alltt_e       alltt_e --> \n",
      "allantoin exchange                      EX_alltn_e       alltn_e --> \n",
      "hypoxanthine exchange                   EX_hxan_e        hxan_e --> \n",
      "ornithine exchange                      EX_orn_e         orn_e --> \n",
      "L-glutamine exchange                    EX_gln_L_e       gln_L_e --> \n",
      "urate exchange                          EX_urate_e       urate_e --> \n",
      "L-leucine exchange                      EX_leu_L_e       leu_L_e --> \n",
      "arginine exchange                       EX_arg_L_e       arg_L_e --> \n",
      "sulfite exchange                        EX_so3_e         hso3_e --> \n",
      "sulfur exchange                         EX_s_e           s_e --> \n",
      "Selenite exchange                       EX_selt_e        selt_e --> \n",
      "Ethanol exchange                        EX_etoh_e        etoh_e --> \n",
      "Formate exchange                        EX_for_e         for_e --> \n",
      "H2 exchange                             EX_h2_e          h2_e --> \n",
      "glycolate exchange                      EX_glyclt_e      glyclt_e --> \n",
      "succinate exchange                      EX_succ_e        succ_e --> \n",
      "D-lactate exchange                      EX_lac_D_e       lac_D_e --> \n",
      "6-mercaptopurine exchange               EX_6mpur_e       6mpur_e --> \n",
      "thioguanine exchange                    EX_tgua_e        tgua_e --> \n",
      "tegafur exchange                        EX_tega_e        tega_e --> \n",
      "fluorouracil exchange                   EX_5flura_e      5flura_e --> \n",
      "citalopram exchange                     EX_cital_e       cital_e --> \n",
      "lidocaine exchange                      EX_lido_e        lido_e --> \n",
      "Ascorbate exchange                      EX_ascb_e        ascb_L_e --> \n",
      "Xanthine exchange                       EX_xan_e         xan_e --> \n",
      "Uracil exchange                         EX_ura_e         ura_e --> \n",
      "Methanol exchange                       EX_meoh_e        meoh_e --> \n",
      "Nicotinamide exchange                   EX_ncam_e        ncam_e --> \n",
      "Nicotinamide mononucleotide exchange    EX_nmn_e         nmn_e --> \n",
      "Thiamine exchange                       EX_thm_e         thm_e --> \n",
      "Heme exchange                           EX_pheme_e       pheme_e --> \n",
      "Biliverdin exchange                     EX_biliverd_e    biliverd_e --> \n",
      "Carbon monoxide exchange                EX_co_e          co_e --> \n",
      "\n",
      "\n",
      "==========================================================================\n",
      " iCre1355_Hetero \n",
      "--------------------------------------------------------------------------\n",
      "H+ exchange                             EX_h_e           h_e <=> \n",
      "H2O exchange                            EX_h2o_e         h2o_e <=> \n",
      "Phosphate exchange                      EX_pi_e          pi_e <=> \n",
      "ammonia exchange                        EX_nh4_e         nh4_e <=> \n",
      "nitrate exchange                        EX_no3_e         no3_e --> \n",
      "sulfate exchange                        EX_so4_e         so4_e <=> \n",
      "Fe2+ exchange                           EX_fe2_e         fe2_e <=> \n",
      "Fe3+ exchange                           EX_fe3_e         fe3_e --> \n",
      "magnesium exchange                      EX_mg2_e         mg2_e <=> \n",
      "sodium exchange                         EX_na1_e         na1_e <=> \n",
      "photon emission                         EX_photonVis_e   photonVis_e --> \n",
      "O2 exchange                             EX_o2_e          o2_e <=> \n",
      "CO2 exchange                            EX_co2_e         co2_e --> \n",
      "HCO3 exchange                           EX_hco3_e        hco3_e --> \n",
      "Acetate exchange                        EX_ac_e          ac_e <=> \n",
      "D-ribose exchange                       EX_rib_D_e       rib_D_e --> \n",
      "nitrite exchange                        EX_no2_e         no2_e --> \n",
      "histidine exchange                      EX_his_L_e       his_L_e --> \n",
      "urea exchange                           EX_urea_e        urea_e --> \n",
      "acetamide exchange                      EX_ad_e          ad_e --> \n",
      "guanine exchange                        EX_gua_e         gua_e --> \n",
      "adenine exchange                        EX_ade_e         ade_e --> \n",
      "allantoate exchange                     EX_alltt_e       alltt_e --> \n",
      "allantoin exchange                      EX_alltn_e       alltn_e --> \n",
      "hypoxanthine exchange                   EX_hxan_e        hxan_e --> \n",
      "ornithine exchange                      EX_orn_e         orn_e --> \n",
      "L-glutamine exchange                    EX_gln_L_e       gln_L_e --> \n",
      "urate exchange                          EX_urate_e       urate_e --> \n",
      "L-leucine exchange                      EX_leu_L_e       leu_L_e --> \n",
      "arginine exchange                       EX_arg_L_e       arg_L_e --> \n",
      "sulfite exchange                        EX_so3_e         hso3_e --> \n",
      "sulfur exchange                         EX_s_e           s_e --> \n",
      "Selenite exchange                       EX_selt_e        selt_e --> \n",
      "Ethanol exchange                        EX_etoh_e        etoh_e --> \n",
      "Formate exchange                        EX_for_e         for_e --> \n",
      "H2 exchange                             EX_h2_e          h2_e --> \n",
      "glycolate exchange                      EX_glyclt_e      glyclt_e --> \n",
      "succinate exchange                      EX_succ_e        succ_e --> \n",
      "D-lactate exchange                      EX_lac_D_e       lac_D_e --> \n",
      "6-mercaptopurine exchange               EX_6mpur_e       6mpur_e --> \n",
      "thioguanine exchange                    EX_tgua_e        tgua_e --> \n",
      "tegafur exchange                        EX_tega_e        tega_e --> \n",
      "fluorouracil exchange                   EX_5flura_e      5flura_e --> \n",
      "citalopram exchange                     EX_cital_e       cital_e --> \n",
      "lidocaine exchange                      EX_lido_e        lido_e --> \n",
      "Ascorbate exchange                      EX_ascb_e        ascb_L_e --> \n",
      "Xanthine exchange                       EX_xan_e         xan_e --> \n",
      "Uracil exchange                         EX_ura_e         ura_e --> \n",
      "Methanol exchange                       EX_meoh_e        meoh_e --> \n",
      "Nicotinamide exchange                   EX_ncam_e        ncam_e --> \n",
      "Nicotinamide mononucleotide exchange    EX_nmn_e         nmn_e --> \n",
      "Thiamine exchange                       EX_thm_e         thm_e --> \n",
      "Heme exchange                           EX_pheme_e       pheme_e --> \n",
      "Biliverdin exchange                     EX_biliverd_e    biliverd_e --> \n",
      "Carbon monoxide exchange                EX_co_e          co_e --> \n",
      "\n",
      "\n"
     ]
    }
   ],
   "source": [
    "# Available exchange reactions\n",
    "\n",
    "for model in models:\n",
    "    print('==========================================================================\\n', model.name, '\\n--------------------------------------------------------------------------')\n",
    "    for exchange in model.exchanges:\n",
    "        print('{0:38}  {1:15}  {2}'.format(exchange.name, exchange.id, exchange.reaction))\n",
    "    print('\\n')"
   ]
  },
  {
   "cell_type": "markdown",
   "metadata": {},
   "source": [
    "# Theoretical maximum yields & phenotipic phase planes"
   ]
  },
  {
   "cell_type": "markdown",
   "metadata": {},
   "source": [
    "Finally, let`s run the models and see the growth rate for each of them, as well as $H_{2}$ production rate when the model is set to maximize biomass growth and when the model is set to maximize $H_{2}$ productivity"
   ]
  },
  {
   "cell_type": "code",
   "execution_count": null,
   "metadata": {},
   "outputs": [],
   "source": [
    "for model, reaction in zip(models, bio_growth):\n",
    "    model.objective = reaction\n",
    "    with model:\n",
    "        print('======================================================================\\n', model.name, '\\n----------------------------------------------------------------------')\n",
    "        print(model.objective, '\\n')\n",
    "        print('{0:30}  {1}'.format('Biomass maximum growth rate:', model.optimize().objective_value))\n",
    "        print('{0:30}  {1}'.format('Hydrogen productivity:', model.optimize().fluxes.EX_h2_e), '\\n')        \n",
    "        model.objective = model.reactions.EX_h2_e\n",
    "        print('......................................................................')\n",
    "        print(model.objective, '\\n')\n",
    "        print('{0:30}  {1}'.format('Biomass growth rate:', model.optimize().fluxes.get(reaction.id)))\n",
    "        print('{0:30}  {1}'.format('Hydrogen maximum productivity:', model.optimize().objective_value), '\\n\\n\\n\\n')"
   ]
  },
  {
   "cell_type": "markdown",
   "metadata": {},
   "source": [
    "This data must be taken with cautious, however, as it can be seen in the phenotypic phase planes, for the maximum biomass growth there are several hydrogens productivities that allow it.\n",
    "\n",
    "Lastly, we'll compute the phenotypic phase plane, to have an idea of the relation between the maximum production of hydrogen (EX_h2_e) and the biomass growth."
   ]
  },
  {
   "cell_type": "code",
   "execution_count": null,
   "metadata": {},
   "outputs": [],
   "source": [
    "from cameo import phenotypic_phase_plane\n",
    "from cameo.visualization.plotting.with_plotly import PlotlyPlotter\n",
    "\n",
    "plotter = PlotlyPlotter()\n",
    "\n",
    "for model, reaction in zip(models,bio_growth):\n",
    "    ppp = phenotypic_phase_plane(model,\n",
    "                                 variables=[model.reactions.get_by_id(reaction.id)],\n",
    "                                 objective=model.reactions.EX_h2_e)\n",
    "\n",
    "    ppp.plot(plotter, height=400)"
   ]
  },
  {
   "cell_type": "markdown",
   "metadata": {},
   "source": [
    "It is possible that results do not concorde with the ones shown in the previous code cell, in chich the model was optimize for maximum production of biomass and hydrogen. This happens because, as it can be seen in the PPPs, there are several different hydrogen productivities that allow the maximum growth rate. Therefore, each time the model is run, a different result might appear.\n",
    "\n",
    "Nevertheless, the best nutrition model seems to be the mixotrophic: even though for the highest biomass growth rate the hydrogen production is lower than for the autotrophic nutrition, if we compare the hydrogen productivity at the maximum growth rate in autotrophic conditions (around 6) with the hydrogen production at the same conditions in mixotrophic nutrition (around 9), hydrogen production is higher for the mixotrophic model"
   ]
  },
  {
   "cell_type": "markdown",
   "metadata": {},
   "source": [
    "Note: If the visualization does not work, opern jupyter as /tree, not as /lab (in the search bar)"
   ]
  },
  {
   "cell_type": "markdown",
   "metadata": {},
   "source": [
    "# Pathway visualization"
   ]
  },
  {
   "cell_type": "markdown",
   "metadata": {},
   "source": [
    "In order to have a better general idea of how the model works, a package like escher can be used. Escher helps visualizing the methabolic pathways, but it only contains models for yeast, E. coli and humans, not for all microorganisms.\n",
    "\n",
    "Nevertheless, a S. cerevisiae map can be loaded with Saccharomyces reactions, so only the common pathways will be contain fluxes (reactions that are only present in Chlamydomomas will however not be shown in the model). Saccharomyces has been selected because both it and Chlamydomomas are eukariot microorganisms"
   ]
  },
  {
   "cell_type": "code",
   "execution_count": null,
   "metadata": {},
   "outputs": [],
   "source": [
    "import escher\n",
    "escher.list_available_maps()"
   ]
  },
  {
   "cell_type": "code",
   "execution_count": null,
   "metadata": {},
   "outputs": [],
   "source": [
    "escher.Builder('iMM904.Central carbon metabolism',\n",
    "               model=auto, highlight_missing=True,\n",
    "               reaction_data=auto.optimize().fluxes.to_dict()).display_in_notebook()"
   ]
  },
  {
   "cell_type": "code",
   "execution_count": null,
   "metadata": {},
   "outputs": [],
   "source": [
    "escher.Builder?"
   ]
  },
  {
   "cell_type": "markdown",
   "metadata": {},
   "source": [
    "Unfortunately, this approach was less useful than expected, as most of the reactions present in the model (´iJO1366.Central metabolism´ is one of the most complete E. coli models) were silent, meaning that they are not present in the Chlamydomomas model."
   ]
  },
  {
   "cell_type": "markdown",
   "metadata": {},
   "source": [
    "# Definition of the production pathways"
   ]
  },
  {
   "cell_type": "markdown",
   "metadata": {},
   "source": [
    "Prior to any modification to the model, let´s look for the reactions that produce the desired compound:"
   ]
  },
  {
   "cell_type": "code",
   "execution_count": null,
   "metadata": {},
   "outputs": [],
   "source": [
    "name = []\n",
    "ID = []\n",
    "\n",
    "for metabolite in mixo.metabolites.query('H2', 'name'):\n",
    "    \n",
    "    print(metabolite, '\\t', metabolite.name)    \n",
    "    if metabolite.name == 'H2':\n",
    "        name.append(metabolite.name)\n",
    "        ID.append(metabolite.id)\n",
    "        \n",
    "print(name, ID)"
   ]
  },
  {
   "cell_type": "code",
   "execution_count": null,
   "metadata": {},
   "outputs": [],
   "source": [
    "reactions = []\n",
    "\n",
    "for element in ID:\n",
    "    compound = mixo.metabolites.get_by_id(element)\n",
    "    for react in compound.reactions:\n",
    "        reactions.append(react.id)\n",
    "\n",
    "for element in reactions:\n",
    "    print(mixo.reactions.get_by_id(element))"
   ]
  },
  {
   "cell_type": "markdown",
   "metadata": {},
   "source": [
    "We can see that the reactions that actually produce hydrogen are HYDA, HYDAh and HYDAm, the other ones just reflect transport of hydrogen between different compartments. Both HYDA, HYDAh and HYDAm are in fact the same reaction, the reason why it is splitted into three is because it can take place in three different compartments. If we take one of the reactions and we look for the catalyzing enzyme, we could see that the microorganisms actually uses FeFe-hydrogenase, which was stated in the introduction as the most active enzyme for production of hydrogen."
   ]
  },
  {
   "cell_type": "code",
   "execution_count": null,
   "metadata": {},
   "outputs": [],
   "source": [
    "hydrogen_production = [mixo.reactions.HYDA, mixo.reactions.HYDAm, mixo.reactions.HYDAh]\n",
    "for reaction in hydrogen_production:\n",
    "    print(mixo.reactions.get_by_id(reaction.id).id, ': ', mixo.reactions.get_by_id(reaction.id).name)"
   ]
  },
  {
   "cell_type": "markdown",
   "metadata": {},
   "source": [
    "Let`s see in which compartment the enzyme is more active, and thus, produces the highest amounts of $H_{2}$, while producing the highest amount of biomass"
   ]
  },
  {
   "cell_type": "code",
   "execution_count": null,
   "metadata": {},
   "outputs": [],
   "source": [
    "for model in models:\n",
    "    with model:\n",
    "        print('======================================================================\\n', model.name, '\\n----------------------------------------------------------------------')\n",
    "        print(model.objective, '\\n')\n",
    "        print('{0:50}  {1}'.format('Biomass maximum growth rate:', model.optimize().objective_value))\n",
    "        print('{0:50}  {1}'.format('Hydrogen productivity in cytoplasm:', model.optimize().fluxes.HYDA))\n",
    "        print('{0:50}  {1}'.format('Hydrogen productivity in chloroplast:', model.optimize().fluxes.HYDAh))\n",
    "        print('{0:50}  {1}'.format('Hydrogen productivity in mitochrondia:', model.optimize().fluxes.HYDAm))\n",
    "        print('{0:50}  {1}'.format('Hydrogen exchange:', model.optimize().fluxes.EX_h2_e))"
   ]
  },
  {
   "cell_type": "markdown",
   "metadata": {},
   "source": [
    "# Influence of the media on Hydrogen production"
   ]
  },
  {
   "cell_type": "markdown",
   "metadata": {},
   "source": [
    "Another factor that can have a potential impact on hydrogen production is the media composition. We'll analyze several scenarios in the following code:"
   ]
  },
  {
   "cell_type": "code",
   "execution_count": null,
   "metadata": {},
   "outputs": [],
   "source": [
    "sulfur_uptake_reactions = []\n",
    "nitrogen_uptake_reactions = []\n",
    "phosphorous_uptake_reactions = []\n",
    "carbon_uptake_reactions = []\n",
    "new_growth_carbon = []\n",
    "new_growth_nitrogen = []\n",
    "new_growth_sulfur = []\n",
    "new_growth_phosphorous = []\n",
    "\n",
    "carbon_uptake_reactions = []\n",
    "for reaction in mixo.exchanges:\n",
    "    for element in reaction.metabolites:\n",
    "        if 'S' in element.elements:\n",
    "            sulfur_uptake_reactions.append(reaction.id)\n",
    "        if 'N' in element.elements:\n",
    "            nitrogen_uptake_reactions.append(reaction.id)\n",
    "        if 'P' in element.elements:\n",
    "            phosphorous_uptake_reactions.append(reaction.id)\n",
    "        if 'C' in element.elements:\n",
    "            carbon_uptake_reactions.append(reaction.id)\n",
    "\n",
    "carbon_uptake_reactions.remove('EX_co2_e')\n",
    "        \n",
    "\n",
    "medium = mixo.medium\n",
    "with mixo:\n",
    "    print('============================\\nOrganic carbon sources\\n----------------------------')\n",
    "    for element in carbon_uptake_reactions:\n",
    "        medium['EX_ac_e'] = 0\n",
    "        medium[element] = 12.0\n",
    "        mixo.medium = medium\n",
    "        new_growth_carbon.append(mixo.slim_optimize())\n",
    "        print('{0:15}:  {1}.    Biomass growth: {2}'.format(element, medium[element], new_growth_carbon[-1]))\n",
    "        medium[element] = 0\n",
    "    best_carbon_source = carbon_uptake_reactions[new_growth_carbon.index(max(new_growth_carbon))]\n",
    "    print('Best carbon source: ', best_carbon_source)\n",
    "    medium[best_carbon_source] = 12.0    \n",
    "    \n",
    "    print('\\n\\n============================\\nSulfur sources\\n----------------------------')\n",
    "    for element in sulfur_uptake_reactions:\n",
    "        medium['EX_so4_e'] = 0\n",
    "        medium[element] = 12.0\n",
    "        mixo.medium = medium\n",
    "        new_growth_sulfur.append(mixo.slim_optimize())\n",
    "        print('{0:15}:  {1}.    Biomass growth: {2}'.format(element, medium[element], new_growth_sulfur[-1]))\n",
    "        medium[element] = 0\n",
    "    best_sulfur_source = sulfur_uptake_reactions[new_growth_sulfur.index(max(new_growth_sulfur))]\n",
    "    print('Best sulfur source: ', best_sulfur_source)\n",
    "    medium[best_sulfur_source] = 12.0 \n",
    "        \n",
    "    print('\\n\\n============================\\nNitrogen sources\\n----------------------------')\n",
    "    for element in nitrogen_uptake_reactions:\n",
    "        medium['EX_nh4_e'] = 0\n",
    "        medium[element] = 12.0\n",
    "        mixo.medium = medium\n",
    "        new_growth_nitrogen.append(mixo.slim_optimize())\n",
    "        print('{0:15}:  {1}.    Biomass growth: {2}'.format(element, medium[element], new_growth_nitrogen[-1]))\n",
    "        medium[element] = 0\n",
    "    best_nitrogen_source = nitrogen_uptake_reactions[new_growth_nitrogen.index(max(new_growth_nitrogen))]\n",
    "    print('Best nitrogen source: ', best_nitrogen_source)\n",
    "    medium[best_nitrogen_source] = 12.0 \n",
    "    \n",
    "    print('\\n\\n============================\\nPhosphorous sources\\n----------------------------')\n",
    "    for element in phosphorous_uptake_reactions:\n",
    "        medium['EX_pi_e'] = 0\n",
    "        medium[element] = 12.0\n",
    "        mixo.medium = medium\n",
    "        new_growth_phosphorous.append(mixo.slim_optimize())\n",
    "        print('{0:15}:  {1}.    Biomass growth: {2}'.format(element, medium[element], new_growth_phosphorous[-1]))\n",
    "        medium[element] = 0\n",
    "    best_phosphorous_source = phosphorous_uptake_reactions[new_growth_phosphorous.index(max(new_growth_phosphorous))]\n",
    "    print('Best phosphorous source: ', best_phosphorous_source)\n",
    "    medium[best_phosphorous_source] = 12.0 "
   ]
  },
  {
   "cell_type": "markdown",
   "metadata": {},
   "source": [
    "It is curious, however, the fact that the authors decided not to include glucose as a possible carbon source\n",
    "\n",
    "The best media composition would have, then, (LIST ALL THE COMPOUNDS). This results are expected, as both glutamine and ornithine are aminoacids, meaning that they act at the same time as carbon and as nitrogen sources. Regarding nicotinamide mononucleotide, it is a complex vitamin that further acts as C and N source. Nevertheless, the aim of this analysis was to find the best media composition, without taking into account economic parameters (phosphate will probably be a much cheaper P source than Nicotinamide mononucleotide). Further, this analysis has been performed linearly, meaning that the yield achieved by a compound might be influenced by the previous choices of \"best compounds\". An analysis that could take into account correlations between compounds would be much more accurate and useful, though this analysis is enough to give an idea of the preferences of the microorganism.\n",
    "\n",
    "Moreover, it is also important to check which effect might have the change in media composition in hydrogen production:"
   ]
  },
  {
   "cell_type": "code",
   "execution_count": null,
   "metadata": {},
   "outputs": [],
   "source": [
    "with mixo:\n",
    "    new_media = mixo.medium\n",
    "    new_media[\"EX_ac_e\"] = 0\n",
    "    new_media[\"EX_nh4_e\"] = 0\n",
    "    new_media[\"EX_pi_e\"] = 0\n",
    "    new_media[best_carbon_source] = 12\n",
    "    new_media[best_sulfur_source] = 12\n",
    "    new_media[best_nitrogen_source] = 12\n",
    "    new_media[best_phosphorous_source] = 12\n",
    "    mixo.medium = new_media\n",
    "    \n",
    "    ppp_new_media = phenotypic_phase_plane(model,\n",
    "                                variables=[model.reactions.get_by_id(reaction.id)],\n",
    "                                objective=model.reactions.EX_h2_e)\n",
    "\n",
    "    ppp_new_media.plot(plotter, height=400)"
   ]
  },
  {
   "cell_type": "markdown",
   "metadata": {},
   "source": [
    "# Gene KnockOut strategies"
   ]
  },
  {
   "cell_type": "markdown",
   "metadata": {},
   "source": [
    "Let's try now to enhance the production of hydrogen by OptKnock first:"
   ]
  },
  {
   "cell_type": "code",
   "execution_count": null,
   "metadata": {},
   "outputs": [],
   "source": [
    "from cobra import Reaction, Metabolite\n",
    "from cameo.strain_design.heuristic.evolutionary_based import OptGene\n",
    "from cameo.strain_design.deterministic.linear_programming import OptKnock\n",
    "\n",
    "Hydrogen_producer_reactions = ['HYDA', 'HYDAm', 'HYDAh']\n",
    "\n",
    "for reaction in Hydrogen_producer_reactions\n",
    "    with mixo:\n",
    "        optknock = OptKnock(mixo, fraction_of_optimum=0.1)\n",
    "        result = optknock.run(max_knockouts=2, target=reaction, biomass=\"Biomass_Chlamy_mixo\")"
   ]
  },
  {
   "cell_type": "markdown",
   "metadata": {},
   "source": [
    "Running OptGene in this microorganism would be pointless, as the model already produces hydrogen, and OptGene is used to force a model to produce the metabolite of interest when it does not do it naturally:"
   ]
  },
  {
   "cell_type": "code",
   "execution_count": null,
   "metadata": {},
   "outputs": [],
   "source": [
    "with model:\n",
    "    medium = model.medium\n",
    "    medium['EX_lac_D_e'] = 100\n",
    "    model.medium = medium\n",
    "    model.objective = model.reactions.ALATLm\n",
    "    optgene = OptGene(model)\n",
    "    result = optgene.run(target=model.reactions.ALATLm, \n",
    "                         biomass=model.reactions.Biomass_Chlamy_hetero,\n",
    "                         substrate=model.metabolites.lac_D_e,\n",
    "                         max_evaluations=20, population_size=20, max_knockouts=5,\n",
    "                         plot=False, growth_coupled=True)"
   ]
  },
  {
   "cell_type": "code",
   "execution_count": null,
   "metadata": {},
   "outputs": [],
   "source": [
    "result"
   ]
  },
  {
   "cell_type": "markdown",
   "metadata": {},
   "source": [
    "# Flux Scanning based on Enforced Objective Flux"
   ]
  },
  {
   "cell_type": "markdown",
   "metadata": {},
   "source": [
    "After performing the FSEOF, it could be seen that when hydrogen production is forced to take higher values, sulfur metabolism also starts to increase: the flux of the reaction   increases, and the absolute value of the flux of reaction SO4t increases proportionally, excreting sulfur to the media (because it has a negative sign), and preventing it from accumulating within the cell.\n",
    "\n",
    "The hypothesis is that this sulfur metabolism might be related with hydrogen production. Hence, this metabolism will be overexpressed, and the effect it has on hydrogen productivity will be checked."
   ]
  },
  {
   "cell_type": "code",
   "execution_count": null,
   "metadata": {},
   "outputs": [],
   "source": [
    "with mixo:\n",
    "    print('Wild type growth rate: ', mixo.slim_optimize())\n",
    "    ppp_wild = phenotypic_phase_plane(mixo,\n",
    "                                 variables=[mixo.reactions.Biomass_Chlamy_mixo],\n",
    "                                 objective=mixo.reactions.EX_h2_e)\n",
    "    ppp_wild.plot(plotter, height=400)\n",
    "    \n",
    "    mixo.reactions.SO4NA1t.lower_bound = mixo.optimize().fluxes.SO4NA1t * 10\n",
    "    print('Modified type growth rate: ', mixo.slim_optimize())\n",
    "    ppp_mod = phenotypic_phase_plane(mixo,\n",
    "                                 variables=[mixo.reactions.Biomass_Chlamy_mixo],\n",
    "                                 objective=mixo.reactions.EX_h2_e)\n",
    "    ppp_mod.plot(plotter, height=400)"
   ]
  },
  {
   "cell_type": "markdown",
   "metadata": {},
   "source": [
    "Unfortunately, results are the same for both situation, disproving the hypothesis."
   ]
  },
  {
   "cell_type": "markdown",
   "metadata": {},
   "source": [
    "# Simulation of batch cultivation with dFBA"
   ]
  },
  {
   "cell_type": "markdown",
   "metadata": {},
   "source": [
    "Taking into account all of the previous results, we'll now try to simulate the model with a dynamic FBA approach:"
   ]
  },
  {
   "cell_type": "markdown",
   "metadata": {},
   "source": [
    "NOTE: only a Python 3 kernel is able to import the dfba module, Python3.6 kernel"
   ]
  },
  {
   "cell_type": "code",
   "execution_count": null,
   "metadata": {},
   "outputs": [],
   "source": [
    "from os.path import dirname, join, pardir\n",
    "\n",
    "from cobra.io import read_sbml_model\n",
    "\n",
    "from dfba import DfbaModel, ExchangeFlux, KineticVariable"
   ]
  },
  {
   "cell_type": "code",
   "execution_count": null,
   "metadata": {},
   "outputs": [],
   "source": [
    "%%capture --no-display\n",
    "fba_model = mixo\n",
    "fba_model.solver = \"glpk\"\n",
    "dfba_model = DfbaModel(fba_model)"
   ]
  },
  {
   "cell_type": "code",
   "execution_count": null,
   "metadata": {},
   "outputs": [],
   "source": [
    "X = KineticVariable(\"Biomass\")\n",
    "Gln = KineticVariable(\"L-glutamine\")\n",
    "Sulf = KineticVariable(\"Sulfate\")\n",
    "Orn = KineticVariable(\"Ornithin\")\n",
    "Nmn = KineticVariable(\"Nicotinamide mononucleotide\")\n",
    "\n",
    "dfba_model.add_kinetic_variables([X, Gln, Sulf, Orn, Oxy, Nmn, Hydro])"
   ]
  },
  {
   "cell_type": "markdown",
   "metadata": {},
   "source": [
    "Gases have not been added to the model, because in a batch fermentation they are either fed continuosly in the reactor ($O_{2}$, $CO_{2}$) or they can leave the broth and not accumulate ($H_{2}$))"
   ]
  },
  {
   "cell_type": "code",
   "execution_count": null,
   "metadata": {},
   "outputs": [],
   "source": [
    "mu = ExchangeFlux(\"Biomass_Chlamy_mixo\")\n",
    "v_C = ExchangeFlux(\"EX_gln_L_e\")\n",
    "v_S = ExchangeFlux(\"EX_so4_e\")\n",
    "v_N = ExchangeFlux(\"EX_orn_e\")\n",
    "v_P = ExchangeFlux(\"EX_nmn_e\")\n",
    "\n",
    "dfba_model.add_exchange_fluxes([mu, v_C, v_S, v_N, v_P, v_H])"
   ]
  },
  {
   "cell_type": "code",
   "execution_count": null,
   "metadata": {},
   "outputs": [],
   "source": [
    "dfba_model.add_rhs_expression(\"Biomass\", mu * X)\n",
    "dfba_model.add_rhs_expression(\"L-glutamine\", v_C * 146.14/1000 * X)\n",
    "dfba_model.add_rhs_expression(\"Sulfate\", v_S * 96.06/1000 * X)\n",
    "dfba_model.add_rhs_expression(\"Ornithin\", v_N * 132.16/1000 * X)\n",
    "dfba_model.add_rhs_expression(\"Nicotinamide mononucleotide\", v_P * 334.221/1000 * X)"
   ]
  },
  {
   "cell_type": "markdown",
   "metadata": {},
   "source": [
    "## 5. Discussion (<500 words)"
   ]
  },
  {
   "cell_type": "code",
   "execution_count": null,
   "metadata": {},
   "outputs": [],
   "source": []
  },
  {
   "cell_type": "markdown",
   "metadata": {},
   "source": [
    "## 6. Conclusion (<200 words)"
   ]
  },
  {
   "cell_type": "markdown",
   "metadata": {},
   "source": [
    "## References"
   ]
  },
  {
   "cell_type": "markdown",
   "metadata": {},
   "source": [
    "What has to be done:\n",
    "    \n",
    "    Create exchange reactions for the lipids (otherwise they would accumulate, breaking the assumption of steady state)\n",
    "    \n",
    "    Reduce biomass growth in order to allow carbon to be diverted into lipid production pathways (otherwise it would not be driven towards this pathways, as it would be a lost of  C for growth) and to simulate N shortage (even though that would trigger a lot of genome expression / silention, as that is a stres condition in which cells are struggling to keep alive)\n",
    "    \n",
    "    Set the objecive function to the sum of the exchange reactions of lipids (optimize the total sum)\n",
    "    \n",
    "    Use escher with the map of E.coli, but with the reactions and fluxes of C.reinhardtii (some reactions wont be present in escher, others present in escher will have no flux at all)"
   ]
  }
 ],
 "metadata": {
  "kernelspec": {
   "display_name": "python3.6",
   "language": "python",
   "name": "python3.6"
  },
  "language_info": {
   "codemirror_mode": {
    "name": "ipython",
    "version": 3
   },
   "file_extension": ".py",
   "mimetype": "text/x-python",
   "name": "python",
   "nbconvert_exporter": "python",
   "pygments_lexer": "ipython3",
   "version": "3.6.12"
  }
 },
 "nbformat": 4,
 "nbformat_minor": 4
}
