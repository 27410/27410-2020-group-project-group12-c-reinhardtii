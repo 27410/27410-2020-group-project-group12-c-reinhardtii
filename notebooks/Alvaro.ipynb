{
 "cells": [
  {
   "cell_type": "markdown",
   "metadata": {},
   "source": [
    "# [Title]"
   ]
  },
  {
   "cell_type": "markdown",
   "metadata": {},
   "source": [
    "## 1. Introduction"
   ]
  },
  {
   "cell_type": "markdown",
   "metadata": {},
   "source": [
    "### 1.1 Literature review of the compound (<500 words)"
   ]
  },
  {
   "cell_type": "markdown",
   "metadata": {},
   "source": [
    "### 1.2 Literature review of the cell factory (<500 words)"
   ]
  },
  {
   "cell_type": "markdown",
   "metadata": {},
   "source": [
    "## 2. Problem definition (<300 words)"
   ]
  },
  {
   "cell_type": "markdown",
   "metadata": {},
   "source": [
    "## 3. *If Project category I:* Reconstruction of a new GSM for your cell factory host of interest (<1500 words)"
   ]
  },
  {
   "cell_type": "markdown",
   "metadata": {},
   "source": [
    "or"
   ]
  },
  {
   "cell_type": "markdown",
   "metadata": {},
   "source": [
    "## 3. *If Project category II:* Selection and assessment of existing GSM (<500 words)"
   ]
  },
  {
   "cell_type": "markdown",
   "metadata": {},
   "source": [
    "As previously mentioned, the model used for this assignment was provided by Imam et al. (2015) as an improvement of the previous model iRC1080. After completing the model, the authors actually conducted several experiments to contrast the accuracy of the new model's predictions.\n",
    "\n",
    "A collection of 306 different genotype-phenotype conditions, obtained from 81 different mutants, was listed, and iCre1335 was used to predict the phenotypes of these mutants. The model showed a sensitivity of 83%, and a specificity of 92%, overall achieving an area under the Receiver Operating Curve (ROC) of 0.92. This means that only in 17% of the cases, the expression of a phenotype was predicted incorrectly; and in 8% of the cases, the lack of expression of a phenotype was predicted incorrectly.\n",
    "\n",
    "Authors further tested the model by comparing the predicted growth rates under different metabolic conditions and C, N and P uptake rates with experimental cultures, obtaining a good agreement ($R^{2}$ = 0.82) between experimental and predicted values. Moreover, the model actually was able to predict growth halt and lipid accumulation due to nitrogen starvation, but unfortunately, it was unable to correctly predict the effect of light intensity changes in growth rate. In this case, the authors had to manually tune the photon uptake rate to match predictions with experimental results.\n",
    "\n",
    "Overall, the authors were fairly confident of the predictive capabilities of the model. In order to independently verify that statement, we conducted our own validation, by uploading the file to memote, to analyse the consistency of the model. The report obtained, which has been added to this project's repository, shows that the model was quite satisfactory. Almost the totality of the reactions are both mass and charge balanced, there are almost no disconnected metabolite (meaning that they are not used in any reaction) and most of the reactions are not able to carry unlimited amounts of flux. The main problems are the lack of stoichiometric consistency, meaning that it is not possible to assign to each metabolite a positive molecular mass without breaking mass conservation at some point in the model (this is probably caused by the few reactions that are not mass balanced); and the fact that all metabolites, reactions and genes do not have any reference (annotation) linking them to one major database."
   ]
  },
  {
   "cell_type": "code",
   "execution_count": 1,
   "metadata": {},
   "outputs": [
    {
     "name": "stdout",
     "output_type": "stream",
     "text": [
      "\u001b[1m============================= test session starts ==============================\u001b[0m\n",
      "platform linux -- Python 3.6.12, pytest-6.1.2, py-1.9.0, pluggy-0.13.1\n",
      "rootdir: /usr/local/lib/python3.6/dist-packages/memote/suite/tests\n",
      "collected 164 items / 1 skipped / 163 selected                                 \u001b[0m\n",
      "\n",
      "../../../../usr/local/lib/python3.6/dist-packages/memote/suite/tests/test_annotation.py \u001b[31mF\u001b[0m\u001b[31m [  0%]\n",
      "\u001b[0m\u001b[31mF\u001b[0m\u001b[31mF\u001b[0m\u001b[31mF\u001b[0m\u001b[31mF\u001b[0m\u001b[31mF\u001b[0m\u001b[31mF\u001b[0m\u001b[31mF\u001b[0m\u001b[31mF\u001b[0m\u001b[31mF\u001b[0m\u001b[31mF\u001b[0m\u001b[31mF\u001b[0m\u001b[31mF\u001b[0m\u001b[31mF\u001b[0m\u001b[31mF\u001b[0m\u001b[31mF\u001b[0m\u001b[31mF\u001b[0m\u001b[31mF\u001b[0m\u001b[31mF\u001b[0m\u001b[31mF\u001b[0m\u001b[31mF\u001b[0m\u001b[31mF\u001b[0m\u001b[31mF\u001b[0m\u001b[31mF\u001b[0m\u001b[31mF\u001b[0m\u001b[31mF\u001b[0m\u001b[31mF\u001b[0m\u001b[31mF\u001b[0m\u001b[31mF\u001b[0m\u001b[31mF\u001b[0m\u001b[31mF\u001b[0m\u001b[31mF\u001b[0m\u001b[31mF\u001b[0m\u001b[31mF\u001b[0m\u001b[31mF\u001b[0m\u001b[31mF\u001b[0m\u001b[31mF\u001b[0m\u001b[31mF\u001b[0m\u001b[31mF\u001b[0m\u001b[31mF\u001b[0m\u001b[31mF\u001b[0m\u001b[31mF\u001b[0m\u001b[31mF\u001b[0m\u001b[31mF\u001b[0m\u001b[31mF\u001b[0m\u001b[31mF\u001b[0m\u001b[31mF\u001b[0m\u001b[31mF\u001b[0m\u001b[31mF\u001b[0m\u001b[31mF\u001b[0m\u001b[31mF\u001b[0m\u001b[31mF\u001b[0m\u001b[31mF\u001b[0m\u001b[31mF\u001b[0m\u001b[31mF\u001b[0m\u001b[31mF\u001b[0m\u001b[31mF\u001b[0m\u001b[31mF\u001b[0m\u001b[31mF\u001b[0m\u001b[31mF\u001b[0m\u001b[31mF\u001b[0m\u001b[31mF\u001b[0m\u001b[31mF\u001b[0m\u001b[32m.\u001b[0m\u001b[32m.\u001b[0m\u001b[31m         [ 39%]\u001b[0m\n",
      "../../../../usr/local/lib/python3.6/dist-packages/memote/suite/tests/test_basic.py \u001b[32m.\u001b[0m\u001b[31m [ 40%]\n",
      "\u001b[0m\u001b[32m.\u001b[0m\u001b[32m.\u001b[0m\u001b[32m.\u001b[0m\u001b[32m.\u001b[0m\u001b[32m.\u001b[0m\u001b[31mF\u001b[0m\u001b[32m.\u001b[0m\u001b[32m.\u001b[0m\u001b[32m.\u001b[0m\u001b[32m.\u001b[0m\u001b[32m.\u001b[0m\u001b[32m.\u001b[0m\u001b[32m.\u001b[0m\u001b[32m.\u001b[0m\u001b[31mF\u001b[0m\u001b[32m.\u001b[0m\u001b[32m.\u001b[0m\u001b[32m.\u001b[0m\u001b[32m.\u001b[0m\u001b[32m.\u001b[0m\u001b[31mF\u001b[0m\u001b[31mF\u001b[0m\u001b[31m                                                   [ 53%]\u001b[0m\n",
      "../../../../usr/local/lib/python3.6/dist-packages/memote/suite/tests/test_biomass.py \u001b[32m.\u001b[0m\u001b[31m [ 54%]\n",
      "\u001b[0m\u001b[31mF\u001b[0m\u001b[31mF\u001b[0m\u001b[31mF\u001b[0m\u001b[31mF\u001b[0m\u001b[32m.\u001b[0m\u001b[31mF\u001b[0m\u001b[31mF\u001b[0m\u001b[32m.\u001b[0m\u001b[31mF\u001b[0m\u001b[31mF\u001b[0m^C\n"
     ]
    }
   ],
   "source": [
    "!memote report snapshot iCre1355_hetero_V2.xml"
   ]
  },
  {
   "cell_type": "markdown",
   "metadata": {},
   "source": [
    "## 4. Computer-Aided Cell Factory Engineering (<1500 words if Category II project; <500 words for Category I project)"
   ]
  },
  {
   "cell_type": "markdown",
   "metadata": {},
   "source": [
    "# Model upload and general information"
   ]
  },
  {
   "cell_type": "markdown",
   "metadata": {},
   "source": [
    "Firstly, the model given by the authors was loaded into the script, but it creates problems during the reading, due to formating of the data (conflicts with SBML definitions)."
   ]
  },
  {
   "cell_type": "code",
   "execution_count": 20,
   "metadata": {},
   "outputs": [],
   "source": [
    "from cobra.io import read_sbml_model\n",
    "from cobra.io import write_sbml_model"
   ]
  },
  {
   "cell_type": "code",
   "execution_count": 2,
   "metadata": {},
   "outputs": [
    {
     "ename": "KeyboardInterrupt",
     "evalue": "",
     "output_type": "error",
     "traceback": [
      "\u001b[0;31m---------------------------------------------------------------------------\u001b[0m",
      "\u001b[0;31mKeyboardInterrupt\u001b[0m                         Traceback (most recent call last)",
      "\u001b[0;32m/opt/conda/lib/python3.8/site-packages/IPython/core/async_helpers.py\u001b[0m in \u001b[0;36m_pseudo_sync_runner\u001b[0;34m(coro)\u001b[0m\n\u001b[1;32m     66\u001b[0m     \"\"\"\n\u001b[1;32m     67\u001b[0m     \u001b[0;32mtry\u001b[0m\u001b[0;34m:\u001b[0m\u001b[0;34m\u001b[0m\u001b[0;34m\u001b[0m\u001b[0m\n\u001b[0;32m---> 68\u001b[0;31m         \u001b[0mcoro\u001b[0m\u001b[0;34m.\u001b[0m\u001b[0msend\u001b[0m\u001b[0;34m(\u001b[0m\u001b[0;32mNone\u001b[0m\u001b[0;34m)\u001b[0m\u001b[0;34m\u001b[0m\u001b[0;34m\u001b[0m\u001b[0m\n\u001b[0m\u001b[1;32m     69\u001b[0m     \u001b[0;32mexcept\u001b[0m \u001b[0mStopIteration\u001b[0m \u001b[0;32mas\u001b[0m \u001b[0mexc\u001b[0m\u001b[0;34m:\u001b[0m\u001b[0;34m\u001b[0m\u001b[0;34m\u001b[0m\u001b[0m\n\u001b[1;32m     70\u001b[0m         \u001b[0;32mreturn\u001b[0m \u001b[0mexc\u001b[0m\u001b[0;34m.\u001b[0m\u001b[0mvalue\u001b[0m\u001b[0;34m\u001b[0m\u001b[0;34m\u001b[0m\u001b[0m\n",
      "\u001b[0;32m/opt/conda/lib/python3.8/site-packages/IPython/core/interactiveshell.py\u001b[0m in \u001b[0;36mrun_cell_async\u001b[0;34m(self, raw_cell, store_history, silent, shell_futures, transformed_cell, preprocessing_exc_tuple)\u001b[0m\n\u001b[1;32m   3068\u001b[0m         \u001b[0;31m# Store raw and processed history\u001b[0m\u001b[0;34m\u001b[0m\u001b[0;34m\u001b[0m\u001b[0;34m\u001b[0m\u001b[0m\n\u001b[1;32m   3069\u001b[0m         \u001b[0;32mif\u001b[0m \u001b[0mstore_history\u001b[0m\u001b[0;34m:\u001b[0m\u001b[0;34m\u001b[0m\u001b[0;34m\u001b[0m\u001b[0m\n\u001b[0;32m-> 3070\u001b[0;31m             self.history_manager.store_inputs(self.execution_count,\n\u001b[0m\u001b[1;32m   3071\u001b[0m                                               cell, raw_cell)\n\u001b[1;32m   3072\u001b[0m         \u001b[0;32mif\u001b[0m \u001b[0;32mnot\u001b[0m \u001b[0msilent\u001b[0m\u001b[0;34m:\u001b[0m\u001b[0;34m\u001b[0m\u001b[0;34m\u001b[0m\u001b[0m\n",
      "\u001b[0;32m/opt/conda/lib/python3.8/site-packages/IPython/core/history.py\u001b[0m in \u001b[0;36mstore_inputs\u001b[0;34m(self, line_num, source, source_raw)\u001b[0m\n\u001b[1;32m    717\u001b[0m         \u001b[0mself\u001b[0m\u001b[0;34m.\u001b[0m\u001b[0minput_hist_raw\u001b[0m\u001b[0;34m.\u001b[0m\u001b[0mappend\u001b[0m\u001b[0;34m(\u001b[0m\u001b[0msource_raw\u001b[0m\u001b[0;34m)\u001b[0m\u001b[0;34m\u001b[0m\u001b[0;34m\u001b[0m\u001b[0m\n\u001b[1;32m    718\u001b[0m \u001b[0;34m\u001b[0m\u001b[0m\n\u001b[0;32m--> 719\u001b[0;31m         \u001b[0;32mwith\u001b[0m \u001b[0mself\u001b[0m\u001b[0;34m.\u001b[0m\u001b[0mdb_input_cache_lock\u001b[0m\u001b[0;34m:\u001b[0m\u001b[0;34m\u001b[0m\u001b[0;34m\u001b[0m\u001b[0m\n\u001b[0m\u001b[1;32m    720\u001b[0m             \u001b[0mself\u001b[0m\u001b[0;34m.\u001b[0m\u001b[0mdb_input_cache\u001b[0m\u001b[0;34m.\u001b[0m\u001b[0mappend\u001b[0m\u001b[0;34m(\u001b[0m\u001b[0;34m(\u001b[0m\u001b[0mline_num\u001b[0m\u001b[0;34m,\u001b[0m \u001b[0msource\u001b[0m\u001b[0;34m,\u001b[0m \u001b[0msource_raw\u001b[0m\u001b[0;34m)\u001b[0m\u001b[0;34m)\u001b[0m\u001b[0;34m\u001b[0m\u001b[0;34m\u001b[0m\u001b[0m\n\u001b[1;32m    721\u001b[0m             \u001b[0;31m# Trigger to flush cache and write to DB.\u001b[0m\u001b[0;34m\u001b[0m\u001b[0;34m\u001b[0m\u001b[0;34m\u001b[0m\u001b[0m\n",
      "\u001b[0;31mKeyboardInterrupt\u001b[0m: "
     ]
    }
   ],
   "source": [
    "hetero = read_sbml_model('iCre1355_hetero.xml')\n",
    "auto = read_sbml_model('iCre1355_auto.xml')\n",
    "mixo = read_sbml_model('iCre1355_mixo.xml')\n",
    "\n",
    "# Source: https://github.com/baliga-lab/Chlamy_model_iCre1355.git"
   ]
  },
  {
   "cell_type": "markdown",
   "metadata": {},
   "source": [
    "Therefore, in order to avoid constant warning messages that slow down computation, after the model is read for the first time, a new model is written with the correct format"
   ]
  },
  {
   "cell_type": "code",
   "execution_count": null,
   "metadata": {},
   "outputs": [],
   "source": [
    "write_sbml_model(hetero, 'iCre1355_hetero_V2.xml')\n",
    "write_sbml_model(auto, 'iCre1355_auto_V2.xml')\n",
    "write_sbml_model(mixo, 'iCre1355_mixo_V2.xml')"
   ]
  },
  {
   "cell_type": "code",
   "execution_count": 21,
   "metadata": {},
   "outputs": [],
   "source": [
    "hetero = read_sbml_model('iCre1355_hetero_V2.xml')\n",
    "auto = read_sbml_model('iCre1355_auto_V2.xml')\n",
    "mixo = read_sbml_model('iCre1355_mixo_V2.xml')"
   ]
  },
  {
   "cell_type": "code",
   "execution_count": 22,
   "metadata": {},
   "outputs": [],
   "source": [
    "hetero.name = 'iCre1355_Hetero'\n",
    "auto.name = 'iCre1355_Auto'\n",
    "mixo.name = 'iCre1355_Mixo'\n",
    "\n",
    "models = [auto, mixo, hetero]\n",
    "bio_growth = [auto.reactions.Biomass_Chlamy_auto, mixo.reactions.Biomass_Chlamy_mixo, hetero.reactions.Biomass_Chlamy_hetero]"
   ]
  },
  {
   "cell_type": "markdown",
   "metadata": {},
   "source": [
    "Let´s now take a first look at the models. Let´s begin by checking the number of reactions, metabolites and genes:"
   ]
  },
  {
   "cell_type": "code",
   "execution_count": 23,
   "metadata": {
    "collapsed": true,
    "jupyter": {
     "outputs_hidden": true
    }
   },
   "outputs": [
    {
     "name": "stdout",
     "output_type": "stream",
     "text": [
      "============================\n",
      " iCre1355_Auto \n",
      "----------------------------\n",
      "Number of metabolites:  1845\n",
      "Number of reactions:    2394\n",
      "Number of genes:        1963\n",
      "\n",
      "\n",
      "============================\n",
      " iCre1355_Mixo \n",
      "----------------------------\n",
      "Number of metabolites:  1845\n",
      "Number of reactions:    2394\n",
      "Number of genes:        1963\n",
      "\n",
      "\n",
      "============================\n",
      " iCre1355_Hetero \n",
      "----------------------------\n",
      "Number of metabolites:  1845\n",
      "Number of reactions:    2394\n",
      "Number of genes:        1963\n",
      "\n",
      "\n"
     ]
    }
   ],
   "source": [
    "for model in models:\n",
    "    print('============================\\n', model.name, '\\n----------------------------')\n",
    "    print('{0:22}  {1}'.format('Number of metabolites:', len(model.metabolites)))\n",
    "    print('{0:22}  {1}'.format('Number of reactions:', len(model.reactions)))\n",
    "    print('{0:22}  {1}'.format('Number of genes:', len(model.genes)))\n",
    "    print('\\n')"
   ]
  },
  {
   "cell_type": "markdown",
   "metadata": {
    "jupyter": {
     "outputs_hidden": true
    }
   },
   "source": [
    "Now, let's analyze other useful information, like the number of compartments, the media composition and the available exchange reactions"
   ]
  },
  {
   "cell_type": "code",
   "execution_count": 6,
   "metadata": {
    "collapsed": true,
    "jupyter": {
     "outputs_hidden": true
    }
   },
   "outputs": [
    {
     "name": "stdout",
     "output_type": "stream",
     "text": [
      "============================\n",
      " iCre1355_Auto \n",
      "----------------------------\n",
      "EX_h_e           10.0\n",
      "EX_h2o_e         10.0\n",
      "EX_pi_e          10.0\n",
      "EX_nh4_e         1.0\n",
      "EX_so4_e         10.0\n",
      "EX_fe2_e         10.0\n",
      "EX_mg2_e         10.0\n",
      "EX_na1_e         10.0\n",
      "EX_photonVis_e   80.0\n",
      "EX_o2_e          10.0\n",
      "EX_co2_e         2.0\n",
      "\n",
      "\n",
      "============================\n",
      " iCre1355_Mixo \n",
      "----------------------------\n",
      "EX_h_e           10.0\n",
      "EX_h2o_e         10.0\n",
      "EX_pi_e          10.0\n",
      "EX_nh4_e         1.0\n",
      "EX_so4_e         10.0\n",
      "EX_fe2_e         10.0\n",
      "EX_mg2_e         10.0\n",
      "EX_na1_e         10.0\n",
      "EX_photonVis_e   80.0\n",
      "EX_o2_e          10.0\n",
      "EX_co2_e         2.0\n",
      "EX_ac_e          2.0\n",
      "\n",
      "\n",
      "============================\n",
      " iCre1355_Hetero \n",
      "----------------------------\n",
      "EX_h_e           10.0\n",
      "EX_h2o_e         10.0\n",
      "EX_pi_e          10.0\n",
      "EX_nh4_e         0.5\n",
      "EX_so4_e         10.0\n",
      "EX_fe2_e         10.0\n",
      "EX_mg2_e         10.0\n",
      "EX_na1_e         10.0\n",
      "EX_o2_e          10.0\n",
      "EX_ac_e          2.0\n",
      "\n",
      "\n"
     ]
    }
   ],
   "source": [
    "# Medium\n",
    "\n",
    "for model in models:\n",
    "    print('============================\\n', model.name, '\\n----------------------------')\n",
    "    for compound in model.medium:\n",
    "        print('{0:15}  {1}'.format(compound, model.medium[compound]))\n",
    "    print('\\n')"
   ]
  },
  {
   "cell_type": "code",
   "execution_count": 7,
   "metadata": {
    "collapsed": true,
    "jupyter": {
     "outputs_hidden": true
    }
   },
   "outputs": [
    {
     "name": "stdout",
     "output_type": "stream",
     "text": [
      "============================\n",
      " iCre1355_Auto \n",
      "----------------------------\n",
      "c   Cytosol\n",
      "h   Chloroplast\n",
      "m   Mitochondria\n",
      "x   Glyoxysome\n",
      "f   Flagellum\n",
      "e   Extra-organism\n",
      "n   Nucleus\n",
      "g   Golgi Apparatus\n",
      "s   Eyespot\n",
      "u   Thylakoid Lumen\n",
      "i   Inner Mitochondrial membrane space\n",
      "\n",
      "\n",
      "============================\n",
      " iCre1355_Mixo \n",
      "----------------------------\n",
      "c   Cytosol\n",
      "h   Chloroplast\n",
      "m   Mitochondria\n",
      "x   Glyoxysome\n",
      "f   Flagellum\n",
      "e   Extra-organism\n",
      "n   Nucleus\n",
      "g   Golgi Apparatus\n",
      "s   Eyespot\n",
      "u   Thylakoid Lumen\n",
      "i   Inner Mitochondrial membrane space\n",
      "\n",
      "\n",
      "============================\n",
      " iCre1355_Hetero \n",
      "----------------------------\n",
      "c   Cytosol\n",
      "h   Chloroplast\n",
      "m   Mitochondria\n",
      "x   Glyoxysome\n",
      "f   Flagellum\n",
      "e   Extra-organism\n",
      "n   Nucleus\n",
      "g   Golgi Apparatus\n",
      "s   Eyespot\n",
      "u   Thylakoid Lumen\n",
      "i   Inner Mitochondrial membrane space\n",
      "\n",
      "\n"
     ]
    }
   ],
   "source": [
    "# Compartments\n",
    "\n",
    "for model in models:\n",
    "    print('============================\\n', model.name, '\\n----------------------------')\n",
    "    for compartment in model.compartments:\n",
    "        print('{0:2}  {1}'.format(compartment, model.compartments[compartment]))\n",
    "    print('\\n')"
   ]
  },
  {
   "cell_type": "code",
   "execution_count": 8,
   "metadata": {
    "collapsed": true,
    "jupyter": {
     "outputs_hidden": true
    }
   },
   "outputs": [
    {
     "name": "stdout",
     "output_type": "stream",
     "text": [
      "==========================================================================\n",
      " iCre1355_Auto \n",
      "--------------------------------------------------------------------------\n",
      "H+ exchange                             EX_h_e           h_e <=> \n",
      "H2O exchange                            EX_h2o_e         h2o_e <=> \n",
      "Phosphate exchange                      EX_pi_e          pi_e <=> \n",
      "ammonia exchange                        EX_nh4_e         nh4_e <=> \n",
      "nitrate exchange                        EX_no3_e         no3_e --> \n",
      "sulfate exchange                        EX_so4_e         so4_e <=> \n",
      "Fe2+ exchange                           EX_fe2_e         fe2_e <=> \n",
      "Fe3+ exchange                           EX_fe3_e         fe3_e --> \n",
      "magnesium exchange                      EX_mg2_e         mg2_e <=> \n",
      "sodium exchange                         EX_na1_e         na1_e <=> \n",
      "photon emission                         EX_photonVis_e   photonVis_e <=> \n",
      "O2 exchange                             EX_o2_e          o2_e <=> \n",
      "CO2 exchange                            EX_co2_e         co2_e <=> \n",
      "HCO3 exchange                           EX_hco3_e        hco3_e --> \n",
      "Acetate exchange                        EX_ac_e          ac_e --> \n",
      "D-ribose exchange                       EX_rib_D_e       rib_D_e --> \n",
      "nitrite exchange                        EX_no2_e         no2_e --> \n",
      "histidine exchange                      EX_his_L_e       his_L_e --> \n",
      "urea exchange                           EX_urea_e        urea_e --> \n",
      "acetamide exchange                      EX_ad_e          ad_e --> \n",
      "guanine exchange                        EX_gua_e         gua_e --> \n",
      "adenine exchange                        EX_ade_e         ade_e --> \n",
      "allantoate exchange                     EX_alltt_e       alltt_e --> \n",
      "allantoin exchange                      EX_alltn_e       alltn_e --> \n",
      "hypoxanthine exchange                   EX_hxan_e        hxan_e --> \n",
      "ornithine exchange                      EX_orn_e         orn_e --> \n",
      "L-glutamine exchange                    EX_gln_L_e       gln_L_e --> \n",
      "urate exchange                          EX_urate_e       urate_e --> \n",
      "L-leucine exchange                      EX_leu_L_e       leu_L_e --> \n",
      "arginine exchange                       EX_arg_L_e       arg_L_e --> \n",
      "sulfite exchange                        EX_so3_e         hso3_e --> \n",
      "sulfur exchange                         EX_s_e           s_e --> \n",
      "Selenite exchange                       EX_selt_e        selt_e --> \n",
      "Ethanol exchange                        EX_etoh_e        etoh_e --> \n",
      "Formate exchange                        EX_for_e         for_e --> \n",
      "H2 exchange                             EX_h2_e          h2_e --> \n",
      "glycolate exchange                      EX_glyclt_e      glyclt_e --> \n",
      "succinate exchange                      EX_succ_e        succ_e --> \n",
      "D-lactate exchange                      EX_lac_D_e       lac_D_e --> \n",
      "6-mercaptopurine exchange               EX_6mpur_e       6mpur_e --> \n",
      "thioguanine exchange                    EX_tgua_e        tgua_e --> \n",
      "tegafur exchange                        EX_tega_e        tega_e --> \n",
      "fluorouracil exchange                   EX_5flura_e      5flura_e --> \n",
      "citalopram exchange                     EX_cital_e       cital_e --> \n",
      "lidocaine exchange                      EX_lido_e        lido_e --> \n",
      "Ascorbate exchange                      EX_ascb_e        ascb_L_e --> \n",
      "Xanthine exchange                       EX_xan_e         xan_e --> \n",
      "Uracil exchange                         EX_ura_e         ura_e --> \n",
      "Methanol exchange                       EX_meoh_e        meoh_e --> \n",
      "Nicotinamide exchange                   EX_ncam_e        ncam_e --> \n",
      "Nicotinamide mononucleotide exchange    EX_nmn_e         nmn_e --> \n",
      "Thiamine exchange                       EX_thm_e         thm_e --> \n",
      "Heme exchange                           EX_pheme_e       pheme_e --> \n",
      "Biliverdin exchange                     EX_biliverd_e    biliverd_e --> \n",
      "Carbon monoxide exchange                EX_co_e          co_e --> \n",
      "\n",
      "\n",
      "==========================================================================\n",
      " iCre1355_Mixo \n",
      "--------------------------------------------------------------------------\n",
      "H+ exchange                             EX_h_e           h_e <=> \n",
      "H2O exchange                            EX_h2o_e         h2o_e <=> \n",
      "Phosphate exchange                      EX_pi_e          pi_e <=> \n",
      "ammonia exchange                        EX_nh4_e         nh4_e <=> \n",
      "nitrate exchange                        EX_no3_e         no3_e --> \n",
      "sulfate exchange                        EX_so4_e         so4_e <=> \n",
      "Fe2+ exchange                           EX_fe2_e         fe2_e <=> \n",
      "Fe3+ exchange                           EX_fe3_e         fe3_e --> \n",
      "magnesium exchange                      EX_mg2_e         mg2_e <=> \n",
      "sodium exchange                         EX_na1_e         na1_e <=> \n",
      "photon emission                         EX_photonVis_e   photonVis_e <=> \n",
      "O2 exchange                             EX_o2_e          o2_e <=> \n",
      "CO2 exchange                            EX_co2_e         co2_e <=> \n",
      "HCO3 exchange                           EX_hco3_e        hco3_e --> \n",
      "Acetate exchange                        EX_ac_e          ac_e <=> \n",
      "D-ribose exchange                       EX_rib_D_e       rib_D_e --> \n",
      "nitrite exchange                        EX_no2_e         no2_e --> \n",
      "histidine exchange                      EX_his_L_e       his_L_e --> \n",
      "urea exchange                           EX_urea_e        urea_e --> \n",
      "acetamide exchange                      EX_ad_e          ad_e --> \n",
      "guanine exchange                        EX_gua_e         gua_e --> \n",
      "adenine exchange                        EX_ade_e         ade_e --> \n",
      "allantoate exchange                     EX_alltt_e       alltt_e --> \n",
      "allantoin exchange                      EX_alltn_e       alltn_e --> \n",
      "hypoxanthine exchange                   EX_hxan_e        hxan_e --> \n",
      "ornithine exchange                      EX_orn_e         orn_e --> \n",
      "L-glutamine exchange                    EX_gln_L_e       gln_L_e --> \n",
      "urate exchange                          EX_urate_e       urate_e --> \n",
      "L-leucine exchange                      EX_leu_L_e       leu_L_e --> \n",
      "arginine exchange                       EX_arg_L_e       arg_L_e --> \n",
      "sulfite exchange                        EX_so3_e         hso3_e --> \n",
      "sulfur exchange                         EX_s_e           s_e --> \n",
      "Selenite exchange                       EX_selt_e        selt_e --> \n",
      "Ethanol exchange                        EX_etoh_e        etoh_e --> \n",
      "Formate exchange                        EX_for_e         for_e --> \n",
      "H2 exchange                             EX_h2_e          h2_e --> \n",
      "glycolate exchange                      EX_glyclt_e      glyclt_e --> \n",
      "succinate exchange                      EX_succ_e        succ_e --> \n",
      "D-lactate exchange                      EX_lac_D_e       lac_D_e --> \n",
      "6-mercaptopurine exchange               EX_6mpur_e       6mpur_e --> \n",
      "thioguanine exchange                    EX_tgua_e        tgua_e --> \n",
      "tegafur exchange                        EX_tega_e        tega_e --> \n",
      "fluorouracil exchange                   EX_5flura_e      5flura_e --> \n",
      "citalopram exchange                     EX_cital_e       cital_e --> \n",
      "lidocaine exchange                      EX_lido_e        lido_e --> \n",
      "Ascorbate exchange                      EX_ascb_e        ascb_L_e --> \n",
      "Xanthine exchange                       EX_xan_e         xan_e --> \n",
      "Uracil exchange                         EX_ura_e         ura_e --> \n",
      "Methanol exchange                       EX_meoh_e        meoh_e --> \n",
      "Nicotinamide exchange                   EX_ncam_e        ncam_e --> \n",
      "Nicotinamide mononucleotide exchange    EX_nmn_e         nmn_e --> \n",
      "Thiamine exchange                       EX_thm_e         thm_e --> \n",
      "Heme exchange                           EX_pheme_e       pheme_e --> \n",
      "Biliverdin exchange                     EX_biliverd_e    biliverd_e --> \n",
      "Carbon monoxide exchange                EX_co_e          co_e --> \n",
      "\n",
      "\n",
      "==========================================================================\n",
      " iCre1355_Hetero \n",
      "--------------------------------------------------------------------------\n",
      "H+ exchange                             EX_h_e           h_e <=> \n",
      "H2O exchange                            EX_h2o_e         h2o_e <=> \n",
      "Phosphate exchange                      EX_pi_e          pi_e <=> \n",
      "ammonia exchange                        EX_nh4_e         nh4_e <=> \n",
      "nitrate exchange                        EX_no3_e         no3_e --> \n",
      "sulfate exchange                        EX_so4_e         so4_e <=> \n",
      "Fe2+ exchange                           EX_fe2_e         fe2_e <=> \n",
      "Fe3+ exchange                           EX_fe3_e         fe3_e --> \n",
      "magnesium exchange                      EX_mg2_e         mg2_e <=> \n",
      "sodium exchange                         EX_na1_e         na1_e <=> \n",
      "photon emission                         EX_photonVis_e   photonVis_e --> \n",
      "O2 exchange                             EX_o2_e          o2_e <=> \n",
      "CO2 exchange                            EX_co2_e         co2_e --> \n",
      "HCO3 exchange                           EX_hco3_e        hco3_e --> \n",
      "Acetate exchange                        EX_ac_e          ac_e <=> \n",
      "D-ribose exchange                       EX_rib_D_e       rib_D_e --> \n",
      "nitrite exchange                        EX_no2_e         no2_e --> \n",
      "histidine exchange                      EX_his_L_e       his_L_e --> \n",
      "urea exchange                           EX_urea_e        urea_e --> \n",
      "acetamide exchange                      EX_ad_e          ad_e --> \n",
      "guanine exchange                        EX_gua_e         gua_e --> \n",
      "adenine exchange                        EX_ade_e         ade_e --> \n",
      "allantoate exchange                     EX_alltt_e       alltt_e --> \n",
      "allantoin exchange                      EX_alltn_e       alltn_e --> \n",
      "hypoxanthine exchange                   EX_hxan_e        hxan_e --> \n",
      "ornithine exchange                      EX_orn_e         orn_e --> \n",
      "L-glutamine exchange                    EX_gln_L_e       gln_L_e --> \n",
      "urate exchange                          EX_urate_e       urate_e --> \n",
      "L-leucine exchange                      EX_leu_L_e       leu_L_e --> \n",
      "arginine exchange                       EX_arg_L_e       arg_L_e --> \n",
      "sulfite exchange                        EX_so3_e         hso3_e --> \n",
      "sulfur exchange                         EX_s_e           s_e --> \n",
      "Selenite exchange                       EX_selt_e        selt_e --> \n",
      "Ethanol exchange                        EX_etoh_e        etoh_e --> \n",
      "Formate exchange                        EX_for_e         for_e --> \n",
      "H2 exchange                             EX_h2_e          h2_e --> \n",
      "glycolate exchange                      EX_glyclt_e      glyclt_e --> \n",
      "succinate exchange                      EX_succ_e        succ_e --> \n",
      "D-lactate exchange                      EX_lac_D_e       lac_D_e --> \n",
      "6-mercaptopurine exchange               EX_6mpur_e       6mpur_e --> \n",
      "thioguanine exchange                    EX_tgua_e        tgua_e --> \n",
      "tegafur exchange                        EX_tega_e        tega_e --> \n",
      "fluorouracil exchange                   EX_5flura_e      5flura_e --> \n",
      "citalopram exchange                     EX_cital_e       cital_e --> \n",
      "lidocaine exchange                      EX_lido_e        lido_e --> \n",
      "Ascorbate exchange                      EX_ascb_e        ascb_L_e --> \n",
      "Xanthine exchange                       EX_xan_e         xan_e --> \n",
      "Uracil exchange                         EX_ura_e         ura_e --> \n",
      "Methanol exchange                       EX_meoh_e        meoh_e --> \n",
      "Nicotinamide exchange                   EX_ncam_e        ncam_e --> \n",
      "Nicotinamide mononucleotide exchange    EX_nmn_e         nmn_e --> \n",
      "Thiamine exchange                       EX_thm_e         thm_e --> \n",
      "Heme exchange                           EX_pheme_e       pheme_e --> \n",
      "Biliverdin exchange                     EX_biliverd_e    biliverd_e --> \n",
      "Carbon monoxide exchange                EX_co_e          co_e --> \n",
      "\n",
      "\n"
     ]
    }
   ],
   "source": [
    "# Available exchange reactions\n",
    "\n",
    "for model in models:\n",
    "    print('==========================================================================\\n', model.name, '\\n--------------------------------------------------------------------------')\n",
    "    for exchange in model.exchanges:\n",
    "        print('{0:38}  {1:15}  {2}'.format(exchange.name, exchange.id, exchange.reaction))\n",
    "    print('\\n')"
   ]
  },
  {
   "cell_type": "markdown",
   "metadata": {},
   "source": [
    "# Theoretical maximum yields & phenotipic phase planes"
   ]
  },
  {
   "cell_type": "markdown",
   "metadata": {},
   "source": [
    "Finally, let`s run the models and see the growth rate for each of them, as well as $H_{2}$ production rate when the model is set to maximize biomass growth and when the model is set to maximize $H_{2}$ productivity"
   ]
  },
  {
   "cell_type": "code",
   "execution_count": 9,
   "metadata": {
    "collapsed": true,
    "jupyter": {
     "outputs_hidden": true
    }
   },
   "outputs": [
    {
     "name": "stdout",
     "output_type": "stream",
     "text": [
      "======================================================================\n",
      " iCre1355_Auto \n",
      "----------------------------------------------------------------------\n",
      "Maximize\n",
      "1.0*Biomass_Chlamy_auto - 1.0*Biomass_Chlamy_auto_reverse_6a2df \n",
      "\n",
      "Biomass maximum growth rate:    0.05157510966253333\n",
      "Hydrogen productivity:          0.0 \n",
      "\n",
      "......................................................................\n",
      "Maximize\n",
      "1.0*EX_h2_e - 1.0*EX_h2_e_reverse_f55e9 \n",
      "\n",
      "Biomass growth rate:            0.0\n",
      "Hydrogen maximum productivity:  9.300611804566167 \n",
      "\n",
      "\n",
      "\n",
      "\n",
      "======================================================================\n",
      " iCre1355_Mixo \n",
      "----------------------------------------------------------------------\n",
      "Maximize\n",
      "1.0*Biomass_Chlamy_mixo - 1.0*Biomass_Chlamy_mixo_reverse_90004 \n",
      "\n",
      "Biomass maximum growth rate:    0.15158877886278788\n",
      "Hydrogen productivity:          0.0 \n",
      "\n",
      "......................................................................\n",
      "Maximize\n",
      "1.0*EX_h2_e - 1.0*EX_h2_e_reverse_f55e9 \n",
      "\n",
      "Biomass growth rate:            0.0\n",
      "Hydrogen maximum productivity:  11.887320739056015 \n",
      "\n",
      "\n",
      "\n",
      "\n",
      "======================================================================\n",
      " iCre1355_Hetero \n",
      "----------------------------------------------------------------------\n",
      "Maximize\n",
      "1.0*Biomass_Chlamy_hetero - 1.0*Biomass_Chlamy_hetero_reverse_d4067 \n",
      "\n",
      "Biomass maximum growth rate:    0.02998557548409569\n",
      "Hydrogen productivity:          0.0 \n",
      "\n",
      "......................................................................\n",
      "Maximize\n",
      "1.0*EX_h2_e - 1.0*EX_h2_e_reverse_f55e9 \n",
      "\n",
      "Biomass growth rate:            0.0\n",
      "Hydrogen maximum productivity:  0.45424999999999804 \n",
      "\n",
      "\n",
      "\n",
      "\n"
     ]
    }
   ],
   "source": [
    "for model, reaction in zip(models, bio_growth):\n",
    "    model.objective = reaction\n",
    "    with model:\n",
    "        print('======================================================================\\n', model.name, '\\n----------------------------------------------------------------------')\n",
    "        print(model.objective, '\\n')\n",
    "        print('{0:30}  {1}'.format('Biomass maximum growth rate:', model.optimize().objective_value))\n",
    "        print('{0:30}  {1}'.format('Hydrogen productivity:', model.optimize().fluxes.EX_h2_e), '\\n')        \n",
    "        model.objective = model.reactions.EX_h2_e\n",
    "        print('......................................................................')\n",
    "        print(model.objective, '\\n')\n",
    "        print('{0:30}  {1}'.format('Biomass growth rate:', model.optimize().fluxes.get(reaction.id)))\n",
    "        print('{0:30}  {1}'.format('Hydrogen maximum productivity:', model.optimize().objective_value), '\\n\\n\\n\\n')"
   ]
  },
  {
   "cell_type": "markdown",
   "metadata": {},
   "source": [
    "This data must be taken with cautious, however, as it can be seen in the phenotypic phase planes, for the maximum biomass growth there are several hydrogens productivities that allow it.\n",
    "\n",
    "Lastly, we'll compute the phenotypic phase plane, to have an idea of the relation between the maximum production of hydrogen (EX_h2_e) and the biomass growth."
   ]
  },
  {
   "cell_type": "code",
   "execution_count": 24,
   "metadata": {},
   "outputs": [
    {
     "ename": "ModuleNotFoundError",
     "evalue": "No module named 'cameo'",
     "output_type": "error",
     "traceback": [
      "\u001b[0;31m---------------------------------------------------------------------------\u001b[0m",
      "\u001b[0;31mModuleNotFoundError\u001b[0m                       Traceback (most recent call last)",
      "\u001b[0;32m<ipython-input-24-735e5d938115>\u001b[0m in \u001b[0;36m<module>\u001b[0;34m\u001b[0m\n\u001b[0;32m----> 1\u001b[0;31m \u001b[0;32mfrom\u001b[0m \u001b[0mcameo\u001b[0m \u001b[0;32mimport\u001b[0m \u001b[0mphenotypic_phase_plane\u001b[0m\u001b[0;34m\u001b[0m\u001b[0;34m\u001b[0m\u001b[0m\n\u001b[0m\u001b[1;32m      2\u001b[0m \u001b[0;32mfrom\u001b[0m \u001b[0mcameo\u001b[0m\u001b[0;34m.\u001b[0m\u001b[0mvisualization\u001b[0m\u001b[0;34m.\u001b[0m\u001b[0mplotting\u001b[0m\u001b[0;34m.\u001b[0m\u001b[0mwith_plotly\u001b[0m \u001b[0;32mimport\u001b[0m \u001b[0mPlotlyPlotter\u001b[0m\u001b[0;34m\u001b[0m\u001b[0;34m\u001b[0m\u001b[0m\n\u001b[1;32m      3\u001b[0m \u001b[0;34m\u001b[0m\u001b[0m\n\u001b[1;32m      4\u001b[0m \u001b[0mplotter\u001b[0m \u001b[0;34m=\u001b[0m \u001b[0mPlotlyPlotter\u001b[0m\u001b[0;34m(\u001b[0m\u001b[0;34m)\u001b[0m\u001b[0;34m\u001b[0m\u001b[0;34m\u001b[0m\u001b[0m\n\u001b[1;32m      5\u001b[0m \u001b[0;34m\u001b[0m\u001b[0m\n",
      "\u001b[0;31mModuleNotFoundError\u001b[0m: No module named 'cameo'"
     ]
    }
   ],
   "source": [
    "from cameo import phenotypic_phase_plane\n",
    "from cameo.visualization.plotting.with_plotly import PlotlyPlotter\n",
    "\n",
    "plotter = PlotlyPlotter()\n",
    "\n",
    "for model, reaction in zip(models,bio_growth):\n",
    "    ppp = phenotypic_phase_plane(model,\n",
    "                                 variables=[model.reactions.get_by_id(reaction.id)],\n",
    "                                 objective=model.reactions.EX_h2_e)\n",
    "\n",
    "    ppp.plot(plotter, height=400)"
   ]
  },
  {
   "cell_type": "markdown",
   "metadata": {},
   "source": [
    "It is possible that results do not concorde with the ones shown in the previous code cell, in chich the model was optimize for maximum production of biomass and hydrogen. This happens because, as it can be seen in the PPPs, there are several different hydrogen productivities that allow the maximum growth rate. Therefore, each time the model is run, a different result might appear.\n",
    "\n",
    "Nevertheless, the best nutrition model seems to be the mixotrophic: even though for the highest biomass growth rate the hydrogen production is lower than for the autotrophic nutrition, if we compare the hydrogen productivity at the maximum growth rate in autotrophic conditions (around 6) with the hydrogen production at the same conditions in mixotrophic nutrition (around 9), hydrogen production is higher for the mixotrophic model"
   ]
  },
  {
   "cell_type": "markdown",
   "metadata": {},
   "source": [
    "Note: If the visualization does not work, opern jupyter as /tree, not as /lab (in the search bar)"
   ]
  },
  {
   "cell_type": "markdown",
   "metadata": {},
   "source": [
    "# Pathway visualization"
   ]
  },
  {
   "cell_type": "markdown",
   "metadata": {},
   "source": [
    "In order to have a better understanding of the metabolic pathways contained on the model, a package like *Escher* can be used. This package is used to visualize the metabolic pathways contained in a model, and how active they are (how much flux they carry). Its main drawback is that the visualization maps must be done *by hand*, meaning that one cannot upload a model and expect *Escher* to read it and automatically display a map representing all the pathways contained in that model. Instead, *Escher* contains, by default, several maps, representing the metabolisms of humans, yeast (*S. cerevisiae*) and *E. coli*, at different levels of detail. Therefore, one of these maps will be used to represent upon it the reactions of *C. reinhardtii*. Only the reactions that match (meaning that have the same name in both the *C. reinhardtii* model and the selected *Escher* model) will be represented and displayed with a specific flux value. The reactions present in the *Escher* model but not in the *Chlamydomonas* model will have a zero flux value, whereas reactions present in the *Chlamydomonas* model but not in the *Escher* model will not appear at all in the map. In this case, the *Escher* map that will be used is the yeast one, because both *S. cerevisiae* and *C. reinhardtii* are eukaryotic microorganisms, and thus, both contain defined compartments (in contrast with *E. coli*, which is a prokaryote, and thus contains no compartment)."
   ]
  },
  {
   "cell_type": "code",
   "execution_count": 7,
   "metadata": {
    "collapsed": true,
    "jupyter": {
     "outputs_hidden": true
    }
   },
   "outputs": [
    {
     "ename": "ModuleNotFoundError",
     "evalue": "No module named 'escher'",
     "output_type": "error",
     "traceback": [
      "\u001b[0;31m---------------------------------------------------------------------------\u001b[0m",
      "\u001b[0;31mModuleNotFoundError\u001b[0m                       Traceback (most recent call last)",
      "\u001b[0;32m<ipython-input-7-7a29e183aeb0>\u001b[0m in \u001b[0;36m<module>\u001b[0;34m\u001b[0m\n\u001b[0;32m----> 1\u001b[0;31m \u001b[0;32mimport\u001b[0m \u001b[0mescher\u001b[0m\u001b[0;34m\u001b[0m\u001b[0;34m\u001b[0m\u001b[0m\n\u001b[0m\u001b[1;32m      2\u001b[0m \u001b[0mescher\u001b[0m\u001b[0;34m.\u001b[0m\u001b[0mlist_available_maps\u001b[0m\u001b[0;34m(\u001b[0m\u001b[0;34m)\u001b[0m\u001b[0;34m\u001b[0m\u001b[0;34m\u001b[0m\u001b[0m\n",
      "\u001b[0;31mModuleNotFoundError\u001b[0m: No module named 'escher'"
     ]
    }
   ],
   "source": [
    "import escher\n",
    "escher.list_available_maps()"
   ]
  },
  {
   "cell_type": "code",
   "execution_count": 8,
   "metadata": {
    "collapsed": true,
    "jupyter": {
     "outputs_hidden": true
    }
   },
   "outputs": [
    {
     "ename": "NameError",
     "evalue": "name 'escher' is not defined",
     "output_type": "error",
     "traceback": [
      "\u001b[0;31m---------------------------------------------------------------------------\u001b[0m",
      "\u001b[0;31mNameError\u001b[0m                                 Traceback (most recent call last)",
      "\u001b[0;32m<ipython-input-8-51b6c3bed478>\u001b[0m in \u001b[0;36m<module>\u001b[0;34m\u001b[0m\n\u001b[0;32m----> 1\u001b[0;31m escher.Builder('iMM904.Central carbon metabolism',\n\u001b[0m\u001b[1;32m      2\u001b[0m                \u001b[0mmodel\u001b[0m\u001b[0;34m=\u001b[0m\u001b[0mauto\u001b[0m\u001b[0;34m,\u001b[0m \u001b[0mhighlight_missing\u001b[0m\u001b[0;34m=\u001b[0m\u001b[0;32mTrue\u001b[0m\u001b[0;34m,\u001b[0m\u001b[0;34m\u001b[0m\u001b[0;34m\u001b[0m\u001b[0m\n\u001b[1;32m      3\u001b[0m                reaction_data=auto.optimize().fluxes.to_dict()).display_in_notebook()\n",
      "\u001b[0;31mNameError\u001b[0m: name 'escher' is not defined"
     ]
    }
   ],
   "source": [
    "escher.Builder('iMM904.Central carbon metabolism',\n",
    "               model=auto, highlight_missing=True,\n",
    "               reaction_data=auto.optimize().fluxes.to_dict()).display_in_notebook()"
   ]
  },
  {
   "cell_type": "code",
   "execution_count": null,
   "metadata": {},
   "outputs": [],
   "source": [
    "escher.Builder?"
   ]
  },
  {
   "cell_type": "markdown",
   "metadata": {},
   "source": [
    "Unfortunately, this approach has resulted to be less useful than expected. Most of the reactions of both models do not match, and most of the reactions from the map do not have any flux at all."
   ]
  },
  {
   "cell_type": "markdown",
   "metadata": {},
   "source": [
    "# Definition of the production pathways"
   ]
  },
  {
   "cell_type": "markdown",
   "metadata": {},
   "source": [
    "Prior to any modification to the model, let´s look for the reactions that produce the desired compound:"
   ]
  },
  {
   "cell_type": "code",
   "execution_count": 9,
   "metadata": {
    "collapsed": true,
    "jupyter": {
     "outputs_hidden": true
    }
   },
   "outputs": [
    {
     "name": "stdout",
     "output_type": "stream",
     "text": [
      "h2_c \t H2\n",
      "h2_e \t H2\n",
      "h2_h \t H2\n",
      "h2_m \t H2\n",
      "h2o_c \t H2O\n",
      "h2o_e \t H2O\n",
      "h2o_f \t H2O\n",
      "h2o_h \t H2O\n",
      "h2o_m \t H2O\n",
      "h2o_n \t H2O\n",
      "h2o_s \t H2O\n",
      "h2o_u \t H2O\n",
      "h2o_x \t H2O\n",
      "['H2', 'H2', 'H2', 'H2'] ['h2_c', 'h2_e', 'h2_h', 'h2_m']\n"
     ]
    }
   ],
   "source": [
    "name = []\n",
    "ID = []\n",
    "\n",
    "for metabolite in mixo.metabolites.query('H2', 'name'):\n",
    "    \n",
    "    print(metabolite, '\\t', metabolite.name)    \n",
    "    if metabolite.name == 'H2':\n",
    "        name.append(metabolite.name)\n",
    "        ID.append(metabolite.id)\n",
    "        \n",
    "print(name, ID)"
   ]
  },
  {
   "cell_type": "code",
   "execution_count": 10,
   "metadata": {
    "collapsed": true,
    "jupyter": {
     "outputs_hidden": true
    }
   },
   "outputs": [
    {
     "name": "stdout",
     "output_type": "stream",
     "text": [
      "H2ti: h2_c --> h2_e\n",
      "HYDA: 2.0 fdxrd_c <=> 2.0 fdxox_c + h2_c + 2.0 h_c\n",
      "H2tm: h2_c <=> h2_m\n",
      "H2th: h2_c <=> h2_h\n",
      "EX_h2_e: h2_e --> \n",
      "H2ti: h2_c --> h2_e\n",
      "HYDAh: 2.0 fdxrd_h <=> 2.0 fdxox_h + h2_h + 2.0 h_h\n",
      "H2th: h2_c <=> h2_h\n",
      "HYDAm: 2.0 fdxrd_m <=> 2.0 fdxox_m + h2_m + 2.0 h_m\n",
      "H2tm: h2_c <=> h2_m\n"
     ]
    }
   ],
   "source": [
    "reactions = []\n",
    "\n",
    "for element in ID:\n",
    "    compound = mixo.metabolites.get_by_id(element)\n",
    "    for react in compound.reactions:\n",
    "        reactions.append(react.id)\n",
    "\n",
    "for element in reactions:\n",
    "    print(mixo.reactions.get_by_id(element))"
   ]
  },
  {
   "cell_type": "markdown",
   "metadata": {},
   "source": [
    "We can see that the reactions that actually produce hydrogen are HYDA, HYDAh and HYDAm, the other ones just reflect transport of hydrogen between different compartments. Both HYDA, HYDAh and HYDAm are in fact the same reaction, the reason why it is splitted into three is because it can take place in three different compartments. If we take one of the reactions and we look for the catalyzing enzyme, we could see that the microorganisms actually uses FeFe-hydrogenase, which was stated in the introduction as the most active enzyme for production of hydrogen."
   ]
  },
  {
   "cell_type": "code",
   "execution_count": 11,
   "metadata": {},
   "outputs": [
    {
     "name": "stdout",
     "output_type": "stream",
     "text": [
      "HYDA :  (FeFe)-hydrogenase, cytoplasm\n",
      "HYDAm :  (FeFe)-hydrogenase, mitochondria\n",
      "HYDAh :  (FeFe)-hydrogenase, chloroplast\n"
     ]
    }
   ],
   "source": [
    "hydrogen_production = [mixo.reactions.HYDA, mixo.reactions.HYDAm, mixo.reactions.HYDAh]\n",
    "for reaction in hydrogen_production:\n",
    "    print(mixo.reactions.get_by_id(reaction.id).id, ': ', mixo.reactions.get_by_id(reaction.id).name)"
   ]
  },
  {
   "cell_type": "markdown",
   "metadata": {},
   "source": [
    "Let`s see in which compartment the enzyme is more active, and thus, produces the highest amounts of $H_{2}$, while producing the highest amount of biomass"
   ]
  },
  {
   "cell_type": "code",
   "execution_count": 12,
   "metadata": {
    "collapsed": true,
    "jupyter": {
     "outputs_hidden": true
    }
   },
   "outputs": [
    {
     "name": "stdout",
     "output_type": "stream",
     "text": [
      "======================================================================\n",
      " iCre1355_Auto \n",
      "----------------------------------------------------------------------\n",
      "Maximize\n",
      "1.0*Biomass_Chlamy_auto - 1.0*Biomass_Chlamy_auto_reverse_6a2df \n",
      "\n",
      "Biomass maximum growth rate:                        0.05157510966253333\n",
      "Hydrogen productivity in cytoplasm:                 0.0\n",
      "Hydrogen productivity in chloroplast:               0.0\n",
      "Hydrogen productivity in mitochrondia:              0.0\n",
      "Hydrogen exchange:                                  0.0\n",
      "======================================================================\n",
      " iCre1355_Mixo \n",
      "----------------------------------------------------------------------\n",
      "Maximize\n",
      "1.0*Biomass_Chlamy_mixo - 1.0*Biomass_Chlamy_mixo_reverse_90004 \n",
      "\n",
      "Biomass maximum growth rate:                        0.15158877886278788\n",
      "Hydrogen productivity in cytoplasm:                 0.0\n",
      "Hydrogen productivity in chloroplast:               0.0\n",
      "Hydrogen productivity in mitochrondia:              0.0\n",
      "Hydrogen exchange:                                  0.0\n",
      "======================================================================\n",
      " iCre1355_Hetero \n",
      "----------------------------------------------------------------------\n",
      "Maximize\n",
      "1.0*Biomass_Chlamy_hetero - 1.0*Biomass_Chlamy_hetero_reverse_d4067 \n",
      "\n",
      "Biomass maximum growth rate:                        0.02998557548409569\n",
      "Hydrogen productivity in cytoplasm:                 0.0\n",
      "Hydrogen productivity in chloroplast:               0.0\n",
      "Hydrogen productivity in mitochrondia:              0.0\n",
      "Hydrogen exchange:                                  0.0\n"
     ]
    }
   ],
   "source": [
    "for model in models:\n",
    "    with model:\n",
    "        print('======================================================================\\n', model.name, '\\n----------------------------------------------------------------------')\n",
    "        print(model.objective, '\\n')\n",
    "        print('{0:50}  {1}'.format('Biomass maximum growth rate:', model.optimize().objective_value))\n",
    "        print('{0:50}  {1}'.format('Hydrogen productivity in cytoplasm:', model.optimize().fluxes.HYDA))\n",
    "        print('{0:50}  {1}'.format('Hydrogen productivity in chloroplast:', model.optimize().fluxes.HYDAh))\n",
    "        print('{0:50}  {1}'.format('Hydrogen productivity in mitochrondia:', model.optimize().fluxes.HYDAm))\n",
    "        print('{0:50}  {1}'.format('Hydrogen exchange:', model.optimize().fluxes.EX_h2_e))"
   ]
  },
  {
   "cell_type": "markdown",
   "metadata": {},
   "source": [
    "# Influence of the media on the growth rate"
   ]
  },
  {
   "cell_type": "markdown",
   "metadata": {},
   "source": [
    "In this section, the influence of the medium composition on microorganism growth will be evaluated, to study if there are any specific compounds that are more easily digestible for the microorganism, and thus allow for a faster growth. In order to do that, possible compounds from the media (taken from the *mixo.exchanges* list) will be categorized into four groups (C sources, N sources, S sources and P sources), depending on the atoms that they contain (hence, a compound can be classified into several groups, if it has two or more of the elements that are used as a criteria for classification).\n",
    "\n",
    "Afterwards, all of the organic carbon sources (acetate) were removed from the media, and one by one each compound on the C list was added to the media, and the growth rate with that compound was calculated. The compound with the best growth rate was selected and added definitively to the media. Then, the same procedure was performed with the S, N and P sources."
   ]
  },
  {
   "cell_type": "code",
   "execution_count": 14,
   "metadata": {
    "collapsed": true,
    "jupyter": {
     "outputs_hidden": true
    }
   },
   "outputs": [
    {
     "name": "stdout",
     "output_type": "stream",
     "text": [
      "============================\n",
      "Organic carbon sources\n",
      "----------------------------\n",
      "EX_hco3_e      :  12.0.    Biomass growth: 0.12989715734210308\n",
      "EX_ac_e        :  12.0.    Biomass growth: 0.27100703342916044\n",
      "EX_rib_D_e     :  12.0.    Biomass growth: 0.3109245822484669\n",
      "EX_his_L_e     :  12.0.    Biomass growth: 0.3101700400878893\n",
      "EX_urea_e      :  12.0.    Biomass growth: 0.129897157342102\n",
      "EX_ad_e        :  12.0.    Biomass growth: 0.2710070334322511\n",
      "EX_gua_e       :  12.0.    Biomass growth: 0.1489522654048352\n",
      "EX_ade_e       :  12.0.    Biomass growth: 0.14907229801637506\n",
      "EX_alltt_e     :  12.0.    Biomass growth: 0.16011524967784557\n",
      "EX_alltn_e     :  12.0.    Biomass growth: 0.1575962692346475\n",
      "EX_hxan_e      :  12.0.    Biomass growth: 0.15367620834243906\n",
      "EX_orn_e       :  12.0.    Biomass growth: 0.43421537974407715\n",
      "EX_gln_L_e     :  12.0.    Biomass growth: 0.5407048723688995\n",
      "EX_urate_e     :  12.0.    Biomass growth: 0.15266114721825325\n",
      "EX_leu_L_e     :  12.0.    Biomass growth: 0.16450117793903474\n",
      "EX_arg_L_e     :  12.0.    Biomass growth: 0.2015878180417338\n",
      "EX_etoh_e      :  12.0.    Biomass growth: 0.05104902583700262\n",
      "EX_for_e       :  12.0.    Biomass growth: 0.05104902583700262\n",
      "EX_glyclt_e    :  12.0.    Biomass growth: 0.3011546976472389\n",
      "EX_succ_e      :  12.0.    Biomass growth: 0.3109245822484714\n",
      "EX_lac_D_e     :  12.0.    Biomass growth: 0.051049025837004706\n",
      "EX_6mpur_e     :  12.0.    Biomass growth: 0.051049025837004706\n",
      "EX_tgua_e      :  12.0.    Biomass growth: 0.051049025837004706\n",
      "EX_tega_e      :  12.0.    Biomass growth: 0.051049025837004706\n",
      "EX_5flura_e    :  12.0.    Biomass growth: 0.051049025837004706\n",
      "EX_cital_e     :  12.0.    Biomass growth: 0.051049025837004706\n",
      "EX_lido_e      :  12.0.    Biomass growth: 0.051049025837004706\n",
      "EX_ascb_e      :  12.0.    Biomass growth: 0.051049025837004706\n",
      "EX_xan_e       :  12.0.    Biomass growth: 0.15342132879128623\n",
      "EX_ura_e       :  12.0.    Biomass growth: 0.19722076878080652\n",
      "EX_meoh_e      :  12.0.    Biomass growth: 0.051049025837003555\n",
      "EX_ncam_e      :  12.0.    Biomass growth: 0.0510665771713989\n",
      "EX_nmn_e       :  12.0.    Biomass growth: 0.31136441093019274\n",
      "EX_thm_e       :  12.0.    Biomass growth: 0.051055321571076194\n",
      "EX_pheme_e     :  12.0.    Biomass growth: 0.05104902583700328\n",
      "EX_biliverd_e  :  12.0.    Biomass growth: 0.05104902583700328\n",
      "EX_co_e        :  12.0.    Biomass growth: 0.12989715734210322\n",
      "Best carbon source:  EX_gln_L_e\n",
      "\n",
      "\n",
      "============================\n",
      "Sulfur sources\n",
      "----------------------------\n",
      "EX_so4_e       :  12.0.    Biomass growth: 0.5407048723689029\n",
      "EX_so3_e       :  12.0.    Biomass growth: -7.871028244240244e-17\n",
      "EX_s_e         :  12.0.    Biomass growth: -7.871028244240244e-17\n",
      "EX_6mpur_e     :  12.0.    Biomass growth: -7.871028244240244e-17\n",
      "EX_tgua_e      :  12.0.    Biomass growth: -7.871028244240244e-17\n",
      "EX_thm_e       :  12.0.    Biomass growth: -7.871028244240244e-17\n",
      "Best sulfur source:  EX_so4_e\n",
      "\n",
      "\n",
      "============================\n",
      "Nitrogen sources\n",
      "----------------------------\n",
      "EX_nh4_e       :  12.0.    Biomass growth: 0.5407048723689007\n",
      "EX_no3_e       :  12.0.    Biomass growth: 0.5549857329372948\n",
      "EX_no2_e       :  12.0.    Biomass growth: 0.5407048723689005\n",
      "EX_his_L_e     :  12.0.    Biomass growth: 0.5412043259053316\n",
      "EX_urea_e      :  12.0.    Biomass growth: 0.5407048723689006\n",
      "EX_ad_e        :  12.0.    Biomass growth: 0.5529431298501712\n",
      "EX_gua_e       :  12.0.    Biomass growth: 0.5411977421543795\n",
      "EX_ade_e       :  12.0.    Biomass growth: 0.5407048723689019\n",
      "EX_alltt_e     :  12.0.    Biomass growth: 0.5407048723689019\n",
      "EX_alltn_e     :  12.0.    Biomass growth: 0.5407048723689019\n",
      "EX_hxan_e      :  12.0.    Biomass growth: 0.5840147646068871\n",
      "EX_orn_e       :  12.0.    Biomass growth: 0.6260449041744861\n",
      "EX_gln_L_e     :  12.0.    Biomass growth: 0.5407048723689079\n",
      "EX_urate_e     :  12.0.    Biomass growth: 0.15266114721825666\n",
      "EX_leu_L_e     :  12.0.    Biomass growth: 0.16450117793902935\n",
      "EX_arg_L_e     :  12.0.    Biomass growth: 0.2015878180417287\n",
      "EX_6mpur_e     :  12.0.    Biomass growth: -7.907741576781482e-16\n",
      "EX_tgua_e      :  12.0.    Biomass growth: -7.907741576781482e-16\n",
      "EX_tega_e      :  12.0.    Biomass growth: -7.907741576781482e-16\n",
      "EX_5flura_e    :  12.0.    Biomass growth: -7.907741576781482e-16\n",
      "EX_cital_e     :  12.0.    Biomass growth: -7.907741576781482e-16\n",
      "EX_lido_e      :  12.0.    Biomass growth: -7.907741576781482e-16\n",
      "EX_xan_e       :  12.0.    Biomass growth: 0.153421328791285\n",
      "EX_ura_e       :  12.0.    Biomass growth: 0.19722076878081296\n",
      "EX_ncam_e      :  12.0.    Biomass growth: 6.410248288315404e-15\n",
      "EX_nmn_e       :  12.0.    Biomass growth: 6.410248288315404e-15\n",
      "EX_thm_e       :  12.0.    Biomass growth: 6.414534979606288e-15\n",
      "EX_pheme_e     :  12.0.    Biomass growth: 6.414534979606288e-15\n",
      "EX_biliverd_e  :  12.0.    Biomass growth: 6.414534979606288e-15\n",
      "Best nitrogen source:  EX_orn_e\n",
      "\n",
      "\n",
      "============================\n",
      "Phosphorous sources\n",
      "----------------------------\n",
      "EX_pi_e        :  12.0.    Biomass growth: 0.4342153797440623\n",
      "EX_nmn_e       :  12.0.    Biomass growth: 0.9249974611917893\n",
      "Best phosphorous source:  EX_nmn_e\n"
     ]
    }
   ],
   "source": [
    "sulfur_uptake_reactions = []\n",
    "nitrogen_uptake_reactions = []\n",
    "phosphorous_uptake_reactions = []\n",
    "carbon_uptake_reactions = []\n",
    "new_growth_carbon = []\n",
    "new_growth_nitrogen = []\n",
    "new_growth_sulfur = []\n",
    "new_growth_phosphorous = []\n",
    "\n",
    "carbon_uptake_reactions = []\n",
    "for reaction in mixo.exchanges:\n",
    "    for element in reaction.metabolites:\n",
    "        if 'S' in element.elements:\n",
    "            sulfur_uptake_reactions.append(reaction.id)\n",
    "        if 'N' in element.elements:\n",
    "            nitrogen_uptake_reactions.append(reaction.id)\n",
    "        if 'P' in element.elements:\n",
    "            phosphorous_uptake_reactions.append(reaction.id)\n",
    "        if 'C' in element.elements:\n",
    "            carbon_uptake_reactions.append(reaction.id)\n",
    "\n",
    "carbon_uptake_reactions.remove('EX_co2_e')\n",
    "        \n",
    "\n",
    "medium = mixo.medium\n",
    "with mixo:\n",
    "    print('============================\\nOrganic carbon sources\\n----------------------------')\n",
    "    for element in carbon_uptake_reactions:\n",
    "        medium['EX_ac_e'] = 0\n",
    "        medium[element] = 12.0\n",
    "        mixo.medium = medium\n",
    "        new_growth_carbon.append(mixo.slim_optimize())\n",
    "        print('{0:15}:  {1}.    Biomass growth: {2}'.format(element, medium[element], new_growth_carbon[-1]))\n",
    "        medium[element] = 0\n",
    "    best_carbon_source = carbon_uptake_reactions[new_growth_carbon.index(max(new_growth_carbon))]\n",
    "    print('Best carbon source: ', best_carbon_source)\n",
    "    medium[best_carbon_source] = 12.0    \n",
    "    \n",
    "    print('\\n\\n============================\\nSulfur sources\\n----------------------------')\n",
    "    for element in sulfur_uptake_reactions:\n",
    "        medium['EX_so4_e'] = 0\n",
    "        medium[element] = 12.0\n",
    "        mixo.medium = medium\n",
    "        new_growth_sulfur.append(mixo.slim_optimize())\n",
    "        print('{0:15}:  {1}.    Biomass growth: {2}'.format(element, medium[element], new_growth_sulfur[-1]))\n",
    "        medium[element] = 0\n",
    "    best_sulfur_source = sulfur_uptake_reactions[new_growth_sulfur.index(max(new_growth_sulfur))]\n",
    "    print('Best sulfur source: ', best_sulfur_source)\n",
    "    medium[best_sulfur_source] = 12.0 \n",
    "        \n",
    "    print('\\n\\n============================\\nNitrogen sources\\n----------------------------')\n",
    "    for element in nitrogen_uptake_reactions:\n",
    "        medium['EX_nh4_e'] = 0\n",
    "        medium[element] = 12.0\n",
    "        mixo.medium = medium\n",
    "        new_growth_nitrogen.append(mixo.slim_optimize())\n",
    "        print('{0:15}:  {1}.    Biomass growth: {2}'.format(element, medium[element], new_growth_nitrogen[-1]))\n",
    "        medium[element] = 0\n",
    "    best_nitrogen_source = nitrogen_uptake_reactions[new_growth_nitrogen.index(max(new_growth_nitrogen))]\n",
    "    print('Best nitrogen source: ', best_nitrogen_source)\n",
    "    medium[best_nitrogen_source] = 12.0 \n",
    "    \n",
    "    print('\\n\\n============================\\nPhosphorous sources\\n----------------------------')\n",
    "    for element in phosphorous_uptake_reactions:\n",
    "        medium['EX_pi_e'] = 0\n",
    "        medium[element] = 12.0\n",
    "        mixo.medium = medium\n",
    "        new_growth_phosphorous.append(mixo.slim_optimize())\n",
    "        print('{0:15}:  {1}.    Biomass growth: {2}'.format(element, medium[element], new_growth_phosphorous[-1]))\n",
    "        medium[element] = 0\n",
    "    best_phosphorous_source = phosphorous_uptake_reactions[new_growth_phosphorous.index(max(new_growth_phosphorous))]\n",
    "    print('Best phosphorous source: ', best_phosphorous_source)\n",
    "    medium[best_phosphorous_source] = 12.0 "
   ]
  },
  {
   "cell_type": "markdown",
   "metadata": {},
   "source": [
    "Once the best compounds for biomass growth have been found, the effect they have on the hydrogen produtivity will be analyzed, by plotting the phenotypic phase planes:"
   ]
  },
  {
   "cell_type": "code",
   "execution_count": 13,
   "metadata": {},
   "outputs": [
    {
     "ename": "NameError",
     "evalue": "name 'best_carbon_source' is not defined",
     "output_type": "error",
     "traceback": [
      "\u001b[0;31m---------------------------------------------------------------------------\u001b[0m",
      "\u001b[0;31mNameError\u001b[0m                                 Traceback (most recent call last)",
      "\u001b[0;32m<ipython-input-13-e631d9136984>\u001b[0m in \u001b[0;36m<module>\u001b[0;34m\u001b[0m\n\u001b[1;32m      4\u001b[0m     \u001b[0mnew_media\u001b[0m\u001b[0;34m[\u001b[0m\u001b[0;34m\"EX_nh4_e\"\u001b[0m\u001b[0;34m]\u001b[0m \u001b[0;34m=\u001b[0m \u001b[0;36m0\u001b[0m\u001b[0;34m\u001b[0m\u001b[0;34m\u001b[0m\u001b[0m\n\u001b[1;32m      5\u001b[0m     \u001b[0mnew_media\u001b[0m\u001b[0;34m[\u001b[0m\u001b[0;34m\"EX_pi_e\"\u001b[0m\u001b[0;34m]\u001b[0m \u001b[0;34m=\u001b[0m \u001b[0;36m0\u001b[0m\u001b[0;34m\u001b[0m\u001b[0;34m\u001b[0m\u001b[0m\n\u001b[0;32m----> 6\u001b[0;31m     \u001b[0mnew_media\u001b[0m\u001b[0;34m[\u001b[0m\u001b[0mbest_carbon_source\u001b[0m\u001b[0;34m]\u001b[0m \u001b[0;34m=\u001b[0m \u001b[0;36m12\u001b[0m\u001b[0;34m\u001b[0m\u001b[0;34m\u001b[0m\u001b[0m\n\u001b[0m\u001b[1;32m      7\u001b[0m     \u001b[0mnew_media\u001b[0m\u001b[0;34m[\u001b[0m\u001b[0mbest_sulfur_source\u001b[0m\u001b[0;34m]\u001b[0m \u001b[0;34m=\u001b[0m \u001b[0;36m12\u001b[0m\u001b[0;34m\u001b[0m\u001b[0;34m\u001b[0m\u001b[0m\n\u001b[1;32m      8\u001b[0m     \u001b[0mnew_media\u001b[0m\u001b[0;34m[\u001b[0m\u001b[0mbest_nitrogen_source\u001b[0m\u001b[0;34m]\u001b[0m \u001b[0;34m=\u001b[0m \u001b[0;36m12\u001b[0m\u001b[0;34m\u001b[0m\u001b[0;34m\u001b[0m\u001b[0m\n",
      "\u001b[0;31mNameError\u001b[0m: name 'best_carbon_source' is not defined"
     ]
    }
   ],
   "source": [
    "with mixo:\n",
    "    new_media = mixo.medium\n",
    "    new_media[\"EX_ac_e\"] = 0\n",
    "    new_media[\"EX_nh4_e\"] = 0\n",
    "    new_media[\"EX_pi_e\"] = 0\n",
    "    new_media[best_carbon_source] = 12\n",
    "    new_media[best_sulfur_source] = 12\n",
    "    new_media[best_nitrogen_source] = 12\n",
    "    new_media[best_phosphorous_source] = 12\n",
    "    mixo.medium = new_media\n",
    "    \n",
    "    ppp_new_media = phenotypic_phase_plane(model,\n",
    "                                variables=[model.reactions.get_by_id(reaction.id)],\n",
    "                                objective=model.reactions.EX_h2_e)\n",
    "\n",
    "    ppp_new_media.plot(plotter, height=400)"
   ]
  },
  {
   "cell_type": "markdown",
   "metadata": {},
   "source": [
    "The compounds that achieved the highest microorganism growth were L-glutamine (C source), ornithine (N source), sulfate (S source) and nicotinamide mononucleotide (P source). This result should come as no suprise, as both glutamine and ornithine contain C and N (thus, both act as C and N sources at the same time), and nicotinamide mononucleotide contains in fact P, C and N (acting as a source for the three compounds). This results show, therefore, the limitations of this method: after analyzing the chemical composition of the compounds that were selected as the best, it was obvious that they would be selected over other simpler compounds (like acetate or ammonia).\n",
    "\n",
    "In a real fermentation, these compounds would certainly be much more expensive than the compounds present in the original medium (acetate, sulfate, ammonia and phosphate), and its use would make the process economically unfeasible. Further, this analysis has been performed linearly, meaning that the growth rate achieved by a compound might be influenced by the previous choices of *best compounds*. An analysis that could take into account correlations between compounds would be much more accurate and useful, though much more complex too. Nevertheless, a linear analysis like this should be enough to give a general idea of the preferences of the microorganism."
   ]
  },
  {
   "cell_type": "markdown",
   "metadata": {},
   "source": [
    "# Gene KnockOut strategies"
   ]
  },
  {
   "cell_type": "markdown",
   "metadata": {},
   "source": [
    "Let's try now to enhance the production of hydrogen by OptKnock first:"
   ]
  },
  {
   "cell_type": "code",
   "execution_count": 17,
   "metadata": {},
   "outputs": [
    {
     "ename": "ModuleNotFoundError",
     "evalue": "No module named 'cameo'",
     "output_type": "error",
     "traceback": [
      "\u001b[0;31m---------------------------------------------------------------------------\u001b[0m",
      "\u001b[0;31mModuleNotFoundError\u001b[0m                       Traceback (most recent call last)",
      "\u001b[0;32m<ipython-input-17-b561c37b5765>\u001b[0m in \u001b[0;36m<module>\u001b[0;34m\u001b[0m\n\u001b[1;32m      1\u001b[0m \u001b[0;32mfrom\u001b[0m \u001b[0mcobra\u001b[0m \u001b[0;32mimport\u001b[0m \u001b[0mReaction\u001b[0m\u001b[0;34m,\u001b[0m \u001b[0mMetabolite\u001b[0m\u001b[0;34m\u001b[0m\u001b[0;34m\u001b[0m\u001b[0m\n\u001b[0;32m----> 2\u001b[0;31m \u001b[0;32mfrom\u001b[0m \u001b[0mcameo\u001b[0m\u001b[0;34m.\u001b[0m\u001b[0mstrain_design\u001b[0m\u001b[0;34m.\u001b[0m\u001b[0mheuristic\u001b[0m\u001b[0;34m.\u001b[0m\u001b[0mevolutionary_based\u001b[0m \u001b[0;32mimport\u001b[0m \u001b[0mOptGene\u001b[0m\u001b[0;34m\u001b[0m\u001b[0;34m\u001b[0m\u001b[0m\n\u001b[0m\u001b[1;32m      3\u001b[0m \u001b[0;32mfrom\u001b[0m \u001b[0mcameo\u001b[0m\u001b[0;34m.\u001b[0m\u001b[0mstrain_design\u001b[0m\u001b[0;34m.\u001b[0m\u001b[0mdeterministic\u001b[0m\u001b[0;34m.\u001b[0m\u001b[0mlinear_programming\u001b[0m \u001b[0;32mimport\u001b[0m \u001b[0mOptKnock\u001b[0m\u001b[0;34m\u001b[0m\u001b[0;34m\u001b[0m\u001b[0m\n\u001b[1;32m      4\u001b[0m \u001b[0;34m\u001b[0m\u001b[0m\n\u001b[1;32m      5\u001b[0m \u001b[0mHydrogen_producer_reactions\u001b[0m \u001b[0;34m=\u001b[0m \u001b[0;34m[\u001b[0m\u001b[0;34m'HYDA'\u001b[0m\u001b[0;34m,\u001b[0m \u001b[0;34m'HYDAm'\u001b[0m\u001b[0;34m,\u001b[0m \u001b[0;34m'HYDAh'\u001b[0m\u001b[0;34m]\u001b[0m\u001b[0;34m\u001b[0m\u001b[0;34m\u001b[0m\u001b[0m\n",
      "\u001b[0;31mModuleNotFoundError\u001b[0m: No module named 'cameo'"
     ]
    }
   ],
   "source": [
    "from cobra import Reaction, Metabolite\n",
    "from cameo.strain_design.heuristic.evolutionary_based import OptGene\n",
    "from cameo.strain_design.deterministic.linear_programming import OptKnock\n",
    "\n",
    "Hydrogen_producer_reactions = ['HYDA', 'HYDAm', 'HYDAh']\n",
    "\n",
    "for reaction in Hydrogen_producer_reactions:\n",
    "    with mixo:\n",
    "        optknock = OptKnock(mixo, fraction_of_optimum=0.1)\n",
    "        result = optknock.run(max_knockouts=2, target=reaction, biomass=\"Biomass_Chlamy_mixo\")"
   ]
  },
  {
   "cell_type": "markdown",
   "metadata": {},
   "source": [
    "Running OptGene in this microorganism would be pointless, as the model already produces hydrogen, and OptGene is used to force a model to produce the metabolite of interest when it does not do it naturally:"
   ]
  },
  {
   "cell_type": "code",
   "execution_count": 15,
   "metadata": {},
   "outputs": [
    {
     "ename": "NameError",
     "evalue": "name 'OptGene' is not defined",
     "output_type": "error",
     "traceback": [
      "\u001b[0;31m---------------------------------------------------------------------------\u001b[0m",
      "\u001b[0;31mNameError\u001b[0m                                 Traceback (most recent call last)",
      "\u001b[0;32m<ipython-input-15-86b0e334ce84>\u001b[0m in \u001b[0;36m<module>\u001b[0;34m\u001b[0m\n\u001b[1;32m      4\u001b[0m     \u001b[0mmodel\u001b[0m\u001b[0;34m.\u001b[0m\u001b[0mmedium\u001b[0m \u001b[0;34m=\u001b[0m \u001b[0mmedium\u001b[0m\u001b[0;34m\u001b[0m\u001b[0;34m\u001b[0m\u001b[0m\n\u001b[1;32m      5\u001b[0m     \u001b[0mmodel\u001b[0m\u001b[0;34m.\u001b[0m\u001b[0mobjective\u001b[0m \u001b[0;34m=\u001b[0m \u001b[0mmodel\u001b[0m\u001b[0;34m.\u001b[0m\u001b[0mreactions\u001b[0m\u001b[0;34m.\u001b[0m\u001b[0mALATLm\u001b[0m\u001b[0;34m\u001b[0m\u001b[0;34m\u001b[0m\u001b[0m\n\u001b[0;32m----> 6\u001b[0;31m     \u001b[0moptgene\u001b[0m \u001b[0;34m=\u001b[0m \u001b[0mOptGene\u001b[0m\u001b[0;34m(\u001b[0m\u001b[0mmodel\u001b[0m\u001b[0;34m)\u001b[0m\u001b[0;34m\u001b[0m\u001b[0;34m\u001b[0m\u001b[0m\n\u001b[0m\u001b[1;32m      7\u001b[0m     result = optgene.run(target=model.reactions.ALATLm, \n\u001b[1;32m      8\u001b[0m                          \u001b[0mbiomass\u001b[0m\u001b[0;34m=\u001b[0m\u001b[0mmodel\u001b[0m\u001b[0;34m.\u001b[0m\u001b[0mreactions\u001b[0m\u001b[0;34m.\u001b[0m\u001b[0mBiomass_Chlamy_hetero\u001b[0m\u001b[0;34m,\u001b[0m\u001b[0;34m\u001b[0m\u001b[0;34m\u001b[0m\u001b[0m\n",
      "\u001b[0;31mNameError\u001b[0m: name 'OptGene' is not defined"
     ]
    }
   ],
   "source": [
    "with model:\n",
    "    medium = model.medium\n",
    "    medium['EX_lac_D_e'] = 100\n",
    "    model.medium = medium\n",
    "    model.objective = model.reactions.ALATLm\n",
    "    optgene = OptGene(model)\n",
    "    result = optgene.run(target=model.reactions.ALATLm, \n",
    "                         biomass=model.reactions.Biomass_Chlamy_hetero,\n",
    "                         substrate=model.metabolites.lac_D_e,\n",
    "                         max_evaluations=20, population_size=20, max_knockouts=5,\n",
    "                         plot=False, growth_coupled=True)"
   ]
  },
  {
   "cell_type": "code",
   "execution_count": null,
   "metadata": {},
   "outputs": [],
   "source": [
    "result"
   ]
  },
  {
   "cell_type": "markdown",
   "metadata": {},
   "source": [
    "# Flux Scanning based on Enforced Objective Flux"
   ]
  },
  {
   "cell_type": "markdown",
   "metadata": {},
   "source": [
    "After performing the FSEOF, it could be seen that when hydrogen production is forced to take higher values, sulfur metabolism also starts to increase: the flux of the reaction   increases, and the absolute value of the flux of reaction SO4t increases proportionally, excreting sulfur to the media (because it has a negative sign), and preventing it from accumulating within the cell.\n",
    "\n",
    "The hypothesis is that this sulfur metabolism might be related with hydrogen production. Hence, this metabolism will be overexpressed, and the effect it has on hydrogen productivity will be checked."
   ]
  },
  {
   "cell_type": "code",
   "execution_count": null,
   "metadata": {},
   "outputs": [],
   "source": [
    "with mixo:\n",
    "    print('Wild type growth rate: ', mixo.slim_optimize())\n",
    "    ppp_wild = phenotypic_phase_plane(mixo,\n",
    "                                 variables=[mixo.reactions.Biomass_Chlamy_mixo],\n",
    "                                 objective=mixo.reactions.EX_h2_e)\n",
    "    ppp_wild.plot(plotter, height=400)\n",
    "    \n",
    "    mixo.reactions.SO4NA1t.lower_bound = mixo.optimize().fluxes.SO4NA1t * 10\n",
    "    print('Modified type growth rate: ', mixo.slim_optimize())\n",
    "    ppp_mod = phenotypic_phase_plane(mixo,\n",
    "                                 variables=[mixo.reactions.Biomass_Chlamy_mixo],\n",
    "                                 objective=mixo.reactions.EX_h2_e)\n",
    "    ppp_mod.plot(plotter, height=400)"
   ]
  },
  {
   "cell_type": "markdown",
   "metadata": {},
   "source": [
    "Unfortunately, results are the same for both situation, disproving the hypothesis."
   ]
  },
  {
   "cell_type": "markdown",
   "metadata": {},
   "source": [
    "# Simulation of batch cultivation with dFBA"
   ]
  },
  {
   "cell_type": "markdown",
   "metadata": {},
   "source": [
    "Finally, we'll try to simulate the model with a dynamic FBA approach. Unfortunately, in order to run this simulation, data regarding growth kinetics (monod kinetics, or haldane, if substrate inhibition is considered) is needed, and this information varies with each substrate. Therefore, this data must be found on the literature, and there is no information available for the optimum substrate previously presented, mainly because the compounds proposed for that medium are not the typical compounds used in media formulation.\n",
    "\n",
    "For this reason, media was kept with the original compositon given by the authors of the iCre1355 model, because data for those compounds was easily accesible on the literature."
   ]
  },
  {
   "cell_type": "markdown",
   "metadata": {},
   "source": [
    "<div class=\"alert alert-info\">\n",
    "\n",
    "**Note:** only a Python3 kernel is able to import the dfba module, Python3.6 kernel is unable"
   ]
  },
  {
   "cell_type": "code",
   "execution_count": 28,
   "metadata": {},
   "outputs": [],
   "source": [
    "from os.path import dirname, join, pardir\n",
    "from cobra.io import read_sbml_model\n",
    "from dfba import DfbaModel, ExchangeFlux, KineticVariable"
   ]
  },
  {
   "cell_type": "code",
   "execution_count": 29,
   "metadata": {},
   "outputs": [],
   "source": [
    "%%capture --no-display\n",
    "fba_model = mixo\n",
    "fba_model.solver = \"glpk\"\n",
    "dfba_model = DfbaModel(fba_model)"
   ]
  },
  {
   "cell_type": "markdown",
   "metadata": {},
   "source": [
    "Firstly, the variables that we will keep track of are defined. The variables selected are biomass and the main substrates (acetate, ammonia, sulfate and phosphate). Gases have not been added to the dynamic model, because in a batch fermentation they are either fed continuosly in the reactor ($O_{2}$, $CO_{2}$) or they can leave the broth and not accumulate ($H_{2}$))"
   ]
  },
  {
   "cell_type": "code",
   "execution_count": 30,
   "metadata": {},
   "outputs": [],
   "source": [
    "X = KineticVariable(\"Biomass\")\n",
    "Ac = KineticVariable(\"Acetate\")\n",
    "Sulf = KineticVariable(\"Sulfate\")\n",
    "Amm = KineticVariable(\"Ammonia\")\n",
    "Phs = KineticVariable(\"Phosphate\")\n",
    "\n",
    "dfba_model.add_kinetic_variables([X, Ac, Sulf, Amm, Phs])"
   ]
  },
  {
   "cell_type": "code",
   "execution_count": 31,
   "metadata": {},
   "outputs": [],
   "source": [
    "mu = ExchangeFlux(\"Biomass_Chlamy_mixo\")\n",
    "v_C = ExchangeFlux(\"EX_ac_e\")\n",
    "v_S = ExchangeFlux(\"EX_so4_e\")\n",
    "v_N = ExchangeFlux(\"EX_nh4_e\")\n",
    "v_P = ExchangeFlux(\"EX_pi_e\")\n",
    "\n",
    "dfba_model.add_exchange_fluxes([mu, v_C, v_S, v_N, v_P, v_H])"
   ]
  },
  {
   "cell_type": "markdown",
   "metadata": {},
   "source": [
    "A kinetic expression, in the form of a differential equation, like the one shown below, has to be added to each dynamic variable, in order to account for variations in the concentration of each compound, where ${C_j}$ represents a given compound, and ${V_j}$ is the specific rate of consumption by biomass:\n",
    "\n",
    "\\begin{align}\n",
    "    \\frac{dC_j}{dt} &= V_jX\n",
    "\\end{align}"
   ]
  },
  {
   "cell_type": "code",
   "execution_count": 32,
   "metadata": {},
   "outputs": [],
   "source": [
    "dfba_model.add_rhs_expression(\"Biomass\", mu * X)\n",
    "dfba_model.add_rhs_expression(\"Acetate\", v_C * 60.052/1000 * X)\n",
    "dfba_model.add_rhs_expression(\"Sulfate\", v_S * 96.06/1000 * X)\n",
    "dfba_model.add_rhs_expression(\"Ammonia\", v_N * 17.031/1000 * X)\n",
    "dfba_model.add_rhs_expression(\"Phosphate\", v_P * 94.9714/1000 * X)"
   ]
  },
  {
   "cell_type": "markdown",
   "metadata": {},
   "source": [
    "Once the expressions have been added to the dynamic model, a growth model must be defined, that allows for calculation of $V_j$, for each compound. For that, the Haldane equation has been selected, which essentially corresponds to the Monod equation with an added term that quantifies substrate inhibition. In order to use this equation, shown below, data regarding the parameters $V_{max}$ (which represents the maximum growth rate), $K_{s}$ (which quantifies affinity towards the substrate) and $K_{i}$ (which represents the inhibition effect of the substrate) have to be found in literature, for each compound used as a substrate:\n",
    "\n",
    "$$\n",
    "V = - \\frac{S·V_{max}}{K_{s} + S + \\frac{S^{2}}{K_{i}}}\n",
    "$$\n",
    "\n",
    "For the simulation of the carbon source uptake, data from Chen and Johns (1994) was used:"
   ]
  },
  {
   "cell_type": "code",
   "execution_count": 45,
   "metadata": {},
   "outputs": [],
   "source": [
    "vmax_C = 0.084 # [h^-1]\n",
    "Ks_C = 0.028/146.14 * 1000 # mmol/L\n",
    "Ki_C = 1.76/146.14 * 1000 # mmol/L\n",
    "dfba_model.add_exchange_flux_lb(\"EX_ac_e\", vmax_C * (Ac / (Ks_C + Ac + (Ac * Ac / Ki_C))), Ac)"
   ]
  },
  {
   "cell_type": "markdown",
   "metadata": {},
   "source": [
    "For the simulation of the uptake of the sulfur source, data from Torres et al. (2015) was used:"
   ]
  },
  {
   "cell_type": "code",
   "execution_count": 46,
   "metadata": {},
   "outputs": [],
   "source": [
    "vmax_S = 0.029125 # [h^-1]\n",
    "Ks_S = 3.20 / 1000 # mmol/L\n",
    "Ki_S = 26.297 # mmol/L\n",
    "dfba_model.add_exchange_flux_lb(\"EX_so4_e\", vmax_S * (Sulf / (Ks_S + Sulf + (Sulf * Sulf / Ki_S))), Sulf)"
   ]
  },
  {
   "cell_type": "markdown",
   "metadata": {},
   "source": [
    "For the nitrogen source, data from Zhang et al. (1999) was used, supposing a stable pH of 7 during fermentation:"
   ]
  },
  {
   "cell_type": "code",
   "execution_count": 47,
   "metadata": {},
   "outputs": [],
   "source": [
    "vmax_N = 0.43611 # [h^-1]\n",
    "Ks_N = 2.2956 # mmol/L\n",
    "Ki_N = 0.1557 # mmol/L\n",
    "dfba_model.add_exchange_flux_lb(\"EX_nh4_e\", vmax_N * (Amm / (Ks_N + Amm + (Amm * Amm / Ki_N))), Amm)"
   ]
  },
  {
   "cell_type": "markdown",
   "metadata": {},
   "source": [
    "Finally, for the phosphorous source, data from Spijkerman (2007) was used:"
   ]
  },
  {
   "cell_type": "code",
   "execution_count": 48,
   "metadata": {},
   "outputs": [],
   "source": [
    "vmax_P = 0.10625 # [h^-1]\n",
    "Ks_P = 4.06 / 1000000 # mmol/L\n",
    "Ki_P = 0.03 / 1000000 # mmol/L\n",
    "dfba_model.add_exchange_flux_lb(\"EX_pi_e\", vmax_P * (Phs / (Ks_N + Phs + (Phs * Phs / Ki_N))), Phs)"
   ]
  },
  {
   "cell_type": "markdown",
   "metadata": {},
   "source": [
    "Now, the initial concentrations of the substrates are defined:"
   ]
  },
  {
   "cell_type": "code",
   "execution_count": null,
   "metadata": {},
   "outputs": [],
   "source": [
    "dfba_model.add_initial_conditions(\n",
    "    {\n",
    "        \"Biomass\": 0.5, # (mmol/L)\n",
    "        \"Acetate\": 5, # (mmol/L)\n",
    "        \"Sulfate\": 0.1,   # (mmol/L)\n",
    "        \"Ammonia\": 0.5,  # (mmol/L)\n",
    "        \"Phosphate\": 0.05,  # (mmol/L)\n",
    "    }\n",
    ")\n",
    "concentrations, trajectories = dfba_model.simulate(0.0, 100.0, 0.1, [\"EX_ac_e\", \"EX_so4_e\", \"EX_nh4_e\", \"EX_pi_e\"])"
   ]
  },
  {
   "cell_type": "markdown",
   "metadata": {},
   "source": [
    "And finally, the results are plotted:"
   ]
  },
  {
   "cell_type": "code",
   "execution_count": null,
   "metadata": {},
   "outputs": [],
   "source": [
    "from dfba.plot.matplotlib import *"
   ]
  },
  {
   "cell_type": "code",
   "execution_count": null,
   "metadata": {},
   "outputs": [],
   "source": [
    "plot_concentrations(concentrations)"
   ]
  },
  {
   "cell_type": "code",
   "execution_count": null,
   "metadata": {},
   "outputs": [],
   "source": [
    "plot_trajectories(trajectories)"
   ]
  },
  {
   "cell_type": "markdown",
   "metadata": {},
   "source": [
    "The results obtained seem to agree with the standard growth models for microorganisms. (COMPLETE)"
   ]
  },
  {
   "cell_type": "markdown",
   "metadata": {},
   "source": [
    "## 5. Discussion (<500 words)"
   ]
  },
  {
   "cell_type": "code",
   "execution_count": null,
   "metadata": {},
   "outputs": [],
   "source": []
  },
  {
   "cell_type": "code",
   "execution_count": null,
   "metadata": {},
   "outputs": [],
   "source": []
  },
  {
   "cell_type": "markdown",
   "metadata": {},
   "source": [
    "## 6. Conclusion (<200 words)"
   ]
  },
  {
   "cell_type": "markdown",
   "metadata": {},
   "source": [
    "## References"
   ]
  },
  {
   "cell_type": "markdown",
   "metadata": {},
   "source": [
    "What has to be done:\n",
    "    \n",
    "    Create exchange reactions for the lipids (otherwise they would accumulate, breaking the assumption of steady state)\n",
    "    \n",
    "    Reduce biomass growth in order to allow carbon to be diverted into lipid production pathways (otherwise it would not be driven towards this pathways, as it would be a lost of  C for growth) and to simulate N shortage (even though that would trigger a lot of genome expression / silention, as that is a stres condition in which cells are struggling to keep alive)\n",
    "    \n",
    "    Set the objecive function to the sum of the exchange reactions of lipids (optimize the total sum)\n",
    "    \n",
    "    Use escher with the map of E.coli, but with the reactions and fluxes of C.reinhardtii (some reactions wont be present in escher, others present in escher will have no flux at all)"
   ]
  }
 ],
 "metadata": {
  "kernelspec": {
   "display_name": "Python 3",
   "language": "python",
   "name": "python3"
  },
  "language_info": {
   "codemirror_mode": {
    "name": "ipython",
    "version": 3
   },
   "file_extension": ".py",
   "mimetype": "text/x-python",
   "name": "python",
   "nbconvert_exporter": "python",
   "pygments_lexer": "ipython3",
   "version": "3.8.5"
  }
 },
 "nbformat": 4,
 "nbformat_minor": 4
}
